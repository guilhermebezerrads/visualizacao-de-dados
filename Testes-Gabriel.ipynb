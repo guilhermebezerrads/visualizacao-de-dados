{
 "cells": [
  {
   "cell_type": "code",
   "execution_count": 140,
   "metadata": {},
   "outputs": [],
   "source": [
    "import pandas as pd\n",
    "import os\n",
    "import glob\n",
    "import plotly\n",
    "import dash\n",
    "from posicionamento import posicionamento_partidos"
   ]
  },
  {
   "cell_type": "code",
   "execution_count": 141,
   "metadata": {},
   "outputs": [
    {
     "data": {
      "application/vnd.plotly.v1+json": {
       "config": {
        "plotlyServerURL": "https://plot.ly"
       },
       "data": [
        {
         "hovertemplate": "date=%{x}<br>GOOG=%{y}<extra></extra>",
         "legendgroup": "",
         "line": {
          "color": "#636efa",
          "dash": "solid"
         },
         "marker": {
          "symbol": "circle"
         },
         "mode": "lines",
         "name": "",
         "orientation": "v",
         "showlegend": false,
         "type": "scatter",
         "x": [
          "2018-01-01",
          "2018-01-08",
          "2018-01-15",
          "2018-01-22",
          "2018-01-29",
          "2018-02-05",
          "2018-02-12",
          "2018-02-19",
          "2018-02-26",
          "2018-03-05",
          "2018-03-12",
          "2018-03-19",
          "2018-03-26",
          "2018-04-02",
          "2018-04-09",
          "2018-04-16",
          "2018-04-23",
          "2018-04-30",
          "2018-05-07",
          "2018-05-14",
          "2018-05-21",
          "2018-05-28",
          "2018-06-04",
          "2018-06-11",
          "2018-06-18",
          "2018-06-25",
          "2018-07-02",
          "2018-07-09",
          "2018-07-16",
          "2018-07-23",
          "2018-07-30",
          "2018-08-06",
          "2018-08-13",
          "2018-08-20",
          "2018-08-27",
          "2018-09-03",
          "2018-09-10",
          "2018-09-17",
          "2018-09-24",
          "2018-10-01",
          "2018-10-08",
          "2018-10-15",
          "2018-10-22",
          "2018-10-29",
          "2018-11-05",
          "2018-11-12",
          "2018-11-19",
          "2018-11-26",
          "2018-12-03",
          "2018-12-10",
          "2018-12-17",
          "2018-12-24",
          "2018-12-31",
          "2019-01-07",
          "2019-01-14",
          "2019-01-21",
          "2019-01-28",
          "2019-02-04",
          "2019-02-11",
          "2019-02-18",
          "2019-02-25",
          "2019-03-04",
          "2019-03-11",
          "2019-03-18",
          "2019-03-25",
          "2019-04-01",
          "2019-04-08",
          "2019-04-15",
          "2019-04-22",
          "2019-04-29",
          "2019-05-06",
          "2019-05-13",
          "2019-05-20",
          "2019-05-27",
          "2019-06-03",
          "2019-06-10",
          "2019-06-17",
          "2019-06-24",
          "2019-07-01",
          "2019-07-08",
          "2019-07-15",
          "2019-07-22",
          "2019-07-29",
          "2019-08-05",
          "2019-08-12",
          "2019-08-19",
          "2019-08-26",
          "2019-09-02",
          "2019-09-09",
          "2019-09-16",
          "2019-09-23",
          "2019-09-30",
          "2019-10-07",
          "2019-10-14",
          "2019-10-21",
          "2019-10-28",
          "2019-11-04",
          "2019-11-11",
          "2019-11-18",
          "2019-11-25",
          "2019-12-02",
          "2019-12-09",
          "2019-12-16",
          "2019-12-23",
          "2019-12-30"
         ],
         "xaxis": "x",
         "y": [
          1,
          1.018172278347936,
          1.032007866452698,
          1.066782783389724,
          1.0087731636550117,
          0.9415276737437316,
          0.99325918262539,
          1.0222821547641083,
          0.9788520214265992,
          1.0524482730908842,
          1.0303929312465263,
          0.926821104067592,
          0.9360932452590338,
          0.913638710861412,
          0.93380695379017,
          0.9734447261178653,
          0.9345146364100892,
          0.9509902470625956,
          0.9963982380519172,
          0.9674568868105002,
          0.9758943718805396,
          1.015668254641377,
          1.0169111849053498,
          1.0453898287179595,
          1.0483111519067918,
          1.0121753574512644,
          1.0344211867653972,
          1.0785588920381208,
          1.075011617811375,
          1.1236312044424703,
          1.1102129167272332,
          1.1228237368393843,
          1.0895729410299655,
          1.1074367837463466,
          1.1052048693141154,
          1.0567939333314087,
          1.0637798374890872,
          1.0579370795194665,
          1.0827776350267664,
          1.0500077089175164,
          1.007121903906116,
          0.9947651405743836,
          0.9720929301886708,
          0.959681788913054,
          0.9672663993407256,
          0.9630385756700248,
          0.9289168536315806,
          0.992923504040418,
          0.9404389054995582,
          0.945446952912676,
          0.8886892896888904,
          0.9408925313390586,
          0.9714034098401132,
          0.9591373489949891,
          0.9963982380519172,
          0.989802500200548,
          1.0077298024501202,
          0.9934950771344468,
          1.0103608540932627,
          1.0073850422758417,
          1.035165084150587,
          1.0363716889645844,
          1.0746032883264525,
          1.0936918990354445,
          1.064487521016258,
          1.095188886079836,
          1.1049145977684258,
          1.1216987538299403,
          1.1541874899828073,
          1.075456162061569,
          1.0562859304552756,
          1.0544986709579427,
          1.0283425342867192,
          1.001270175031893,
          0.9671666152648106,
          0.98468558802946,
          1.0178275181736574,
          0.980657443195294,
          1.0266368965939394,
          1.0387124690620373,
          1.025285100664745,
          1.1344366027859267,
          1.0832494231376286,
          1.0778240762422375,
          1.068379555417282,
          1.0445098208996275,
          1.0779056980467905,
          1.0931748145700046,
          1.12459294475006,
          1.115856106545024,
          1.1114649285805127,
          1.0968672799119472,
          1.10271900878617,
          1.129972884606169,
          1.1477913211905195,
          1.155602744537941,
          1.189742629754999,
          1.2110630442115171,
          1.1751993590303178,
          1.183927115646047,
          1.216279741365772,
          1.222820990588552,
          1.22441776261611,
          1.2265044859331442,
          1.213013658002661
         ],
         "yaxis": "y"
        }
       ],
       "layout": {
        "legend": {
         "tracegroupgap": 0
        },
        "margin": {
         "t": 60
        },
        "template": {
         "data": {
          "bar": [
           {
            "error_x": {
             "color": "#2a3f5f"
            },
            "error_y": {
             "color": "#2a3f5f"
            },
            "marker": {
             "line": {
              "color": "#E5ECF6",
              "width": 0.5
             },
             "pattern": {
              "fillmode": "overlay",
              "size": 10,
              "solidity": 0.2
             }
            },
            "type": "bar"
           }
          ],
          "barpolar": [
           {
            "marker": {
             "line": {
              "color": "#E5ECF6",
              "width": 0.5
             },
             "pattern": {
              "fillmode": "overlay",
              "size": 10,
              "solidity": 0.2
             }
            },
            "type": "barpolar"
           }
          ],
          "carpet": [
           {
            "aaxis": {
             "endlinecolor": "#2a3f5f",
             "gridcolor": "white",
             "linecolor": "white",
             "minorgridcolor": "white",
             "startlinecolor": "#2a3f5f"
            },
            "baxis": {
             "endlinecolor": "#2a3f5f",
             "gridcolor": "white",
             "linecolor": "white",
             "minorgridcolor": "white",
             "startlinecolor": "#2a3f5f"
            },
            "type": "carpet"
           }
          ],
          "choropleth": [
           {
            "colorbar": {
             "outlinewidth": 0,
             "ticks": ""
            },
            "type": "choropleth"
           }
          ],
          "contour": [
           {
            "colorbar": {
             "outlinewidth": 0,
             "ticks": ""
            },
            "colorscale": [
             [
              0,
              "#0d0887"
             ],
             [
              0.1111111111111111,
              "#46039f"
             ],
             [
              0.2222222222222222,
              "#7201a8"
             ],
             [
              0.3333333333333333,
              "#9c179e"
             ],
             [
              0.4444444444444444,
              "#bd3786"
             ],
             [
              0.5555555555555556,
              "#d8576b"
             ],
             [
              0.6666666666666666,
              "#ed7953"
             ],
             [
              0.7777777777777778,
              "#fb9f3a"
             ],
             [
              0.8888888888888888,
              "#fdca26"
             ],
             [
              1,
              "#f0f921"
             ]
            ],
            "type": "contour"
           }
          ],
          "contourcarpet": [
           {
            "colorbar": {
             "outlinewidth": 0,
             "ticks": ""
            },
            "type": "contourcarpet"
           }
          ],
          "heatmap": [
           {
            "colorbar": {
             "outlinewidth": 0,
             "ticks": ""
            },
            "colorscale": [
             [
              0,
              "#0d0887"
             ],
             [
              0.1111111111111111,
              "#46039f"
             ],
             [
              0.2222222222222222,
              "#7201a8"
             ],
             [
              0.3333333333333333,
              "#9c179e"
             ],
             [
              0.4444444444444444,
              "#bd3786"
             ],
             [
              0.5555555555555556,
              "#d8576b"
             ],
             [
              0.6666666666666666,
              "#ed7953"
             ],
             [
              0.7777777777777778,
              "#fb9f3a"
             ],
             [
              0.8888888888888888,
              "#fdca26"
             ],
             [
              1,
              "#f0f921"
             ]
            ],
            "type": "heatmap"
           }
          ],
          "heatmapgl": [
           {
            "colorbar": {
             "outlinewidth": 0,
             "ticks": ""
            },
            "colorscale": [
             [
              0,
              "#0d0887"
             ],
             [
              0.1111111111111111,
              "#46039f"
             ],
             [
              0.2222222222222222,
              "#7201a8"
             ],
             [
              0.3333333333333333,
              "#9c179e"
             ],
             [
              0.4444444444444444,
              "#bd3786"
             ],
             [
              0.5555555555555556,
              "#d8576b"
             ],
             [
              0.6666666666666666,
              "#ed7953"
             ],
             [
              0.7777777777777778,
              "#fb9f3a"
             ],
             [
              0.8888888888888888,
              "#fdca26"
             ],
             [
              1,
              "#f0f921"
             ]
            ],
            "type": "heatmapgl"
           }
          ],
          "histogram": [
           {
            "marker": {
             "pattern": {
              "fillmode": "overlay",
              "size": 10,
              "solidity": 0.2
             }
            },
            "type": "histogram"
           }
          ],
          "histogram2d": [
           {
            "colorbar": {
             "outlinewidth": 0,
             "ticks": ""
            },
            "colorscale": [
             [
              0,
              "#0d0887"
             ],
             [
              0.1111111111111111,
              "#46039f"
             ],
             [
              0.2222222222222222,
              "#7201a8"
             ],
             [
              0.3333333333333333,
              "#9c179e"
             ],
             [
              0.4444444444444444,
              "#bd3786"
             ],
             [
              0.5555555555555556,
              "#d8576b"
             ],
             [
              0.6666666666666666,
              "#ed7953"
             ],
             [
              0.7777777777777778,
              "#fb9f3a"
             ],
             [
              0.8888888888888888,
              "#fdca26"
             ],
             [
              1,
              "#f0f921"
             ]
            ],
            "type": "histogram2d"
           }
          ],
          "histogram2dcontour": [
           {
            "colorbar": {
             "outlinewidth": 0,
             "ticks": ""
            },
            "colorscale": [
             [
              0,
              "#0d0887"
             ],
             [
              0.1111111111111111,
              "#46039f"
             ],
             [
              0.2222222222222222,
              "#7201a8"
             ],
             [
              0.3333333333333333,
              "#9c179e"
             ],
             [
              0.4444444444444444,
              "#bd3786"
             ],
             [
              0.5555555555555556,
              "#d8576b"
             ],
             [
              0.6666666666666666,
              "#ed7953"
             ],
             [
              0.7777777777777778,
              "#fb9f3a"
             ],
             [
              0.8888888888888888,
              "#fdca26"
             ],
             [
              1,
              "#f0f921"
             ]
            ],
            "type": "histogram2dcontour"
           }
          ],
          "mesh3d": [
           {
            "colorbar": {
             "outlinewidth": 0,
             "ticks": ""
            },
            "type": "mesh3d"
           }
          ],
          "parcoords": [
           {
            "line": {
             "colorbar": {
              "outlinewidth": 0,
              "ticks": ""
             }
            },
            "type": "parcoords"
           }
          ],
          "pie": [
           {
            "automargin": true,
            "type": "pie"
           }
          ],
          "scatter": [
           {
            "fillpattern": {
             "fillmode": "overlay",
             "size": 10,
             "solidity": 0.2
            },
            "type": "scatter"
           }
          ],
          "scatter3d": [
           {
            "line": {
             "colorbar": {
              "outlinewidth": 0,
              "ticks": ""
             }
            },
            "marker": {
             "colorbar": {
              "outlinewidth": 0,
              "ticks": ""
             }
            },
            "type": "scatter3d"
           }
          ],
          "scattercarpet": [
           {
            "marker": {
             "colorbar": {
              "outlinewidth": 0,
              "ticks": ""
             }
            },
            "type": "scattercarpet"
           }
          ],
          "scattergeo": [
           {
            "marker": {
             "colorbar": {
              "outlinewidth": 0,
              "ticks": ""
             }
            },
            "type": "scattergeo"
           }
          ],
          "scattergl": [
           {
            "marker": {
             "colorbar": {
              "outlinewidth": 0,
              "ticks": ""
             }
            },
            "type": "scattergl"
           }
          ],
          "scattermapbox": [
           {
            "marker": {
             "colorbar": {
              "outlinewidth": 0,
              "ticks": ""
             }
            },
            "type": "scattermapbox"
           }
          ],
          "scatterpolar": [
           {
            "marker": {
             "colorbar": {
              "outlinewidth": 0,
              "ticks": ""
             }
            },
            "type": "scatterpolar"
           }
          ],
          "scatterpolargl": [
           {
            "marker": {
             "colorbar": {
              "outlinewidth": 0,
              "ticks": ""
             }
            },
            "type": "scatterpolargl"
           }
          ],
          "scatterternary": [
           {
            "marker": {
             "colorbar": {
              "outlinewidth": 0,
              "ticks": ""
             }
            },
            "type": "scatterternary"
           }
          ],
          "surface": [
           {
            "colorbar": {
             "outlinewidth": 0,
             "ticks": ""
            },
            "colorscale": [
             [
              0,
              "#0d0887"
             ],
             [
              0.1111111111111111,
              "#46039f"
             ],
             [
              0.2222222222222222,
              "#7201a8"
             ],
             [
              0.3333333333333333,
              "#9c179e"
             ],
             [
              0.4444444444444444,
              "#bd3786"
             ],
             [
              0.5555555555555556,
              "#d8576b"
             ],
             [
              0.6666666666666666,
              "#ed7953"
             ],
             [
              0.7777777777777778,
              "#fb9f3a"
             ],
             [
              0.8888888888888888,
              "#fdca26"
             ],
             [
              1,
              "#f0f921"
             ]
            ],
            "type": "surface"
           }
          ],
          "table": [
           {
            "cells": {
             "fill": {
              "color": "#EBF0F8"
             },
             "line": {
              "color": "white"
             }
            },
            "header": {
             "fill": {
              "color": "#C8D4E3"
             },
             "line": {
              "color": "white"
             }
            },
            "type": "table"
           }
          ]
         },
         "layout": {
          "annotationdefaults": {
           "arrowcolor": "#2a3f5f",
           "arrowhead": 0,
           "arrowwidth": 1
          },
          "autotypenumbers": "strict",
          "coloraxis": {
           "colorbar": {
            "outlinewidth": 0,
            "ticks": ""
           }
          },
          "colorscale": {
           "diverging": [
            [
             0,
             "#8e0152"
            ],
            [
             0.1,
             "#c51b7d"
            ],
            [
             0.2,
             "#de77ae"
            ],
            [
             0.3,
             "#f1b6da"
            ],
            [
             0.4,
             "#fde0ef"
            ],
            [
             0.5,
             "#f7f7f7"
            ],
            [
             0.6,
             "#e6f5d0"
            ],
            [
             0.7,
             "#b8e186"
            ],
            [
             0.8,
             "#7fbc41"
            ],
            [
             0.9,
             "#4d9221"
            ],
            [
             1,
             "#276419"
            ]
           ],
           "sequential": [
            [
             0,
             "#0d0887"
            ],
            [
             0.1111111111111111,
             "#46039f"
            ],
            [
             0.2222222222222222,
             "#7201a8"
            ],
            [
             0.3333333333333333,
             "#9c179e"
            ],
            [
             0.4444444444444444,
             "#bd3786"
            ],
            [
             0.5555555555555556,
             "#d8576b"
            ],
            [
             0.6666666666666666,
             "#ed7953"
            ],
            [
             0.7777777777777778,
             "#fb9f3a"
            ],
            [
             0.8888888888888888,
             "#fdca26"
            ],
            [
             1,
             "#f0f921"
            ]
           ],
           "sequentialminus": [
            [
             0,
             "#0d0887"
            ],
            [
             0.1111111111111111,
             "#46039f"
            ],
            [
             0.2222222222222222,
             "#7201a8"
            ],
            [
             0.3333333333333333,
             "#9c179e"
            ],
            [
             0.4444444444444444,
             "#bd3786"
            ],
            [
             0.5555555555555556,
             "#d8576b"
            ],
            [
             0.6666666666666666,
             "#ed7953"
            ],
            [
             0.7777777777777778,
             "#fb9f3a"
            ],
            [
             0.8888888888888888,
             "#fdca26"
            ],
            [
             1,
             "#f0f921"
            ]
           ]
          },
          "colorway": [
           "#636efa",
           "#EF553B",
           "#00cc96",
           "#ab63fa",
           "#FFA15A",
           "#19d3f3",
           "#FF6692",
           "#B6E880",
           "#FF97FF",
           "#FECB52"
          ],
          "font": {
           "color": "#2a3f5f"
          },
          "geo": {
           "bgcolor": "white",
           "lakecolor": "white",
           "landcolor": "#E5ECF6",
           "showlakes": true,
           "showland": true,
           "subunitcolor": "white"
          },
          "hoverlabel": {
           "align": "left"
          },
          "hovermode": "closest",
          "mapbox": {
           "style": "light"
          },
          "paper_bgcolor": "white",
          "plot_bgcolor": "#E5ECF6",
          "polar": {
           "angularaxis": {
            "gridcolor": "white",
            "linecolor": "white",
            "ticks": ""
           },
           "bgcolor": "#E5ECF6",
           "radialaxis": {
            "gridcolor": "white",
            "linecolor": "white",
            "ticks": ""
           }
          },
          "scene": {
           "xaxis": {
            "backgroundcolor": "#E5ECF6",
            "gridcolor": "white",
            "gridwidth": 2,
            "linecolor": "white",
            "showbackground": true,
            "ticks": "",
            "zerolinecolor": "white"
           },
           "yaxis": {
            "backgroundcolor": "#E5ECF6",
            "gridcolor": "white",
            "gridwidth": 2,
            "linecolor": "white",
            "showbackground": true,
            "ticks": "",
            "zerolinecolor": "white"
           },
           "zaxis": {
            "backgroundcolor": "#E5ECF6",
            "gridcolor": "white",
            "gridwidth": 2,
            "linecolor": "white",
            "showbackground": true,
            "ticks": "",
            "zerolinecolor": "white"
           }
          },
          "shapedefaults": {
           "line": {
            "color": "#2a3f5f"
           }
          },
          "ternary": {
           "aaxis": {
            "gridcolor": "white",
            "linecolor": "white",
            "ticks": ""
           },
           "baxis": {
            "gridcolor": "white",
            "linecolor": "white",
            "ticks": ""
           },
           "bgcolor": "#E5ECF6",
           "caxis": {
            "gridcolor": "white",
            "linecolor": "white",
            "ticks": ""
           }
          },
          "title": {
           "x": 0.05
          },
          "xaxis": {
           "automargin": true,
           "gridcolor": "white",
           "linecolor": "white",
           "ticks": "",
           "title": {
            "standoff": 15
           },
           "zerolinecolor": "white",
           "zerolinewidth": 2
          },
          "yaxis": {
           "automargin": true,
           "gridcolor": "white",
           "linecolor": "white",
           "ticks": "",
           "title": {
            "standoff": 15
           },
           "zerolinecolor": "white",
           "zerolinewidth": 2
          }
         }
        },
        "xaxis": {
         "anchor": "y",
         "domain": [
          0,
          1
         ],
         "title": {
          "text": "date"
         }
        },
        "yaxis": {
         "anchor": "x",
         "domain": [
          0,
          1
         ],
         "title": {
          "text": "GOOG"
         }
        }
       }
      }
     },
     "metadata": {},
     "output_type": "display_data"
    }
   ],
   "source": [
    "import plotly.express as px\n",
    "dfsss = px.data.stocks()\n",
    "fig = px.line(dfsss, x='date', y=\"GOOG\")\n",
    "fig.show()"
   ]
  },
  {
   "cell_type": "code",
   "execution_count": 120,
   "metadata": {},
   "outputs": [],
   "source": [
    "all_files = glob.glob(os.path.join(\"dados/*.csv\"))\n",
    "all_files\n",
    "li = []\n",
    "\n",
    "for file in all_files:\n",
    "    df = pd.read_csv(file, index_col=None, header=0, sep=\";\")\n",
    "    li.append(df)\n",
    "\n",
    "df = pd.concat(li, axis=0, ignore_index=True)\n",
    "df = df.drop([\"uriVotacao\", \"deputado_uri\", \"deputado_uriPartido\", \"deputado_urlFoto\", \"deputado_idLegislatura\"], axis=1)\n",
    "\n",
    "df_nan = df[df[\"voto\"].isnull()].groupby(\"idVotacao\").count()\n",
    "df = df[~df[\"idVotacao\"].isin(df_nan.index)]\n",
    "\n",
    "df[\"voto\"].replace({\"Sim\": 1, \"Não\": -1, \"Abstenção\": 0, 'Artigo 17':0, 'Obstrução':0, 'Favorável com restrições': 0, 'Branco': 0 }, inplace=True)\n",
    "df[\"voto_count\"] = 1"
   ]
  },
  {
   "cell_type": "code",
   "execution_count": 121,
   "metadata": {},
   "outputs": [
    {
     "data": {
      "text/plain": [
       "Index([], dtype='object', name='idVotacao')"
      ]
     },
     "execution_count": 121,
     "metadata": {},
     "output_type": "execute_result"
    }
   ],
   "source": [
    "df_nan = df[df[\"voto\"].isnull()].groupby(\"idVotacao\").count()\n",
    "ids = df_nan.index\n",
    "ids"
   ]
  },
  {
   "cell_type": "code",
   "execution_count": 122,
   "metadata": {},
   "outputs": [
    {
     "data": {
      "text/html": [
       "<div>\n",
       "<style scoped>\n",
       "    .dataframe tbody tr th:only-of-type {\n",
       "        vertical-align: middle;\n",
       "    }\n",
       "\n",
       "    .dataframe tbody tr th {\n",
       "        vertical-align: top;\n",
       "    }\n",
       "\n",
       "    .dataframe thead th {\n",
       "        text-align: right;\n",
       "    }\n",
       "</style>\n",
       "<table border=\"1\" class=\"dataframe\">\n",
       "  <thead>\n",
       "    <tr style=\"text-align: right;\">\n",
       "      <th></th>\n",
       "      <th>idVotacao</th>\n",
       "      <th>dataHoraVoto</th>\n",
       "      <th>voto</th>\n",
       "      <th>deputado_id</th>\n",
       "      <th>deputado_nome</th>\n",
       "      <th>deputado_siglaPartido</th>\n",
       "      <th>deputado_siglaUf</th>\n",
       "      <th>voto_count</th>\n",
       "    </tr>\n",
       "  </thead>\n",
       "  <tbody>\n",
       "  </tbody>\n",
       "</table>\n",
       "</div>"
      ],
      "text/plain": [
       "Empty DataFrame\n",
       "Columns: [idVotacao, dataHoraVoto, voto, deputado_id, deputado_nome, deputado_siglaPartido, deputado_siglaUf, voto_count]\n",
       "Index: []"
      ]
     },
     "execution_count": 122,
     "metadata": {},
     "output_type": "execute_result"
    }
   ],
   "source": [
    "df[df[\"idVotacao\"].isin(ids)]"
   ]
  },
  {
   "cell_type": "code",
   "execution_count": 123,
   "metadata": {},
   "outputs": [],
   "source": [
    "for id in ids:\n",
    "    print(df[df[\"idVotacao\"] == id][\"voto\"].unique())"
   ]
  },
  {
   "cell_type": "code",
   "execution_count": 125,
   "metadata": {},
   "outputs": [],
   "source": [
    "n_df = df.copy()"
   ]
  },
  {
   "cell_type": "code",
   "execution_count": 126,
   "metadata": {},
   "outputs": [
    {
     "data": {
      "text/html": [
       "<div>\n",
       "<style scoped>\n",
       "    .dataframe tbody tr th:only-of-type {\n",
       "        vertical-align: middle;\n",
       "    }\n",
       "\n",
       "    .dataframe tbody tr th {\n",
       "        vertical-align: top;\n",
       "    }\n",
       "\n",
       "    .dataframe thead th {\n",
       "        text-align: right;\n",
       "    }\n",
       "</style>\n",
       "<table border=\"1\" class=\"dataframe\">\n",
       "  <thead>\n",
       "    <tr style=\"text-align: right;\">\n",
       "      <th></th>\n",
       "      <th>idVotacao</th>\n",
       "      <th>dataHoraVoto</th>\n",
       "      <th>voto</th>\n",
       "      <th>deputado_id</th>\n",
       "      <th>deputado_nome</th>\n",
       "      <th>deputado_siglaPartido</th>\n",
       "      <th>deputado_siglaUf</th>\n",
       "      <th>voto_count</th>\n",
       "      <th>posicionamento</th>\n",
       "    </tr>\n",
       "  </thead>\n",
       "  <tbody>\n",
       "    <tr>\n",
       "      <th>0</th>\n",
       "      <td>37897-3</td>\n",
       "      <td>2001-12-11T19:49:15</td>\n",
       "      <td>1</td>\n",
       "      <td>73886</td>\n",
       "      <td>Adão Pretto</td>\n",
       "      <td>PT</td>\n",
       "      <td>RS</td>\n",
       "      <td>1</td>\n",
       "      <td>Esquerda</td>\n",
       "    </tr>\n",
       "    <tr>\n",
       "      <th>1</th>\n",
       "      <td>37897-3</td>\n",
       "      <td>2001-12-11T19:29:35</td>\n",
       "      <td>1</td>\n",
       "      <td>74328</td>\n",
       "      <td>Adauto Pereira</td>\n",
       "      <td>PFL</td>\n",
       "      <td>PB</td>\n",
       "      <td>1</td>\n",
       "      <td>Centro-direita</td>\n",
       "    </tr>\n",
       "    <tr>\n",
       "      <th>2</th>\n",
       "      <td>37897-3</td>\n",
       "      <td>2001-12-11T19:26:34</td>\n",
       "      <td>1</td>\n",
       "      <td>74450</td>\n",
       "      <td>Adolfo Marinho</td>\n",
       "      <td>PSDB</td>\n",
       "      <td>CE</td>\n",
       "      <td>1</td>\n",
       "      <td>Centro</td>\n",
       "    </tr>\n",
       "    <tr>\n",
       "      <th>3</th>\n",
       "      <td>37897-3</td>\n",
       "      <td>2001-12-11T19:25:14</td>\n",
       "      <td>0</td>\n",
       "      <td>74646</td>\n",
       "      <td>Aécio Neves</td>\n",
       "      <td>PSDB</td>\n",
       "      <td>MG</td>\n",
       "      <td>1</td>\n",
       "      <td>Centro</td>\n",
       "    </tr>\n",
       "    <tr>\n",
       "      <th>4</th>\n",
       "      <td>37897-3</td>\n",
       "      <td>2001-12-11T19:26:59</td>\n",
       "      <td>1</td>\n",
       "      <td>73765</td>\n",
       "      <td>Affonso Camargo</td>\n",
       "      <td>PFL</td>\n",
       "      <td>PR</td>\n",
       "      <td>1</td>\n",
       "      <td>Centro-direita</td>\n",
       "    </tr>\n",
       "    <tr>\n",
       "      <th>...</th>\n",
       "      <td>...</td>\n",
       "      <td>...</td>\n",
       "      <td>...</td>\n",
       "      <td>...</td>\n",
       "      <td>...</td>\n",
       "      <td>...</td>\n",
       "      <td>...</td>\n",
       "      <td>...</td>\n",
       "      <td>...</td>\n",
       "    </tr>\n",
       "    <tr>\n",
       "      <th>1329477</th>\n",
       "      <td>945554-186</td>\n",
       "      <td>2022-04-07T13:21:12</td>\n",
       "      <td>1</td>\n",
       "      <td>178889</td>\n",
       "      <td>Zé Carlos</td>\n",
       "      <td>PT</td>\n",
       "      <td>MA</td>\n",
       "      <td>1</td>\n",
       "      <td>Esquerda</td>\n",
       "    </tr>\n",
       "    <tr>\n",
       "      <th>1329478</th>\n",
       "      <td>945554-186</td>\n",
       "      <td>2022-04-07T13:22:05</td>\n",
       "      <td>1</td>\n",
       "      <td>204559</td>\n",
       "      <td>Zé Neto</td>\n",
       "      <td>PT</td>\n",
       "      <td>BA</td>\n",
       "      <td>1</td>\n",
       "      <td>Esquerda</td>\n",
       "    </tr>\n",
       "    <tr>\n",
       "      <th>1329479</th>\n",
       "      <td>945554-186</td>\n",
       "      <td>2022-04-07T13:26:44</td>\n",
       "      <td>-1</td>\n",
       "      <td>160632</td>\n",
       "      <td>Zé Silva</td>\n",
       "      <td>SOLIDARIEDADE</td>\n",
       "      <td>MG</td>\n",
       "      <td>1</td>\n",
       "      <td>Centro</td>\n",
       "    </tr>\n",
       "    <tr>\n",
       "      <th>1329480</th>\n",
       "      <td>945554-186</td>\n",
       "      <td>2022-04-07T13:21:07</td>\n",
       "      <td>-1</td>\n",
       "      <td>204517</td>\n",
       "      <td>Zé Vitor</td>\n",
       "      <td>PL</td>\n",
       "      <td>MG</td>\n",
       "      <td>1</td>\n",
       "      <td>Centro-direita</td>\n",
       "    </tr>\n",
       "    <tr>\n",
       "      <th>1329481</th>\n",
       "      <td>945554-186</td>\n",
       "      <td>2022-04-07T13:22:28</td>\n",
       "      <td>1</td>\n",
       "      <td>160592</td>\n",
       "      <td>Zeca Dirceu</td>\n",
       "      <td>PT</td>\n",
       "      <td>PR</td>\n",
       "      <td>1</td>\n",
       "      <td>Esquerda</td>\n",
       "    </tr>\n",
       "  </tbody>\n",
       "</table>\n",
       "<p>1325795 rows × 9 columns</p>\n",
       "</div>"
      ],
      "text/plain": [
       "          idVotacao         dataHoraVoto  voto  deputado_id    deputado_nome  \\\n",
       "0           37897-3  2001-12-11T19:49:15     1        73886      Adão Pretto   \n",
       "1           37897-3  2001-12-11T19:29:35     1        74328   Adauto Pereira   \n",
       "2           37897-3  2001-12-11T19:26:34     1        74450   Adolfo Marinho   \n",
       "3           37897-3  2001-12-11T19:25:14     0        74646      Aécio Neves   \n",
       "4           37897-3  2001-12-11T19:26:59     1        73765  Affonso Camargo   \n",
       "...             ...                  ...   ...          ...              ...   \n",
       "1329477  945554-186  2022-04-07T13:21:12     1       178889        Zé Carlos   \n",
       "1329478  945554-186  2022-04-07T13:22:05     1       204559          Zé Neto   \n",
       "1329479  945554-186  2022-04-07T13:26:44    -1       160632         Zé Silva   \n",
       "1329480  945554-186  2022-04-07T13:21:07    -1       204517         Zé Vitor   \n",
       "1329481  945554-186  2022-04-07T13:22:28     1       160592      Zeca Dirceu   \n",
       "\n",
       "        deputado_siglaPartido deputado_siglaUf  voto_count  posicionamento  \n",
       "0                          PT               RS           1        Esquerda  \n",
       "1                         PFL               PB           1  Centro-direita  \n",
       "2                        PSDB               CE           1          Centro  \n",
       "3                        PSDB               MG           1          Centro  \n",
       "4                         PFL               PR           1  Centro-direita  \n",
       "...                       ...              ...         ...             ...  \n",
       "1329477                    PT               MA           1        Esquerda  \n",
       "1329478                    PT               BA           1        Esquerda  \n",
       "1329479         SOLIDARIEDADE               MG           1          Centro  \n",
       "1329480                    PL               MG           1  Centro-direita  \n",
       "1329481                    PT               PR           1        Esquerda  \n",
       "\n",
       "[1325795 rows x 9 columns]"
      ]
     },
     "execution_count": 126,
     "metadata": {},
     "output_type": "execute_result"
    }
   ],
   "source": [
    "n_df[\"posicionamento\"] = n_df[\"deputado_siglaPartido\"]\n",
    "n_df[\"posicionamento\"].replace(posicionamento_partidos, inplace=True)\n",
    "n_df"
   ]
  },
  {
   "cell_type": "code",
   "execution_count": 127,
   "metadata": {},
   "outputs": [
    {
     "data": {
      "text/plain": [
       "array([ 1,  0, -1], dtype=int64)"
      ]
     },
     "execution_count": 127,
     "metadata": {},
     "output_type": "execute_result"
    }
   ],
   "source": [
    "n_df[\"voto\"].unique()"
   ]
  },
  {
   "cell_type": "code",
   "execution_count": 167,
   "metadata": {},
   "outputs": [],
   "source": [
    "pos_votos = n_df.groupby([\"posicionamento\", \"voto\"], as_index=False).count().drop([\"idVotacao\", \"dataHoraVoto\", \"deputado_id\", \"deputado_nome\", \"deputado_siglaPartido\", \"deputado_siglaUf\"], axis=1)"
   ]
  },
  {
   "cell_type": "code",
   "execution_count": 168,
   "metadata": {},
   "outputs": [
    {
     "data": {
      "text/html": [
       "<div>\n",
       "<style scoped>\n",
       "    .dataframe tbody tr th:only-of-type {\n",
       "        vertical-align: middle;\n",
       "    }\n",
       "\n",
       "    .dataframe tbody tr th {\n",
       "        vertical-align: top;\n",
       "    }\n",
       "\n",
       "    .dataframe thead th {\n",
       "        text-align: right;\n",
       "    }\n",
       "</style>\n",
       "<table border=\"1\" class=\"dataframe\">\n",
       "  <thead>\n",
       "    <tr style=\"text-align: right;\">\n",
       "      <th></th>\n",
       "      <th>posicionamento</th>\n",
       "      <th>voto</th>\n",
       "      <th>voto_count</th>\n",
       "    </tr>\n",
       "  </thead>\n",
       "  <tbody>\n",
       "    <tr>\n",
       "      <th>0</th>\n",
       "      <td>Centro</td>\n",
       "      <td>-1</td>\n",
       "      <td>177283</td>\n",
       "    </tr>\n",
       "    <tr>\n",
       "      <th>1</th>\n",
       "      <td>Centro</td>\n",
       "      <td>0</td>\n",
       "      <td>11807</td>\n",
       "    </tr>\n",
       "    <tr>\n",
       "      <th>2</th>\n",
       "      <td>Centro</td>\n",
       "      <td>1</td>\n",
       "      <td>217254</td>\n",
       "    </tr>\n",
       "    <tr>\n",
       "      <th>3</th>\n",
       "      <td>Centro-direita</td>\n",
       "      <td>-1</td>\n",
       "      <td>98261</td>\n",
       "    </tr>\n",
       "    <tr>\n",
       "      <th>4</th>\n",
       "      <td>Centro-direita</td>\n",
       "      <td>0</td>\n",
       "      <td>9115</td>\n",
       "    </tr>\n",
       "    <tr>\n",
       "      <th>5</th>\n",
       "      <td>Centro-direita</td>\n",
       "      <td>1</td>\n",
       "      <td>115931</td>\n",
       "    </tr>\n",
       "    <tr>\n",
       "      <th>6</th>\n",
       "      <td>Centro-esquerda</td>\n",
       "      <td>-1</td>\n",
       "      <td>69139</td>\n",
       "    </tr>\n",
       "    <tr>\n",
       "      <th>7</th>\n",
       "      <td>Centro-esquerda</td>\n",
       "      <td>0</td>\n",
       "      <td>7908</td>\n",
       "    </tr>\n",
       "    <tr>\n",
       "      <th>8</th>\n",
       "      <td>Centro-esquerda</td>\n",
       "      <td>1</td>\n",
       "      <td>84998</td>\n",
       "    </tr>\n",
       "    <tr>\n",
       "      <th>9</th>\n",
       "      <td>Direita</td>\n",
       "      <td>-1</td>\n",
       "      <td>146730</td>\n",
       "    </tr>\n",
       "    <tr>\n",
       "      <th>10</th>\n",
       "      <td>Direita</td>\n",
       "      <td>0</td>\n",
       "      <td>3386</td>\n",
       "    </tr>\n",
       "    <tr>\n",
       "      <th>11</th>\n",
       "      <td>Direita</td>\n",
       "      <td>1</td>\n",
       "      <td>164982</td>\n",
       "    </tr>\n",
       "    <tr>\n",
       "      <th>12</th>\n",
       "      <td>Esquerda</td>\n",
       "      <td>-1</td>\n",
       "      <td>90448</td>\n",
       "    </tr>\n",
       "    <tr>\n",
       "      <th>13</th>\n",
       "      <td>Esquerda</td>\n",
       "      <td>0</td>\n",
       "      <td>23147</td>\n",
       "    </tr>\n",
       "    <tr>\n",
       "      <th>14</th>\n",
       "      <td>Esquerda</td>\n",
       "      <td>1</td>\n",
       "      <td>104161</td>\n",
       "    </tr>\n",
       "    <tr>\n",
       "      <th>15</th>\n",
       "      <td>Sem partido</td>\n",
       "      <td>-1</td>\n",
       "      <td>554</td>\n",
       "    </tr>\n",
       "    <tr>\n",
       "      <th>16</th>\n",
       "      <td>Sem partido</td>\n",
       "      <td>0</td>\n",
       "      <td>89</td>\n",
       "    </tr>\n",
       "    <tr>\n",
       "      <th>17</th>\n",
       "      <td>Sem partido</td>\n",
       "      <td>1</td>\n",
       "      <td>602</td>\n",
       "    </tr>\n",
       "  </tbody>\n",
       "</table>\n",
       "</div>"
      ],
      "text/plain": [
       "     posicionamento  voto  voto_count\n",
       "0            Centro    -1      177283\n",
       "1            Centro     0       11807\n",
       "2            Centro     1      217254\n",
       "3    Centro-direita    -1       98261\n",
       "4    Centro-direita     0        9115\n",
       "5    Centro-direita     1      115931\n",
       "6   Centro-esquerda    -1       69139\n",
       "7   Centro-esquerda     0        7908\n",
       "8   Centro-esquerda     1       84998\n",
       "9           Direita    -1      146730\n",
       "10          Direita     0        3386\n",
       "11          Direita     1      164982\n",
       "12         Esquerda    -1       90448\n",
       "13         Esquerda     0       23147\n",
       "14         Esquerda     1      104161\n",
       "15      Sem partido    -1         554\n",
       "16      Sem partido     0          89\n",
       "17      Sem partido     1         602"
      ]
     },
     "execution_count": 168,
     "metadata": {},
     "output_type": "execute_result"
    }
   ],
   "source": [
    "pos_votos"
   ]
  },
  {
   "cell_type": "code",
   "execution_count": 173,
   "metadata": {},
   "outputs": [],
   "source": [
    "pos_votos[\"voto\"].replace({-1: \"Não\", 0: \"Abstenção\", 1: \"Sim\"}, inplace=True)"
   ]
  },
  {
   "cell_type": "code",
   "execution_count": 174,
   "metadata": {},
   "outputs": [
    {
     "data": {
      "text/html": [
       "<div>\n",
       "<style scoped>\n",
       "    .dataframe tbody tr th:only-of-type {\n",
       "        vertical-align: middle;\n",
       "    }\n",
       "\n",
       "    .dataframe tbody tr th {\n",
       "        vertical-align: top;\n",
       "    }\n",
       "\n",
       "    .dataframe thead th {\n",
       "        text-align: right;\n",
       "    }\n",
       "</style>\n",
       "<table border=\"1\" class=\"dataframe\">\n",
       "  <thead>\n",
       "    <tr style=\"text-align: right;\">\n",
       "      <th></th>\n",
       "      <th>posicionamento</th>\n",
       "      <th>voto</th>\n",
       "      <th>voto_count</th>\n",
       "    </tr>\n",
       "  </thead>\n",
       "  <tbody>\n",
       "    <tr>\n",
       "      <th>0</th>\n",
       "      <td>Centro</td>\n",
       "      <td>Não</td>\n",
       "      <td>177283</td>\n",
       "    </tr>\n",
       "    <tr>\n",
       "      <th>1</th>\n",
       "      <td>Centro</td>\n",
       "      <td>Abstenção</td>\n",
       "      <td>11807</td>\n",
       "    </tr>\n",
       "    <tr>\n",
       "      <th>2</th>\n",
       "      <td>Centro</td>\n",
       "      <td>Sim</td>\n",
       "      <td>217254</td>\n",
       "    </tr>\n",
       "    <tr>\n",
       "      <th>3</th>\n",
       "      <td>Centro-direita</td>\n",
       "      <td>Não</td>\n",
       "      <td>98261</td>\n",
       "    </tr>\n",
       "    <tr>\n",
       "      <th>4</th>\n",
       "      <td>Centro-direita</td>\n",
       "      <td>Abstenção</td>\n",
       "      <td>9115</td>\n",
       "    </tr>\n",
       "    <tr>\n",
       "      <th>5</th>\n",
       "      <td>Centro-direita</td>\n",
       "      <td>Sim</td>\n",
       "      <td>115931</td>\n",
       "    </tr>\n",
       "    <tr>\n",
       "      <th>6</th>\n",
       "      <td>Centro-esquerda</td>\n",
       "      <td>Não</td>\n",
       "      <td>69139</td>\n",
       "    </tr>\n",
       "    <tr>\n",
       "      <th>7</th>\n",
       "      <td>Centro-esquerda</td>\n",
       "      <td>Abstenção</td>\n",
       "      <td>7908</td>\n",
       "    </tr>\n",
       "    <tr>\n",
       "      <th>8</th>\n",
       "      <td>Centro-esquerda</td>\n",
       "      <td>Sim</td>\n",
       "      <td>84998</td>\n",
       "    </tr>\n",
       "    <tr>\n",
       "      <th>9</th>\n",
       "      <td>Direita</td>\n",
       "      <td>Não</td>\n",
       "      <td>146730</td>\n",
       "    </tr>\n",
       "    <tr>\n",
       "      <th>10</th>\n",
       "      <td>Direita</td>\n",
       "      <td>Abstenção</td>\n",
       "      <td>3386</td>\n",
       "    </tr>\n",
       "    <tr>\n",
       "      <th>11</th>\n",
       "      <td>Direita</td>\n",
       "      <td>Sim</td>\n",
       "      <td>164982</td>\n",
       "    </tr>\n",
       "    <tr>\n",
       "      <th>12</th>\n",
       "      <td>Esquerda</td>\n",
       "      <td>Não</td>\n",
       "      <td>90448</td>\n",
       "    </tr>\n",
       "    <tr>\n",
       "      <th>13</th>\n",
       "      <td>Esquerda</td>\n",
       "      <td>Abstenção</td>\n",
       "      <td>23147</td>\n",
       "    </tr>\n",
       "    <tr>\n",
       "      <th>14</th>\n",
       "      <td>Esquerda</td>\n",
       "      <td>Sim</td>\n",
       "      <td>104161</td>\n",
       "    </tr>\n",
       "    <tr>\n",
       "      <th>15</th>\n",
       "      <td>Sem partido</td>\n",
       "      <td>Não</td>\n",
       "      <td>554</td>\n",
       "    </tr>\n",
       "    <tr>\n",
       "      <th>16</th>\n",
       "      <td>Sem partido</td>\n",
       "      <td>Abstenção</td>\n",
       "      <td>89</td>\n",
       "    </tr>\n",
       "    <tr>\n",
       "      <th>17</th>\n",
       "      <td>Sem partido</td>\n",
       "      <td>Sim</td>\n",
       "      <td>602</td>\n",
       "    </tr>\n",
       "  </tbody>\n",
       "</table>\n",
       "</div>"
      ],
      "text/plain": [
       "     posicionamento       voto  voto_count\n",
       "0            Centro        Não      177283\n",
       "1            Centro  Abstenção       11807\n",
       "2            Centro        Sim      217254\n",
       "3    Centro-direita        Não       98261\n",
       "4    Centro-direita  Abstenção        9115\n",
       "5    Centro-direita        Sim      115931\n",
       "6   Centro-esquerda        Não       69139\n",
       "7   Centro-esquerda  Abstenção        7908\n",
       "8   Centro-esquerda        Sim       84998\n",
       "9           Direita        Não      146730\n",
       "10          Direita  Abstenção        3386\n",
       "11          Direita        Sim      164982\n",
       "12         Esquerda        Não       90448\n",
       "13         Esquerda  Abstenção       23147\n",
       "14         Esquerda        Sim      104161\n",
       "15      Sem partido        Não         554\n",
       "16      Sem partido  Abstenção          89\n",
       "17      Sem partido        Sim         602"
      ]
     },
     "execution_count": 174,
     "metadata": {},
     "output_type": "execute_result"
    }
   ],
   "source": [
    "# pos_votos.query('posicionamento == \"Centro\" and voto == 1')\n",
    "pos_votos"
   ]
  },
  {
   "cell_type": "code",
   "execution_count": 187,
   "metadata": {},
   "outputs": [
    {
     "data": {
      "application/vnd.plotly.v1+json": {
       "config": {
        "plotlyServerURL": "https://plot.ly"
       },
       "data": [
        {
         "alignmentgroup": "True",
         "hovertemplate": "voto=Não<br>posicionamento=%{x}<br>voto_count=%{y}<extra></extra>",
         "legendgroup": "Não",
         "marker": {
          "color": "rgb(220, 20, 60)",
          "pattern": {
           "shape": ""
          }
         },
         "name": "Não",
         "offsetgroup": "Não",
         "orientation": "v",
         "showlegend": true,
         "textposition": "auto",
         "type": "bar",
         "x": [
          "Centro",
          "Centro-direita",
          "Centro-esquerda",
          "Direita",
          "Esquerda",
          "Sem partido"
         ],
         "xaxis": "x",
         "y": [
          177283,
          98261,
          69139,
          146730,
          90448,
          554
         ],
         "yaxis": "y"
        },
        {
         "alignmentgroup": "True",
         "hovertemplate": "voto=Abstenção<br>posicionamento=%{x}<br>voto_count=%{y}<extra></extra>",
         "legendgroup": "Abstenção",
         "marker": {
          "color": "rgb(236, 164, 54)",
          "pattern": {
           "shape": ""
          }
         },
         "name": "Abstenção",
         "offsetgroup": "Abstenção",
         "orientation": "v",
         "showlegend": true,
         "textposition": "auto",
         "type": "bar",
         "x": [
          "Centro",
          "Centro-direita",
          "Centro-esquerda",
          "Direita",
          "Esquerda",
          "Sem partido"
         ],
         "xaxis": "x",
         "y": [
          11807,
          9115,
          7908,
          3386,
          23147,
          89
         ],
         "yaxis": "y"
        },
        {
         "alignmentgroup": "True",
         "hovertemplate": "voto=Sim<br>posicionamento=%{x}<br>voto_count=%{y}<extra></extra>",
         "legendgroup": "Sim",
         "marker": {
          "color": "rgb(0, 122, 255)",
          "pattern": {
           "shape": ""
          }
         },
         "name": "Sim",
         "offsetgroup": "Sim",
         "orientation": "v",
         "showlegend": true,
         "textposition": "auto",
         "type": "bar",
         "x": [
          "Centro",
          "Centro-direita",
          "Centro-esquerda",
          "Direita",
          "Esquerda",
          "Sem partido"
         ],
         "xaxis": "x",
         "y": [
          217254,
          115931,
          84998,
          164982,
          104161,
          602
         ],
         "yaxis": "y"
        }
       ],
       "layout": {
        "barmode": "relative",
        "legend": {
         "title": {
          "text": "voto"
         },
         "tracegroupgap": 0
        },
        "margin": {
         "t": 60
        },
        "template": {
         "data": {
          "bar": [
           {
            "error_x": {
             "color": "#2a3f5f"
            },
            "error_y": {
             "color": "#2a3f5f"
            },
            "marker": {
             "line": {
              "color": "#E5ECF6",
              "width": 0.5
             },
             "pattern": {
              "fillmode": "overlay",
              "size": 10,
              "solidity": 0.2
             }
            },
            "type": "bar"
           }
          ],
          "barpolar": [
           {
            "marker": {
             "line": {
              "color": "#E5ECF6",
              "width": 0.5
             },
             "pattern": {
              "fillmode": "overlay",
              "size": 10,
              "solidity": 0.2
             }
            },
            "type": "barpolar"
           }
          ],
          "carpet": [
           {
            "aaxis": {
             "endlinecolor": "#2a3f5f",
             "gridcolor": "white",
             "linecolor": "white",
             "minorgridcolor": "white",
             "startlinecolor": "#2a3f5f"
            },
            "baxis": {
             "endlinecolor": "#2a3f5f",
             "gridcolor": "white",
             "linecolor": "white",
             "minorgridcolor": "white",
             "startlinecolor": "#2a3f5f"
            },
            "type": "carpet"
           }
          ],
          "choropleth": [
           {
            "colorbar": {
             "outlinewidth": 0,
             "ticks": ""
            },
            "type": "choropleth"
           }
          ],
          "contour": [
           {
            "colorbar": {
             "outlinewidth": 0,
             "ticks": ""
            },
            "colorscale": [
             [
              0,
              "#0d0887"
             ],
             [
              0.1111111111111111,
              "#46039f"
             ],
             [
              0.2222222222222222,
              "#7201a8"
             ],
             [
              0.3333333333333333,
              "#9c179e"
             ],
             [
              0.4444444444444444,
              "#bd3786"
             ],
             [
              0.5555555555555556,
              "#d8576b"
             ],
             [
              0.6666666666666666,
              "#ed7953"
             ],
             [
              0.7777777777777778,
              "#fb9f3a"
             ],
             [
              0.8888888888888888,
              "#fdca26"
             ],
             [
              1,
              "#f0f921"
             ]
            ],
            "type": "contour"
           }
          ],
          "contourcarpet": [
           {
            "colorbar": {
             "outlinewidth": 0,
             "ticks": ""
            },
            "type": "contourcarpet"
           }
          ],
          "heatmap": [
           {
            "colorbar": {
             "outlinewidth": 0,
             "ticks": ""
            },
            "colorscale": [
             [
              0,
              "#0d0887"
             ],
             [
              0.1111111111111111,
              "#46039f"
             ],
             [
              0.2222222222222222,
              "#7201a8"
             ],
             [
              0.3333333333333333,
              "#9c179e"
             ],
             [
              0.4444444444444444,
              "#bd3786"
             ],
             [
              0.5555555555555556,
              "#d8576b"
             ],
             [
              0.6666666666666666,
              "#ed7953"
             ],
             [
              0.7777777777777778,
              "#fb9f3a"
             ],
             [
              0.8888888888888888,
              "#fdca26"
             ],
             [
              1,
              "#f0f921"
             ]
            ],
            "type": "heatmap"
           }
          ],
          "heatmapgl": [
           {
            "colorbar": {
             "outlinewidth": 0,
             "ticks": ""
            },
            "colorscale": [
             [
              0,
              "#0d0887"
             ],
             [
              0.1111111111111111,
              "#46039f"
             ],
             [
              0.2222222222222222,
              "#7201a8"
             ],
             [
              0.3333333333333333,
              "#9c179e"
             ],
             [
              0.4444444444444444,
              "#bd3786"
             ],
             [
              0.5555555555555556,
              "#d8576b"
             ],
             [
              0.6666666666666666,
              "#ed7953"
             ],
             [
              0.7777777777777778,
              "#fb9f3a"
             ],
             [
              0.8888888888888888,
              "#fdca26"
             ],
             [
              1,
              "#f0f921"
             ]
            ],
            "type": "heatmapgl"
           }
          ],
          "histogram": [
           {
            "marker": {
             "pattern": {
              "fillmode": "overlay",
              "size": 10,
              "solidity": 0.2
             }
            },
            "type": "histogram"
           }
          ],
          "histogram2d": [
           {
            "colorbar": {
             "outlinewidth": 0,
             "ticks": ""
            },
            "colorscale": [
             [
              0,
              "#0d0887"
             ],
             [
              0.1111111111111111,
              "#46039f"
             ],
             [
              0.2222222222222222,
              "#7201a8"
             ],
             [
              0.3333333333333333,
              "#9c179e"
             ],
             [
              0.4444444444444444,
              "#bd3786"
             ],
             [
              0.5555555555555556,
              "#d8576b"
             ],
             [
              0.6666666666666666,
              "#ed7953"
             ],
             [
              0.7777777777777778,
              "#fb9f3a"
             ],
             [
              0.8888888888888888,
              "#fdca26"
             ],
             [
              1,
              "#f0f921"
             ]
            ],
            "type": "histogram2d"
           }
          ],
          "histogram2dcontour": [
           {
            "colorbar": {
             "outlinewidth": 0,
             "ticks": ""
            },
            "colorscale": [
             [
              0,
              "#0d0887"
             ],
             [
              0.1111111111111111,
              "#46039f"
             ],
             [
              0.2222222222222222,
              "#7201a8"
             ],
             [
              0.3333333333333333,
              "#9c179e"
             ],
             [
              0.4444444444444444,
              "#bd3786"
             ],
             [
              0.5555555555555556,
              "#d8576b"
             ],
             [
              0.6666666666666666,
              "#ed7953"
             ],
             [
              0.7777777777777778,
              "#fb9f3a"
             ],
             [
              0.8888888888888888,
              "#fdca26"
             ],
             [
              1,
              "#f0f921"
             ]
            ],
            "type": "histogram2dcontour"
           }
          ],
          "mesh3d": [
           {
            "colorbar": {
             "outlinewidth": 0,
             "ticks": ""
            },
            "type": "mesh3d"
           }
          ],
          "parcoords": [
           {
            "line": {
             "colorbar": {
              "outlinewidth": 0,
              "ticks": ""
             }
            },
            "type": "parcoords"
           }
          ],
          "pie": [
           {
            "automargin": true,
            "type": "pie"
           }
          ],
          "scatter": [
           {
            "fillpattern": {
             "fillmode": "overlay",
             "size": 10,
             "solidity": 0.2
            },
            "type": "scatter"
           }
          ],
          "scatter3d": [
           {
            "line": {
             "colorbar": {
              "outlinewidth": 0,
              "ticks": ""
             }
            },
            "marker": {
             "colorbar": {
              "outlinewidth": 0,
              "ticks": ""
             }
            },
            "type": "scatter3d"
           }
          ],
          "scattercarpet": [
           {
            "marker": {
             "colorbar": {
              "outlinewidth": 0,
              "ticks": ""
             }
            },
            "type": "scattercarpet"
           }
          ],
          "scattergeo": [
           {
            "marker": {
             "colorbar": {
              "outlinewidth": 0,
              "ticks": ""
             }
            },
            "type": "scattergeo"
           }
          ],
          "scattergl": [
           {
            "marker": {
             "colorbar": {
              "outlinewidth": 0,
              "ticks": ""
             }
            },
            "type": "scattergl"
           }
          ],
          "scattermapbox": [
           {
            "marker": {
             "colorbar": {
              "outlinewidth": 0,
              "ticks": ""
             }
            },
            "type": "scattermapbox"
           }
          ],
          "scatterpolar": [
           {
            "marker": {
             "colorbar": {
              "outlinewidth": 0,
              "ticks": ""
             }
            },
            "type": "scatterpolar"
           }
          ],
          "scatterpolargl": [
           {
            "marker": {
             "colorbar": {
              "outlinewidth": 0,
              "ticks": ""
             }
            },
            "type": "scatterpolargl"
           }
          ],
          "scatterternary": [
           {
            "marker": {
             "colorbar": {
              "outlinewidth": 0,
              "ticks": ""
             }
            },
            "type": "scatterternary"
           }
          ],
          "surface": [
           {
            "colorbar": {
             "outlinewidth": 0,
             "ticks": ""
            },
            "colorscale": [
             [
              0,
              "#0d0887"
             ],
             [
              0.1111111111111111,
              "#46039f"
             ],
             [
              0.2222222222222222,
              "#7201a8"
             ],
             [
              0.3333333333333333,
              "#9c179e"
             ],
             [
              0.4444444444444444,
              "#bd3786"
             ],
             [
              0.5555555555555556,
              "#d8576b"
             ],
             [
              0.6666666666666666,
              "#ed7953"
             ],
             [
              0.7777777777777778,
              "#fb9f3a"
             ],
             [
              0.8888888888888888,
              "#fdca26"
             ],
             [
              1,
              "#f0f921"
             ]
            ],
            "type": "surface"
           }
          ],
          "table": [
           {
            "cells": {
             "fill": {
              "color": "#EBF0F8"
             },
             "line": {
              "color": "white"
             }
            },
            "header": {
             "fill": {
              "color": "#C8D4E3"
             },
             "line": {
              "color": "white"
             }
            },
            "type": "table"
           }
          ]
         },
         "layout": {
          "annotationdefaults": {
           "arrowcolor": "#2a3f5f",
           "arrowhead": 0,
           "arrowwidth": 1
          },
          "autotypenumbers": "strict",
          "coloraxis": {
           "colorbar": {
            "outlinewidth": 0,
            "ticks": ""
           }
          },
          "colorscale": {
           "diverging": [
            [
             0,
             "#8e0152"
            ],
            [
             0.1,
             "#c51b7d"
            ],
            [
             0.2,
             "#de77ae"
            ],
            [
             0.3,
             "#f1b6da"
            ],
            [
             0.4,
             "#fde0ef"
            ],
            [
             0.5,
             "#f7f7f7"
            ],
            [
             0.6,
             "#e6f5d0"
            ],
            [
             0.7,
             "#b8e186"
            ],
            [
             0.8,
             "#7fbc41"
            ],
            [
             0.9,
             "#4d9221"
            ],
            [
             1,
             "#276419"
            ]
           ],
           "sequential": [
            [
             0,
             "#0d0887"
            ],
            [
             0.1111111111111111,
             "#46039f"
            ],
            [
             0.2222222222222222,
             "#7201a8"
            ],
            [
             0.3333333333333333,
             "#9c179e"
            ],
            [
             0.4444444444444444,
             "#bd3786"
            ],
            [
             0.5555555555555556,
             "#d8576b"
            ],
            [
             0.6666666666666666,
             "#ed7953"
            ],
            [
             0.7777777777777778,
             "#fb9f3a"
            ],
            [
             0.8888888888888888,
             "#fdca26"
            ],
            [
             1,
             "#f0f921"
            ]
           ],
           "sequentialminus": [
            [
             0,
             "#0d0887"
            ],
            [
             0.1111111111111111,
             "#46039f"
            ],
            [
             0.2222222222222222,
             "#7201a8"
            ],
            [
             0.3333333333333333,
             "#9c179e"
            ],
            [
             0.4444444444444444,
             "#bd3786"
            ],
            [
             0.5555555555555556,
             "#d8576b"
            ],
            [
             0.6666666666666666,
             "#ed7953"
            ],
            [
             0.7777777777777778,
             "#fb9f3a"
            ],
            [
             0.8888888888888888,
             "#fdca26"
            ],
            [
             1,
             "#f0f921"
            ]
           ]
          },
          "colorway": [
           "#636efa",
           "#EF553B",
           "#00cc96",
           "#ab63fa",
           "#FFA15A",
           "#19d3f3",
           "#FF6692",
           "#B6E880",
           "#FF97FF",
           "#FECB52"
          ],
          "font": {
           "color": "#2a3f5f"
          },
          "geo": {
           "bgcolor": "white",
           "lakecolor": "white",
           "landcolor": "#E5ECF6",
           "showlakes": true,
           "showland": true,
           "subunitcolor": "white"
          },
          "hoverlabel": {
           "align": "left"
          },
          "hovermode": "closest",
          "mapbox": {
           "style": "light"
          },
          "paper_bgcolor": "white",
          "plot_bgcolor": "#E5ECF6",
          "polar": {
           "angularaxis": {
            "gridcolor": "white",
            "linecolor": "white",
            "ticks": ""
           },
           "bgcolor": "#E5ECF6",
           "radialaxis": {
            "gridcolor": "white",
            "linecolor": "white",
            "ticks": ""
           }
          },
          "scene": {
           "xaxis": {
            "backgroundcolor": "#E5ECF6",
            "gridcolor": "white",
            "gridwidth": 2,
            "linecolor": "white",
            "showbackground": true,
            "ticks": "",
            "zerolinecolor": "white"
           },
           "yaxis": {
            "backgroundcolor": "#E5ECF6",
            "gridcolor": "white",
            "gridwidth": 2,
            "linecolor": "white",
            "showbackground": true,
            "ticks": "",
            "zerolinecolor": "white"
           },
           "zaxis": {
            "backgroundcolor": "#E5ECF6",
            "gridcolor": "white",
            "gridwidth": 2,
            "linecolor": "white",
            "showbackground": true,
            "ticks": "",
            "zerolinecolor": "white"
           }
          },
          "shapedefaults": {
           "line": {
            "color": "#2a3f5f"
           }
          },
          "ternary": {
           "aaxis": {
            "gridcolor": "white",
            "linecolor": "white",
            "ticks": ""
           },
           "baxis": {
            "gridcolor": "white",
            "linecolor": "white",
            "ticks": ""
           },
           "bgcolor": "#E5ECF6",
           "caxis": {
            "gridcolor": "white",
            "linecolor": "white",
            "ticks": ""
           }
          },
          "title": {
           "x": 0.05
          },
          "xaxis": {
           "automargin": true,
           "gridcolor": "white",
           "linecolor": "white",
           "ticks": "",
           "title": {
            "standoff": 15
           },
           "zerolinecolor": "white",
           "zerolinewidth": 2
          },
          "yaxis": {
           "automargin": true,
           "gridcolor": "white",
           "linecolor": "white",
           "ticks": "",
           "title": {
            "standoff": 15
           },
           "zerolinecolor": "white",
           "zerolinewidth": 2
          }
         }
        },
        "xaxis": {
         "anchor": "y",
         "domain": [
          0,
          1
         ],
         "title": {
          "text": "posicionamento"
         }
        },
        "yaxis": {
         "anchor": "x",
         "domain": [
          0,
          1
         ],
         "title": {
          "text": "voto_count"
         }
        }
       }
      }
     },
     "metadata": {},
     "output_type": "display_data"
    }
   ],
   "source": [
    "import plotly.express as px\n",
    "fig = px.bar(\n",
    "    pos_votos, \n",
    "    x=\"posicionamento\",\n",
    "    color=\"voto\",\n",
    "    color_discrete_map={\n",
    "        \"Sim\": 'rgb(0, 122, 255)',\n",
    "        \"Não\": 'rgb(220, 20, 60)',\n",
    "        \"Abstenção\": 'rgb(236, 164, 54)'\n",
    "    },\n",
    "    y=\"voto_count\"\n",
    ")\n",
    "fig.show()"
   ]
  }
 ],
 "metadata": {
  "interpreter": {
   "hash": "1d145de3db632f31019aca2019ec56167c97d100cec24ab7c7b840f1f1b6f634"
  },
  "kernelspec": {
   "display_name": "Python 3.10.1 64-bit",
   "language": "python",
   "name": "python3"
  },
  "language_info": {
   "codemirror_mode": {
    "name": "ipython",
    "version": 3
   },
   "file_extension": ".py",
   "mimetype": "text/x-python",
   "name": "python",
   "nbconvert_exporter": "python",
   "pygments_lexer": "ipython3",
   "version": "3.10.1"
  },
  "orig_nbformat": 4
 },
 "nbformat": 4,
 "nbformat_minor": 2
}
