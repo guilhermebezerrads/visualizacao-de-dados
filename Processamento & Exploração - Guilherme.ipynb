{
 "cells": [
  {
   "cell_type": "code",
   "execution_count": 24,
   "metadata": {},
   "outputs": [],
   "source": [
    "import pandas as pd\n",
    "import numpy as np\n",
    "import matplotlib.pyplot as plt\n",
    "from matplotlib.pyplot import figure\n",
    "import glob\n",
    "import plotly.express as px\n",
    "import os"
   ]
  },
  {
   "cell_type": "code",
   "execution_count": 25,
   "metadata": {},
   "outputs": [
    {
     "name": "stdout",
     "output_type": "stream",
     "text": [
      "Index(['idVotacao', 'siglaBancada', 'orientacao'], dtype='object')\n"
     ]
    },
    {
     "data": {
      "text/html": [
       "<div>\n",
       "<style scoped>\n",
       "    .dataframe tbody tr th:only-of-type {\n",
       "        vertical-align: middle;\n",
       "    }\n",
       "\n",
       "    .dataframe tbody tr th {\n",
       "        vertical-align: top;\n",
       "    }\n",
       "\n",
       "    .dataframe thead th {\n",
       "        text-align: right;\n",
       "    }\n",
       "</style>\n",
       "<table border=\"1\" class=\"dataframe\">\n",
       "  <thead>\n",
       "    <tr style=\"text-align: right;\">\n",
       "      <th></th>\n",
       "      <th>idVotacao</th>\n",
       "      <th>siglaBancada</th>\n",
       "      <th>orientacao</th>\n",
       "    </tr>\n",
       "  </thead>\n",
       "  <tbody>\n",
       "    <tr>\n",
       "      <th>0</th>\n",
       "      <td>140406-31</td>\n",
       "      <td>PSB</td>\n",
       "      <td>Não</td>\n",
       "    </tr>\n",
       "    <tr>\n",
       "      <th>1</th>\n",
       "      <td>140406-31</td>\n",
       "      <td>PP</td>\n",
       "      <td>Não</td>\n",
       "    </tr>\n",
       "    <tr>\n",
       "      <th>2</th>\n",
       "      <td>140406-31</td>\n",
       "      <td>PV</td>\n",
       "      <td>Não</td>\n",
       "    </tr>\n",
       "    <tr>\n",
       "      <th>3</th>\n",
       "      <td>140406-31</td>\n",
       "      <td>PMDB</td>\n",
       "      <td>Não</td>\n",
       "    </tr>\n",
       "    <tr>\n",
       "      <th>4</th>\n",
       "      <td>140406-31</td>\n",
       "      <td>PSDB</td>\n",
       "      <td>Obstrução</td>\n",
       "    </tr>\n",
       "    <tr>\n",
       "      <th>...</th>\n",
       "      <td>...</td>\n",
       "      <td>...</td>\n",
       "      <td>...</td>\n",
       "    </tr>\n",
       "    <tr>\n",
       "      <th>76064</th>\n",
       "      <td>2312874-9</td>\n",
       "      <td>MDB</td>\n",
       "      <td>Sim</td>\n",
       "    </tr>\n",
       "    <tr>\n",
       "      <th>76065</th>\n",
       "      <td>2312874-9</td>\n",
       "      <td>Podemos</td>\n",
       "      <td>Liberado</td>\n",
       "    </tr>\n",
       "    <tr>\n",
       "      <th>76066</th>\n",
       "      <td>2312874-9</td>\n",
       "      <td>Patriota</td>\n",
       "      <td>NaN</td>\n",
       "    </tr>\n",
       "    <tr>\n",
       "      <th>76067</th>\n",
       "      <td>2312874-9</td>\n",
       "      <td>PCdoB</td>\n",
       "      <td>Não</td>\n",
       "    </tr>\n",
       "    <tr>\n",
       "      <th>76068</th>\n",
       "      <td>2312874-9</td>\n",
       "      <td>PTB</td>\n",
       "      <td>NaN</td>\n",
       "    </tr>\n",
       "  </tbody>\n",
       "</table>\n",
       "<p>76069 rows × 3 columns</p>\n",
       "</div>"
      ],
      "text/plain": [
       "       idVotacao siglaBancada orientacao\n",
       "0      140406-31          PSB        Não\n",
       "1      140406-31           PP        Não\n",
       "2      140406-31           PV        Não\n",
       "3      140406-31         PMDB        Não\n",
       "4      140406-31         PSDB  Obstrução\n",
       "...          ...          ...        ...\n",
       "76064  2312874-9          MDB        Sim\n",
       "76065  2312874-9      Podemos   Liberado\n",
       "76066  2312874-9     Patriota        NaN\n",
       "76067  2312874-9        PCdoB        Não\n",
       "76068  2312874-9          PTB        NaN\n",
       "\n",
       "[76069 rows x 3 columns]"
      ]
     },
     "execution_count": 25,
     "metadata": {},
     "output_type": "execute_result"
    }
   ],
   "source": [
    "all_files = glob.glob(os.path.join(\"dados/orientacoes/*.csv\"))\n",
    "all_files\n",
    "li = []\n",
    "\n",
    "for file in all_files:\n",
    "    dfo = pd.read_csv(file, index_col=None, header=0, sep=\";\")\n",
    "    li.append(dfo)\n",
    "\n",
    "dfo = pd.concat(li, axis=0, ignore_index=True)\n",
    "dfo = dfo.drop([\"uriVotacao\", \"descricao\", \"uriBancada\", \"siglaOrgao\"], axis=1)\n",
    "print(dfo.columns)\n",
    "dfo"
   ]
  },
  {
   "cell_type": "code",
   "execution_count": 26,
   "metadata": {},
   "outputs": [
    {
     "data": {
      "text/html": [
       "<div>\n",
       "<style scoped>\n",
       "    .dataframe tbody tr th:only-of-type {\n",
       "        vertical-align: middle;\n",
       "    }\n",
       "\n",
       "    .dataframe tbody tr th {\n",
       "        vertical-align: top;\n",
       "    }\n",
       "\n",
       "    .dataframe thead th {\n",
       "        text-align: right;\n",
       "    }\n",
       "</style>\n",
       "<table border=\"1\" class=\"dataframe\">\n",
       "  <thead>\n",
       "    <tr style=\"text-align: right;\">\n",
       "      <th></th>\n",
       "      <th>idVotacao</th>\n",
       "      <th>uriVotacao</th>\n",
       "      <th>dataHoraVoto</th>\n",
       "      <th>voto</th>\n",
       "      <th>deputado_id</th>\n",
       "      <th>deputado_uri</th>\n",
       "      <th>deputado_nome</th>\n",
       "      <th>deputado_siglaPartido</th>\n",
       "      <th>deputado_uriPartido</th>\n",
       "      <th>deputado_siglaUf</th>\n",
       "      <th>deputado_idLegislatura</th>\n",
       "      <th>deputado_urlFoto</th>\n",
       "    </tr>\n",
       "  </thead>\n",
       "  <tbody>\n",
       "    <tr>\n",
       "      <th>0</th>\n",
       "      <td>37897-3</td>\n",
       "      <td>https://dadosabertos.camara.leg.br/api/v2/vota...</td>\n",
       "      <td>2001-12-11T19:49:15</td>\n",
       "      <td>Sim</td>\n",
       "      <td>73886</td>\n",
       "      <td>https://dadosabertos.camara.leg.br/api/v2/depu...</td>\n",
       "      <td>Adão Pretto</td>\n",
       "      <td>PT</td>\n",
       "      <td>https://dadosabertos.camara.leg.br/api/v2/part...</td>\n",
       "      <td>RS</td>\n",
       "      <td>51</td>\n",
       "      <td>http://www.camara.gov.br/internet/deputado/ban...</td>\n",
       "    </tr>\n",
       "    <tr>\n",
       "      <th>1</th>\n",
       "      <td>37897-3</td>\n",
       "      <td>https://dadosabertos.camara.leg.br/api/v2/vota...</td>\n",
       "      <td>2001-12-11T19:29:35</td>\n",
       "      <td>Sim</td>\n",
       "      <td>74328</td>\n",
       "      <td>https://dadosabertos.camara.leg.br/api/v2/depu...</td>\n",
       "      <td>Adauto Pereira</td>\n",
       "      <td>PFL</td>\n",
       "      <td>https://dadosabertos.camara.leg.br/api/v2/part...</td>\n",
       "      <td>PB</td>\n",
       "      <td>51</td>\n",
       "      <td>http://www.camara.gov.br/internet/deputado/ban...</td>\n",
       "    </tr>\n",
       "    <tr>\n",
       "      <th>2</th>\n",
       "      <td>37897-3</td>\n",
       "      <td>https://dadosabertos.camara.leg.br/api/v2/vota...</td>\n",
       "      <td>2001-12-11T19:26:34</td>\n",
       "      <td>Sim</td>\n",
       "      <td>74450</td>\n",
       "      <td>https://dadosabertos.camara.leg.br/api/v2/depu...</td>\n",
       "      <td>Adolfo Marinho</td>\n",
       "      <td>PSDB</td>\n",
       "      <td>https://dadosabertos.camara.leg.br/api/v2/part...</td>\n",
       "      <td>CE</td>\n",
       "      <td>51</td>\n",
       "      <td>http://www.camara.gov.br/internet/deputado/ban...</td>\n",
       "    </tr>\n",
       "    <tr>\n",
       "      <th>3</th>\n",
       "      <td>37897-3</td>\n",
       "      <td>https://dadosabertos.camara.leg.br/api/v2/vota...</td>\n",
       "      <td>2001-12-11T19:25:14</td>\n",
       "      <td>Artigo 17</td>\n",
       "      <td>74646</td>\n",
       "      <td>https://dadosabertos.camara.leg.br/api/v2/depu...</td>\n",
       "      <td>Aécio Neves</td>\n",
       "      <td>PSDB</td>\n",
       "      <td>https://dadosabertos.camara.leg.br/api/v2/part...</td>\n",
       "      <td>MG</td>\n",
       "      <td>51</td>\n",
       "      <td>http://www.camara.gov.br/internet/deputado/ban...</td>\n",
       "    </tr>\n",
       "    <tr>\n",
       "      <th>4</th>\n",
       "      <td>37897-3</td>\n",
       "      <td>https://dadosabertos.camara.leg.br/api/v2/vota...</td>\n",
       "      <td>2001-12-11T19:26:59</td>\n",
       "      <td>Sim</td>\n",
       "      <td>73765</td>\n",
       "      <td>https://dadosabertos.camara.leg.br/api/v2/depu...</td>\n",
       "      <td>Affonso Camargo</td>\n",
       "      <td>PFL</td>\n",
       "      <td>https://dadosabertos.camara.leg.br/api/v2/part...</td>\n",
       "      <td>PR</td>\n",
       "      <td>51</td>\n",
       "      <td>http://www.camara.gov.br/internet/deputado/ban...</td>\n",
       "    </tr>\n",
       "    <tr>\n",
       "      <th>...</th>\n",
       "      <td>...</td>\n",
       "      <td>...</td>\n",
       "      <td>...</td>\n",
       "      <td>...</td>\n",
       "      <td>...</td>\n",
       "      <td>...</td>\n",
       "      <td>...</td>\n",
       "      <td>...</td>\n",
       "      <td>...</td>\n",
       "      <td>...</td>\n",
       "      <td>...</td>\n",
       "      <td>...</td>\n",
       "    </tr>\n",
       "    <tr>\n",
       "      <th>1329477</th>\n",
       "      <td>945554-186</td>\n",
       "      <td>https://dadosabertos.camara.leg.br/api/v2/vota...</td>\n",
       "      <td>2022-04-07T13:21:12</td>\n",
       "      <td>Sim</td>\n",
       "      <td>178889</td>\n",
       "      <td>https://dadosabertos.camara.leg.br/api/v2/depu...</td>\n",
       "      <td>Zé Carlos</td>\n",
       "      <td>PT</td>\n",
       "      <td>https://dadosabertos.camara.leg.br/api/v2/part...</td>\n",
       "      <td>MA</td>\n",
       "      <td>56</td>\n",
       "      <td>http://www.camara.gov.br/internet/deputado/ban...</td>\n",
       "    </tr>\n",
       "    <tr>\n",
       "      <th>1329478</th>\n",
       "      <td>945554-186</td>\n",
       "      <td>https://dadosabertos.camara.leg.br/api/v2/vota...</td>\n",
       "      <td>2022-04-07T13:22:05</td>\n",
       "      <td>Sim</td>\n",
       "      <td>204559</td>\n",
       "      <td>https://dadosabertos.camara.leg.br/api/v2/depu...</td>\n",
       "      <td>Zé Neto</td>\n",
       "      <td>PT</td>\n",
       "      <td>https://dadosabertos.camara.leg.br/api/v2/part...</td>\n",
       "      <td>BA</td>\n",
       "      <td>56</td>\n",
       "      <td>http://www.camara.gov.br/internet/deputado/ban...</td>\n",
       "    </tr>\n",
       "    <tr>\n",
       "      <th>1329479</th>\n",
       "      <td>945554-186</td>\n",
       "      <td>https://dadosabertos.camara.leg.br/api/v2/vota...</td>\n",
       "      <td>2022-04-07T13:26:44</td>\n",
       "      <td>Não</td>\n",
       "      <td>160632</td>\n",
       "      <td>https://dadosabertos.camara.leg.br/api/v2/depu...</td>\n",
       "      <td>Zé Silva</td>\n",
       "      <td>SOLIDARIEDADE</td>\n",
       "      <td>https://dadosabertos.camara.leg.br/api/v2/part...</td>\n",
       "      <td>MG</td>\n",
       "      <td>56</td>\n",
       "      <td>http://www.camara.gov.br/internet/deputado/ban...</td>\n",
       "    </tr>\n",
       "    <tr>\n",
       "      <th>1329480</th>\n",
       "      <td>945554-186</td>\n",
       "      <td>https://dadosabertos.camara.leg.br/api/v2/vota...</td>\n",
       "      <td>2022-04-07T13:21:07</td>\n",
       "      <td>Não</td>\n",
       "      <td>204517</td>\n",
       "      <td>https://dadosabertos.camara.leg.br/api/v2/depu...</td>\n",
       "      <td>Zé Vitor</td>\n",
       "      <td>PL</td>\n",
       "      <td>https://dadosabertos.camara.leg.br/api/v2/part...</td>\n",
       "      <td>MG</td>\n",
       "      <td>56</td>\n",
       "      <td>http://www.camara.gov.br/internet/deputado/ban...</td>\n",
       "    </tr>\n",
       "    <tr>\n",
       "      <th>1329481</th>\n",
       "      <td>945554-186</td>\n",
       "      <td>https://dadosabertos.camara.leg.br/api/v2/vota...</td>\n",
       "      <td>2022-04-07T13:22:28</td>\n",
       "      <td>Sim</td>\n",
       "      <td>160592</td>\n",
       "      <td>https://dadosabertos.camara.leg.br/api/v2/depu...</td>\n",
       "      <td>Zeca Dirceu</td>\n",
       "      <td>PT</td>\n",
       "      <td>https://dadosabertos.camara.leg.br/api/v2/part...</td>\n",
       "      <td>PR</td>\n",
       "      <td>56</td>\n",
       "      <td>http://www.camara.gov.br/internet/deputado/ban...</td>\n",
       "    </tr>\n",
       "  </tbody>\n",
       "</table>\n",
       "<p>1329482 rows × 12 columns</p>\n",
       "</div>"
      ],
      "text/plain": [
       "          idVotacao                                         uriVotacao  \\\n",
       "0           37897-3  https://dadosabertos.camara.leg.br/api/v2/vota...   \n",
       "1           37897-3  https://dadosabertos.camara.leg.br/api/v2/vota...   \n",
       "2           37897-3  https://dadosabertos.camara.leg.br/api/v2/vota...   \n",
       "3           37897-3  https://dadosabertos.camara.leg.br/api/v2/vota...   \n",
       "4           37897-3  https://dadosabertos.camara.leg.br/api/v2/vota...   \n",
       "...             ...                                                ...   \n",
       "1329477  945554-186  https://dadosabertos.camara.leg.br/api/v2/vota...   \n",
       "1329478  945554-186  https://dadosabertos.camara.leg.br/api/v2/vota...   \n",
       "1329479  945554-186  https://dadosabertos.camara.leg.br/api/v2/vota...   \n",
       "1329480  945554-186  https://dadosabertos.camara.leg.br/api/v2/vota...   \n",
       "1329481  945554-186  https://dadosabertos.camara.leg.br/api/v2/vota...   \n",
       "\n",
       "                dataHoraVoto       voto  deputado_id  \\\n",
       "0        2001-12-11T19:49:15        Sim        73886   \n",
       "1        2001-12-11T19:29:35        Sim        74328   \n",
       "2        2001-12-11T19:26:34        Sim        74450   \n",
       "3        2001-12-11T19:25:14  Artigo 17        74646   \n",
       "4        2001-12-11T19:26:59        Sim        73765   \n",
       "...                      ...        ...          ...   \n",
       "1329477  2022-04-07T13:21:12        Sim       178889   \n",
       "1329478  2022-04-07T13:22:05        Sim       204559   \n",
       "1329479  2022-04-07T13:26:44        Não       160632   \n",
       "1329480  2022-04-07T13:21:07        Não       204517   \n",
       "1329481  2022-04-07T13:22:28        Sim       160592   \n",
       "\n",
       "                                              deputado_uri    deputado_nome  \\\n",
       "0        https://dadosabertos.camara.leg.br/api/v2/depu...      Adão Pretto   \n",
       "1        https://dadosabertos.camara.leg.br/api/v2/depu...   Adauto Pereira   \n",
       "2        https://dadosabertos.camara.leg.br/api/v2/depu...   Adolfo Marinho   \n",
       "3        https://dadosabertos.camara.leg.br/api/v2/depu...      Aécio Neves   \n",
       "4        https://dadosabertos.camara.leg.br/api/v2/depu...  Affonso Camargo   \n",
       "...                                                    ...              ...   \n",
       "1329477  https://dadosabertos.camara.leg.br/api/v2/depu...        Zé Carlos   \n",
       "1329478  https://dadosabertos.camara.leg.br/api/v2/depu...          Zé Neto   \n",
       "1329479  https://dadosabertos.camara.leg.br/api/v2/depu...         Zé Silva   \n",
       "1329480  https://dadosabertos.camara.leg.br/api/v2/depu...         Zé Vitor   \n",
       "1329481  https://dadosabertos.camara.leg.br/api/v2/depu...      Zeca Dirceu   \n",
       "\n",
       "        deputado_siglaPartido  \\\n",
       "0                          PT   \n",
       "1                         PFL   \n",
       "2                        PSDB   \n",
       "3                        PSDB   \n",
       "4                         PFL   \n",
       "...                       ...   \n",
       "1329477                    PT   \n",
       "1329478                    PT   \n",
       "1329479         SOLIDARIEDADE   \n",
       "1329480                    PL   \n",
       "1329481                    PT   \n",
       "\n",
       "                                       deputado_uriPartido deputado_siglaUf  \\\n",
       "0        https://dadosabertos.camara.leg.br/api/v2/part...               RS   \n",
       "1        https://dadosabertos.camara.leg.br/api/v2/part...               PB   \n",
       "2        https://dadosabertos.camara.leg.br/api/v2/part...               CE   \n",
       "3        https://dadosabertos.camara.leg.br/api/v2/part...               MG   \n",
       "4        https://dadosabertos.camara.leg.br/api/v2/part...               PR   \n",
       "...                                                    ...              ...   \n",
       "1329477  https://dadosabertos.camara.leg.br/api/v2/part...               MA   \n",
       "1329478  https://dadosabertos.camara.leg.br/api/v2/part...               BA   \n",
       "1329479  https://dadosabertos.camara.leg.br/api/v2/part...               MG   \n",
       "1329480  https://dadosabertos.camara.leg.br/api/v2/part...               MG   \n",
       "1329481  https://dadosabertos.camara.leg.br/api/v2/part...               PR   \n",
       "\n",
       "         deputado_idLegislatura  \\\n",
       "0                            51   \n",
       "1                            51   \n",
       "2                            51   \n",
       "3                            51   \n",
       "4                            51   \n",
       "...                         ...   \n",
       "1329477                      56   \n",
       "1329478                      56   \n",
       "1329479                      56   \n",
       "1329480                      56   \n",
       "1329481                      56   \n",
       "\n",
       "                                          deputado_urlFoto  \n",
       "0        http://www.camara.gov.br/internet/deputado/ban...  \n",
       "1        http://www.camara.gov.br/internet/deputado/ban...  \n",
       "2        http://www.camara.gov.br/internet/deputado/ban...  \n",
       "3        http://www.camara.gov.br/internet/deputado/ban...  \n",
       "4        http://www.camara.gov.br/internet/deputado/ban...  \n",
       "...                                                    ...  \n",
       "1329477  http://www.camara.gov.br/internet/deputado/ban...  \n",
       "1329478  http://www.camara.gov.br/internet/deputado/ban...  \n",
       "1329479  http://www.camara.gov.br/internet/deputado/ban...  \n",
       "1329480  http://www.camara.gov.br/internet/deputado/ban...  \n",
       "1329481  http://www.camara.gov.br/internet/deputado/ban...  \n",
       "\n",
       "[1329482 rows x 12 columns]"
      ]
     },
     "execution_count": 26,
     "metadata": {},
     "output_type": "execute_result"
    }
   ],
   "source": [
    "all_files = glob.glob(os.path.join(\"dados/votos/*.csv\"))\n",
    "all_files\n",
    "li = []\n",
    "\n",
    "for file in all_files:\n",
    "    df = pd.read_csv(file, index_col=None, header=0, sep=\";\")\n",
    "    li.append(df)\n",
    "\n",
    "df = pd.concat(li, axis=0, ignore_index=True)\n",
    "df"
   ]
  },
  {
   "cell_type": "code",
   "execution_count": 27,
   "metadata": {},
   "outputs": [
    {
     "data": {
      "text/html": [
       "<div>\n",
       "<style scoped>\n",
       "    .dataframe tbody tr th:only-of-type {\n",
       "        vertical-align: middle;\n",
       "    }\n",
       "\n",
       "    .dataframe tbody tr th {\n",
       "        vertical-align: top;\n",
       "    }\n",
       "\n",
       "    .dataframe thead th {\n",
       "        text-align: right;\n",
       "    }\n",
       "</style>\n",
       "<table border=\"1\" class=\"dataframe\">\n",
       "  <thead>\n",
       "    <tr style=\"text-align: right;\">\n",
       "      <th></th>\n",
       "      <th>idVotacao</th>\n",
       "      <th>uriVotacao</th>\n",
       "      <th>dataHoraVoto</th>\n",
       "      <th>voto</th>\n",
       "      <th>deputado_id</th>\n",
       "      <th>deputado_uri</th>\n",
       "      <th>deputado_nome</th>\n",
       "      <th>deputado_siglaPartido</th>\n",
       "      <th>deputado_uriPartido</th>\n",
       "      <th>deputado_siglaUf</th>\n",
       "      <th>deputado_idLegislatura</th>\n",
       "      <th>deputado_urlFoto</th>\n",
       "    </tr>\n",
       "  </thead>\n",
       "  <tbody>\n",
       "    <tr>\n",
       "      <th>0</th>\n",
       "      <td>37897-3</td>\n",
       "      <td>https://dadosabertos.camara.leg.br/api/v2/vota...</td>\n",
       "      <td>2001-12-11 19:49:15</td>\n",
       "      <td>Sim</td>\n",
       "      <td>73886</td>\n",
       "      <td>https://dadosabertos.camara.leg.br/api/v2/depu...</td>\n",
       "      <td>Adão Pretto</td>\n",
       "      <td>PT</td>\n",
       "      <td>https://dadosabertos.camara.leg.br/api/v2/part...</td>\n",
       "      <td>RS</td>\n",
       "      <td>51</td>\n",
       "      <td>http://www.camara.gov.br/internet/deputado/ban...</td>\n",
       "    </tr>\n",
       "    <tr>\n",
       "      <th>1</th>\n",
       "      <td>37897-3</td>\n",
       "      <td>https://dadosabertos.camara.leg.br/api/v2/vota...</td>\n",
       "      <td>2001-12-11 19:29:35</td>\n",
       "      <td>Sim</td>\n",
       "      <td>74328</td>\n",
       "      <td>https://dadosabertos.camara.leg.br/api/v2/depu...</td>\n",
       "      <td>Adauto Pereira</td>\n",
       "      <td>PFL</td>\n",
       "      <td>https://dadosabertos.camara.leg.br/api/v2/part...</td>\n",
       "      <td>PB</td>\n",
       "      <td>51</td>\n",
       "      <td>http://www.camara.gov.br/internet/deputado/ban...</td>\n",
       "    </tr>\n",
       "    <tr>\n",
       "      <th>2</th>\n",
       "      <td>37897-3</td>\n",
       "      <td>https://dadosabertos.camara.leg.br/api/v2/vota...</td>\n",
       "      <td>2001-12-11 19:26:34</td>\n",
       "      <td>Sim</td>\n",
       "      <td>74450</td>\n",
       "      <td>https://dadosabertos.camara.leg.br/api/v2/depu...</td>\n",
       "      <td>Adolfo Marinho</td>\n",
       "      <td>PSDB</td>\n",
       "      <td>https://dadosabertos.camara.leg.br/api/v2/part...</td>\n",
       "      <td>CE</td>\n",
       "      <td>51</td>\n",
       "      <td>http://www.camara.gov.br/internet/deputado/ban...</td>\n",
       "    </tr>\n",
       "    <tr>\n",
       "      <th>3</th>\n",
       "      <td>37897-3</td>\n",
       "      <td>https://dadosabertos.camara.leg.br/api/v2/vota...</td>\n",
       "      <td>2001-12-11 19:25:14</td>\n",
       "      <td>Artigo 17</td>\n",
       "      <td>74646</td>\n",
       "      <td>https://dadosabertos.camara.leg.br/api/v2/depu...</td>\n",
       "      <td>Aécio Neves</td>\n",
       "      <td>PSDB</td>\n",
       "      <td>https://dadosabertos.camara.leg.br/api/v2/part...</td>\n",
       "      <td>MG</td>\n",
       "      <td>51</td>\n",
       "      <td>http://www.camara.gov.br/internet/deputado/ban...</td>\n",
       "    </tr>\n",
       "    <tr>\n",
       "      <th>4</th>\n",
       "      <td>37897-3</td>\n",
       "      <td>https://dadosabertos.camara.leg.br/api/v2/vota...</td>\n",
       "      <td>2001-12-11 19:26:59</td>\n",
       "      <td>Sim</td>\n",
       "      <td>73765</td>\n",
       "      <td>https://dadosabertos.camara.leg.br/api/v2/depu...</td>\n",
       "      <td>Affonso Camargo</td>\n",
       "      <td>PFL</td>\n",
       "      <td>https://dadosabertos.camara.leg.br/api/v2/part...</td>\n",
       "      <td>PR</td>\n",
       "      <td>51</td>\n",
       "      <td>http://www.camara.gov.br/internet/deputado/ban...</td>\n",
       "    </tr>\n",
       "    <tr>\n",
       "      <th>...</th>\n",
       "      <td>...</td>\n",
       "      <td>...</td>\n",
       "      <td>...</td>\n",
       "      <td>...</td>\n",
       "      <td>...</td>\n",
       "      <td>...</td>\n",
       "      <td>...</td>\n",
       "      <td>...</td>\n",
       "      <td>...</td>\n",
       "      <td>...</td>\n",
       "      <td>...</td>\n",
       "      <td>...</td>\n",
       "    </tr>\n",
       "    <tr>\n",
       "      <th>1329477</th>\n",
       "      <td>945554-186</td>\n",
       "      <td>https://dadosabertos.camara.leg.br/api/v2/vota...</td>\n",
       "      <td>2022-04-07 13:21:12</td>\n",
       "      <td>Sim</td>\n",
       "      <td>178889</td>\n",
       "      <td>https://dadosabertos.camara.leg.br/api/v2/depu...</td>\n",
       "      <td>Zé Carlos</td>\n",
       "      <td>PT</td>\n",
       "      <td>https://dadosabertos.camara.leg.br/api/v2/part...</td>\n",
       "      <td>MA</td>\n",
       "      <td>56</td>\n",
       "      <td>http://www.camara.gov.br/internet/deputado/ban...</td>\n",
       "    </tr>\n",
       "    <tr>\n",
       "      <th>1329478</th>\n",
       "      <td>945554-186</td>\n",
       "      <td>https://dadosabertos.camara.leg.br/api/v2/vota...</td>\n",
       "      <td>2022-04-07 13:22:05</td>\n",
       "      <td>Sim</td>\n",
       "      <td>204559</td>\n",
       "      <td>https://dadosabertos.camara.leg.br/api/v2/depu...</td>\n",
       "      <td>Zé Neto</td>\n",
       "      <td>PT</td>\n",
       "      <td>https://dadosabertos.camara.leg.br/api/v2/part...</td>\n",
       "      <td>BA</td>\n",
       "      <td>56</td>\n",
       "      <td>http://www.camara.gov.br/internet/deputado/ban...</td>\n",
       "    </tr>\n",
       "    <tr>\n",
       "      <th>1329479</th>\n",
       "      <td>945554-186</td>\n",
       "      <td>https://dadosabertos.camara.leg.br/api/v2/vota...</td>\n",
       "      <td>2022-04-07 13:26:44</td>\n",
       "      <td>Não</td>\n",
       "      <td>160632</td>\n",
       "      <td>https://dadosabertos.camara.leg.br/api/v2/depu...</td>\n",
       "      <td>Zé Silva</td>\n",
       "      <td>SOLIDARIEDADE</td>\n",
       "      <td>https://dadosabertos.camara.leg.br/api/v2/part...</td>\n",
       "      <td>MG</td>\n",
       "      <td>56</td>\n",
       "      <td>http://www.camara.gov.br/internet/deputado/ban...</td>\n",
       "    </tr>\n",
       "    <tr>\n",
       "      <th>1329480</th>\n",
       "      <td>945554-186</td>\n",
       "      <td>https://dadosabertos.camara.leg.br/api/v2/vota...</td>\n",
       "      <td>2022-04-07 13:21:07</td>\n",
       "      <td>Não</td>\n",
       "      <td>204517</td>\n",
       "      <td>https://dadosabertos.camara.leg.br/api/v2/depu...</td>\n",
       "      <td>Zé Vitor</td>\n",
       "      <td>PL</td>\n",
       "      <td>https://dadosabertos.camara.leg.br/api/v2/part...</td>\n",
       "      <td>MG</td>\n",
       "      <td>56</td>\n",
       "      <td>http://www.camara.gov.br/internet/deputado/ban...</td>\n",
       "    </tr>\n",
       "    <tr>\n",
       "      <th>1329481</th>\n",
       "      <td>945554-186</td>\n",
       "      <td>https://dadosabertos.camara.leg.br/api/v2/vota...</td>\n",
       "      <td>2022-04-07 13:22:28</td>\n",
       "      <td>Sim</td>\n",
       "      <td>160592</td>\n",
       "      <td>https://dadosabertos.camara.leg.br/api/v2/depu...</td>\n",
       "      <td>Zeca Dirceu</td>\n",
       "      <td>PT</td>\n",
       "      <td>https://dadosabertos.camara.leg.br/api/v2/part...</td>\n",
       "      <td>PR</td>\n",
       "      <td>56</td>\n",
       "      <td>http://www.camara.gov.br/internet/deputado/ban...</td>\n",
       "    </tr>\n",
       "  </tbody>\n",
       "</table>\n",
       "<p>1329482 rows × 12 columns</p>\n",
       "</div>"
      ],
      "text/plain": [
       "          idVotacao                                         uriVotacao  \\\n",
       "0           37897-3  https://dadosabertos.camara.leg.br/api/v2/vota...   \n",
       "1           37897-3  https://dadosabertos.camara.leg.br/api/v2/vota...   \n",
       "2           37897-3  https://dadosabertos.camara.leg.br/api/v2/vota...   \n",
       "3           37897-3  https://dadosabertos.camara.leg.br/api/v2/vota...   \n",
       "4           37897-3  https://dadosabertos.camara.leg.br/api/v2/vota...   \n",
       "...             ...                                                ...   \n",
       "1329477  945554-186  https://dadosabertos.camara.leg.br/api/v2/vota...   \n",
       "1329478  945554-186  https://dadosabertos.camara.leg.br/api/v2/vota...   \n",
       "1329479  945554-186  https://dadosabertos.camara.leg.br/api/v2/vota...   \n",
       "1329480  945554-186  https://dadosabertos.camara.leg.br/api/v2/vota...   \n",
       "1329481  945554-186  https://dadosabertos.camara.leg.br/api/v2/vota...   \n",
       "\n",
       "               dataHoraVoto       voto  deputado_id  \\\n",
       "0       2001-12-11 19:49:15        Sim        73886   \n",
       "1       2001-12-11 19:29:35        Sim        74328   \n",
       "2       2001-12-11 19:26:34        Sim        74450   \n",
       "3       2001-12-11 19:25:14  Artigo 17        74646   \n",
       "4       2001-12-11 19:26:59        Sim        73765   \n",
       "...                     ...        ...          ...   \n",
       "1329477 2022-04-07 13:21:12        Sim       178889   \n",
       "1329478 2022-04-07 13:22:05        Sim       204559   \n",
       "1329479 2022-04-07 13:26:44        Não       160632   \n",
       "1329480 2022-04-07 13:21:07        Não       204517   \n",
       "1329481 2022-04-07 13:22:28        Sim       160592   \n",
       "\n",
       "                                              deputado_uri    deputado_nome  \\\n",
       "0        https://dadosabertos.camara.leg.br/api/v2/depu...      Adão Pretto   \n",
       "1        https://dadosabertos.camara.leg.br/api/v2/depu...   Adauto Pereira   \n",
       "2        https://dadosabertos.camara.leg.br/api/v2/depu...   Adolfo Marinho   \n",
       "3        https://dadosabertos.camara.leg.br/api/v2/depu...      Aécio Neves   \n",
       "4        https://dadosabertos.camara.leg.br/api/v2/depu...  Affonso Camargo   \n",
       "...                                                    ...              ...   \n",
       "1329477  https://dadosabertos.camara.leg.br/api/v2/depu...        Zé Carlos   \n",
       "1329478  https://dadosabertos.camara.leg.br/api/v2/depu...          Zé Neto   \n",
       "1329479  https://dadosabertos.camara.leg.br/api/v2/depu...         Zé Silva   \n",
       "1329480  https://dadosabertos.camara.leg.br/api/v2/depu...         Zé Vitor   \n",
       "1329481  https://dadosabertos.camara.leg.br/api/v2/depu...      Zeca Dirceu   \n",
       "\n",
       "        deputado_siglaPartido  \\\n",
       "0                          PT   \n",
       "1                         PFL   \n",
       "2                        PSDB   \n",
       "3                        PSDB   \n",
       "4                         PFL   \n",
       "...                       ...   \n",
       "1329477                    PT   \n",
       "1329478                    PT   \n",
       "1329479         SOLIDARIEDADE   \n",
       "1329480                    PL   \n",
       "1329481                    PT   \n",
       "\n",
       "                                       deputado_uriPartido deputado_siglaUf  \\\n",
       "0        https://dadosabertos.camara.leg.br/api/v2/part...               RS   \n",
       "1        https://dadosabertos.camara.leg.br/api/v2/part...               PB   \n",
       "2        https://dadosabertos.camara.leg.br/api/v2/part...               CE   \n",
       "3        https://dadosabertos.camara.leg.br/api/v2/part...               MG   \n",
       "4        https://dadosabertos.camara.leg.br/api/v2/part...               PR   \n",
       "...                                                    ...              ...   \n",
       "1329477  https://dadosabertos.camara.leg.br/api/v2/part...               MA   \n",
       "1329478  https://dadosabertos.camara.leg.br/api/v2/part...               BA   \n",
       "1329479  https://dadosabertos.camara.leg.br/api/v2/part...               MG   \n",
       "1329480  https://dadosabertos.camara.leg.br/api/v2/part...               MG   \n",
       "1329481  https://dadosabertos.camara.leg.br/api/v2/part...               PR   \n",
       "\n",
       "         deputado_idLegislatura  \\\n",
       "0                            51   \n",
       "1                            51   \n",
       "2                            51   \n",
       "3                            51   \n",
       "4                            51   \n",
       "...                         ...   \n",
       "1329477                      56   \n",
       "1329478                      56   \n",
       "1329479                      56   \n",
       "1329480                      56   \n",
       "1329481                      56   \n",
       "\n",
       "                                          deputado_urlFoto  \n",
       "0        http://www.camara.gov.br/internet/deputado/ban...  \n",
       "1        http://www.camara.gov.br/internet/deputado/ban...  \n",
       "2        http://www.camara.gov.br/internet/deputado/ban...  \n",
       "3        http://www.camara.gov.br/internet/deputado/ban...  \n",
       "4        http://www.camara.gov.br/internet/deputado/ban...  \n",
       "...                                                    ...  \n",
       "1329477  http://www.camara.gov.br/internet/deputado/ban...  \n",
       "1329478  http://www.camara.gov.br/internet/deputado/ban...  \n",
       "1329479  http://www.camara.gov.br/internet/deputado/ban...  \n",
       "1329480  http://www.camara.gov.br/internet/deputado/ban...  \n",
       "1329481  http://www.camara.gov.br/internet/deputado/ban...  \n",
       "\n",
       "[1329482 rows x 12 columns]"
      ]
     },
     "execution_count": 27,
     "metadata": {},
     "output_type": "execute_result"
    }
   ],
   "source": [
    "df[\"dataHoraVoto\"] = pd.to_datetime(df['dataHoraVoto'])\n",
    "df"
   ]
  },
  {
   "cell_type": "code",
   "execution_count": 28,
   "metadata": {},
   "outputs": [],
   "source": [
    "df[\"voto\"] = df['voto'].fillna(0)"
   ]
  },
  {
   "cell_type": "code",
   "execution_count": 29,
   "metadata": {},
   "outputs": [
    {
     "data": {
      "text/html": [
       "<div>\n",
       "<style scoped>\n",
       "    .dataframe tbody tr th:only-of-type {\n",
       "        vertical-align: middle;\n",
       "    }\n",
       "\n",
       "    .dataframe tbody tr th {\n",
       "        vertical-align: top;\n",
       "    }\n",
       "\n",
       "    .dataframe thead th {\n",
       "        text-align: right;\n",
       "    }\n",
       "</style>\n",
       "<table border=\"1\" class=\"dataframe\">\n",
       "  <thead>\n",
       "    <tr style=\"text-align: right;\">\n",
       "      <th></th>\n",
       "      <th>idVotacao</th>\n",
       "      <th>dataHoraVoto</th>\n",
       "      <th>voto</th>\n",
       "      <th>deputado_id</th>\n",
       "      <th>deputado_nome</th>\n",
       "      <th>deputado_siglaPartido</th>\n",
       "      <th>deputado_siglaUf</th>\n",
       "      <th>voto_count</th>\n",
       "    </tr>\n",
       "  </thead>\n",
       "  <tbody>\n",
       "    <tr>\n",
       "      <th>0</th>\n",
       "      <td>37897-3</td>\n",
       "      <td>2001-12-11 19:49:15</td>\n",
       "      <td>1</td>\n",
       "      <td>73886</td>\n",
       "      <td>Adão Pretto</td>\n",
       "      <td>PT</td>\n",
       "      <td>RS</td>\n",
       "      <td>1</td>\n",
       "    </tr>\n",
       "    <tr>\n",
       "      <th>1</th>\n",
       "      <td>37897-3</td>\n",
       "      <td>2001-12-11 19:29:35</td>\n",
       "      <td>1</td>\n",
       "      <td>74328</td>\n",
       "      <td>Adauto Pereira</td>\n",
       "      <td>PFL</td>\n",
       "      <td>PB</td>\n",
       "      <td>1</td>\n",
       "    </tr>\n",
       "    <tr>\n",
       "      <th>2</th>\n",
       "      <td>37897-3</td>\n",
       "      <td>2001-12-11 19:26:34</td>\n",
       "      <td>1</td>\n",
       "      <td>74450</td>\n",
       "      <td>Adolfo Marinho</td>\n",
       "      <td>PSDB</td>\n",
       "      <td>CE</td>\n",
       "      <td>1</td>\n",
       "    </tr>\n",
       "    <tr>\n",
       "      <th>3</th>\n",
       "      <td>37897-3</td>\n",
       "      <td>2001-12-11 19:25:14</td>\n",
       "      <td>0</td>\n",
       "      <td>74646</td>\n",
       "      <td>Aécio Neves</td>\n",
       "      <td>PSDB</td>\n",
       "      <td>MG</td>\n",
       "      <td>1</td>\n",
       "    </tr>\n",
       "    <tr>\n",
       "      <th>4</th>\n",
       "      <td>37897-3</td>\n",
       "      <td>2001-12-11 19:26:59</td>\n",
       "      <td>1</td>\n",
       "      <td>73765</td>\n",
       "      <td>Affonso Camargo</td>\n",
       "      <td>PFL</td>\n",
       "      <td>PR</td>\n",
       "      <td>1</td>\n",
       "    </tr>\n",
       "    <tr>\n",
       "      <th>...</th>\n",
       "      <td>...</td>\n",
       "      <td>...</td>\n",
       "      <td>...</td>\n",
       "      <td>...</td>\n",
       "      <td>...</td>\n",
       "      <td>...</td>\n",
       "      <td>...</td>\n",
       "      <td>...</td>\n",
       "    </tr>\n",
       "    <tr>\n",
       "      <th>1329477</th>\n",
       "      <td>945554-186</td>\n",
       "      <td>2022-04-07 13:21:12</td>\n",
       "      <td>1</td>\n",
       "      <td>178889</td>\n",
       "      <td>Zé Carlos</td>\n",
       "      <td>PT</td>\n",
       "      <td>MA</td>\n",
       "      <td>1</td>\n",
       "    </tr>\n",
       "    <tr>\n",
       "      <th>1329478</th>\n",
       "      <td>945554-186</td>\n",
       "      <td>2022-04-07 13:22:05</td>\n",
       "      <td>1</td>\n",
       "      <td>204559</td>\n",
       "      <td>Zé Neto</td>\n",
       "      <td>PT</td>\n",
       "      <td>BA</td>\n",
       "      <td>1</td>\n",
       "    </tr>\n",
       "    <tr>\n",
       "      <th>1329479</th>\n",
       "      <td>945554-186</td>\n",
       "      <td>2022-04-07 13:26:44</td>\n",
       "      <td>-1</td>\n",
       "      <td>160632</td>\n",
       "      <td>Zé Silva</td>\n",
       "      <td>SOLIDARIEDADE</td>\n",
       "      <td>MG</td>\n",
       "      <td>1</td>\n",
       "    </tr>\n",
       "    <tr>\n",
       "      <th>1329480</th>\n",
       "      <td>945554-186</td>\n",
       "      <td>2022-04-07 13:21:07</td>\n",
       "      <td>-1</td>\n",
       "      <td>204517</td>\n",
       "      <td>Zé Vitor</td>\n",
       "      <td>PL</td>\n",
       "      <td>MG</td>\n",
       "      <td>1</td>\n",
       "    </tr>\n",
       "    <tr>\n",
       "      <th>1329481</th>\n",
       "      <td>945554-186</td>\n",
       "      <td>2022-04-07 13:22:28</td>\n",
       "      <td>1</td>\n",
       "      <td>160592</td>\n",
       "      <td>Zeca Dirceu</td>\n",
       "      <td>PT</td>\n",
       "      <td>PR</td>\n",
       "      <td>1</td>\n",
       "    </tr>\n",
       "  </tbody>\n",
       "</table>\n",
       "<p>1329482 rows × 8 columns</p>\n",
       "</div>"
      ],
      "text/plain": [
       "          idVotacao        dataHoraVoto  voto  deputado_id    deputado_nome  \\\n",
       "0           37897-3 2001-12-11 19:49:15     1        73886      Adão Pretto   \n",
       "1           37897-3 2001-12-11 19:29:35     1        74328   Adauto Pereira   \n",
       "2           37897-3 2001-12-11 19:26:34     1        74450   Adolfo Marinho   \n",
       "3           37897-3 2001-12-11 19:25:14     0        74646      Aécio Neves   \n",
       "4           37897-3 2001-12-11 19:26:59     1        73765  Affonso Camargo   \n",
       "...             ...                 ...   ...          ...              ...   \n",
       "1329477  945554-186 2022-04-07 13:21:12     1       178889        Zé Carlos   \n",
       "1329478  945554-186 2022-04-07 13:22:05     1       204559          Zé Neto   \n",
       "1329479  945554-186 2022-04-07 13:26:44    -1       160632         Zé Silva   \n",
       "1329480  945554-186 2022-04-07 13:21:07    -1       204517         Zé Vitor   \n",
       "1329481  945554-186 2022-04-07 13:22:28     1       160592      Zeca Dirceu   \n",
       "\n",
       "        deputado_siglaPartido deputado_siglaUf  voto_count  \n",
       "0                          PT               RS           1  \n",
       "1                         PFL               PB           1  \n",
       "2                        PSDB               CE           1  \n",
       "3                        PSDB               MG           1  \n",
       "4                         PFL               PR           1  \n",
       "...                       ...              ...         ...  \n",
       "1329477                    PT               MA           1  \n",
       "1329478                    PT               BA           1  \n",
       "1329479         SOLIDARIEDADE               MG           1  \n",
       "1329480                    PL               MG           1  \n",
       "1329481                    PT               PR           1  \n",
       "\n",
       "[1329482 rows x 8 columns]"
      ]
     },
     "execution_count": 29,
     "metadata": {},
     "output_type": "execute_result"
    }
   ],
   "source": [
    "df = df.drop([\"uriVotacao\", \"deputado_uri\", \"deputado_uriPartido\", \"deputado_urlFoto\", \"deputado_idLegislatura\"], axis=1)\n",
    "df[\"voto\"].replace({\"Sim\": 1, \"Não\": -1, \"Abstenção\": 0, 'Artigo 17':0, 'Obstrução':0, \n",
    "                    \"Favorável com restrições\":0, \"Branco\":0, \"0\":0, 0:0}, inplace=True)\n",
    "df[\"voto_count\"] = 1\n",
    "df"
   ]
  },
  {
   "cell_type": "code",
   "execution_count": 30,
   "metadata": {},
   "outputs": [
    {
     "data": {
      "text/html": [
       "<div>\n",
       "<style scoped>\n",
       "    .dataframe tbody tr th:only-of-type {\n",
       "        vertical-align: middle;\n",
       "    }\n",
       "\n",
       "    .dataframe tbody tr th {\n",
       "        vertical-align: top;\n",
       "    }\n",
       "\n",
       "    .dataframe thead th {\n",
       "        text-align: right;\n",
       "    }\n",
       "</style>\n",
       "<table border=\"1\" class=\"dataframe\">\n",
       "  <thead>\n",
       "    <tr style=\"text-align: right;\">\n",
       "      <th></th>\n",
       "      <th>idVotacao</th>\n",
       "      <th>dataHoraVoto</th>\n",
       "      <th>voto</th>\n",
       "      <th>deputado_id</th>\n",
       "      <th>deputado_nome</th>\n",
       "      <th>deputado_siglaPartido</th>\n",
       "      <th>deputado_siglaUf</th>\n",
       "      <th>voto_count</th>\n",
       "      <th>orientacao</th>\n",
       "    </tr>\n",
       "  </thead>\n",
       "  <tbody>\n",
       "    <tr>\n",
       "      <th>0</th>\n",
       "      <td>37897-3</td>\n",
       "      <td>2001-12-11 19:49:15</td>\n",
       "      <td>1</td>\n",
       "      <td>73886</td>\n",
       "      <td>Adão Pretto</td>\n",
       "      <td>PT</td>\n",
       "      <td>RS</td>\n",
       "      <td>1</td>\n",
       "      <td>NaN</td>\n",
       "    </tr>\n",
       "    <tr>\n",
       "      <th>1</th>\n",
       "      <td>37897-3</td>\n",
       "      <td>2001-12-11 19:29:35</td>\n",
       "      <td>1</td>\n",
       "      <td>74328</td>\n",
       "      <td>Adauto Pereira</td>\n",
       "      <td>PFL</td>\n",
       "      <td>PB</td>\n",
       "      <td>1</td>\n",
       "      <td>NaN</td>\n",
       "    </tr>\n",
       "    <tr>\n",
       "      <th>2</th>\n",
       "      <td>37897-3</td>\n",
       "      <td>2001-12-11 19:26:34</td>\n",
       "      <td>1</td>\n",
       "      <td>74450</td>\n",
       "      <td>Adolfo Marinho</td>\n",
       "      <td>PSDB</td>\n",
       "      <td>CE</td>\n",
       "      <td>1</td>\n",
       "      <td>NaN</td>\n",
       "    </tr>\n",
       "    <tr>\n",
       "      <th>3</th>\n",
       "      <td>37897-3</td>\n",
       "      <td>2001-12-11 19:25:14</td>\n",
       "      <td>0</td>\n",
       "      <td>74646</td>\n",
       "      <td>Aécio Neves</td>\n",
       "      <td>PSDB</td>\n",
       "      <td>MG</td>\n",
       "      <td>1</td>\n",
       "      <td>NaN</td>\n",
       "    </tr>\n",
       "    <tr>\n",
       "      <th>4</th>\n",
       "      <td>37897-3</td>\n",
       "      <td>2001-12-11 19:26:59</td>\n",
       "      <td>1</td>\n",
       "      <td>73765</td>\n",
       "      <td>Affonso Camargo</td>\n",
       "      <td>PFL</td>\n",
       "      <td>PR</td>\n",
       "      <td>1</td>\n",
       "      <td>NaN</td>\n",
       "    </tr>\n",
       "    <tr>\n",
       "      <th>...</th>\n",
       "      <td>...</td>\n",
       "      <td>...</td>\n",
       "      <td>...</td>\n",
       "      <td>...</td>\n",
       "      <td>...</td>\n",
       "      <td>...</td>\n",
       "      <td>...</td>\n",
       "      <td>...</td>\n",
       "      <td>...</td>\n",
       "    </tr>\n",
       "    <tr>\n",
       "      <th>1329477</th>\n",
       "      <td>945554-186</td>\n",
       "      <td>2022-04-07 13:21:12</td>\n",
       "      <td>1</td>\n",
       "      <td>178889</td>\n",
       "      <td>Zé Carlos</td>\n",
       "      <td>PT</td>\n",
       "      <td>MA</td>\n",
       "      <td>1</td>\n",
       "      <td>Sim</td>\n",
       "    </tr>\n",
       "    <tr>\n",
       "      <th>1329478</th>\n",
       "      <td>945554-186</td>\n",
       "      <td>2022-04-07 13:22:05</td>\n",
       "      <td>1</td>\n",
       "      <td>204559</td>\n",
       "      <td>Zé Neto</td>\n",
       "      <td>PT</td>\n",
       "      <td>BA</td>\n",
       "      <td>1</td>\n",
       "      <td>Sim</td>\n",
       "    </tr>\n",
       "    <tr>\n",
       "      <th>1329479</th>\n",
       "      <td>945554-186</td>\n",
       "      <td>2022-04-07 13:26:44</td>\n",
       "      <td>-1</td>\n",
       "      <td>160632</td>\n",
       "      <td>Zé Silva</td>\n",
       "      <td>SOLIDARIEDADE</td>\n",
       "      <td>MG</td>\n",
       "      <td>1</td>\n",
       "      <td>NaN</td>\n",
       "    </tr>\n",
       "    <tr>\n",
       "      <th>1329480</th>\n",
       "      <td>945554-186</td>\n",
       "      <td>2022-04-07 13:21:07</td>\n",
       "      <td>-1</td>\n",
       "      <td>204517</td>\n",
       "      <td>Zé Vitor</td>\n",
       "      <td>PL</td>\n",
       "      <td>MG</td>\n",
       "      <td>1</td>\n",
       "      <td>Não</td>\n",
       "    </tr>\n",
       "    <tr>\n",
       "      <th>1329481</th>\n",
       "      <td>945554-186</td>\n",
       "      <td>2022-04-07 13:22:28</td>\n",
       "      <td>1</td>\n",
       "      <td>160592</td>\n",
       "      <td>Zeca Dirceu</td>\n",
       "      <td>PT</td>\n",
       "      <td>PR</td>\n",
       "      <td>1</td>\n",
       "      <td>Sim</td>\n",
       "    </tr>\n",
       "  </tbody>\n",
       "</table>\n",
       "<p>1329482 rows × 9 columns</p>\n",
       "</div>"
      ],
      "text/plain": [
       "          idVotacao        dataHoraVoto  voto  deputado_id    deputado_nome  \\\n",
       "0           37897-3 2001-12-11 19:49:15     1        73886      Adão Pretto   \n",
       "1           37897-3 2001-12-11 19:29:35     1        74328   Adauto Pereira   \n",
       "2           37897-3 2001-12-11 19:26:34     1        74450   Adolfo Marinho   \n",
       "3           37897-3 2001-12-11 19:25:14     0        74646      Aécio Neves   \n",
       "4           37897-3 2001-12-11 19:26:59     1        73765  Affonso Camargo   \n",
       "...             ...                 ...   ...          ...              ...   \n",
       "1329477  945554-186 2022-04-07 13:21:12     1       178889        Zé Carlos   \n",
       "1329478  945554-186 2022-04-07 13:22:05     1       204559          Zé Neto   \n",
       "1329479  945554-186 2022-04-07 13:26:44    -1       160632         Zé Silva   \n",
       "1329480  945554-186 2022-04-07 13:21:07    -1       204517         Zé Vitor   \n",
       "1329481  945554-186 2022-04-07 13:22:28     1       160592      Zeca Dirceu   \n",
       "\n",
       "        deputado_siglaPartido deputado_siglaUf  voto_count orientacao  \n",
       "0                          PT               RS           1        NaN  \n",
       "1                         PFL               PB           1        NaN  \n",
       "2                        PSDB               CE           1        NaN  \n",
       "3                        PSDB               MG           1        NaN  \n",
       "4                         PFL               PR           1        NaN  \n",
       "...                       ...              ...         ...        ...  \n",
       "1329477                    PT               MA           1        Sim  \n",
       "1329478                    PT               BA           1        Sim  \n",
       "1329479         SOLIDARIEDADE               MG           1        NaN  \n",
       "1329480                    PL               MG           1        Não  \n",
       "1329481                    PT               PR           1        Sim  \n",
       "\n",
       "[1329482 rows x 9 columns]"
      ]
     },
     "execution_count": 30,
     "metadata": {},
     "output_type": "execute_result"
    }
   ],
   "source": [
    "dv = pd.merge(df, dfo, how='left', left_on=['idVotacao','deputado_siglaPartido'], right_on=['idVotacao','siglaBancada'])\n",
    "dv = dv.drop([\"siglaBancada\"], axis=1)\n",
    "dv"
   ]
  },
  {
   "cell_type": "code",
   "execution_count": 31,
   "metadata": {},
   "outputs": [],
   "source": [
    "dv.columns = ['idVotacao', 'data', 'voto', 'id', 'nome',\n",
    "       'partido', 'UF', 'voto_count', 'orientacao']"
   ]
  },
  {
   "cell_type": "code",
   "execution_count": 40,
   "metadata": {},
   "outputs": [
    {
     "data": {
      "text/html": [
       "<div>\n",
       "<style scoped>\n",
       "    .dataframe tbody tr th:only-of-type {\n",
       "        vertical-align: middle;\n",
       "    }\n",
       "\n",
       "    .dataframe tbody tr th {\n",
       "        vertical-align: top;\n",
       "    }\n",
       "\n",
       "    .dataframe thead th {\n",
       "        text-align: right;\n",
       "    }\n",
       "</style>\n",
       "<table border=\"1\" class=\"dataframe\">\n",
       "  <thead>\n",
       "    <tr style=\"text-align: right;\">\n",
       "      <th></th>\n",
       "      <th>idVotacao</th>\n",
       "      <th>voto</th>\n",
       "      <th>id</th>\n",
       "      <th>nome</th>\n",
       "      <th>partido</th>\n",
       "      <th>UF</th>\n",
       "      <th>voto_count</th>\n",
       "      <th>orientacao</th>\n",
       "      <th>ano</th>\n",
       "    </tr>\n",
       "  </thead>\n",
       "  <tbody>\n",
       "    <tr>\n",
       "      <th>2810</th>\n",
       "      <td>113716-111</td>\n",
       "      <td>-1</td>\n",
       "      <td>73764</td>\n",
       "      <td>Abelardo Lupion</td>\n",
       "      <td>PFL</td>\n",
       "      <td>PR</td>\n",
       "      <td>1</td>\n",
       "      <td>-1</td>\n",
       "      <td>2003</td>\n",
       "    </tr>\n",
       "    <tr>\n",
       "      <th>2811</th>\n",
       "      <td>113716-111</td>\n",
       "      <td>1</td>\n",
       "      <td>73886</td>\n",
       "      <td>Adão Pretto</td>\n",
       "      <td>PT</td>\n",
       "      <td>RS</td>\n",
       "      <td>1</td>\n",
       "      <td>1</td>\n",
       "      <td>2003</td>\n",
       "    </tr>\n",
       "    <tr>\n",
       "      <th>2812</th>\n",
       "      <td>113716-111</td>\n",
       "      <td>1</td>\n",
       "      <td>74328</td>\n",
       "      <td>Adauto Pereira</td>\n",
       "      <td>PFL</td>\n",
       "      <td>PB</td>\n",
       "      <td>1</td>\n",
       "      <td>-1</td>\n",
       "      <td>2003</td>\n",
       "    </tr>\n",
       "    <tr>\n",
       "      <th>2813</th>\n",
       "      <td>113716-111</td>\n",
       "      <td>1</td>\n",
       "      <td>74386</td>\n",
       "      <td>Adelor Vieira</td>\n",
       "      <td>PMDB</td>\n",
       "      <td>SC</td>\n",
       "      <td>1</td>\n",
       "      <td>1</td>\n",
       "      <td>2003</td>\n",
       "    </tr>\n",
       "    <tr>\n",
       "      <th>2814</th>\n",
       "      <td>113716-111</td>\n",
       "      <td>1</td>\n",
       "      <td>73765</td>\n",
       "      <td>Affonso Camargo</td>\n",
       "      <td>PSDB</td>\n",
       "      <td>PR</td>\n",
       "      <td>1</td>\n",
       "      <td>1</td>\n",
       "      <td>2003</td>\n",
       "    </tr>\n",
       "    <tr>\n",
       "      <th>...</th>\n",
       "      <td>...</td>\n",
       "      <td>...</td>\n",
       "      <td>...</td>\n",
       "      <td>...</td>\n",
       "      <td>...</td>\n",
       "      <td>...</td>\n",
       "      <td>...</td>\n",
       "      <td>...</td>\n",
       "      <td>...</td>\n",
       "    </tr>\n",
       "    <tr>\n",
       "      <th>1329475</th>\n",
       "      <td>945554-186</td>\n",
       "      <td>-1</td>\n",
       "      <td>74043</td>\n",
       "      <td>Wellington Roberto</td>\n",
       "      <td>PL</td>\n",
       "      <td>PB</td>\n",
       "      <td>1</td>\n",
       "      <td>-1</td>\n",
       "      <td>2022</td>\n",
       "    </tr>\n",
       "    <tr>\n",
       "      <th>1329477</th>\n",
       "      <td>945554-186</td>\n",
       "      <td>1</td>\n",
       "      <td>178889</td>\n",
       "      <td>Zé Carlos</td>\n",
       "      <td>PT</td>\n",
       "      <td>MA</td>\n",
       "      <td>1</td>\n",
       "      <td>1</td>\n",
       "      <td>2022</td>\n",
       "    </tr>\n",
       "    <tr>\n",
       "      <th>1329478</th>\n",
       "      <td>945554-186</td>\n",
       "      <td>1</td>\n",
       "      <td>204559</td>\n",
       "      <td>Zé Neto</td>\n",
       "      <td>PT</td>\n",
       "      <td>BA</td>\n",
       "      <td>1</td>\n",
       "      <td>1</td>\n",
       "      <td>2022</td>\n",
       "    </tr>\n",
       "    <tr>\n",
       "      <th>1329480</th>\n",
       "      <td>945554-186</td>\n",
       "      <td>-1</td>\n",
       "      <td>204517</td>\n",
       "      <td>Zé Vitor</td>\n",
       "      <td>PL</td>\n",
       "      <td>MG</td>\n",
       "      <td>1</td>\n",
       "      <td>-1</td>\n",
       "      <td>2022</td>\n",
       "    </tr>\n",
       "    <tr>\n",
       "      <th>1329481</th>\n",
       "      <td>945554-186</td>\n",
       "      <td>1</td>\n",
       "      <td>160592</td>\n",
       "      <td>Zeca Dirceu</td>\n",
       "      <td>PT</td>\n",
       "      <td>PR</td>\n",
       "      <td>1</td>\n",
       "      <td>1</td>\n",
       "      <td>2022</td>\n",
       "    </tr>\n",
       "  </tbody>\n",
       "</table>\n",
       "<p>1000451 rows × 9 columns</p>\n",
       "</div>"
      ],
      "text/plain": [
       "          idVotacao  voto      id                nome partido  UF  voto_count  \\\n",
       "2810     113716-111    -1   73764     Abelardo Lupion     PFL  PR           1   \n",
       "2811     113716-111     1   73886         Adão Pretto      PT  RS           1   \n",
       "2812     113716-111     1   74328      Adauto Pereira     PFL  PB           1   \n",
       "2813     113716-111     1   74386       Adelor Vieira    PMDB  SC           1   \n",
       "2814     113716-111     1   73765     Affonso Camargo    PSDB  PR           1   \n",
       "...             ...   ...     ...                 ...     ...  ..         ...   \n",
       "1329475  945554-186    -1   74043  Wellington Roberto      PL  PB           1   \n",
       "1329477  945554-186     1  178889           Zé Carlos      PT  MA           1   \n",
       "1329478  945554-186     1  204559             Zé Neto      PT  BA           1   \n",
       "1329480  945554-186    -1  204517            Zé Vitor      PL  MG           1   \n",
       "1329481  945554-186     1  160592         Zeca Dirceu      PT  PR           1   \n",
       "\n",
       "         orientacao   ano  \n",
       "2810             -1  2003  \n",
       "2811              1  2003  \n",
       "2812             -1  2003  \n",
       "2813              1  2003  \n",
       "2814              1  2003  \n",
       "...             ...   ...  \n",
       "1329475          -1  2022  \n",
       "1329477           1  2022  \n",
       "1329478           1  2022  \n",
       "1329480          -1  2022  \n",
       "1329481           1  2022  \n",
       "\n",
       "[1000451 rows x 9 columns]"
      ]
     },
     "execution_count": 40,
     "metadata": {},
     "output_type": "execute_result"
    }
   ],
   "source": [
    "new_dv = dv.copy()\n",
    "new_dv.dropna(subset = [\"orientacao\"], inplace=True)\n",
    "new_dv[\"ano\"] = pd.DatetimeIndex(new_dv['data']).year\n",
    "new_dv[\"orientacao\"].replace({\"Sim\": 1, \"Não\": -1, \"Abstenção\": 0, 'Liberado':0, 'Obstrução':0}, inplace=True)\n",
    "new_dv.drop([\"data\"], axis=1, inplace=True)\n",
    "new_dv"
   ]
  },
  {
   "cell_type": "code",
   "execution_count": 42,
   "metadata": {
    "scrolled": true
   },
   "outputs": [
    {
     "data": {
      "text/html": [
       "<div>\n",
       "<style scoped>\n",
       "    .dataframe tbody tr th:only-of-type {\n",
       "        vertical-align: middle;\n",
       "    }\n",
       "\n",
       "    .dataframe tbody tr th {\n",
       "        vertical-align: top;\n",
       "    }\n",
       "\n",
       "    .dataframe thead th {\n",
       "        text-align: right;\n",
       "    }\n",
       "</style>\n",
       "<table border=\"1\" class=\"dataframe\">\n",
       "  <thead>\n",
       "    <tr style=\"text-align: right;\">\n",
       "      <th></th>\n",
       "      <th>idVotacao</th>\n",
       "      <th>voto</th>\n",
       "      <th>id</th>\n",
       "      <th>nome</th>\n",
       "      <th>partido</th>\n",
       "      <th>UF</th>\n",
       "      <th>voto_count</th>\n",
       "      <th>orientacao</th>\n",
       "      <th>ano</th>\n",
       "    </tr>\n",
       "  </thead>\n",
       "  <tbody>\n",
       "    <tr>\n",
       "      <th>2812</th>\n",
       "      <td>113716-111</td>\n",
       "      <td>1</td>\n",
       "      <td>74328</td>\n",
       "      <td>Adauto Pereira</td>\n",
       "      <td>PFL</td>\n",
       "      <td>PB</td>\n",
       "      <td>1</td>\n",
       "      <td>-1</td>\n",
       "      <td>2003</td>\n",
       "    </tr>\n",
       "    <tr>\n",
       "      <th>2816</th>\n",
       "      <td>113716-111</td>\n",
       "      <td>-1</td>\n",
       "      <td>73579</td>\n",
       "      <td>Alberto Fraga</td>\n",
       "      <td>PMDB</td>\n",
       "      <td>DF</td>\n",
       "      <td>1</td>\n",
       "      <td>1</td>\n",
       "      <td>2003</td>\n",
       "    </tr>\n",
       "    <tr>\n",
       "      <th>2819</th>\n",
       "      <td>113716-111</td>\n",
       "      <td>-1</td>\n",
       "      <td>73477</td>\n",
       "      <td>Alceu Collares</td>\n",
       "      <td>PDT</td>\n",
       "      <td>RS</td>\n",
       "      <td>1</td>\n",
       "      <td>1</td>\n",
       "      <td>2003</td>\n",
       "    </tr>\n",
       "    <tr>\n",
       "      <th>2823</th>\n",
       "      <td>113716-111</td>\n",
       "      <td>-1</td>\n",
       "      <td>74057</td>\n",
       "      <td>Alice Portugal</td>\n",
       "      <td>PCdoB</td>\n",
       "      <td>BA</td>\n",
       "      <td>1</td>\n",
       "      <td>1</td>\n",
       "      <td>2003</td>\n",
       "    </tr>\n",
       "    <tr>\n",
       "      <th>2829</th>\n",
       "      <td>113716-111</td>\n",
       "      <td>-1</td>\n",
       "      <td>74036</td>\n",
       "      <td>Álvaro Dias</td>\n",
       "      <td>PDT</td>\n",
       "      <td>RN</td>\n",
       "      <td>1</td>\n",
       "      <td>1</td>\n",
       "      <td>2003</td>\n",
       "    </tr>\n",
       "    <tr>\n",
       "      <th>...</th>\n",
       "      <td>...</td>\n",
       "      <td>...</td>\n",
       "      <td>...</td>\n",
       "      <td>...</td>\n",
       "      <td>...</td>\n",
       "      <td>...</td>\n",
       "      <td>...</td>\n",
       "      <td>...</td>\n",
       "      <td>...</td>\n",
       "    </tr>\n",
       "    <tr>\n",
       "      <th>1329300</th>\n",
       "      <td>945554-186</td>\n",
       "      <td>-1</td>\n",
       "      <td>178931</td>\n",
       "      <td>Luciano Ducci</td>\n",
       "      <td>PSB</td>\n",
       "      <td>PR</td>\n",
       "      <td>1</td>\n",
       "      <td>1</td>\n",
       "      <td>2022</td>\n",
       "    </tr>\n",
       "    <tr>\n",
       "      <th>1329380</th>\n",
       "      <td>945554-186</td>\n",
       "      <td>-1</td>\n",
       "      <td>160517</td>\n",
       "      <td>Paulo Foletto</td>\n",
       "      <td>PSB</td>\n",
       "      <td>ES</td>\n",
       "      <td>1</td>\n",
       "      <td>1</td>\n",
       "      <td>2022</td>\n",
       "    </tr>\n",
       "    <tr>\n",
       "      <th>1329437</th>\n",
       "      <td>945554-186</td>\n",
       "      <td>1</td>\n",
       "      <td>204438</td>\n",
       "      <td>Sergio Toledo</td>\n",
       "      <td>PL</td>\n",
       "      <td>AL</td>\n",
       "      <td>1</td>\n",
       "      <td>-1</td>\n",
       "      <td>2022</td>\n",
       "    </tr>\n",
       "    <tr>\n",
       "      <th>1329441</th>\n",
       "      <td>945554-186</td>\n",
       "      <td>0</td>\n",
       "      <td>178946</td>\n",
       "      <td>Soraya Santos</td>\n",
       "      <td>PL</td>\n",
       "      <td>RJ</td>\n",
       "      <td>1</td>\n",
       "      <td>-1</td>\n",
       "      <td>2022</td>\n",
       "    </tr>\n",
       "    <tr>\n",
       "      <th>1329451</th>\n",
       "      <td>945554-186</td>\n",
       "      <td>1</td>\n",
       "      <td>160976</td>\n",
       "      <td>Tiririca</td>\n",
       "      <td>PL</td>\n",
       "      <td>SP</td>\n",
       "      <td>1</td>\n",
       "      <td>-1</td>\n",
       "      <td>2022</td>\n",
       "    </tr>\n",
       "  </tbody>\n",
       "</table>\n",
       "<p>61771 rows × 9 columns</p>\n",
       "</div>"
      ],
      "text/plain": [
       "          idVotacao  voto      id            nome partido  UF  voto_count  \\\n",
       "2812     113716-111     1   74328  Adauto Pereira     PFL  PB           1   \n",
       "2816     113716-111    -1   73579   Alberto Fraga    PMDB  DF           1   \n",
       "2819     113716-111    -1   73477  Alceu Collares     PDT  RS           1   \n",
       "2823     113716-111    -1   74057  Alice Portugal   PCdoB  BA           1   \n",
       "2829     113716-111    -1   74036     Álvaro Dias     PDT  RN           1   \n",
       "...             ...   ...     ...             ...     ...  ..         ...   \n",
       "1329300  945554-186    -1  178931   Luciano Ducci     PSB  PR           1   \n",
       "1329380  945554-186    -1  160517   Paulo Foletto     PSB  ES           1   \n",
       "1329437  945554-186     1  204438   Sergio Toledo      PL  AL           1   \n",
       "1329441  945554-186     0  178946   Soraya Santos      PL  RJ           1   \n",
       "1329451  945554-186     1  160976        Tiririca      PL  SP           1   \n",
       "\n",
       "         orientacao   ano  \n",
       "2812             -1  2003  \n",
       "2816              1  2003  \n",
       "2819              1  2003  \n",
       "2823              1  2003  \n",
       "2829              1  2003  \n",
       "...             ...   ...  \n",
       "1329300           1  2022  \n",
       "1329380           1  2022  \n",
       "1329437          -1  2022  \n",
       "1329441          -1  2022  \n",
       "1329451          -1  2022  \n",
       "\n",
       "[61771 rows x 9 columns]"
      ]
     },
     "execution_count": 42,
     "metadata": {},
     "output_type": "execute_result"
    }
   ],
   "source": [
    "new_dv.query(\"voto != orientacao and orientacao != 0\")"
   ]
  },
  {
   "cell_type": "code",
   "execution_count": 53,
   "metadata": {},
   "outputs": [
    {
     "data": {
      "text/html": [
       "<div>\n",
       "<style scoped>\n",
       "    .dataframe tbody tr th:only-of-type {\n",
       "        vertical-align: middle;\n",
       "    }\n",
       "\n",
       "    .dataframe tbody tr th {\n",
       "        vertical-align: top;\n",
       "    }\n",
       "\n",
       "    .dataframe thead th {\n",
       "        text-align: right;\n",
       "    }\n",
       "</style>\n",
       "<table border=\"1\" class=\"dataframe\">\n",
       "  <thead>\n",
       "    <tr style=\"text-align: right;\">\n",
       "      <th></th>\n",
       "      <th>partido</th>\n",
       "      <th>ano</th>\n",
       "      <th>voto</th>\n",
       "    </tr>\n",
       "  </thead>\n",
       "  <tbody>\n",
       "    <tr>\n",
       "      <th>0</th>\n",
       "      <td>AVANTE</td>\n",
       "      <td>2017</td>\n",
       "      <td>44</td>\n",
       "    </tr>\n",
       "    <tr>\n",
       "      <th>1</th>\n",
       "      <td>AVANTE</td>\n",
       "      <td>2018</td>\n",
       "      <td>20</td>\n",
       "    </tr>\n",
       "    <tr>\n",
       "      <th>2</th>\n",
       "      <td>AVANTE</td>\n",
       "      <td>2019</td>\n",
       "      <td>-1</td>\n",
       "    </tr>\n",
       "    <tr>\n",
       "      <th>3</th>\n",
       "      <td>AVANTE</td>\n",
       "      <td>2020</td>\n",
       "      <td>-31</td>\n",
       "    </tr>\n",
       "    <tr>\n",
       "      <th>4</th>\n",
       "      <td>AVANTE</td>\n",
       "      <td>2021</td>\n",
       "      <td>495</td>\n",
       "    </tr>\n",
       "    <tr>\n",
       "      <th>...</th>\n",
       "      <td>...</td>\n",
       "      <td>...</td>\n",
       "      <td>...</td>\n",
       "    </tr>\n",
       "    <tr>\n",
       "      <th>512</th>\n",
       "      <td>SOLIDARIEDADE</td>\n",
       "      <td>2019</td>\n",
       "      <td>-103</td>\n",
       "    </tr>\n",
       "    <tr>\n",
       "      <th>513</th>\n",
       "      <td>SOLIDARIEDADE</td>\n",
       "      <td>2020</td>\n",
       "      <td>-28</td>\n",
       "    </tr>\n",
       "    <tr>\n",
       "      <th>514</th>\n",
       "      <td>SOLIDARIEDADE</td>\n",
       "      <td>2021</td>\n",
       "      <td>853</td>\n",
       "    </tr>\n",
       "    <tr>\n",
       "      <th>515</th>\n",
       "      <td>SOLIDARIEDADE</td>\n",
       "      <td>2022</td>\n",
       "      <td>247</td>\n",
       "    </tr>\n",
       "    <tr>\n",
       "      <th>516</th>\n",
       "      <td>UNIÃO</td>\n",
       "      <td>2022</td>\n",
       "      <td>988</td>\n",
       "    </tr>\n",
       "  </tbody>\n",
       "</table>\n",
       "<p>517 rows × 3 columns</p>\n",
       "</div>"
      ],
      "text/plain": [
       "           partido   ano  voto\n",
       "0           AVANTE  2017    44\n",
       "1           AVANTE  2018    20\n",
       "2           AVANTE  2019    -1\n",
       "3           AVANTE  2020   -31\n",
       "4           AVANTE  2021   495\n",
       "..             ...   ...   ...\n",
       "512  SOLIDARIEDADE  2019  -103\n",
       "513  SOLIDARIEDADE  2020   -28\n",
       "514  SOLIDARIEDADE  2021   853\n",
       "515  SOLIDARIEDADE  2022   247\n",
       "516          UNIÃO  2022   988\n",
       "\n",
       "[517 rows x 3 columns]"
      ]
     },
     "execution_count": 53,
     "metadata": {},
     "output_type": "execute_result"
    }
   ],
   "source": [
    "df_heat = dv.copy()\n",
    "df_heat[\"ano\"] = pd.DatetimeIndex(dv['data']).year\n",
    "df_heat.drop([\"orientacao\", \"data\", \"voto_count\", \"UF\", \"nome\", \"id\"], axis=1, inplace=True)\n",
    "heat = df_heat.groupby([\"partido\", \"ano\"], as_index=False).sum()\n",
    "heat"
   ]
  },
  {
   "cell_type": "code",
   "execution_count": 55,
   "metadata": {},
   "outputs": [
    {
     "data": {
      "text/html": [
       "<div>\n",
       "<style scoped>\n",
       "    .dataframe tbody tr th:only-of-type {\n",
       "        vertical-align: middle;\n",
       "    }\n",
       "\n",
       "    .dataframe tbody tr th {\n",
       "        vertical-align: top;\n",
       "    }\n",
       "\n",
       "    .dataframe thead th {\n",
       "        text-align: right;\n",
       "    }\n",
       "</style>\n",
       "<table border=\"1\" class=\"dataframe\">\n",
       "  <thead>\n",
       "    <tr style=\"text-align: right;\">\n",
       "      <th>medal</th>\n",
       "      <th>gold</th>\n",
       "      <th>silver</th>\n",
       "      <th>bronze</th>\n",
       "    </tr>\n",
       "    <tr>\n",
       "      <th>nation</th>\n",
       "      <th></th>\n",
       "      <th></th>\n",
       "      <th></th>\n",
       "    </tr>\n",
       "  </thead>\n",
       "  <tbody>\n",
       "    <tr>\n",
       "      <th>South Korea</th>\n",
       "      <td>24</td>\n",
       "      <td>13</td>\n",
       "      <td>11</td>\n",
       "    </tr>\n",
       "    <tr>\n",
       "      <th>China</th>\n",
       "      <td>10</td>\n",
       "      <td>15</td>\n",
       "      <td>8</td>\n",
       "    </tr>\n",
       "    <tr>\n",
       "      <th>Canada</th>\n",
       "      <td>9</td>\n",
       "      <td>12</td>\n",
       "      <td>12</td>\n",
       "    </tr>\n",
       "  </tbody>\n",
       "</table>\n",
       "</div>"
      ],
      "text/plain": [
       "medal        gold  silver  bronze\n",
       "nation                           \n",
       "South Korea    24      13      11\n",
       "China          10      15       8\n",
       "Canada          9      12      12"
      ]
     },
     "execution_count": 55,
     "metadata": {},
     "output_type": "execute_result"
    }
   ],
   "source": [
    "dfabc = px.data.medals_wide(indexed=True)\n",
    "dfabc"
   ]
  },
  {
   "cell_type": "code",
   "execution_count": 54,
   "metadata": {},
   "outputs": [
    {
     "data": {
      "application/vnd.plotly.v1+json": {
       "config": {
        "plotlyServerURL": "https://plot.ly"
       },
       "data": [
        {
         "coloraxis": "coloraxis",
         "hovertemplate": "x: %{x}<br>y: %{y}<br>color: %{z}<extra></extra>",
         "name": "0",
         "type": "heatmap",
         "x": [
          "partido",
          "ano",
          "voto"
         ],
         "xaxis": "x",
         "y": [
          0,
          1,
          2,
          3,
          4,
          5,
          6,
          7,
          8,
          9,
          10,
          11,
          12,
          13,
          14,
          15,
          16,
          17,
          18,
          19,
          20,
          21,
          22,
          23,
          24,
          25,
          26,
          27,
          28,
          29,
          30,
          31,
          32,
          33,
          34,
          35,
          36,
          37,
          38,
          39,
          40,
          41,
          42,
          43,
          44,
          45,
          46,
          47,
          48,
          49,
          50,
          51,
          52,
          53,
          54,
          55,
          56,
          57,
          58,
          59,
          60,
          61,
          62,
          63,
          64,
          65,
          66,
          67,
          68,
          69,
          70,
          71,
          72,
          73,
          74,
          75,
          76,
          77,
          78,
          79,
          80,
          81,
          82,
          83,
          84,
          85,
          86,
          87,
          88,
          89,
          90,
          91,
          92,
          93,
          94,
          95,
          96,
          97,
          98,
          99,
          100,
          101,
          102,
          103,
          104,
          105,
          106,
          107,
          108,
          109,
          110,
          111,
          112,
          113,
          114,
          115,
          116,
          117,
          118,
          119,
          120,
          121,
          122,
          123,
          124,
          125,
          126,
          127,
          128,
          129,
          130,
          131,
          132,
          133,
          134,
          135,
          136,
          137,
          138,
          139,
          140,
          141,
          142,
          143,
          144,
          145,
          146,
          147,
          148,
          149,
          150,
          151,
          152,
          153,
          154,
          155,
          156,
          157,
          158,
          159,
          160,
          161,
          162,
          163,
          164,
          165,
          166,
          167,
          168,
          169,
          170,
          171,
          172,
          173,
          174,
          175,
          176,
          177,
          178,
          179,
          180,
          181,
          182,
          183,
          184,
          185,
          186,
          187,
          188,
          189,
          190,
          191,
          192,
          193,
          194,
          195,
          196,
          197,
          198,
          199,
          200,
          201,
          202,
          203,
          204,
          205,
          206,
          207,
          208,
          209,
          210,
          211,
          212,
          213,
          214,
          215,
          216,
          217,
          218,
          219,
          220,
          221,
          222,
          223,
          224,
          225,
          226,
          227,
          228,
          229,
          230,
          231,
          232,
          233,
          234,
          235,
          236,
          237,
          238,
          239,
          240,
          241,
          242,
          243,
          244,
          245,
          246,
          247,
          248,
          249,
          250,
          251,
          252,
          253,
          254,
          255,
          256,
          257,
          258,
          259,
          260,
          261,
          262,
          263,
          264,
          265,
          266,
          267,
          268,
          269,
          270,
          271,
          272,
          273,
          274,
          275,
          276,
          277,
          278,
          279,
          280,
          281,
          282,
          283,
          284,
          285,
          286,
          287,
          288,
          289,
          290,
          291,
          292,
          293,
          294,
          295,
          296,
          297,
          298,
          299,
          300,
          301,
          302,
          303,
          304,
          305,
          306,
          307,
          308,
          309,
          310,
          311,
          312,
          313,
          314,
          315,
          316,
          317,
          318,
          319,
          320,
          321,
          322,
          323,
          324,
          325,
          326,
          327,
          328,
          329,
          330,
          331,
          332,
          333,
          334,
          335,
          336,
          337,
          338,
          339,
          340,
          341,
          342,
          343,
          344,
          345,
          346,
          347,
          348,
          349,
          350,
          351,
          352,
          353,
          354,
          355,
          356,
          357,
          358,
          359,
          360,
          361,
          362,
          363,
          364,
          365,
          366,
          367,
          368,
          369,
          370,
          371,
          372,
          373,
          374,
          375,
          376,
          377,
          378,
          379,
          380,
          381,
          382,
          383,
          384,
          385,
          386,
          387,
          388,
          389,
          390,
          391,
          392,
          393,
          394,
          395,
          396,
          397,
          398,
          399,
          400,
          401,
          402,
          403,
          404,
          405,
          406,
          407,
          408,
          409,
          410,
          411,
          412,
          413,
          414,
          415,
          416,
          417,
          418,
          419,
          420,
          421,
          422,
          423,
          424,
          425,
          426,
          427,
          428,
          429,
          430,
          431,
          432,
          433,
          434,
          435,
          436,
          437,
          438,
          439,
          440,
          441,
          442,
          443,
          444,
          445,
          446,
          447,
          448,
          449,
          450,
          451,
          452,
          453,
          454,
          455,
          456,
          457,
          458,
          459,
          460,
          461,
          462,
          463,
          464,
          465,
          466,
          467,
          468,
          469,
          470,
          471,
          472,
          473,
          474,
          475,
          476,
          477,
          478,
          479,
          480,
          481,
          482,
          483,
          484,
          485,
          486,
          487,
          488,
          489,
          490,
          491,
          492,
          493,
          494,
          495,
          496,
          497,
          498,
          499,
          500,
          501,
          502,
          503,
          504,
          505,
          506,
          507,
          508,
          509,
          510,
          511,
          512,
          513,
          514,
          515,
          516
         ],
         "yaxis": "y",
         "z": [
          [
           "AVANTE",
           2017,
           44
          ],
          [
           "AVANTE",
           2018,
           20
          ],
          [
           "AVANTE",
           2019,
           -1
          ],
          [
           "AVANTE",
           2020,
           -31
          ],
          [
           "AVANTE",
           2021,
           495
          ],
          [
           "AVANTE",
           2022,
           227
          ],
          [
           "CIDADANIA",
           2019,
           134
          ],
          [
           "CIDADANIA",
           2020,
           -10
          ],
          [
           "CIDADANIA",
           2021,
           338
          ],
          [
           "CIDADANIA",
           2022,
           118
          ],
          [
           "DC",
           2019,
           -6
          ],
          [
           "DEM",
           2007,
           -316
          ],
          [
           "DEM",
           2008,
           -127
          ],
          [
           "DEM",
           2009,
           747
          ],
          [
           "DEM",
           2010,
           953
          ],
          [
           "DEM",
           2011,
           162
          ],
          [
           "DEM",
           2012,
           495
          ],
          [
           "DEM",
           2013,
           602
          ],
          [
           "DEM",
           2014,
           797
          ],
          [
           "DEM",
           2015,
           897
          ],
          [
           "DEM",
           2016,
           86
          ],
          [
           "DEM",
           2017,
           356
          ],
          [
           "DEM",
           2018,
           -426
          ],
          [
           "DEM",
           2019,
           -19
          ],
          [
           "DEM",
           2020,
           -345
          ],
          [
           "DEM",
           2021,
           999
          ],
          [
           "DEM",
           2022,
           200
          ],
          [
           "MDB",
           2018,
           -54
          ],
          [
           "MDB",
           2019,
           -5
          ],
          [
           "MDB",
           2020,
           -184
          ],
          [
           "MDB",
           2021,
           1791
          ],
          [
           "MDB",
           2022,
           925
          ],
          [
           "NOVO",
           2019,
           -85
          ],
          [
           "NOVO",
           2020,
           -413
          ],
          [
           "NOVO",
           2021,
           -654
          ],
          [
           "NOVO",
           2022,
           -13
          ],
          [
           "PAN",
           2007,
           5
          ],
          [
           "PATRI",
           2018,
           18
          ],
          [
           "PATRI",
           2019,
           -43
          ],
          [
           "PATRIOTA",
           2019,
           13
          ],
          [
           "PATRIOTA",
           2020,
           -88
          ],
          [
           "PATRIOTA",
           2021,
           268
          ],
          [
           "PATRIOTA",
           2022,
           121
          ],
          [
           "PCdoB",
           2001,
           3
          ],
          [
           "PCdoB",
           2002,
           32
          ],
          [
           "PCdoB",
           2003,
           57
          ],
          [
           "PCdoB",
           2004,
           -40
          ],
          [
           "PCdoB",
           2005,
           -93
          ],
          [
           "PCdoB",
           2006,
           -67
          ],
          [
           "PCdoB",
           2007,
           5
          ],
          [
           "PCdoB",
           2008,
           -45
          ],
          [
           "PCdoB",
           2009,
           125
          ],
          [
           "PCdoB",
           2010,
           148
          ],
          [
           "PCdoB",
           2011,
           30
          ],
          [
           "PCdoB",
           2012,
           77
          ],
          [
           "PCdoB",
           2013,
           72
          ],
          [
           "PCdoB",
           2014,
           221
          ],
          [
           "PCdoB",
           2015,
           123
          ],
          [
           "PCdoB",
           2016,
           208
          ],
          [
           "PCdoB",
           2017,
           107
          ],
          [
           "PCdoB",
           2018,
           33
          ],
          [
           "PCdoB",
           2019,
           -92
          ],
          [
           "PCdoB",
           2020,
           363
          ],
          [
           "PCdoB",
           2021,
           893
          ],
          [
           "PCdoB",
           2022,
           217
          ],
          [
           "PDT",
           2001,
           22
          ],
          [
           "PDT",
           2002,
           50
          ],
          [
           "PDT",
           2003,
           60
          ],
          [
           "PDT",
           2004,
           1
          ],
          [
           "PDT",
           2005,
           150
          ],
          [
           "PDT",
           2006,
           98
          ],
          [
           "PDT",
           2007,
           -117
          ],
          [
           "PDT",
           2008,
           -52
          ],
          [
           "PDT",
           2009,
           128
          ],
          [
           "PDT",
           2010,
           332
          ],
          [
           "PDT",
           2011,
           -81
          ],
          [
           "PDT",
           2012,
           174
          ],
          [
           "PDT",
           2013,
           166
          ],
          [
           "PDT",
           2014,
           415
          ],
          [
           "PDT",
           2015,
           690
          ],
          [
           "PDT",
           2016,
           300
          ],
          [
           "PDT",
           2017,
           245
          ],
          [
           "PDT",
           2018,
           66
          ],
          [
           "PDT",
           2019,
           -230
          ],
          [
           "PDT",
           2020,
           791
          ],
          [
           "PDT",
           2021,
           2703
          ],
          [
           "PDT",
           2022,
           387
          ],
          [
           "PEN",
           2012,
           17
          ],
          [
           "PEN",
           2013,
           32
          ],
          [
           "PEN",
           2014,
           2
          ],
          [
           "PEN",
           2015,
           110
          ],
          [
           "PEN",
           2016,
           49
          ],
          [
           "PEN",
           2017,
           11
          ],
          [
           "PEN",
           2018,
           -33
          ],
          [
           "PFL",
           2001,
           79
          ],
          [
           "PFL",
           2002,
           249
          ],
          [
           "PFL",
           2003,
           449
          ],
          [
           "PFL",
           2004,
           967
          ],
          [
           "PFL",
           2005,
           607
          ],
          [
           "PFL",
           2006,
           1079
          ],
          [
           "PFL",
           2007,
           82
          ],
          [
           "PHS",
           2007,
           -12
          ],
          [
           "PHS",
           2008,
           -13
          ],
          [
           "PHS",
           2009,
           16
          ],
          [
           "PHS",
           2010,
           52
          ],
          [
           "PHS",
           2011,
           -8
          ],
          [
           "PHS",
           2012,
           0
          ],
          [
           "PHS",
           2013,
           2
          ],
          [
           "PHS",
           2015,
           307
          ],
          [
           "PHS",
           2016,
           77
          ],
          [
           "PHS",
           2017,
           1
          ],
          [
           "PHS",
           2018,
           32
          ],
          [
           "PHS",
           2019,
           -10
          ],
          [
           "PL",
           2001,
           7
          ],
          [
           "PL",
           2002,
           33
          ],
          [
           "PL",
           2003,
           303
          ],
          [
           "PL",
           2004,
           -222
          ],
          [
           "PL",
           2005,
           -108
          ],
          [
           "PL",
           2006,
           59
          ],
          [
           "PL",
           2019,
           -2
          ],
          [
           "PL",
           2020,
           -296
          ],
          [
           "PL",
           2021,
           1989
          ],
          [
           "PL",
           2022,
           1365
          ],
          [
           "PMB",
           2015,
           -21
          ],
          [
           "PMB",
           2016,
           30
          ],
          [
           "PMB",
           2017,
           3
          ],
          [
           "PMDB",
           2001,
           64
          ],
          [
           "PMDB",
           2002,
           250
          ],
          [
           "PMDB",
           2003,
           389
          ],
          [
           "PMDB",
           2004,
           -64
          ],
          [
           "PMDB",
           2005,
           84
          ],
          [
           "PMDB",
           2006,
           188
          ],
          [
           "PMDB",
           2007,
           434
          ],
          [
           "PMDB",
           2008,
           -352
          ],
          [
           "PMDB",
           2009,
           1086
          ],
          [
           "PMDB",
           2010,
           1326
          ],
          [
           "PMDB",
           2011,
           290
          ],
          [
           "PMDB",
           2012,
           432
          ],
          [
           "PMDB",
           2013,
           1035
          ],
          [
           "PMDB",
           2014,
           1730
          ],
          [
           "PMDB",
           2015,
           3917
          ],
          [
           "PMDB",
           2016,
           476
          ],
          [
           "PMDB",
           2017,
           740
          ],
          [
           "PMDB",
           2018,
           -466
          ],
          [
           "PMN",
           2001,
           2
          ],
          [
           "PMN",
           2002,
           7
          ],
          [
           "PMN",
           2003,
           -3
          ],
          [
           "PMN",
           2007,
           -14
          ],
          [
           "PMN",
           2008,
           0
          ],
          [
           "PMN",
           2009,
           61
          ],
          [
           "PMN",
           2010,
           52
          ],
          [
           "PMN",
           2011,
           -7
          ],
          [
           "PMN",
           2012,
           10
          ],
          [
           "PMN",
           2013,
           29
          ],
          [
           "PMN",
           2014,
           74
          ],
          [
           "PMN",
           2015,
           170
          ],
          [
           "PMN",
           2016,
           2
          ],
          [
           "PMN",
           2019,
           -24
          ],
          [
           "PMR",
           2005,
           -2
          ],
          [
           "PMR",
           2006,
           4
          ],
          [
           "PODE",
           2017,
           165
          ],
          [
           "PODE",
           2018,
           -112
          ],
          [
           "PODE",
           2019,
           180
          ],
          [
           "PODE",
           2020,
           28
          ],
          [
           "PODE",
           2021,
           674
          ],
          [
           "PODE",
           2022,
           213
          ],
          [
           "PP",
           2003,
           157
          ],
          [
           "PP",
           2004,
           -47
          ],
          [
           "PP",
           2005,
           -116
          ],
          [
           "PP",
           2006,
           107
          ],
          [
           "PP",
           2007,
           -157
          ],
          [
           "PP",
           2008,
           -179
          ],
          [
           "PP",
           2009,
           447
          ],
          [
           "PP",
           2010,
           699
          ],
          [
           "PP",
           2011,
           9
          ],
          [
           "PP",
           2012,
           171
          ],
          [
           "PP",
           2013,
           390
          ],
          [
           "PP",
           2014,
           895
          ],
          [
           "PP",
           2015,
           2083
          ],
          [
           "PP",
           2016,
           275
          ],
          [
           "PP",
           2017,
           499
          ],
          [
           "PP",
           2018,
           -477
          ],
          [
           "PP",
           2019,
           -39
          ],
          [
           "PP",
           2020,
           2
          ],
          [
           "PP",
           2021,
           2007
          ],
          [
           "PP",
           2022,
           1062
          ],
          [
           "PPB",
           2001,
           41
          ],
          [
           "PPB",
           2002,
           150
          ],
          [
           "PPB",
           2003,
           67
          ],
          [
           "PPL",
           2018,
           -6
          ],
          [
           "PPL",
           2019,
           -7
          ],
          [
           "PPS",
           2001,
           4
          ],
          [
           "PPS",
           2002,
           16
          ],
          [
           "PPS",
           2003,
           115
          ],
          [
           "PPS",
           2004,
           -74
          ],
          [
           "PPS",
           2005,
           119
          ],
          [
           "PPS",
           2006,
           112
          ],
          [
           "PPS",
           2007,
           -96
          ],
          [
           "PPS",
           2008,
           -8
          ],
          [
           "PPS",
           2009,
           250
          ],
          [
           "PPS",
           2010,
           310
          ],
          [
           "PPS",
           2011,
           12
          ],
          [
           "PPS",
           2012,
           108
          ],
          [
           "PPS",
           2013,
           250
          ],
          [
           "PPS",
           2014,
           179
          ],
          [
           "PPS",
           2015,
           501
          ],
          [
           "PPS",
           2016,
           94
          ],
          [
           "PPS",
           2017,
           16
          ],
          [
           "PPS",
           2018,
           -77
          ],
          [
           "PPS",
           2019,
           -54
          ],
          [
           "PR",
           2007,
           -91
          ],
          [
           "PR",
           2008,
           -65
          ],
          [
           "PR",
           2009,
           496
          ],
          [
           "PR",
           2010,
           610
          ],
          [
           "PR",
           2011,
           -47
          ],
          [
           "PR",
           2012,
           373
          ],
          [
           "PR",
           2013,
           233
          ],
          [
           "PR",
           2014,
           756
          ],
          [
           "PR",
           2015,
           1508
          ],
          [
           "PR",
           2016,
           433
          ],
          [
           "PR",
           2017,
           111
          ],
          [
           "PR",
           2018,
           -336
          ],
          [
           "PR",
           2019,
           -272
          ],
          [
           "PRB",
           2006,
           3
          ],
          [
           "PRB",
           2007,
           3
          ],
          [
           "PRB",
           2008,
           -22
          ],
          [
           "PRB",
           2009,
           55
          ],
          [
           "PRB",
           2010,
           93
          ],
          [
           "PRB",
           2011,
           -43
          ],
          [
           "PRB",
           2012,
           147
          ],
          [
           "PRB",
           2013,
           115
          ],
          [
           "PRB",
           2014,
           196
          ],
          [
           "PRB",
           2015,
           649
          ],
          [
           "PRB",
           2016,
           341
          ],
          [
           "PRB",
           2017,
           75
          ],
          [
           "PRB",
           2018,
           -168
          ],
          [
           "PRB",
           2019,
           104
          ],
          [
           "PRONA",
           2001,
           2
          ],
          [
           "PRONA",
           2002,
           9
          ],
          [
           "PRONA",
           2003,
           32
          ],
          [
           "PRONA",
           2004,
           10
          ],
          [
           "PRONA",
           2005,
           2
          ],
          [
           "PRONA",
           2006,
           32
          ],
          [
           "PROS",
           2013,
           52
          ],
          [
           "PROS",
           2014,
           469
          ],
          [
           "PROS",
           2015,
           580
          ],
          [
           "PROS",
           2016,
           49
          ],
          [
           "PROS",
           2017,
           15
          ],
          [
           "PROS",
           2018,
           -45
          ],
          [
           "PROS",
           2019,
           -89
          ],
          [
           "PROS",
           2020,
           100
          ],
          [
           "PROS",
           2021,
           378
          ],
          [
           "PROS",
           2022,
           259
          ],
          [
           "PRP",
           2005,
           3
          ],
          [
           "PRP",
           2011,
           -6
          ],
          [
           "PRP",
           2012,
           7
          ],
          [
           "PRP",
           2013,
           9
          ],
          [
           "PRP",
           2014,
           54
          ],
          [
           "PRP",
           2015,
           137
          ],
          [
           "PRP",
           2016,
           -4
          ],
          [
           "PRP",
           2017,
           13
          ],
          [
           "PRP",
           2018,
           -6
          ],
          [
           "PRP",
           2019,
           -13
          ],
          [
           "PRTB",
           2007,
           7
          ],
          [
           "PRTB",
           2008,
           -3
          ],
          [
           "PRTB",
           2011,
           -2
          ],
          [
           "PRTB",
           2012,
           5
          ],
          [
           "PRTB",
           2013,
           16
          ],
          [
           "PRTB",
           2015,
           54
          ],
          [
           "PRTB",
           2016,
           19
          ],
          [
           "PSB",
           2001,
           13
          ],
          [
           "PSB",
           2002,
           61
          ],
          [
           "PSB",
           2003,
           149
          ],
          [
           "PSB",
           2004,
           -100
          ],
          [
           "PSB",
           2005,
           -15
          ],
          [
           "PSB",
           2006,
           -38
          ],
          [
           "PSB",
           2007,
           -49
          ],
          [
           "PSB",
           2008,
           -48
          ],
          [
           "PSB",
           2009,
           316
          ],
          [
           "PSB",
           2010,
           413
          ],
          [
           "PSB",
           2011,
           -39
          ],
          [
           "PSB",
           2012,
           276
          ],
          [
           "PSB",
           2013,
           349
          ],
          [
           "PSB",
           2014,
           653
          ],
          [
           "PSB",
           2015,
           1400
          ],
          [
           "PSB",
           2016,
           217
          ],
          [
           "PSB",
           2017,
           232
          ],
          [
           "PSB",
           2018,
           84
          ],
          [
           "PSB",
           2019,
           -38
          ],
          [
           "PSB",
           2020,
           364
          ],
          [
           "PSB",
           2021,
           3245
          ],
          [
           "PSB",
           2022,
           365
          ],
          [
           "PSC",
           2001,
           1
          ],
          [
           "PSC",
           2002,
           5
          ],
          [
           "PSC",
           2003,
           27
          ],
          [
           "PSC",
           2004,
           -6
          ],
          [
           "PSC",
           2005,
           -7
          ],
          [
           "PSC",
           2006,
           12
          ],
          [
           "PSC",
           2007,
           24
          ],
          [
           "PSC",
           2008,
           -53
          ],
          [
           "PSC",
           2009,
           232
          ],
          [
           "PSC",
           2010,
           192
          ],
          [
           "PSC",
           2011,
           20
          ],
          [
           "PSC",
           2012,
           122
          ],
          [
           "PSC",
           2013,
           128
          ],
          [
           "PSC",
           2014,
           291
          ],
          [
           "PSC",
           2015,
           573
          ],
          [
           "PSC",
           2016,
           46
          ],
          [
           "PSC",
           2017,
           66
          ],
          [
           "PSC",
           2018,
           -36
          ],
          [
           "PSC",
           2019,
           -27
          ],
          [
           "PSC",
           2020,
           -121
          ],
          [
           "PSC",
           2021,
           506
          ],
          [
           "PSC",
           2022,
           230
          ],
          [
           "PSD",
           2001,
           3
          ],
          [
           "PSD",
           2002,
           4
          ],
          [
           "PSD",
           2011,
           283
          ],
          [
           "PSD",
           2012,
           403
          ],
          [
           "PSD",
           2013,
           768
          ],
          [
           "PSD",
           2014,
           1044
          ],
          [
           "PSD",
           2015,
           1876
          ],
          [
           "PSD",
           2016,
           218
          ],
          [
           "PSD",
           2017,
           407
          ],
          [
           "PSD",
           2018,
           -314
          ],
          [
           "PSD",
           2019,
           -335
          ],
          [
           "PSD",
           2020,
           -265
          ],
          [
           "PSD",
           2021,
           1567
          ],
          [
           "PSD",
           2022,
           785
          ],
          [
           "PSDB",
           2001,
           72
          ],
          [
           "PSDB",
           2002,
           273
          ],
          [
           "PSDB",
           2003,
           221
          ],
          [
           "PSDB",
           2004,
           558
          ],
          [
           "PSDB",
           2005,
           415
          ],
          [
           "PSDB",
           2006,
           918
          ],
          [
           "PSDB",
           2007,
           -543
          ],
          [
           "PSDB",
           2008,
           -256
          ],
          [
           "PSDB",
           2009,
           218
          ],
          [
           "PSDB",
           2010,
           737
          ],
          [
           "PSDB",
           2011,
           91
          ],
          [
           "PSDB",
           2012,
           689
          ],
          [
           "PSDB",
           2013,
           956
          ],
          [
           "PSDB",
           2014,
           1286
          ],
          [
           "PSDB",
           2015,
           2473
          ],
          [
           "PSDB",
           2016,
           95
          ],
          [
           "PSDB",
           2017,
           256
          ],
          [
           "PSDB",
           2018,
           -728
          ],
          [
           "PSDB",
           2019,
           384
          ],
          [
           "PSDB",
           2020,
           216
          ],
          [
           "PSDB",
           2021,
           2682
          ],
          [
           "PSDB",
           2022,
           576
          ],
          [
           "PSDC",
           2014,
           20
          ],
          [
           "PSDC",
           2015,
           77
          ],
          [
           "PSL",
           2001,
           1
          ],
          [
           "PSL",
           2002,
           2
          ],
          [
           "PSL",
           2003,
           7
          ],
          [
           "PSL",
           2004,
           -5
          ],
          [
           "PSL",
           2005,
           -5
          ],
          [
           "PSL",
           2011,
           -3
          ],
          [
           "PSL",
           2012,
           15
          ],
          [
           "PSL",
           2013,
           14
          ],
          [
           "PSL",
           2015,
           35
          ],
          [
           "PSL",
           2016,
           13
          ],
          [
           "PSL",
           2017,
           29
          ],
          [
           "PSL",
           2018,
           -102
          ],
          [
           "PSL",
           2019,
           -134
          ],
          [
           "PSL",
           2020,
           -1080
          ],
          [
           "PSL",
           2021,
           1038
          ],
          [
           "PSL",
           2022,
           443
          ],
          [
           "PSOL",
           2005,
           28
          ],
          [
           "PSOL",
           2006,
           -50
          ],
          [
           "PSOL",
           2007,
           -92
          ],
          [
           "PSOL",
           2008,
           -2
          ],
          [
           "PSOL",
           2009,
           17
          ],
          [
           "PSOL",
           2010,
           -15
          ],
          [
           "PSOL",
           2011,
           -29
          ],
          [
           "PSOL",
           2012,
           16
          ],
          [
           "PSOL",
           2013,
           3
          ],
          [
           "PSOL",
           2014,
           48
          ],
          [
           "PSOL",
           2015,
           54
          ],
          [
           "PSOL",
           2016,
           53
          ],
          [
           "PSOL",
           2017,
           -188
          ],
          [
           "PSOL",
           2018,
           -8
          ],
          [
           "PSOL",
           2019,
           19
          ],
          [
           "PSOL",
           2020,
           145
          ],
          [
           "PSOL",
           2021,
           425
          ],
          [
           "PSOL",
           2022,
           63
          ],
          [
           "PST",
           2001,
           1
          ],
          [
           "PST",
           2002,
           5
          ],
          [
           "PT",
           2001,
           45
          ],
          [
           "PT",
           2002,
           280
          ],
          [
           "PT",
           2003,
           530
          ],
          [
           "PT",
           2004,
           -602
          ],
          [
           "PT",
           2005,
           -457
          ],
          [
           "PT",
           2006,
           -683
          ],
          [
           "PT",
           2007,
           -569
          ],
          [
           "PT",
           2008,
           -304
          ],
          [
           "PT",
           2009,
           -36
          ],
          [
           "PT",
           2010,
           1225
          ],
          [
           "PT",
           2011,
           181
          ],
          [
           "PT",
           2012,
           307
          ],
          [
           "PT",
           2013,
           -429
          ],
          [
           "PT",
           2014,
           1397
          ],
          [
           "PT",
           2015,
           1404
          ],
          [
           "PT",
           2016,
           882
          ],
          [
           "PT",
           2017,
           426
          ],
          [
           "PT",
           2018,
           396
          ],
          [
           "PT",
           2019,
           -609
          ],
          [
           "PT",
           2020,
           569
          ],
          [
           "PT",
           2021,
           5945
          ],
          [
           "PT",
           2022,
           964
          ],
          [
           "PTB",
           2001,
           24
          ],
          [
           "PTB",
           2002,
           98
          ],
          [
           "PTB",
           2003,
           260
          ],
          [
           "PTB",
           2004,
           -157
          ],
          [
           "PTB",
           2005,
           -10
          ],
          [
           "PTB",
           2006,
           29
          ],
          [
           "PTB",
           2007,
           -127
          ],
          [
           "PTB",
           2008,
           -61
          ],
          [
           "PTB",
           2009,
           389
          ],
          [
           "PTB",
           2010,
           320
          ],
          [
           "PTB",
           2011,
           21
          ],
          [
           "PTB",
           2012,
           117
          ],
          [
           "PTB",
           2013,
           289
          ],
          [
           "PTB",
           2014,
           425
          ],
          [
           "PTB",
           2015,
           1220
          ],
          [
           "PTB",
           2016,
           135
          ],
          [
           "PTB",
           2017,
           184
          ],
          [
           "PTB",
           2018,
           -117
          ],
          [
           "PTB",
           2019,
           -2
          ],
          [
           "PTB",
           2020,
           24
          ],
          [
           "PTB",
           2021,
           386
          ],
          [
           "PTB",
           2022,
           165
          ],
          [
           "PTC",
           2006,
           6
          ],
          [
           "PTC",
           2007,
           1
          ],
          [
           "PTC",
           2008,
           0
          ],
          [
           "PTC",
           2009,
           -45
          ],
          [
           "PTC",
           2010,
           26
          ],
          [
           "PTC",
           2011,
           -4
          ],
          [
           "PTC",
           2012,
           7
          ],
          [
           "PTC",
           2015,
           62
          ],
          [
           "PTC",
           2016,
           -6
          ],
          [
           "PTC",
           2019,
           -2
          ],
          [
           "PTN",
           2015,
           130
          ],
          [
           "PTN",
           2016,
           163
          ],
          [
           "PTN",
           2017,
           147
          ],
          [
           "PTdoB",
           2007,
           -22
          ],
          [
           "PTdoB",
           2008,
           -6
          ],
          [
           "PTdoB",
           2009,
           7
          ],
          [
           "PTdoB",
           2010,
           14
          ],
          [
           "PTdoB",
           2011,
           -14
          ],
          [
           "PTdoB",
           2012,
           57
          ],
          [
           "PTdoB",
           2013,
           16
          ],
          [
           "PTdoB",
           2014,
           72
          ],
          [
           "PTdoB",
           2015,
           86
          ],
          [
           "PTdoB",
           2016,
           69
          ],
          [
           "PTdoB",
           2017,
           25
          ],
          [
           "PV",
           2001,
           1
          ],
          [
           "PV",
           2002,
           5
          ],
          [
           "PV",
           2003,
           36
          ],
          [
           "PV",
           2004,
           3
          ],
          [
           "PV",
           2005,
           54
          ],
          [
           "PV",
           2006,
           28
          ],
          [
           "PV",
           2007,
           -67
          ],
          [
           "PV",
           2008,
           -107
          ],
          [
           "PV",
           2009,
           120
          ],
          [
           "PV",
           2010,
           182
          ],
          [
           "PV",
           2011,
           -35
          ],
          [
           "PV",
           2012,
           132
          ],
          [
           "PV",
           2013,
           145
          ],
          [
           "PV",
           2014,
           175
          ],
          [
           "PV",
           2015,
           424
          ],
          [
           "PV",
           2016,
           -22
          ],
          [
           "PV",
           2017,
           -8
          ],
          [
           "PV",
           2018,
           -22
          ],
          [
           "PV",
           2019,
           23
          ],
          [
           "PV",
           2020,
           81
          ],
          [
           "PV",
           2021,
           296
          ],
          [
           "PV",
           2022,
           23
          ],
          [
           "REDE",
           2015,
           -12
          ],
          [
           "REDE",
           2016,
           64
          ],
          [
           "REDE",
           2017,
           -4
          ],
          [
           "REDE",
           2018,
           18
          ],
          [
           "REDE",
           2019,
           8
          ],
          [
           "REDE",
           2020,
           24
          ],
          [
           "REDE",
           2021,
           166
          ],
          [
           "REDE",
           2022,
           14
          ],
          [
           "REPUBLICANOS",
           2019,
           -266
          ],
          [
           "REPUBLICANOS",
           2020,
           -305
          ],
          [
           "REPUBLICANOS",
           2021,
           1600
          ],
          [
           "REPUBLICANOS",
           2022,
           920
          ],
          [
           "S.PART.",
           2003,
           9
          ],
          [
           "S.PART.",
           2004,
           -29
          ],
          [
           "S.PART.",
           2005,
           -6
          ],
          [
           "S.PART.",
           2006,
           6
          ],
          [
           "S.PART.",
           2007,
           -14
          ],
          [
           "S.PART.",
           2009,
           -2
          ],
          [
           "S.PART.",
           2011,
           3
          ],
          [
           "S.PART.",
           2013,
           14
          ],
          [
           "S.PART.",
           2015,
           14
          ],
          [
           "S.PART.",
           2016,
           7
          ],
          [
           "S.PART.",
           2017,
           16
          ],
          [
           "S.PART.",
           2018,
           -1
          ],
          [
           "S.PART.",
           2019,
           5
          ],
          [
           "S.PART.",
           2021,
           7
          ],
          [
           "S.PART.",
           2022,
           19
          ],
          [
           "SD",
           2014,
           295
          ],
          [
           "SD",
           2015,
           762
          ],
          [
           "SD",
           2016,
           15
          ],
          [
           "SD",
           2017,
           11
          ],
          [
           "SD",
           2018,
           -73
          ],
          [
           "SDD",
           2013,
           77
          ],
          [
           "SDD",
           2014,
           308
          ],
          [
           "SOLIDARIEDADE",
           2019,
           -103
          ],
          [
           "SOLIDARIEDADE",
           2020,
           -28
          ],
          [
           "SOLIDARIEDADE",
           2021,
           853
          ],
          [
           "SOLIDARIEDADE",
           2022,
           247
          ],
          [
           "UNIÃO",
           2022,
           988
          ]
         ]
        }
       ],
       "layout": {
        "coloraxis": {
         "colorscale": [
          [
           0,
           "#0d0887"
          ],
          [
           0.1111111111111111,
           "#46039f"
          ],
          [
           0.2222222222222222,
           "#7201a8"
          ],
          [
           0.3333333333333333,
           "#9c179e"
          ],
          [
           0.4444444444444444,
           "#bd3786"
          ],
          [
           0.5555555555555556,
           "#d8576b"
          ],
          [
           0.6666666666666666,
           "#ed7953"
          ],
          [
           0.7777777777777778,
           "#fb9f3a"
          ],
          [
           0.8888888888888888,
           "#fdca26"
          ],
          [
           1,
           "#f0f921"
          ]
         ]
        },
        "margin": {
         "t": 60
        },
        "template": {
         "data": {
          "bar": [
           {
            "error_x": {
             "color": "#2a3f5f"
            },
            "error_y": {
             "color": "#2a3f5f"
            },
            "marker": {
             "line": {
              "color": "#E5ECF6",
              "width": 0.5
             }
            },
            "type": "bar"
           }
          ],
          "barpolar": [
           {
            "marker": {
             "line": {
              "color": "#E5ECF6",
              "width": 0.5
             }
            },
            "type": "barpolar"
           }
          ],
          "carpet": [
           {
            "aaxis": {
             "endlinecolor": "#2a3f5f",
             "gridcolor": "white",
             "linecolor": "white",
             "minorgridcolor": "white",
             "startlinecolor": "#2a3f5f"
            },
            "baxis": {
             "endlinecolor": "#2a3f5f",
             "gridcolor": "white",
             "linecolor": "white",
             "minorgridcolor": "white",
             "startlinecolor": "#2a3f5f"
            },
            "type": "carpet"
           }
          ],
          "choropleth": [
           {
            "colorbar": {
             "outlinewidth": 0,
             "ticks": ""
            },
            "type": "choropleth"
           }
          ],
          "contour": [
           {
            "colorbar": {
             "outlinewidth": 0,
             "ticks": ""
            },
            "colorscale": [
             [
              0,
              "#0d0887"
             ],
             [
              0.1111111111111111,
              "#46039f"
             ],
             [
              0.2222222222222222,
              "#7201a8"
             ],
             [
              0.3333333333333333,
              "#9c179e"
             ],
             [
              0.4444444444444444,
              "#bd3786"
             ],
             [
              0.5555555555555556,
              "#d8576b"
             ],
             [
              0.6666666666666666,
              "#ed7953"
             ],
             [
              0.7777777777777778,
              "#fb9f3a"
             ],
             [
              0.8888888888888888,
              "#fdca26"
             ],
             [
              1,
              "#f0f921"
             ]
            ],
            "type": "contour"
           }
          ],
          "contourcarpet": [
           {
            "colorbar": {
             "outlinewidth": 0,
             "ticks": ""
            },
            "type": "contourcarpet"
           }
          ],
          "heatmap": [
           {
            "colorbar": {
             "outlinewidth": 0,
             "ticks": ""
            },
            "colorscale": [
             [
              0,
              "#0d0887"
             ],
             [
              0.1111111111111111,
              "#46039f"
             ],
             [
              0.2222222222222222,
              "#7201a8"
             ],
             [
              0.3333333333333333,
              "#9c179e"
             ],
             [
              0.4444444444444444,
              "#bd3786"
             ],
             [
              0.5555555555555556,
              "#d8576b"
             ],
             [
              0.6666666666666666,
              "#ed7953"
             ],
             [
              0.7777777777777778,
              "#fb9f3a"
             ],
             [
              0.8888888888888888,
              "#fdca26"
             ],
             [
              1,
              "#f0f921"
             ]
            ],
            "type": "heatmap"
           }
          ],
          "heatmapgl": [
           {
            "colorbar": {
             "outlinewidth": 0,
             "ticks": ""
            },
            "colorscale": [
             [
              0,
              "#0d0887"
             ],
             [
              0.1111111111111111,
              "#46039f"
             ],
             [
              0.2222222222222222,
              "#7201a8"
             ],
             [
              0.3333333333333333,
              "#9c179e"
             ],
             [
              0.4444444444444444,
              "#bd3786"
             ],
             [
              0.5555555555555556,
              "#d8576b"
             ],
             [
              0.6666666666666666,
              "#ed7953"
             ],
             [
              0.7777777777777778,
              "#fb9f3a"
             ],
             [
              0.8888888888888888,
              "#fdca26"
             ],
             [
              1,
              "#f0f921"
             ]
            ],
            "type": "heatmapgl"
           }
          ],
          "histogram": [
           {
            "marker": {
             "colorbar": {
              "outlinewidth": 0,
              "ticks": ""
             }
            },
            "type": "histogram"
           }
          ],
          "histogram2d": [
           {
            "colorbar": {
             "outlinewidth": 0,
             "ticks": ""
            },
            "colorscale": [
             [
              0,
              "#0d0887"
             ],
             [
              0.1111111111111111,
              "#46039f"
             ],
             [
              0.2222222222222222,
              "#7201a8"
             ],
             [
              0.3333333333333333,
              "#9c179e"
             ],
             [
              0.4444444444444444,
              "#bd3786"
             ],
             [
              0.5555555555555556,
              "#d8576b"
             ],
             [
              0.6666666666666666,
              "#ed7953"
             ],
             [
              0.7777777777777778,
              "#fb9f3a"
             ],
             [
              0.8888888888888888,
              "#fdca26"
             ],
             [
              1,
              "#f0f921"
             ]
            ],
            "type": "histogram2d"
           }
          ],
          "histogram2dcontour": [
           {
            "colorbar": {
             "outlinewidth": 0,
             "ticks": ""
            },
            "colorscale": [
             [
              0,
              "#0d0887"
             ],
             [
              0.1111111111111111,
              "#46039f"
             ],
             [
              0.2222222222222222,
              "#7201a8"
             ],
             [
              0.3333333333333333,
              "#9c179e"
             ],
             [
              0.4444444444444444,
              "#bd3786"
             ],
             [
              0.5555555555555556,
              "#d8576b"
             ],
             [
              0.6666666666666666,
              "#ed7953"
             ],
             [
              0.7777777777777778,
              "#fb9f3a"
             ],
             [
              0.8888888888888888,
              "#fdca26"
             ],
             [
              1,
              "#f0f921"
             ]
            ],
            "type": "histogram2dcontour"
           }
          ],
          "mesh3d": [
           {
            "colorbar": {
             "outlinewidth": 0,
             "ticks": ""
            },
            "type": "mesh3d"
           }
          ],
          "parcoords": [
           {
            "line": {
             "colorbar": {
              "outlinewidth": 0,
              "ticks": ""
             }
            },
            "type": "parcoords"
           }
          ],
          "pie": [
           {
            "automargin": true,
            "type": "pie"
           }
          ],
          "scatter": [
           {
            "marker": {
             "colorbar": {
              "outlinewidth": 0,
              "ticks": ""
             }
            },
            "type": "scatter"
           }
          ],
          "scatter3d": [
           {
            "line": {
             "colorbar": {
              "outlinewidth": 0,
              "ticks": ""
             }
            },
            "marker": {
             "colorbar": {
              "outlinewidth": 0,
              "ticks": ""
             }
            },
            "type": "scatter3d"
           }
          ],
          "scattercarpet": [
           {
            "marker": {
             "colorbar": {
              "outlinewidth": 0,
              "ticks": ""
             }
            },
            "type": "scattercarpet"
           }
          ],
          "scattergeo": [
           {
            "marker": {
             "colorbar": {
              "outlinewidth": 0,
              "ticks": ""
             }
            },
            "type": "scattergeo"
           }
          ],
          "scattergl": [
           {
            "marker": {
             "colorbar": {
              "outlinewidth": 0,
              "ticks": ""
             }
            },
            "type": "scattergl"
           }
          ],
          "scattermapbox": [
           {
            "marker": {
             "colorbar": {
              "outlinewidth": 0,
              "ticks": ""
             }
            },
            "type": "scattermapbox"
           }
          ],
          "scatterpolar": [
           {
            "marker": {
             "colorbar": {
              "outlinewidth": 0,
              "ticks": ""
             }
            },
            "type": "scatterpolar"
           }
          ],
          "scatterpolargl": [
           {
            "marker": {
             "colorbar": {
              "outlinewidth": 0,
              "ticks": ""
             }
            },
            "type": "scatterpolargl"
           }
          ],
          "scatterternary": [
           {
            "marker": {
             "colorbar": {
              "outlinewidth": 0,
              "ticks": ""
             }
            },
            "type": "scatterternary"
           }
          ],
          "surface": [
           {
            "colorbar": {
             "outlinewidth": 0,
             "ticks": ""
            },
            "colorscale": [
             [
              0,
              "#0d0887"
             ],
             [
              0.1111111111111111,
              "#46039f"
             ],
             [
              0.2222222222222222,
              "#7201a8"
             ],
             [
              0.3333333333333333,
              "#9c179e"
             ],
             [
              0.4444444444444444,
              "#bd3786"
             ],
             [
              0.5555555555555556,
              "#d8576b"
             ],
             [
              0.6666666666666666,
              "#ed7953"
             ],
             [
              0.7777777777777778,
              "#fb9f3a"
             ],
             [
              0.8888888888888888,
              "#fdca26"
             ],
             [
              1,
              "#f0f921"
             ]
            ],
            "type": "surface"
           }
          ],
          "table": [
           {
            "cells": {
             "fill": {
              "color": "#EBF0F8"
             },
             "line": {
              "color": "white"
             }
            },
            "header": {
             "fill": {
              "color": "#C8D4E3"
             },
             "line": {
              "color": "white"
             }
            },
            "type": "table"
           }
          ]
         },
         "layout": {
          "annotationdefaults": {
           "arrowcolor": "#2a3f5f",
           "arrowhead": 0,
           "arrowwidth": 1
          },
          "autotypenumbers": "strict",
          "coloraxis": {
           "colorbar": {
            "outlinewidth": 0,
            "ticks": ""
           }
          },
          "colorscale": {
           "diverging": [
            [
             0,
             "#8e0152"
            ],
            [
             0.1,
             "#c51b7d"
            ],
            [
             0.2,
             "#de77ae"
            ],
            [
             0.3,
             "#f1b6da"
            ],
            [
             0.4,
             "#fde0ef"
            ],
            [
             0.5,
             "#f7f7f7"
            ],
            [
             0.6,
             "#e6f5d0"
            ],
            [
             0.7,
             "#b8e186"
            ],
            [
             0.8,
             "#7fbc41"
            ],
            [
             0.9,
             "#4d9221"
            ],
            [
             1,
             "#276419"
            ]
           ],
           "sequential": [
            [
             0,
             "#0d0887"
            ],
            [
             0.1111111111111111,
             "#46039f"
            ],
            [
             0.2222222222222222,
             "#7201a8"
            ],
            [
             0.3333333333333333,
             "#9c179e"
            ],
            [
             0.4444444444444444,
             "#bd3786"
            ],
            [
             0.5555555555555556,
             "#d8576b"
            ],
            [
             0.6666666666666666,
             "#ed7953"
            ],
            [
             0.7777777777777778,
             "#fb9f3a"
            ],
            [
             0.8888888888888888,
             "#fdca26"
            ],
            [
             1,
             "#f0f921"
            ]
           ],
           "sequentialminus": [
            [
             0,
             "#0d0887"
            ],
            [
             0.1111111111111111,
             "#46039f"
            ],
            [
             0.2222222222222222,
             "#7201a8"
            ],
            [
             0.3333333333333333,
             "#9c179e"
            ],
            [
             0.4444444444444444,
             "#bd3786"
            ],
            [
             0.5555555555555556,
             "#d8576b"
            ],
            [
             0.6666666666666666,
             "#ed7953"
            ],
            [
             0.7777777777777778,
             "#fb9f3a"
            ],
            [
             0.8888888888888888,
             "#fdca26"
            ],
            [
             1,
             "#f0f921"
            ]
           ]
          },
          "colorway": [
           "#636efa",
           "#EF553B",
           "#00cc96",
           "#ab63fa",
           "#FFA15A",
           "#19d3f3",
           "#FF6692",
           "#B6E880",
           "#FF97FF",
           "#FECB52"
          ],
          "font": {
           "color": "#2a3f5f"
          },
          "geo": {
           "bgcolor": "white",
           "lakecolor": "white",
           "landcolor": "#E5ECF6",
           "showlakes": true,
           "showland": true,
           "subunitcolor": "white"
          },
          "hoverlabel": {
           "align": "left"
          },
          "hovermode": "closest",
          "mapbox": {
           "style": "light"
          },
          "paper_bgcolor": "white",
          "plot_bgcolor": "#E5ECF6",
          "polar": {
           "angularaxis": {
            "gridcolor": "white",
            "linecolor": "white",
            "ticks": ""
           },
           "bgcolor": "#E5ECF6",
           "radialaxis": {
            "gridcolor": "white",
            "linecolor": "white",
            "ticks": ""
           }
          },
          "scene": {
           "xaxis": {
            "backgroundcolor": "#E5ECF6",
            "gridcolor": "white",
            "gridwidth": 2,
            "linecolor": "white",
            "showbackground": true,
            "ticks": "",
            "zerolinecolor": "white"
           },
           "yaxis": {
            "backgroundcolor": "#E5ECF6",
            "gridcolor": "white",
            "gridwidth": 2,
            "linecolor": "white",
            "showbackground": true,
            "ticks": "",
            "zerolinecolor": "white"
           },
           "zaxis": {
            "backgroundcolor": "#E5ECF6",
            "gridcolor": "white",
            "gridwidth": 2,
            "linecolor": "white",
            "showbackground": true,
            "ticks": "",
            "zerolinecolor": "white"
           }
          },
          "shapedefaults": {
           "line": {
            "color": "#2a3f5f"
           }
          },
          "ternary": {
           "aaxis": {
            "gridcolor": "white",
            "linecolor": "white",
            "ticks": ""
           },
           "baxis": {
            "gridcolor": "white",
            "linecolor": "white",
            "ticks": ""
           },
           "bgcolor": "#E5ECF6",
           "caxis": {
            "gridcolor": "white",
            "linecolor": "white",
            "ticks": ""
           }
          },
          "title": {
           "x": 0.05
          },
          "xaxis": {
           "automargin": true,
           "gridcolor": "white",
           "linecolor": "white",
           "ticks": "",
           "title": {
            "standoff": 15
           },
           "zerolinecolor": "white",
           "zerolinewidth": 2
          },
          "yaxis": {
           "automargin": true,
           "gridcolor": "white",
           "linecolor": "white",
           "ticks": "",
           "title": {
            "standoff": 15
           },
           "zerolinecolor": "white",
           "zerolinewidth": 2
          }
         }
        },
        "xaxis": {
         "anchor": "y",
         "constrain": "domain",
         "domain": [
          0,
          1
         ],
         "scaleanchor": "y"
        },
        "yaxis": {
         "anchor": "x",
         "autorange": "reversed",
         "constrain": "domain",
         "domain": [
          0,
          1
         ]
        }
       }
      },
      "text/html": [
       "<div>                            <div id=\"f35969ed-cff4-435e-89d8-b57c5291424e\" class=\"plotly-graph-div\" style=\"height:525px; width:100%;\"></div>            <script type=\"text/javascript\">                require([\"plotly\"], function(Plotly) {                    window.PLOTLYENV=window.PLOTLYENV || {};                                    if (document.getElementById(\"f35969ed-cff4-435e-89d8-b57c5291424e\")) {                    Plotly.newPlot(                        \"f35969ed-cff4-435e-89d8-b57c5291424e\",                        [{\"coloraxis\": \"coloraxis\", \"hovertemplate\": \"x: %{x}<br>y: %{y}<br>color: %{z}<extra></extra>\", \"name\": \"0\", \"type\": \"heatmap\", \"x\": [\"partido\", \"ano\", \"voto\"], \"xaxis\": \"x\", \"y\": [0, 1, 2, 3, 4, 5, 6, 7, 8, 9, 10, 11, 12, 13, 14, 15, 16, 17, 18, 19, 20, 21, 22, 23, 24, 25, 26, 27, 28, 29, 30, 31, 32, 33, 34, 35, 36, 37, 38, 39, 40, 41, 42, 43, 44, 45, 46, 47, 48, 49, 50, 51, 52, 53, 54, 55, 56, 57, 58, 59, 60, 61, 62, 63, 64, 65, 66, 67, 68, 69, 70, 71, 72, 73, 74, 75, 76, 77, 78, 79, 80, 81, 82, 83, 84, 85, 86, 87, 88, 89, 90, 91, 92, 93, 94, 95, 96, 97, 98, 99, 100, 101, 102, 103, 104, 105, 106, 107, 108, 109, 110, 111, 112, 113, 114, 115, 116, 117, 118, 119, 120, 121, 122, 123, 124, 125, 126, 127, 128, 129, 130, 131, 132, 133, 134, 135, 136, 137, 138, 139, 140, 141, 142, 143, 144, 145, 146, 147, 148, 149, 150, 151, 152, 153, 154, 155, 156, 157, 158, 159, 160, 161, 162, 163, 164, 165, 166, 167, 168, 169, 170, 171, 172, 173, 174, 175, 176, 177, 178, 179, 180, 181, 182, 183, 184, 185, 186, 187, 188, 189, 190, 191, 192, 193, 194, 195, 196, 197, 198, 199, 200, 201, 202, 203, 204, 205, 206, 207, 208, 209, 210, 211, 212, 213, 214, 215, 216, 217, 218, 219, 220, 221, 222, 223, 224, 225, 226, 227, 228, 229, 230, 231, 232, 233, 234, 235, 236, 237, 238, 239, 240, 241, 242, 243, 244, 245, 246, 247, 248, 249, 250, 251, 252, 253, 254, 255, 256, 257, 258, 259, 260, 261, 262, 263, 264, 265, 266, 267, 268, 269, 270, 271, 272, 273, 274, 275, 276, 277, 278, 279, 280, 281, 282, 283, 284, 285, 286, 287, 288, 289, 290, 291, 292, 293, 294, 295, 296, 297, 298, 299, 300, 301, 302, 303, 304, 305, 306, 307, 308, 309, 310, 311, 312, 313, 314, 315, 316, 317, 318, 319, 320, 321, 322, 323, 324, 325, 326, 327, 328, 329, 330, 331, 332, 333, 334, 335, 336, 337, 338, 339, 340, 341, 342, 343, 344, 345, 346, 347, 348, 349, 350, 351, 352, 353, 354, 355, 356, 357, 358, 359, 360, 361, 362, 363, 364, 365, 366, 367, 368, 369, 370, 371, 372, 373, 374, 375, 376, 377, 378, 379, 380, 381, 382, 383, 384, 385, 386, 387, 388, 389, 390, 391, 392, 393, 394, 395, 396, 397, 398, 399, 400, 401, 402, 403, 404, 405, 406, 407, 408, 409, 410, 411, 412, 413, 414, 415, 416, 417, 418, 419, 420, 421, 422, 423, 424, 425, 426, 427, 428, 429, 430, 431, 432, 433, 434, 435, 436, 437, 438, 439, 440, 441, 442, 443, 444, 445, 446, 447, 448, 449, 450, 451, 452, 453, 454, 455, 456, 457, 458, 459, 460, 461, 462, 463, 464, 465, 466, 467, 468, 469, 470, 471, 472, 473, 474, 475, 476, 477, 478, 479, 480, 481, 482, 483, 484, 485, 486, 487, 488, 489, 490, 491, 492, 493, 494, 495, 496, 497, 498, 499, 500, 501, 502, 503, 504, 505, 506, 507, 508, 509, 510, 511, 512, 513, 514, 515, 516], \"yaxis\": \"y\", \"z\": [[\"AVANTE\", 2017, 44], [\"AVANTE\", 2018, 20], [\"AVANTE\", 2019, -1], [\"AVANTE\", 2020, -31], [\"AVANTE\", 2021, 495], [\"AVANTE\", 2022, 227], [\"CIDADANIA\", 2019, 134], [\"CIDADANIA\", 2020, -10], [\"CIDADANIA\", 2021, 338], [\"CIDADANIA\", 2022, 118], [\"DC\", 2019, -6], [\"DEM\", 2007, -316], [\"DEM\", 2008, -127], [\"DEM\", 2009, 747], [\"DEM\", 2010, 953], [\"DEM\", 2011, 162], [\"DEM\", 2012, 495], [\"DEM\", 2013, 602], [\"DEM\", 2014, 797], [\"DEM\", 2015, 897], [\"DEM\", 2016, 86], [\"DEM\", 2017, 356], [\"DEM\", 2018, -426], [\"DEM\", 2019, -19], [\"DEM\", 2020, -345], [\"DEM\", 2021, 999], [\"DEM\", 2022, 200], [\"MDB\", 2018, -54], [\"MDB\", 2019, -5], [\"MDB\", 2020, -184], [\"MDB\", 2021, 1791], [\"MDB\", 2022, 925], [\"NOVO\", 2019, -85], [\"NOVO\", 2020, -413], [\"NOVO\", 2021, -654], [\"NOVO\", 2022, -13], [\"PAN\", 2007, 5], [\"PATRI\", 2018, 18], [\"PATRI\", 2019, -43], [\"PATRIOTA\", 2019, 13], [\"PATRIOTA\", 2020, -88], [\"PATRIOTA\", 2021, 268], [\"PATRIOTA\", 2022, 121], [\"PCdoB\", 2001, 3], [\"PCdoB\", 2002, 32], [\"PCdoB\", 2003, 57], [\"PCdoB\", 2004, -40], [\"PCdoB\", 2005, -93], [\"PCdoB\", 2006, -67], [\"PCdoB\", 2007, 5], [\"PCdoB\", 2008, -45], [\"PCdoB\", 2009, 125], [\"PCdoB\", 2010, 148], [\"PCdoB\", 2011, 30], [\"PCdoB\", 2012, 77], [\"PCdoB\", 2013, 72], [\"PCdoB\", 2014, 221], [\"PCdoB\", 2015, 123], [\"PCdoB\", 2016, 208], [\"PCdoB\", 2017, 107], [\"PCdoB\", 2018, 33], [\"PCdoB\", 2019, -92], [\"PCdoB\", 2020, 363], [\"PCdoB\", 2021, 893], [\"PCdoB\", 2022, 217], [\"PDT\", 2001, 22], [\"PDT\", 2002, 50], [\"PDT\", 2003, 60], [\"PDT\", 2004, 1], [\"PDT\", 2005, 150], [\"PDT\", 2006, 98], [\"PDT\", 2007, -117], [\"PDT\", 2008, -52], [\"PDT\", 2009, 128], [\"PDT\", 2010, 332], [\"PDT\", 2011, -81], [\"PDT\", 2012, 174], [\"PDT\", 2013, 166], [\"PDT\", 2014, 415], [\"PDT\", 2015, 690], [\"PDT\", 2016, 300], [\"PDT\", 2017, 245], [\"PDT\", 2018, 66], [\"PDT\", 2019, -230], [\"PDT\", 2020, 791], [\"PDT\", 2021, 2703], [\"PDT\", 2022, 387], [\"PEN\", 2012, 17], [\"PEN\", 2013, 32], [\"PEN\", 2014, 2], [\"PEN\", 2015, 110], [\"PEN\", 2016, 49], [\"PEN\", 2017, 11], [\"PEN\", 2018, -33], [\"PFL\", 2001, 79], [\"PFL\", 2002, 249], [\"PFL\", 2003, 449], [\"PFL\", 2004, 967], [\"PFL\", 2005, 607], [\"PFL\", 2006, 1079], [\"PFL\", 2007, 82], [\"PHS\", 2007, -12], [\"PHS\", 2008, -13], [\"PHS\", 2009, 16], [\"PHS\", 2010, 52], [\"PHS\", 2011, -8], [\"PHS\", 2012, 0], [\"PHS\", 2013, 2], [\"PHS\", 2015, 307], [\"PHS\", 2016, 77], [\"PHS\", 2017, 1], [\"PHS\", 2018, 32], [\"PHS\", 2019, -10], [\"PL\", 2001, 7], [\"PL\", 2002, 33], [\"PL\", 2003, 303], [\"PL\", 2004, -222], [\"PL\", 2005, -108], [\"PL\", 2006, 59], [\"PL\", 2019, -2], [\"PL\", 2020, -296], [\"PL\", 2021, 1989], [\"PL\", 2022, 1365], [\"PMB\", 2015, -21], [\"PMB\", 2016, 30], [\"PMB\", 2017, 3], [\"PMDB\", 2001, 64], [\"PMDB\", 2002, 250], [\"PMDB\", 2003, 389], [\"PMDB\", 2004, -64], [\"PMDB\", 2005, 84], [\"PMDB\", 2006, 188], [\"PMDB\", 2007, 434], [\"PMDB\", 2008, -352], [\"PMDB\", 2009, 1086], [\"PMDB\", 2010, 1326], [\"PMDB\", 2011, 290], [\"PMDB\", 2012, 432], [\"PMDB\", 2013, 1035], [\"PMDB\", 2014, 1730], [\"PMDB\", 2015, 3917], [\"PMDB\", 2016, 476], [\"PMDB\", 2017, 740], [\"PMDB\", 2018, -466], [\"PMN\", 2001, 2], [\"PMN\", 2002, 7], [\"PMN\", 2003, -3], [\"PMN\", 2007, -14], [\"PMN\", 2008, 0], [\"PMN\", 2009, 61], [\"PMN\", 2010, 52], [\"PMN\", 2011, -7], [\"PMN\", 2012, 10], [\"PMN\", 2013, 29], [\"PMN\", 2014, 74], [\"PMN\", 2015, 170], [\"PMN\", 2016, 2], [\"PMN\", 2019, -24], [\"PMR\", 2005, -2], [\"PMR\", 2006, 4], [\"PODE\", 2017, 165], [\"PODE\", 2018, -112], [\"PODE\", 2019, 180], [\"PODE\", 2020, 28], [\"PODE\", 2021, 674], [\"PODE\", 2022, 213], [\"PP\", 2003, 157], [\"PP\", 2004, -47], [\"PP\", 2005, -116], [\"PP\", 2006, 107], [\"PP\", 2007, -157], [\"PP\", 2008, -179], [\"PP\", 2009, 447], [\"PP\", 2010, 699], [\"PP\", 2011, 9], [\"PP\", 2012, 171], [\"PP\", 2013, 390], [\"PP\", 2014, 895], [\"PP\", 2015, 2083], [\"PP\", 2016, 275], [\"PP\", 2017, 499], [\"PP\", 2018, -477], [\"PP\", 2019, -39], [\"PP\", 2020, 2], [\"PP\", 2021, 2007], [\"PP\", 2022, 1062], [\"PPB\", 2001, 41], [\"PPB\", 2002, 150], [\"PPB\", 2003, 67], [\"PPL\", 2018, -6], [\"PPL\", 2019, -7], [\"PPS\", 2001, 4], [\"PPS\", 2002, 16], [\"PPS\", 2003, 115], [\"PPS\", 2004, -74], [\"PPS\", 2005, 119], [\"PPS\", 2006, 112], [\"PPS\", 2007, -96], [\"PPS\", 2008, -8], [\"PPS\", 2009, 250], [\"PPS\", 2010, 310], [\"PPS\", 2011, 12], [\"PPS\", 2012, 108], [\"PPS\", 2013, 250], [\"PPS\", 2014, 179], [\"PPS\", 2015, 501], [\"PPS\", 2016, 94], [\"PPS\", 2017, 16], [\"PPS\", 2018, -77], [\"PPS\", 2019, -54], [\"PR\", 2007, -91], [\"PR\", 2008, -65], [\"PR\", 2009, 496], [\"PR\", 2010, 610], [\"PR\", 2011, -47], [\"PR\", 2012, 373], [\"PR\", 2013, 233], [\"PR\", 2014, 756], [\"PR\", 2015, 1508], [\"PR\", 2016, 433], [\"PR\", 2017, 111], [\"PR\", 2018, -336], [\"PR\", 2019, -272], [\"PRB\", 2006, 3], [\"PRB\", 2007, 3], [\"PRB\", 2008, -22], [\"PRB\", 2009, 55], [\"PRB\", 2010, 93], [\"PRB\", 2011, -43], [\"PRB\", 2012, 147], [\"PRB\", 2013, 115], [\"PRB\", 2014, 196], [\"PRB\", 2015, 649], [\"PRB\", 2016, 341], [\"PRB\", 2017, 75], [\"PRB\", 2018, -168], [\"PRB\", 2019, 104], [\"PRONA\", 2001, 2], [\"PRONA\", 2002, 9], [\"PRONA\", 2003, 32], [\"PRONA\", 2004, 10], [\"PRONA\", 2005, 2], [\"PRONA\", 2006, 32], [\"PROS\", 2013, 52], [\"PROS\", 2014, 469], [\"PROS\", 2015, 580], [\"PROS\", 2016, 49], [\"PROS\", 2017, 15], [\"PROS\", 2018, -45], [\"PROS\", 2019, -89], [\"PROS\", 2020, 100], [\"PROS\", 2021, 378], [\"PROS\", 2022, 259], [\"PRP\", 2005, 3], [\"PRP\", 2011, -6], [\"PRP\", 2012, 7], [\"PRP\", 2013, 9], [\"PRP\", 2014, 54], [\"PRP\", 2015, 137], [\"PRP\", 2016, -4], [\"PRP\", 2017, 13], [\"PRP\", 2018, -6], [\"PRP\", 2019, -13], [\"PRTB\", 2007, 7], [\"PRTB\", 2008, -3], [\"PRTB\", 2011, -2], [\"PRTB\", 2012, 5], [\"PRTB\", 2013, 16], [\"PRTB\", 2015, 54], [\"PRTB\", 2016, 19], [\"PSB\", 2001, 13], [\"PSB\", 2002, 61], [\"PSB\", 2003, 149], [\"PSB\", 2004, -100], [\"PSB\", 2005, -15], [\"PSB\", 2006, -38], [\"PSB\", 2007, -49], [\"PSB\", 2008, -48], [\"PSB\", 2009, 316], [\"PSB\", 2010, 413], [\"PSB\", 2011, -39], [\"PSB\", 2012, 276], [\"PSB\", 2013, 349], [\"PSB\", 2014, 653], [\"PSB\", 2015, 1400], [\"PSB\", 2016, 217], [\"PSB\", 2017, 232], [\"PSB\", 2018, 84], [\"PSB\", 2019, -38], [\"PSB\", 2020, 364], [\"PSB\", 2021, 3245], [\"PSB\", 2022, 365], [\"PSC\", 2001, 1], [\"PSC\", 2002, 5], [\"PSC\", 2003, 27], [\"PSC\", 2004, -6], [\"PSC\", 2005, -7], [\"PSC\", 2006, 12], [\"PSC\", 2007, 24], [\"PSC\", 2008, -53], [\"PSC\", 2009, 232], [\"PSC\", 2010, 192], [\"PSC\", 2011, 20], [\"PSC\", 2012, 122], [\"PSC\", 2013, 128], [\"PSC\", 2014, 291], [\"PSC\", 2015, 573], [\"PSC\", 2016, 46], [\"PSC\", 2017, 66], [\"PSC\", 2018, -36], [\"PSC\", 2019, -27], [\"PSC\", 2020, -121], [\"PSC\", 2021, 506], [\"PSC\", 2022, 230], [\"PSD\", 2001, 3], [\"PSD\", 2002, 4], [\"PSD\", 2011, 283], [\"PSD\", 2012, 403], [\"PSD\", 2013, 768], [\"PSD\", 2014, 1044], [\"PSD\", 2015, 1876], [\"PSD\", 2016, 218], [\"PSD\", 2017, 407], [\"PSD\", 2018, -314], [\"PSD\", 2019, -335], [\"PSD\", 2020, -265], [\"PSD\", 2021, 1567], [\"PSD\", 2022, 785], [\"PSDB\", 2001, 72], [\"PSDB\", 2002, 273], [\"PSDB\", 2003, 221], [\"PSDB\", 2004, 558], [\"PSDB\", 2005, 415], [\"PSDB\", 2006, 918], [\"PSDB\", 2007, -543], [\"PSDB\", 2008, -256], [\"PSDB\", 2009, 218], [\"PSDB\", 2010, 737], [\"PSDB\", 2011, 91], [\"PSDB\", 2012, 689], [\"PSDB\", 2013, 956], [\"PSDB\", 2014, 1286], [\"PSDB\", 2015, 2473], [\"PSDB\", 2016, 95], [\"PSDB\", 2017, 256], [\"PSDB\", 2018, -728], [\"PSDB\", 2019, 384], [\"PSDB\", 2020, 216], [\"PSDB\", 2021, 2682], [\"PSDB\", 2022, 576], [\"PSDC\", 2014, 20], [\"PSDC\", 2015, 77], [\"PSL\", 2001, 1], [\"PSL\", 2002, 2], [\"PSL\", 2003, 7], [\"PSL\", 2004, -5], [\"PSL\", 2005, -5], [\"PSL\", 2011, -3], [\"PSL\", 2012, 15], [\"PSL\", 2013, 14], [\"PSL\", 2015, 35], [\"PSL\", 2016, 13], [\"PSL\", 2017, 29], [\"PSL\", 2018, -102], [\"PSL\", 2019, -134], [\"PSL\", 2020, -1080], [\"PSL\", 2021, 1038], [\"PSL\", 2022, 443], [\"PSOL\", 2005, 28], [\"PSOL\", 2006, -50], [\"PSOL\", 2007, -92], [\"PSOL\", 2008, -2], [\"PSOL\", 2009, 17], [\"PSOL\", 2010, -15], [\"PSOL\", 2011, -29], [\"PSOL\", 2012, 16], [\"PSOL\", 2013, 3], [\"PSOL\", 2014, 48], [\"PSOL\", 2015, 54], [\"PSOL\", 2016, 53], [\"PSOL\", 2017, -188], [\"PSOL\", 2018, -8], [\"PSOL\", 2019, 19], [\"PSOL\", 2020, 145], [\"PSOL\", 2021, 425], [\"PSOL\", 2022, 63], [\"PST\", 2001, 1], [\"PST\", 2002, 5], [\"PT\", 2001, 45], [\"PT\", 2002, 280], [\"PT\", 2003, 530], [\"PT\", 2004, -602], [\"PT\", 2005, -457], [\"PT\", 2006, -683], [\"PT\", 2007, -569], [\"PT\", 2008, -304], [\"PT\", 2009, -36], [\"PT\", 2010, 1225], [\"PT\", 2011, 181], [\"PT\", 2012, 307], [\"PT\", 2013, -429], [\"PT\", 2014, 1397], [\"PT\", 2015, 1404], [\"PT\", 2016, 882], [\"PT\", 2017, 426], [\"PT\", 2018, 396], [\"PT\", 2019, -609], [\"PT\", 2020, 569], [\"PT\", 2021, 5945], [\"PT\", 2022, 964], [\"PTB\", 2001, 24], [\"PTB\", 2002, 98], [\"PTB\", 2003, 260], [\"PTB\", 2004, -157], [\"PTB\", 2005, -10], [\"PTB\", 2006, 29], [\"PTB\", 2007, -127], [\"PTB\", 2008, -61], [\"PTB\", 2009, 389], [\"PTB\", 2010, 320], [\"PTB\", 2011, 21], [\"PTB\", 2012, 117], [\"PTB\", 2013, 289], [\"PTB\", 2014, 425], [\"PTB\", 2015, 1220], [\"PTB\", 2016, 135], [\"PTB\", 2017, 184], [\"PTB\", 2018, -117], [\"PTB\", 2019, -2], [\"PTB\", 2020, 24], [\"PTB\", 2021, 386], [\"PTB\", 2022, 165], [\"PTC\", 2006, 6], [\"PTC\", 2007, 1], [\"PTC\", 2008, 0], [\"PTC\", 2009, -45], [\"PTC\", 2010, 26], [\"PTC\", 2011, -4], [\"PTC\", 2012, 7], [\"PTC\", 2015, 62], [\"PTC\", 2016, -6], [\"PTC\", 2019, -2], [\"PTN\", 2015, 130], [\"PTN\", 2016, 163], [\"PTN\", 2017, 147], [\"PTdoB\", 2007, -22], [\"PTdoB\", 2008, -6], [\"PTdoB\", 2009, 7], [\"PTdoB\", 2010, 14], [\"PTdoB\", 2011, -14], [\"PTdoB\", 2012, 57], [\"PTdoB\", 2013, 16], [\"PTdoB\", 2014, 72], [\"PTdoB\", 2015, 86], [\"PTdoB\", 2016, 69], [\"PTdoB\", 2017, 25], [\"PV\", 2001, 1], [\"PV\", 2002, 5], [\"PV\", 2003, 36], [\"PV\", 2004, 3], [\"PV\", 2005, 54], [\"PV\", 2006, 28], [\"PV\", 2007, -67], [\"PV\", 2008, -107], [\"PV\", 2009, 120], [\"PV\", 2010, 182], [\"PV\", 2011, -35], [\"PV\", 2012, 132], [\"PV\", 2013, 145], [\"PV\", 2014, 175], [\"PV\", 2015, 424], [\"PV\", 2016, -22], [\"PV\", 2017, -8], [\"PV\", 2018, -22], [\"PV\", 2019, 23], [\"PV\", 2020, 81], [\"PV\", 2021, 296], [\"PV\", 2022, 23], [\"REDE\", 2015, -12], [\"REDE\", 2016, 64], [\"REDE\", 2017, -4], [\"REDE\", 2018, 18], [\"REDE\", 2019, 8], [\"REDE\", 2020, 24], [\"REDE\", 2021, 166], [\"REDE\", 2022, 14], [\"REPUBLICANOS\", 2019, -266], [\"REPUBLICANOS\", 2020, -305], [\"REPUBLICANOS\", 2021, 1600], [\"REPUBLICANOS\", 2022, 920], [\"S.PART.\", 2003, 9], [\"S.PART.\", 2004, -29], [\"S.PART.\", 2005, -6], [\"S.PART.\", 2006, 6], [\"S.PART.\", 2007, -14], [\"S.PART.\", 2009, -2], [\"S.PART.\", 2011, 3], [\"S.PART.\", 2013, 14], [\"S.PART.\", 2015, 14], [\"S.PART.\", 2016, 7], [\"S.PART.\", 2017, 16], [\"S.PART.\", 2018, -1], [\"S.PART.\", 2019, 5], [\"S.PART.\", 2021, 7], [\"S.PART.\", 2022, 19], [\"SD\", 2014, 295], [\"SD\", 2015, 762], [\"SD\", 2016, 15], [\"SD\", 2017, 11], [\"SD\", 2018, -73], [\"SDD\", 2013, 77], [\"SDD\", 2014, 308], [\"SOLIDARIEDADE\", 2019, -103], [\"SOLIDARIEDADE\", 2020, -28], [\"SOLIDARIEDADE\", 2021, 853], [\"SOLIDARIEDADE\", 2022, 247], [\"UNI\\u00c3O\", 2022, 988]]}],                        {\"coloraxis\": {\"colorscale\": [[0.0, \"#0d0887\"], [0.1111111111111111, \"#46039f\"], [0.2222222222222222, \"#7201a8\"], [0.3333333333333333, \"#9c179e\"], [0.4444444444444444, \"#bd3786\"], [0.5555555555555556, \"#d8576b\"], [0.6666666666666666, \"#ed7953\"], [0.7777777777777778, \"#fb9f3a\"], [0.8888888888888888, \"#fdca26\"], [1.0, \"#f0f921\"]]}, \"margin\": {\"t\": 60}, \"template\": {\"data\": {\"bar\": [{\"error_x\": {\"color\": \"#2a3f5f\"}, \"error_y\": {\"color\": \"#2a3f5f\"}, \"marker\": {\"line\": {\"color\": \"#E5ECF6\", \"width\": 0.5}}, \"type\": \"bar\"}], \"barpolar\": [{\"marker\": {\"line\": {\"color\": \"#E5ECF6\", \"width\": 0.5}}, \"type\": \"barpolar\"}], \"carpet\": [{\"aaxis\": {\"endlinecolor\": \"#2a3f5f\", \"gridcolor\": \"white\", \"linecolor\": \"white\", \"minorgridcolor\": \"white\", \"startlinecolor\": \"#2a3f5f\"}, \"baxis\": {\"endlinecolor\": \"#2a3f5f\", \"gridcolor\": \"white\", \"linecolor\": \"white\", \"minorgridcolor\": \"white\", \"startlinecolor\": \"#2a3f5f\"}, \"type\": \"carpet\"}], \"choropleth\": [{\"colorbar\": {\"outlinewidth\": 0, \"ticks\": \"\"}, \"type\": \"choropleth\"}], \"contour\": [{\"colorbar\": {\"outlinewidth\": 0, \"ticks\": \"\"}, \"colorscale\": [[0.0, \"#0d0887\"], [0.1111111111111111, \"#46039f\"], [0.2222222222222222, \"#7201a8\"], [0.3333333333333333, \"#9c179e\"], [0.4444444444444444, \"#bd3786\"], [0.5555555555555556, \"#d8576b\"], [0.6666666666666666, \"#ed7953\"], [0.7777777777777778, \"#fb9f3a\"], [0.8888888888888888, \"#fdca26\"], [1.0, \"#f0f921\"]], \"type\": \"contour\"}], \"contourcarpet\": [{\"colorbar\": {\"outlinewidth\": 0, \"ticks\": \"\"}, \"type\": \"contourcarpet\"}], \"heatmap\": [{\"colorbar\": {\"outlinewidth\": 0, \"ticks\": \"\"}, \"colorscale\": [[0.0, \"#0d0887\"], [0.1111111111111111, \"#46039f\"], [0.2222222222222222, \"#7201a8\"], [0.3333333333333333, \"#9c179e\"], [0.4444444444444444, \"#bd3786\"], [0.5555555555555556, \"#d8576b\"], [0.6666666666666666, \"#ed7953\"], [0.7777777777777778, \"#fb9f3a\"], [0.8888888888888888, \"#fdca26\"], [1.0, \"#f0f921\"]], \"type\": \"heatmap\"}], \"heatmapgl\": [{\"colorbar\": {\"outlinewidth\": 0, \"ticks\": \"\"}, \"colorscale\": [[0.0, \"#0d0887\"], [0.1111111111111111, \"#46039f\"], [0.2222222222222222, \"#7201a8\"], [0.3333333333333333, \"#9c179e\"], [0.4444444444444444, \"#bd3786\"], [0.5555555555555556, \"#d8576b\"], [0.6666666666666666, \"#ed7953\"], [0.7777777777777778, \"#fb9f3a\"], [0.8888888888888888, \"#fdca26\"], [1.0, \"#f0f921\"]], \"type\": \"heatmapgl\"}], \"histogram\": [{\"marker\": {\"colorbar\": {\"outlinewidth\": 0, \"ticks\": \"\"}}, \"type\": \"histogram\"}], \"histogram2d\": [{\"colorbar\": {\"outlinewidth\": 0, \"ticks\": \"\"}, \"colorscale\": [[0.0, \"#0d0887\"], [0.1111111111111111, \"#46039f\"], [0.2222222222222222, \"#7201a8\"], [0.3333333333333333, \"#9c179e\"], [0.4444444444444444, \"#bd3786\"], [0.5555555555555556, \"#d8576b\"], [0.6666666666666666, \"#ed7953\"], [0.7777777777777778, \"#fb9f3a\"], [0.8888888888888888, \"#fdca26\"], [1.0, \"#f0f921\"]], \"type\": \"histogram2d\"}], \"histogram2dcontour\": [{\"colorbar\": {\"outlinewidth\": 0, \"ticks\": \"\"}, \"colorscale\": [[0.0, \"#0d0887\"], [0.1111111111111111, \"#46039f\"], [0.2222222222222222, \"#7201a8\"], [0.3333333333333333, \"#9c179e\"], [0.4444444444444444, \"#bd3786\"], [0.5555555555555556, \"#d8576b\"], [0.6666666666666666, \"#ed7953\"], [0.7777777777777778, \"#fb9f3a\"], [0.8888888888888888, \"#fdca26\"], [1.0, \"#f0f921\"]], \"type\": \"histogram2dcontour\"}], \"mesh3d\": [{\"colorbar\": {\"outlinewidth\": 0, \"ticks\": \"\"}, \"type\": \"mesh3d\"}], \"parcoords\": [{\"line\": {\"colorbar\": {\"outlinewidth\": 0, \"ticks\": \"\"}}, \"type\": \"parcoords\"}], \"pie\": [{\"automargin\": true, \"type\": \"pie\"}], \"scatter\": [{\"marker\": {\"colorbar\": {\"outlinewidth\": 0, \"ticks\": \"\"}}, \"type\": \"scatter\"}], \"scatter3d\": [{\"line\": {\"colorbar\": {\"outlinewidth\": 0, \"ticks\": \"\"}}, \"marker\": {\"colorbar\": {\"outlinewidth\": 0, \"ticks\": \"\"}}, \"type\": \"scatter3d\"}], \"scattercarpet\": [{\"marker\": {\"colorbar\": {\"outlinewidth\": 0, \"ticks\": \"\"}}, \"type\": \"scattercarpet\"}], \"scattergeo\": [{\"marker\": {\"colorbar\": {\"outlinewidth\": 0, \"ticks\": \"\"}}, \"type\": \"scattergeo\"}], \"scattergl\": [{\"marker\": {\"colorbar\": {\"outlinewidth\": 0, \"ticks\": \"\"}}, \"type\": \"scattergl\"}], \"scattermapbox\": [{\"marker\": {\"colorbar\": {\"outlinewidth\": 0, \"ticks\": \"\"}}, \"type\": \"scattermapbox\"}], \"scatterpolar\": [{\"marker\": {\"colorbar\": {\"outlinewidth\": 0, \"ticks\": \"\"}}, \"type\": \"scatterpolar\"}], \"scatterpolargl\": [{\"marker\": {\"colorbar\": {\"outlinewidth\": 0, \"ticks\": \"\"}}, \"type\": \"scatterpolargl\"}], \"scatterternary\": [{\"marker\": {\"colorbar\": {\"outlinewidth\": 0, \"ticks\": \"\"}}, \"type\": \"scatterternary\"}], \"surface\": [{\"colorbar\": {\"outlinewidth\": 0, \"ticks\": \"\"}, \"colorscale\": [[0.0, \"#0d0887\"], [0.1111111111111111, \"#46039f\"], [0.2222222222222222, \"#7201a8\"], [0.3333333333333333, \"#9c179e\"], [0.4444444444444444, \"#bd3786\"], [0.5555555555555556, \"#d8576b\"], [0.6666666666666666, \"#ed7953\"], [0.7777777777777778, \"#fb9f3a\"], [0.8888888888888888, \"#fdca26\"], [1.0, \"#f0f921\"]], \"type\": \"surface\"}], \"table\": [{\"cells\": {\"fill\": {\"color\": \"#EBF0F8\"}, \"line\": {\"color\": \"white\"}}, \"header\": {\"fill\": {\"color\": \"#C8D4E3\"}, \"line\": {\"color\": \"white\"}}, \"type\": \"table\"}]}, \"layout\": {\"annotationdefaults\": {\"arrowcolor\": \"#2a3f5f\", \"arrowhead\": 0, \"arrowwidth\": 1}, \"autotypenumbers\": \"strict\", \"coloraxis\": {\"colorbar\": {\"outlinewidth\": 0, \"ticks\": \"\"}}, \"colorscale\": {\"diverging\": [[0, \"#8e0152\"], [0.1, \"#c51b7d\"], [0.2, \"#de77ae\"], [0.3, \"#f1b6da\"], [0.4, \"#fde0ef\"], [0.5, \"#f7f7f7\"], [0.6, \"#e6f5d0\"], [0.7, \"#b8e186\"], [0.8, \"#7fbc41\"], [0.9, \"#4d9221\"], [1, \"#276419\"]], \"sequential\": [[0.0, \"#0d0887\"], [0.1111111111111111, \"#46039f\"], [0.2222222222222222, \"#7201a8\"], [0.3333333333333333, \"#9c179e\"], [0.4444444444444444, \"#bd3786\"], [0.5555555555555556, \"#d8576b\"], [0.6666666666666666, \"#ed7953\"], [0.7777777777777778, \"#fb9f3a\"], [0.8888888888888888, \"#fdca26\"], [1.0, \"#f0f921\"]], \"sequentialminus\": [[0.0, \"#0d0887\"], [0.1111111111111111, \"#46039f\"], [0.2222222222222222, \"#7201a8\"], [0.3333333333333333, \"#9c179e\"], [0.4444444444444444, \"#bd3786\"], [0.5555555555555556, \"#d8576b\"], [0.6666666666666666, \"#ed7953\"], [0.7777777777777778, \"#fb9f3a\"], [0.8888888888888888, \"#fdca26\"], [1.0, \"#f0f921\"]]}, \"colorway\": [\"#636efa\", \"#EF553B\", \"#00cc96\", \"#ab63fa\", \"#FFA15A\", \"#19d3f3\", \"#FF6692\", \"#B6E880\", \"#FF97FF\", \"#FECB52\"], \"font\": {\"color\": \"#2a3f5f\"}, \"geo\": {\"bgcolor\": \"white\", \"lakecolor\": \"white\", \"landcolor\": \"#E5ECF6\", \"showlakes\": true, \"showland\": true, \"subunitcolor\": \"white\"}, \"hoverlabel\": {\"align\": \"left\"}, \"hovermode\": \"closest\", \"mapbox\": {\"style\": \"light\"}, \"paper_bgcolor\": \"white\", \"plot_bgcolor\": \"#E5ECF6\", \"polar\": {\"angularaxis\": {\"gridcolor\": \"white\", \"linecolor\": \"white\", \"ticks\": \"\"}, \"bgcolor\": \"#E5ECF6\", \"radialaxis\": {\"gridcolor\": \"white\", \"linecolor\": \"white\", \"ticks\": \"\"}}, \"scene\": {\"xaxis\": {\"backgroundcolor\": \"#E5ECF6\", \"gridcolor\": \"white\", \"gridwidth\": 2, \"linecolor\": \"white\", \"showbackground\": true, \"ticks\": \"\", \"zerolinecolor\": \"white\"}, \"yaxis\": {\"backgroundcolor\": \"#E5ECF6\", \"gridcolor\": \"white\", \"gridwidth\": 2, \"linecolor\": \"white\", \"showbackground\": true, \"ticks\": \"\", \"zerolinecolor\": \"white\"}, \"zaxis\": {\"backgroundcolor\": \"#E5ECF6\", \"gridcolor\": \"white\", \"gridwidth\": 2, \"linecolor\": \"white\", \"showbackground\": true, \"ticks\": \"\", \"zerolinecolor\": \"white\"}}, \"shapedefaults\": {\"line\": {\"color\": \"#2a3f5f\"}}, \"ternary\": {\"aaxis\": {\"gridcolor\": \"white\", \"linecolor\": \"white\", \"ticks\": \"\"}, \"baxis\": {\"gridcolor\": \"white\", \"linecolor\": \"white\", \"ticks\": \"\"}, \"bgcolor\": \"#E5ECF6\", \"caxis\": {\"gridcolor\": \"white\", \"linecolor\": \"white\", \"ticks\": \"\"}}, \"title\": {\"x\": 0.05}, \"xaxis\": {\"automargin\": true, \"gridcolor\": \"white\", \"linecolor\": \"white\", \"ticks\": \"\", \"title\": {\"standoff\": 15}, \"zerolinecolor\": \"white\", \"zerolinewidth\": 2}, \"yaxis\": {\"automargin\": true, \"gridcolor\": \"white\", \"linecolor\": \"white\", \"ticks\": \"\", \"title\": {\"standoff\": 15}, \"zerolinecolor\": \"white\", \"zerolinewidth\": 2}}}, \"xaxis\": {\"anchor\": \"y\", \"constrain\": \"domain\", \"domain\": [0.0, 1.0], \"scaleanchor\": \"y\"}, \"yaxis\": {\"anchor\": \"x\", \"autorange\": \"reversed\", \"constrain\": \"domain\", \"domain\": [0.0, 1.0]}},                        {\"responsive\": true}                    ).then(function(){\n",
       "                            \n",
       "var gd = document.getElementById('f35969ed-cff4-435e-89d8-b57c5291424e');\n",
       "var x = new MutationObserver(function (mutations, observer) {{\n",
       "        var display = window.getComputedStyle(gd).display;\n",
       "        if (!display || display === 'none') {{\n",
       "            console.log([gd, 'removed!']);\n",
       "            Plotly.purge(gd);\n",
       "            observer.disconnect();\n",
       "        }}\n",
       "}});\n",
       "\n",
       "// Listen for the removal of the full notebook cells\n",
       "var notebookContainer = gd.closest('#notebook-container');\n",
       "if (notebookContainer) {{\n",
       "    x.observe(notebookContainer, {childList: true});\n",
       "}}\n",
       "\n",
       "// Listen for the clearing of the current output cell\n",
       "var outputEl = gd.closest('.output');\n",
       "if (outputEl) {{\n",
       "    x.observe(outputEl, {childList: true});\n",
       "}}\n",
       "\n",
       "                        })                };                });            </script>        </div>"
      ]
     },
     "metadata": {},
     "output_type": "display_data"
    }
   ],
   "source": [
    "fig = px.imshow(heat)\n",
    "fig.show()"
   ]
  },
  {
   "cell_type": "code",
   "execution_count": 22,
   "metadata": {},
   "outputs": [
    {
     "data": {
      "text/plain": [
       "array(['Sem dados', 'Não', 'Sim', 'Obstrução', 'Liberado', 'Abstenção'],\n",
       "      dtype=object)"
      ]
     },
     "execution_count": 22,
     "metadata": {},
     "output_type": "execute_result"
    }
   ],
   "source": [
    "dv[\"orientacao\"] = dv[\"orientacao\"].fillna(\"Sem dados\")\n",
    "dv[\"orientacao\"].unique()"
   ]
  },
  {
   "cell_type": "code",
   "execution_count": 12,
   "metadata": {},
   "outputs": [
    {
     "data": {
      "text/html": [
       "<div>\n",
       "<style scoped>\n",
       "    .dataframe tbody tr th:only-of-type {\n",
       "        vertical-align: middle;\n",
       "    }\n",
       "\n",
       "    .dataframe tbody tr th {\n",
       "        vertical-align: top;\n",
       "    }\n",
       "\n",
       "    .dataframe thead th {\n",
       "        text-align: right;\n",
       "    }\n",
       "</style>\n",
       "<table border=\"1\" class=\"dataframe\">\n",
       "  <thead>\n",
       "    <tr style=\"text-align: right;\">\n",
       "      <th></th>\n",
       "      <th>voto</th>\n",
       "    </tr>\n",
       "    <tr>\n",
       "      <th>idVotacao</th>\n",
       "      <th></th>\n",
       "    </tr>\n",
       "  </thead>\n",
       "  <tbody>\n",
       "    <tr>\n",
       "      <th>101666-71</th>\n",
       "      <td>333</td>\n",
       "    </tr>\n",
       "    <tr>\n",
       "      <th>104342-141</th>\n",
       "      <td>180</td>\n",
       "    </tr>\n",
       "    <tr>\n",
       "      <th>104342-99</th>\n",
       "      <td>-170</td>\n",
       "    </tr>\n",
       "    <tr>\n",
       "      <th>104485-117</th>\n",
       "      <td>20</td>\n",
       "    </tr>\n",
       "    <tr>\n",
       "      <th>104509-28</th>\n",
       "      <td>3</td>\n",
       "    </tr>\n",
       "    <tr>\n",
       "      <th>...</th>\n",
       "      <td>...</td>\n",
       "    </tr>\n",
       "    <tr>\n",
       "      <th>996553-34</th>\n",
       "      <td>-101</td>\n",
       "    </tr>\n",
       "    <tr>\n",
       "      <th>996553-39</th>\n",
       "      <td>23</td>\n",
       "    </tr>\n",
       "    <tr>\n",
       "      <th>996553-43</th>\n",
       "      <td>88</td>\n",
       "    </tr>\n",
       "    <tr>\n",
       "      <th>996882-4</th>\n",
       "      <td>30</td>\n",
       "    </tr>\n",
       "    <tr>\n",
       "      <th>996938-70</th>\n",
       "      <td>-5</td>\n",
       "    </tr>\n",
       "  </tbody>\n",
       "</table>\n",
       "<p>4045 rows × 1 columns</p>\n",
       "</div>"
      ],
      "text/plain": [
       "            voto\n",
       "idVotacao       \n",
       "101666-71    333\n",
       "104342-141   180\n",
       "104342-99   -170\n",
       "104485-117    20\n",
       "104509-28      3\n",
       "...          ...\n",
       "996553-34   -101\n",
       "996553-39     23\n",
       "996553-43     88\n",
       "996882-4      30\n",
       "996938-70     -5\n",
       "\n",
       "[4045 rows x 1 columns]"
      ]
     },
     "execution_count": 12,
     "metadata": {},
     "output_type": "execute_result"
    }
   ],
   "source": [
    "votacoes = dv.groupby(by=[\"idVotacao\"]).sum().drop([\"id\", \"voto_count\"], axis=1)\n",
    "votacoes"
   ]
  },
  {
   "cell_type": "code",
   "execution_count": 13,
   "metadata": {},
   "outputs": [],
   "source": [
    "neo_df = dv.query(\"partido == 'PT'\")\n",
    "neo_df = neo_df.groupby([\"idVotacao\", \"partido\"]).sum()\n",
    "neo_df = neo_df.drop([\"id\", \"voto_count\"], axis=1)\n",
    "neo_df = neo_df.sort_values(\"voto\")"
   ]
  },
  {
   "cell_type": "code",
   "execution_count": 14,
   "metadata": {},
   "outputs": [
    {
     "data": {
      "text/html": [
       "<div>\n",
       "<style scoped>\n",
       "    .dataframe tbody tr th:only-of-type {\n",
       "        vertical-align: middle;\n",
       "    }\n",
       "\n",
       "    .dataframe tbody tr th {\n",
       "        vertical-align: top;\n",
       "    }\n",
       "\n",
       "    .dataframe thead th {\n",
       "        text-align: right;\n",
       "    }\n",
       "</style>\n",
       "<table border=\"1\" class=\"dataframe\">\n",
       "  <thead>\n",
       "    <tr style=\"text-align: right;\">\n",
       "      <th></th>\n",
       "      <th>voto_x</th>\n",
       "      <th>voto_y</th>\n",
       "    </tr>\n",
       "    <tr>\n",
       "      <th>idVotacao</th>\n",
       "      <th></th>\n",
       "      <th></th>\n",
       "    </tr>\n",
       "  </thead>\n",
       "  <tbody>\n",
       "    <tr>\n",
       "      <th>282740-60</th>\n",
       "      <td>0</td>\n",
       "      <td>0</td>\n",
       "    </tr>\n",
       "    <tr>\n",
       "      <th>562615-106</th>\n",
       "      <td>0</td>\n",
       "      <td>0</td>\n",
       "    </tr>\n",
       "    <tr>\n",
       "      <th>277133-92</th>\n",
       "      <td>0</td>\n",
       "      <td>0</td>\n",
       "    </tr>\n",
       "    <tr>\n",
       "      <th>562615-93</th>\n",
       "      <td>0</td>\n",
       "      <td>0</td>\n",
       "    </tr>\n",
       "    <tr>\n",
       "      <th>277133-117</th>\n",
       "      <td>0</td>\n",
       "      <td>0</td>\n",
       "    </tr>\n",
       "    <tr>\n",
       "      <th>...</th>\n",
       "      <td>...</td>\n",
       "      <td>...</td>\n",
       "    </tr>\n",
       "    <tr>\n",
       "      <th>252972-101</th>\n",
       "      <td>1</td>\n",
       "      <td>1</td>\n",
       "    </tr>\n",
       "    <tr>\n",
       "      <th>590335-46</th>\n",
       "      <td>1</td>\n",
       "      <td>1</td>\n",
       "    </tr>\n",
       "    <tr>\n",
       "      <th>113717-184</th>\n",
       "      <td>1</td>\n",
       "      <td>1</td>\n",
       "    </tr>\n",
       "    <tr>\n",
       "      <th>14312-65</th>\n",
       "      <td>1</td>\n",
       "      <td>1</td>\n",
       "    </tr>\n",
       "    <tr>\n",
       "      <th>113717-189</th>\n",
       "      <td>1</td>\n",
       "      <td>1</td>\n",
       "    </tr>\n",
       "  </tbody>\n",
       "</table>\n",
       "<p>3937 rows × 2 columns</p>\n",
       "</div>"
      ],
      "text/plain": [
       "            voto_x  voto_y\n",
       "idVotacao                 \n",
       "282740-60        0       0\n",
       "562615-106       0       0\n",
       "277133-92        0       0\n",
       "562615-93        0       0\n",
       "277133-117       0       0\n",
       "...            ...     ...\n",
       "252972-101       1       1\n",
       "590335-46        1       1\n",
       "113717-184       1       1\n",
       "14312-65         1       1\n",
       "113717-189       1       1\n",
       "\n",
       "[3937 rows x 2 columns]"
      ]
     },
     "execution_count": 14,
     "metadata": {},
     "output_type": "execute_result"
    }
   ],
   "source": [
    "merge_df = neo_df.merge(votacoes, left_on=\"idVotacao\", right_on=\"idVotacao\")\n",
    "merge_df[\"voto_y\"] = np.where(merge_df['voto_y'] > 0, 1, 0)\n",
    "merge_df[\"voto_x\"] = np.where(merge_df['voto_x'] > 0, 1, 0)\n",
    "merge_df"
   ]
  },
  {
   "cell_type": "code",
   "execution_count": 15,
   "metadata": {},
   "outputs": [
    {
     "data": {
      "text/plain": [
       "voto_x  voto_y\n",
       "0       0         1031\n",
       "        1          914\n",
       "1       0          706\n",
       "        1         1286\n",
       "dtype: int64"
      ]
     },
     "execution_count": 15,
     "metadata": {},
     "output_type": "execute_result"
    }
   ],
   "source": [
    "merge_df.groupby([\"voto_x\", \"voto_y\"]).size()"
   ]
  },
  {
   "cell_type": "code",
   "execution_count": 16,
   "metadata": {},
   "outputs": [
    {
     "data": {
      "text/html": [
       "<div>\n",
       "<style scoped>\n",
       "    .dataframe tbody tr th:only-of-type {\n",
       "        vertical-align: middle;\n",
       "    }\n",
       "\n",
       "    .dataframe tbody tr th {\n",
       "        vertical-align: top;\n",
       "    }\n",
       "\n",
       "    .dataframe thead th {\n",
       "        text-align: right;\n",
       "    }\n",
       "</style>\n",
       "<table border=\"1\" class=\"dataframe\">\n",
       "  <thead>\n",
       "    <tr style=\"text-align: right;\">\n",
       "      <th></th>\n",
       "      <th>partido</th>\n",
       "      <th>voto</th>\n",
       "    </tr>\n",
       "  </thead>\n",
       "  <tbody>\n",
       "    <tr>\n",
       "      <th>5</th>\n",
       "      <td>NOVO</td>\n",
       "      <td>-1165</td>\n",
       "    </tr>\n",
       "    <tr>\n",
       "      <th>7</th>\n",
       "      <td>PATRI</td>\n",
       "      <td>-25</td>\n",
       "    </tr>\n",
       "    <tr>\n",
       "      <th>22</th>\n",
       "      <td>PPL</td>\n",
       "      <td>-13</td>\n",
       "    </tr>\n",
       "    <tr>\n",
       "      <th>2</th>\n",
       "      <td>DC</td>\n",
       "      <td>-6</td>\n",
       "    </tr>\n",
       "    <tr>\n",
       "      <th>18</th>\n",
       "      <td>PMR</td>\n",
       "      <td>2</td>\n",
       "    </tr>\n",
       "    <tr>\n",
       "      <th>6</th>\n",
       "      <td>PAN</td>\n",
       "      <td>5</td>\n",
       "    </tr>\n",
       "    <tr>\n",
       "      <th>37</th>\n",
       "      <td>PST</td>\n",
       "      <td>6</td>\n",
       "    </tr>\n",
       "    <tr>\n",
       "      <th>15</th>\n",
       "      <td>PMB</td>\n",
       "      <td>12</td>\n",
       "    </tr>\n",
       "    <tr>\n",
       "      <th>40</th>\n",
       "      <td>PTC</td>\n",
       "      <td>45</td>\n",
       "    </tr>\n",
       "    <tr>\n",
       "      <th>46</th>\n",
       "      <td>S.PART.</td>\n",
       "      <td>48</td>\n",
       "    </tr>\n",
       "    <tr>\n",
       "      <th>26</th>\n",
       "      <td>PRONA</td>\n",
       "      <td>87</td>\n",
       "    </tr>\n",
       "    <tr>\n",
       "      <th>29</th>\n",
       "      <td>PRTB</td>\n",
       "      <td>96</td>\n",
       "    </tr>\n",
       "    <tr>\n",
       "      <th>34</th>\n",
       "      <td>PSDC</td>\n",
       "      <td>97</td>\n",
       "    </tr>\n",
       "    <tr>\n",
       "      <th>11</th>\n",
       "      <td>PEN</td>\n",
       "      <td>188</td>\n",
       "    </tr>\n",
       "    <tr>\n",
       "      <th>28</th>\n",
       "      <td>PRP</td>\n",
       "      <td>194</td>\n",
       "    </tr>\n",
       "    <tr>\n",
       "      <th>21</th>\n",
       "      <td>PPB</td>\n",
       "      <td>258</td>\n",
       "    </tr>\n",
       "    <tr>\n",
       "      <th>35</th>\n",
       "      <td>PSL</td>\n",
       "      <td>268</td>\n",
       "    </tr>\n",
       "    <tr>\n",
       "      <th>44</th>\n",
       "      <td>REDE</td>\n",
       "      <td>278</td>\n",
       "    </tr>\n",
       "    <tr>\n",
       "      <th>42</th>\n",
       "      <td>PTdoB</td>\n",
       "      <td>304</td>\n",
       "    </tr>\n",
       "    <tr>\n",
       "      <th>8</th>\n",
       "      <td>PATRIOTA</td>\n",
       "      <td>314</td>\n",
       "    </tr>\n",
       "    <tr>\n",
       "      <th>17</th>\n",
       "      <td>PMN</td>\n",
       "      <td>359</td>\n",
       "    </tr>\n",
       "    <tr>\n",
       "      <th>48</th>\n",
       "      <td>SDD</td>\n",
       "      <td>385</td>\n",
       "    </tr>\n",
       "    <tr>\n",
       "      <th>41</th>\n",
       "      <td>PTN</td>\n",
       "      <td>440</td>\n",
       "    </tr>\n",
       "    <tr>\n",
       "      <th>13</th>\n",
       "      <td>PHS</td>\n",
       "      <td>444</td>\n",
       "    </tr>\n",
       "    <tr>\n",
       "      <th>36</th>\n",
       "      <td>PSOL</td>\n",
       "      <td>487</td>\n",
       "    </tr>\n",
       "    <tr>\n",
       "      <th>1</th>\n",
       "      <td>CIDADANIA</td>\n",
       "      <td>580</td>\n",
       "    </tr>\n",
       "    <tr>\n",
       "      <th>0</th>\n",
       "      <td>AVANTE</td>\n",
       "      <td>754</td>\n",
       "    </tr>\n",
       "    <tr>\n",
       "      <th>49</th>\n",
       "      <td>SOLIDARIEDADE</td>\n",
       "      <td>969</td>\n",
       "    </tr>\n",
       "    <tr>\n",
       "      <th>50</th>\n",
       "      <td>UNIÃO</td>\n",
       "      <td>988</td>\n",
       "    </tr>\n",
       "    <tr>\n",
       "      <th>47</th>\n",
       "      <td>SD</td>\n",
       "      <td>1010</td>\n",
       "    </tr>\n",
       "    <tr>\n",
       "      <th>19</th>\n",
       "      <td>PODE</td>\n",
       "      <td>1148</td>\n",
       "    </tr>\n",
       "    <tr>\n",
       "      <th>43</th>\n",
       "      <td>PV</td>\n",
       "      <td>1467</td>\n",
       "    </tr>\n",
       "    <tr>\n",
       "      <th>25</th>\n",
       "      <td>PRB</td>\n",
       "      <td>1548</td>\n",
       "    </tr>\n",
       "    <tr>\n",
       "      <th>27</th>\n",
       "      <td>PROS</td>\n",
       "      <td>1768</td>\n",
       "    </tr>\n",
       "    <tr>\n",
       "      <th>23</th>\n",
       "      <td>PPS</td>\n",
       "      <td>1777</td>\n",
       "    </tr>\n",
       "    <tr>\n",
       "      <th>45</th>\n",
       "      <td>REPUBLICANOS</td>\n",
       "      <td>1949</td>\n",
       "    </tr>\n",
       "    <tr>\n",
       "      <th>31</th>\n",
       "      <td>PSC</td>\n",
       "      <td>2225</td>\n",
       "    </tr>\n",
       "    <tr>\n",
       "      <th>9</th>\n",
       "      <td>PCdoB</td>\n",
       "      <td>2377</td>\n",
       "    </tr>\n",
       "    <tr>\n",
       "      <th>4</th>\n",
       "      <td>MDB</td>\n",
       "      <td>2473</td>\n",
       "    </tr>\n",
       "    <tr>\n",
       "      <th>14</th>\n",
       "      <td>PL</td>\n",
       "      <td>3128</td>\n",
       "    </tr>\n",
       "    <tr>\n",
       "      <th>12</th>\n",
       "      <td>PFL</td>\n",
       "      <td>3512</td>\n",
       "    </tr>\n",
       "    <tr>\n",
       "      <th>39</th>\n",
       "      <td>PTB</td>\n",
       "      <td>3612</td>\n",
       "    </tr>\n",
       "    <tr>\n",
       "      <th>24</th>\n",
       "      <td>PR</td>\n",
       "      <td>3709</td>\n",
       "    </tr>\n",
       "    <tr>\n",
       "      <th>3</th>\n",
       "      <td>DEM</td>\n",
       "      <td>5061</td>\n",
       "    </tr>\n",
       "    <tr>\n",
       "      <th>10</th>\n",
       "      <td>PDT</td>\n",
       "      <td>6298</td>\n",
       "    </tr>\n",
       "    <tr>\n",
       "      <th>32</th>\n",
       "      <td>PSD</td>\n",
       "      <td>6444</td>\n",
       "    </tr>\n",
       "    <tr>\n",
       "      <th>20</th>\n",
       "      <td>PP</td>\n",
       "      <td>7788</td>\n",
       "    </tr>\n",
       "    <tr>\n",
       "      <th>30</th>\n",
       "      <td>PSB</td>\n",
       "      <td>7810</td>\n",
       "    </tr>\n",
       "    <tr>\n",
       "      <th>38</th>\n",
       "      <td>PT</td>\n",
       "      <td>10862</td>\n",
       "    </tr>\n",
       "    <tr>\n",
       "      <th>16</th>\n",
       "      <td>PMDB</td>\n",
       "      <td>11559</td>\n",
       "    </tr>\n",
       "    <tr>\n",
       "      <th>33</th>\n",
       "      <td>PSDB</td>\n",
       "      <td>11589</td>\n",
       "    </tr>\n",
       "  </tbody>\n",
       "</table>\n",
       "</div>"
      ],
      "text/plain": [
       "          partido   voto\n",
       "5            NOVO  -1165\n",
       "7           PATRI    -25\n",
       "22            PPL    -13\n",
       "2              DC     -6\n",
       "18            PMR      2\n",
       "6             PAN      5\n",
       "37            PST      6\n",
       "15            PMB     12\n",
       "40            PTC     45\n",
       "46        S.PART.     48\n",
       "26          PRONA     87\n",
       "29           PRTB     96\n",
       "34           PSDC     97\n",
       "11            PEN    188\n",
       "28            PRP    194\n",
       "21            PPB    258\n",
       "35            PSL    268\n",
       "44           REDE    278\n",
       "42          PTdoB    304\n",
       "8        PATRIOTA    314\n",
       "17            PMN    359\n",
       "48            SDD    385\n",
       "41            PTN    440\n",
       "13            PHS    444\n",
       "36           PSOL    487\n",
       "1       CIDADANIA    580\n",
       "0          AVANTE    754\n",
       "49  SOLIDARIEDADE    969\n",
       "50          UNIÃO    988\n",
       "47             SD   1010\n",
       "19           PODE   1148\n",
       "43             PV   1467\n",
       "25            PRB   1548\n",
       "27           PROS   1768\n",
       "23            PPS   1777\n",
       "45   REPUBLICANOS   1949\n",
       "31            PSC   2225\n",
       "9           PCdoB   2377\n",
       "4             MDB   2473\n",
       "14             PL   3128\n",
       "12            PFL   3512\n",
       "39            PTB   3612\n",
       "24             PR   3709\n",
       "3             DEM   5061\n",
       "10            PDT   6298\n",
       "32            PSD   6444\n",
       "20             PP   7788\n",
       "30            PSB   7810\n",
       "38             PT  10862\n",
       "16           PMDB  11559\n",
       "33           PSDB  11589"
      ]
     },
     "execution_count": 16,
     "metadata": {},
     "output_type": "execute_result"
    }
   ],
   "source": [
    "new_df = dv.groupby([\"partido\"]).sum()\n",
    "new_df = new_df.drop([\"id\", \"voto_count\"], axis=1)\n",
    "new_df = new_df.reset_index(level=0)\n",
    "new_df = new_df.sort_values(\"voto\")\n",
    "new_df"
   ]
  },
  {
   "cell_type": "code",
   "execution_count": 17,
   "metadata": {},
   "outputs": [
    {
     "data": {
      "image/png": "[encoded data removed]",
      "text/plain": [
       "<Figure size 640x480 with 1 Axes>"
      ]
     },
     "metadata": {
      "needs_background": "light"
     },
     "output_type": "display_data"
    }
   ],
   "source": [
    "figure(figsize=(8, 6), dpi=80)\n",
    "plt.xticks(rotation=90)\n",
    "plt.bar(new_df[\"partido\"], new_df[\"voto\"])\n",
    "plt.show()"
   ]
  },
  {
   "cell_type": "code",
   "execution_count": null,
   "metadata": {},
   "outputs": [],
   "source": []
  }
 ],
 "metadata": {
  "kernelspec": {
   "display_name": "Python 3",
   "language": "python",
   "name": "python3"
  },
  "language_info": {
   "codemirror_mode": {
    "name": "ipython",
    "version": 3
   },
   "file_extension": ".py",
   "mimetype": "text/x-python",
   "name": "python",
   "nbconvert_exporter": "python",
   "pygments_lexer": "ipython3",
   "version": "3.8.5"
  }
 },
 "nbformat": 4,
 "nbformat_minor": 4
}
