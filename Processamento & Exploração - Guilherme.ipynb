{
 "cells": [
  {
   "cell_type": "code",
   "execution_count": 48,
   "metadata": {},
   "outputs": [],
   "source": [
    "import pandas as pd\n",
    "import numpy as np\n",
    "import matplotlib.pyplot as plt\n",
    "from matplotlib.pyplot import figure\n",
    "import glob\n",
    "import plotly.express as px\n",
    "import os\n",
    "import seaborn as sns; sns.set_theme()\n",
    "from posicionamento import posicionamento_partidos"
   ]
  },
  {
   "cell_type": "code",
   "execution_count": 49,
   "metadata": {},
   "outputs": [
    {
     "name": "stdout",
     "output_type": "stream",
     "text": [
      "Index(['idVotacao', 'siglaBancada', 'orientacao'], dtype='object')\n"
     ]
    },
    {
     "data": {
      "text/html": [
       "<div>\n",
       "<style scoped>\n",
       "    .dataframe tbody tr th:only-of-type {\n",
       "        vertical-align: middle;\n",
       "    }\n",
       "\n",
       "    .dataframe tbody tr th {\n",
       "        vertical-align: top;\n",
       "    }\n",
       "\n",
       "    .dataframe thead th {\n",
       "        text-align: right;\n",
       "    }\n",
       "</style>\n",
       "<table border=\"1\" class=\"dataframe\">\n",
       "  <thead>\n",
       "    <tr style=\"text-align: right;\">\n",
       "      <th></th>\n",
       "      <th>idVotacao</th>\n",
       "      <th>siglaBancada</th>\n",
       "      <th>orientacao</th>\n",
       "    </tr>\n",
       "  </thead>\n",
       "  <tbody>\n",
       "    <tr>\n",
       "      <th>0</th>\n",
       "      <td>140406-31</td>\n",
       "      <td>PSB</td>\n",
       "      <td>Não</td>\n",
       "    </tr>\n",
       "    <tr>\n",
       "      <th>1</th>\n",
       "      <td>140406-31</td>\n",
       "      <td>PP</td>\n",
       "      <td>Não</td>\n",
       "    </tr>\n",
       "    <tr>\n",
       "      <th>2</th>\n",
       "      <td>140406-31</td>\n",
       "      <td>PV</td>\n",
       "      <td>Não</td>\n",
       "    </tr>\n",
       "    <tr>\n",
       "      <th>3</th>\n",
       "      <td>140406-31</td>\n",
       "      <td>PMDB</td>\n",
       "      <td>Não</td>\n",
       "    </tr>\n",
       "    <tr>\n",
       "      <th>4</th>\n",
       "      <td>140406-31</td>\n",
       "      <td>PSDB</td>\n",
       "      <td>Obstrução</td>\n",
       "    </tr>\n",
       "    <tr>\n",
       "      <th>...</th>\n",
       "      <td>...</td>\n",
       "      <td>...</td>\n",
       "      <td>...</td>\n",
       "    </tr>\n",
       "    <tr>\n",
       "      <th>76064</th>\n",
       "      <td>2312874-9</td>\n",
       "      <td>MDB</td>\n",
       "      <td>Sim</td>\n",
       "    </tr>\n",
       "    <tr>\n",
       "      <th>76065</th>\n",
       "      <td>2312874-9</td>\n",
       "      <td>Podemos</td>\n",
       "      <td>Liberado</td>\n",
       "    </tr>\n",
       "    <tr>\n",
       "      <th>76066</th>\n",
       "      <td>2312874-9</td>\n",
       "      <td>Patriota</td>\n",
       "      <td>NaN</td>\n",
       "    </tr>\n",
       "    <tr>\n",
       "      <th>76067</th>\n",
       "      <td>2312874-9</td>\n",
       "      <td>PCdoB</td>\n",
       "      <td>Não</td>\n",
       "    </tr>\n",
       "    <tr>\n",
       "      <th>76068</th>\n",
       "      <td>2312874-9</td>\n",
       "      <td>PTB</td>\n",
       "      <td>NaN</td>\n",
       "    </tr>\n",
       "  </tbody>\n",
       "</table>\n",
       "<p>76069 rows × 3 columns</p>\n",
       "</div>"
      ],
      "text/plain": [
       "       idVotacao siglaBancada orientacao\n",
       "0      140406-31          PSB        Não\n",
       "1      140406-31           PP        Não\n",
       "2      140406-31           PV        Não\n",
       "3      140406-31         PMDB        Não\n",
       "4      140406-31         PSDB  Obstrução\n",
       "...          ...          ...        ...\n",
       "76064  2312874-9          MDB        Sim\n",
       "76065  2312874-9      Podemos   Liberado\n",
       "76066  2312874-9     Patriota        NaN\n",
       "76067  2312874-9        PCdoB        Não\n",
       "76068  2312874-9          PTB        NaN\n",
       "\n",
       "[76069 rows x 3 columns]"
      ]
     },
     "execution_count": 49,
     "metadata": {},
     "output_type": "execute_result"
    }
   ],
   "source": [
    "all_files = glob.glob(os.path.join(\"dados/orientacoes/*.csv\"))\n",
    "all_files\n",
    "li = []\n",
    "\n",
    "for file in all_files:\n",
    "    dfo = pd.read_csv(file, index_col=None, header=0, sep=\";\")\n",
    "    li.append(dfo)\n",
    "\n",
    "dfo = pd.concat(li, axis=0, ignore_index=True)\n",
    "dfo = dfo.drop([\"uriVotacao\", \"descricao\", \"uriBancada\", \"siglaOrgao\"], axis=1)\n",
    "print(dfo.columns)\n",
    "dfo"
   ]
  },
  {
   "cell_type": "code",
   "execution_count": 50,
   "metadata": {},
   "outputs": [
    {
     "data": {
      "text/html": [
       "<div>\n",
       "<style scoped>\n",
       "    .dataframe tbody tr th:only-of-type {\n",
       "        vertical-align: middle;\n",
       "    }\n",
       "\n",
       "    .dataframe tbody tr th {\n",
       "        vertical-align: top;\n",
       "    }\n",
       "\n",
       "    .dataframe thead th {\n",
       "        text-align: right;\n",
       "    }\n",
       "</style>\n",
       "<table border=\"1\" class=\"dataframe\">\n",
       "  <thead>\n",
       "    <tr style=\"text-align: right;\">\n",
       "      <th></th>\n",
       "      <th>idVotacao</th>\n",
       "      <th>uriVotacao</th>\n",
       "      <th>dataHoraVoto</th>\n",
       "      <th>voto</th>\n",
       "      <th>deputado_id</th>\n",
       "      <th>deputado_uri</th>\n",
       "      <th>deputado_nome</th>\n",
       "      <th>deputado_siglaPartido</th>\n",
       "      <th>deputado_uriPartido</th>\n",
       "      <th>deputado_siglaUf</th>\n",
       "      <th>deputado_idLegislatura</th>\n",
       "      <th>deputado_urlFoto</th>\n",
       "    </tr>\n",
       "  </thead>\n",
       "  <tbody>\n",
       "    <tr>\n",
       "      <th>0</th>\n",
       "      <td>37897-3</td>\n",
       "      <td>https://dadosabertos.camara.leg.br/api/v2/vota...</td>\n",
       "      <td>2001-12-11T19:49:15</td>\n",
       "      <td>Sim</td>\n",
       "      <td>73886</td>\n",
       "      <td>https://dadosabertos.camara.leg.br/api/v2/depu...</td>\n",
       "      <td>Adão Pretto</td>\n",
       "      <td>PT</td>\n",
       "      <td>https://dadosabertos.camara.leg.br/api/v2/part...</td>\n",
       "      <td>RS</td>\n",
       "      <td>51</td>\n",
       "      <td>http://www.camara.gov.br/internet/deputado/ban...</td>\n",
       "    </tr>\n",
       "    <tr>\n",
       "      <th>1</th>\n",
       "      <td>37897-3</td>\n",
       "      <td>https://dadosabertos.camara.leg.br/api/v2/vota...</td>\n",
       "      <td>2001-12-11T19:29:35</td>\n",
       "      <td>Sim</td>\n",
       "      <td>74328</td>\n",
       "      <td>https://dadosabertos.camara.leg.br/api/v2/depu...</td>\n",
       "      <td>Adauto Pereira</td>\n",
       "      <td>PFL</td>\n",
       "      <td>https://dadosabertos.camara.leg.br/api/v2/part...</td>\n",
       "      <td>PB</td>\n",
       "      <td>51</td>\n",
       "      <td>http://www.camara.gov.br/internet/deputado/ban...</td>\n",
       "    </tr>\n",
       "    <tr>\n",
       "      <th>2</th>\n",
       "      <td>37897-3</td>\n",
       "      <td>https://dadosabertos.camara.leg.br/api/v2/vota...</td>\n",
       "      <td>2001-12-11T19:26:34</td>\n",
       "      <td>Sim</td>\n",
       "      <td>74450</td>\n",
       "      <td>https://dadosabertos.camara.leg.br/api/v2/depu...</td>\n",
       "      <td>Adolfo Marinho</td>\n",
       "      <td>PSDB</td>\n",
       "      <td>https://dadosabertos.camara.leg.br/api/v2/part...</td>\n",
       "      <td>CE</td>\n",
       "      <td>51</td>\n",
       "      <td>http://www.camara.gov.br/internet/deputado/ban...</td>\n",
       "    </tr>\n",
       "    <tr>\n",
       "      <th>3</th>\n",
       "      <td>37897-3</td>\n",
       "      <td>https://dadosabertos.camara.leg.br/api/v2/vota...</td>\n",
       "      <td>2001-12-11T19:25:14</td>\n",
       "      <td>Artigo 17</td>\n",
       "      <td>74646</td>\n",
       "      <td>https://dadosabertos.camara.leg.br/api/v2/depu...</td>\n",
       "      <td>Aécio Neves</td>\n",
       "      <td>PSDB</td>\n",
       "      <td>https://dadosabertos.camara.leg.br/api/v2/part...</td>\n",
       "      <td>MG</td>\n",
       "      <td>51</td>\n",
       "      <td>http://www.camara.gov.br/internet/deputado/ban...</td>\n",
       "    </tr>\n",
       "    <tr>\n",
       "      <th>4</th>\n",
       "      <td>37897-3</td>\n",
       "      <td>https://dadosabertos.camara.leg.br/api/v2/vota...</td>\n",
       "      <td>2001-12-11T19:26:59</td>\n",
       "      <td>Sim</td>\n",
       "      <td>73765</td>\n",
       "      <td>https://dadosabertos.camara.leg.br/api/v2/depu...</td>\n",
       "      <td>Affonso Camargo</td>\n",
       "      <td>PFL</td>\n",
       "      <td>https://dadosabertos.camara.leg.br/api/v2/part...</td>\n",
       "      <td>PR</td>\n",
       "      <td>51</td>\n",
       "      <td>http://www.camara.gov.br/internet/deputado/ban...</td>\n",
       "    </tr>\n",
       "    <tr>\n",
       "      <th>...</th>\n",
       "      <td>...</td>\n",
       "      <td>...</td>\n",
       "      <td>...</td>\n",
       "      <td>...</td>\n",
       "      <td>...</td>\n",
       "      <td>...</td>\n",
       "      <td>...</td>\n",
       "      <td>...</td>\n",
       "      <td>...</td>\n",
       "      <td>...</td>\n",
       "      <td>...</td>\n",
       "      <td>...</td>\n",
       "    </tr>\n",
       "    <tr>\n",
       "      <th>1329477</th>\n",
       "      <td>945554-186</td>\n",
       "      <td>https://dadosabertos.camara.leg.br/api/v2/vota...</td>\n",
       "      <td>2022-04-07T13:21:12</td>\n",
       "      <td>Sim</td>\n",
       "      <td>178889</td>\n",
       "      <td>https://dadosabertos.camara.leg.br/api/v2/depu...</td>\n",
       "      <td>Zé Carlos</td>\n",
       "      <td>PT</td>\n",
       "      <td>https://dadosabertos.camara.leg.br/api/v2/part...</td>\n",
       "      <td>MA</td>\n",
       "      <td>56</td>\n",
       "      <td>http://www.camara.gov.br/internet/deputado/ban...</td>\n",
       "    </tr>\n",
       "    <tr>\n",
       "      <th>1329478</th>\n",
       "      <td>945554-186</td>\n",
       "      <td>https://dadosabertos.camara.leg.br/api/v2/vota...</td>\n",
       "      <td>2022-04-07T13:22:05</td>\n",
       "      <td>Sim</td>\n",
       "      <td>204559</td>\n",
       "      <td>https://dadosabertos.camara.leg.br/api/v2/depu...</td>\n",
       "      <td>Zé Neto</td>\n",
       "      <td>PT</td>\n",
       "      <td>https://dadosabertos.camara.leg.br/api/v2/part...</td>\n",
       "      <td>BA</td>\n",
       "      <td>56</td>\n",
       "      <td>http://www.camara.gov.br/internet/deputado/ban...</td>\n",
       "    </tr>\n",
       "    <tr>\n",
       "      <th>1329479</th>\n",
       "      <td>945554-186</td>\n",
       "      <td>https://dadosabertos.camara.leg.br/api/v2/vota...</td>\n",
       "      <td>2022-04-07T13:26:44</td>\n",
       "      <td>Não</td>\n",
       "      <td>160632</td>\n",
       "      <td>https://dadosabertos.camara.leg.br/api/v2/depu...</td>\n",
       "      <td>Zé Silva</td>\n",
       "      <td>SOLIDARIEDADE</td>\n",
       "      <td>https://dadosabertos.camara.leg.br/api/v2/part...</td>\n",
       "      <td>MG</td>\n",
       "      <td>56</td>\n",
       "      <td>http://www.camara.gov.br/internet/deputado/ban...</td>\n",
       "    </tr>\n",
       "    <tr>\n",
       "      <th>1329480</th>\n",
       "      <td>945554-186</td>\n",
       "      <td>https://dadosabertos.camara.leg.br/api/v2/vota...</td>\n",
       "      <td>2022-04-07T13:21:07</td>\n",
       "      <td>Não</td>\n",
       "      <td>204517</td>\n",
       "      <td>https://dadosabertos.camara.leg.br/api/v2/depu...</td>\n",
       "      <td>Zé Vitor</td>\n",
       "      <td>PL</td>\n",
       "      <td>https://dadosabertos.camara.leg.br/api/v2/part...</td>\n",
       "      <td>MG</td>\n",
       "      <td>56</td>\n",
       "      <td>http://www.camara.gov.br/internet/deputado/ban...</td>\n",
       "    </tr>\n",
       "    <tr>\n",
       "      <th>1329481</th>\n",
       "      <td>945554-186</td>\n",
       "      <td>https://dadosabertos.camara.leg.br/api/v2/vota...</td>\n",
       "      <td>2022-04-07T13:22:28</td>\n",
       "      <td>Sim</td>\n",
       "      <td>160592</td>\n",
       "      <td>https://dadosabertos.camara.leg.br/api/v2/depu...</td>\n",
       "      <td>Zeca Dirceu</td>\n",
       "      <td>PT</td>\n",
       "      <td>https://dadosabertos.camara.leg.br/api/v2/part...</td>\n",
       "      <td>PR</td>\n",
       "      <td>56</td>\n",
       "      <td>http://www.camara.gov.br/internet/deputado/ban...</td>\n",
       "    </tr>\n",
       "  </tbody>\n",
       "</table>\n",
       "<p>1329482 rows × 12 columns</p>\n",
       "</div>"
      ],
      "text/plain": [
       "          idVotacao                                         uriVotacao  \\\n",
       "0           37897-3  https://dadosabertos.camara.leg.br/api/v2/vota...   \n",
       "1           37897-3  https://dadosabertos.camara.leg.br/api/v2/vota...   \n",
       "2           37897-3  https://dadosabertos.camara.leg.br/api/v2/vota...   \n",
       "3           37897-3  https://dadosabertos.camara.leg.br/api/v2/vota...   \n",
       "4           37897-3  https://dadosabertos.camara.leg.br/api/v2/vota...   \n",
       "...             ...                                                ...   \n",
       "1329477  945554-186  https://dadosabertos.camara.leg.br/api/v2/vota...   \n",
       "1329478  945554-186  https://dadosabertos.camara.leg.br/api/v2/vota...   \n",
       "1329479  945554-186  https://dadosabertos.camara.leg.br/api/v2/vota...   \n",
       "1329480  945554-186  https://dadosabertos.camara.leg.br/api/v2/vota...   \n",
       "1329481  945554-186  https://dadosabertos.camara.leg.br/api/v2/vota...   \n",
       "\n",
       "                dataHoraVoto       voto  deputado_id  \\\n",
       "0        2001-12-11T19:49:15        Sim        73886   \n",
       "1        2001-12-11T19:29:35        Sim        74328   \n",
       "2        2001-12-11T19:26:34        Sim        74450   \n",
       "3        2001-12-11T19:25:14  Artigo 17        74646   \n",
       "4        2001-12-11T19:26:59        Sim        73765   \n",
       "...                      ...        ...          ...   \n",
       "1329477  2022-04-07T13:21:12        Sim       178889   \n",
       "1329478  2022-04-07T13:22:05        Sim       204559   \n",
       "1329479  2022-04-07T13:26:44        Não       160632   \n",
       "1329480  2022-04-07T13:21:07        Não       204517   \n",
       "1329481  2022-04-07T13:22:28        Sim       160592   \n",
       "\n",
       "                                              deputado_uri    deputado_nome  \\\n",
       "0        https://dadosabertos.camara.leg.br/api/v2/depu...      Adão Pretto   \n",
       "1        https://dadosabertos.camara.leg.br/api/v2/depu...   Adauto Pereira   \n",
       "2        https://dadosabertos.camara.leg.br/api/v2/depu...   Adolfo Marinho   \n",
       "3        https://dadosabertos.camara.leg.br/api/v2/depu...      Aécio Neves   \n",
       "4        https://dadosabertos.camara.leg.br/api/v2/depu...  Affonso Camargo   \n",
       "...                                                    ...              ...   \n",
       "1329477  https://dadosabertos.camara.leg.br/api/v2/depu...        Zé Carlos   \n",
       "1329478  https://dadosabertos.camara.leg.br/api/v2/depu...          Zé Neto   \n",
       "1329479  https://dadosabertos.camara.leg.br/api/v2/depu...         Zé Silva   \n",
       "1329480  https://dadosabertos.camara.leg.br/api/v2/depu...         Zé Vitor   \n",
       "1329481  https://dadosabertos.camara.leg.br/api/v2/depu...      Zeca Dirceu   \n",
       "\n",
       "        deputado_siglaPartido  \\\n",
       "0                          PT   \n",
       "1                         PFL   \n",
       "2                        PSDB   \n",
       "3                        PSDB   \n",
       "4                         PFL   \n",
       "...                       ...   \n",
       "1329477                    PT   \n",
       "1329478                    PT   \n",
       "1329479         SOLIDARIEDADE   \n",
       "1329480                    PL   \n",
       "1329481                    PT   \n",
       "\n",
       "                                       deputado_uriPartido deputado_siglaUf  \\\n",
       "0        https://dadosabertos.camara.leg.br/api/v2/part...               RS   \n",
       "1        https://dadosabertos.camara.leg.br/api/v2/part...               PB   \n",
       "2        https://dadosabertos.camara.leg.br/api/v2/part...               CE   \n",
       "3        https://dadosabertos.camara.leg.br/api/v2/part...               MG   \n",
       "4        https://dadosabertos.camara.leg.br/api/v2/part...               PR   \n",
       "...                                                    ...              ...   \n",
       "1329477  https://dadosabertos.camara.leg.br/api/v2/part...               MA   \n",
       "1329478  https://dadosabertos.camara.leg.br/api/v2/part...               BA   \n",
       "1329479  https://dadosabertos.camara.leg.br/api/v2/part...               MG   \n",
       "1329480  https://dadosabertos.camara.leg.br/api/v2/part...               MG   \n",
       "1329481  https://dadosabertos.camara.leg.br/api/v2/part...               PR   \n",
       "\n",
       "         deputado_idLegislatura  \\\n",
       "0                            51   \n",
       "1                            51   \n",
       "2                            51   \n",
       "3                            51   \n",
       "4                            51   \n",
       "...                         ...   \n",
       "1329477                      56   \n",
       "1329478                      56   \n",
       "1329479                      56   \n",
       "1329480                      56   \n",
       "1329481                      56   \n",
       "\n",
       "                                          deputado_urlFoto  \n",
       "0        http://www.camara.gov.br/internet/deputado/ban...  \n",
       "1        http://www.camara.gov.br/internet/deputado/ban...  \n",
       "2        http://www.camara.gov.br/internet/deputado/ban...  \n",
       "3        http://www.camara.gov.br/internet/deputado/ban...  \n",
       "4        http://www.camara.gov.br/internet/deputado/ban...  \n",
       "...                                                    ...  \n",
       "1329477  http://www.camara.gov.br/internet/deputado/ban...  \n",
       "1329478  http://www.camara.gov.br/internet/deputado/ban...  \n",
       "1329479  http://www.camara.gov.br/internet/deputado/ban...  \n",
       "1329480  http://www.camara.gov.br/internet/deputado/ban...  \n",
       "1329481  http://www.camara.gov.br/internet/deputado/ban...  \n",
       "\n",
       "[1329482 rows x 12 columns]"
      ]
     },
     "execution_count": 50,
     "metadata": {},
     "output_type": "execute_result"
    }
   ],
   "source": [
    "all_files = glob.glob(os.path.join(\"dados/votos/*.csv\"))\n",
    "all_files\n",
    "li = []\n",
    "\n",
    "for file in all_files:\n",
    "    df = pd.read_csv(file, index_col=None, header=0, sep=\";\")\n",
    "    li.append(df)\n",
    "\n",
    "df = pd.concat(li, axis=0, ignore_index=True)\n",
    "df"
   ]
  },
  {
   "cell_type": "code",
   "execution_count": 51,
   "metadata": {},
   "outputs": [
    {
     "data": {
      "text/html": [
       "<div>\n",
       "<style scoped>\n",
       "    .dataframe tbody tr th:only-of-type {\n",
       "        vertical-align: middle;\n",
       "    }\n",
       "\n",
       "    .dataframe tbody tr th {\n",
       "        vertical-align: top;\n",
       "    }\n",
       "\n",
       "    .dataframe thead th {\n",
       "        text-align: right;\n",
       "    }\n",
       "</style>\n",
       "<table border=\"1\" class=\"dataframe\">\n",
       "  <thead>\n",
       "    <tr style=\"text-align: right;\">\n",
       "      <th></th>\n",
       "      <th>idVotacao</th>\n",
       "      <th>uriVotacao</th>\n",
       "      <th>dataHoraVoto</th>\n",
       "      <th>voto</th>\n",
       "      <th>deputado_id</th>\n",
       "      <th>deputado_uri</th>\n",
       "      <th>deputado_nome</th>\n",
       "      <th>deputado_siglaPartido</th>\n",
       "      <th>deputado_uriPartido</th>\n",
       "      <th>deputado_siglaUf</th>\n",
       "      <th>deputado_idLegislatura</th>\n",
       "      <th>deputado_urlFoto</th>\n",
       "    </tr>\n",
       "  </thead>\n",
       "  <tbody>\n",
       "    <tr>\n",
       "      <th>0</th>\n",
       "      <td>37897-3</td>\n",
       "      <td>https://dadosabertos.camara.leg.br/api/v2/vota...</td>\n",
       "      <td>2001-12-11 19:49:15</td>\n",
       "      <td>Sim</td>\n",
       "      <td>73886</td>\n",
       "      <td>https://dadosabertos.camara.leg.br/api/v2/depu...</td>\n",
       "      <td>Adão Pretto</td>\n",
       "      <td>PT</td>\n",
       "      <td>https://dadosabertos.camara.leg.br/api/v2/part...</td>\n",
       "      <td>RS</td>\n",
       "      <td>51</td>\n",
       "      <td>http://www.camara.gov.br/internet/deputado/ban...</td>\n",
       "    </tr>\n",
       "    <tr>\n",
       "      <th>1</th>\n",
       "      <td>37897-3</td>\n",
       "      <td>https://dadosabertos.camara.leg.br/api/v2/vota...</td>\n",
       "      <td>2001-12-11 19:29:35</td>\n",
       "      <td>Sim</td>\n",
       "      <td>74328</td>\n",
       "      <td>https://dadosabertos.camara.leg.br/api/v2/depu...</td>\n",
       "      <td>Adauto Pereira</td>\n",
       "      <td>PFL</td>\n",
       "      <td>https://dadosabertos.camara.leg.br/api/v2/part...</td>\n",
       "      <td>PB</td>\n",
       "      <td>51</td>\n",
       "      <td>http://www.camara.gov.br/internet/deputado/ban...</td>\n",
       "    </tr>\n",
       "    <tr>\n",
       "      <th>2</th>\n",
       "      <td>37897-3</td>\n",
       "      <td>https://dadosabertos.camara.leg.br/api/v2/vota...</td>\n",
       "      <td>2001-12-11 19:26:34</td>\n",
       "      <td>Sim</td>\n",
       "      <td>74450</td>\n",
       "      <td>https://dadosabertos.camara.leg.br/api/v2/depu...</td>\n",
       "      <td>Adolfo Marinho</td>\n",
       "      <td>PSDB</td>\n",
       "      <td>https://dadosabertos.camara.leg.br/api/v2/part...</td>\n",
       "      <td>CE</td>\n",
       "      <td>51</td>\n",
       "      <td>http://www.camara.gov.br/internet/deputado/ban...</td>\n",
       "    </tr>\n",
       "    <tr>\n",
       "      <th>3</th>\n",
       "      <td>37897-3</td>\n",
       "      <td>https://dadosabertos.camara.leg.br/api/v2/vota...</td>\n",
       "      <td>2001-12-11 19:25:14</td>\n",
       "      <td>Artigo 17</td>\n",
       "      <td>74646</td>\n",
       "      <td>https://dadosabertos.camara.leg.br/api/v2/depu...</td>\n",
       "      <td>Aécio Neves</td>\n",
       "      <td>PSDB</td>\n",
       "      <td>https://dadosabertos.camara.leg.br/api/v2/part...</td>\n",
       "      <td>MG</td>\n",
       "      <td>51</td>\n",
       "      <td>http://www.camara.gov.br/internet/deputado/ban...</td>\n",
       "    </tr>\n",
       "    <tr>\n",
       "      <th>4</th>\n",
       "      <td>37897-3</td>\n",
       "      <td>https://dadosabertos.camara.leg.br/api/v2/vota...</td>\n",
       "      <td>2001-12-11 19:26:59</td>\n",
       "      <td>Sim</td>\n",
       "      <td>73765</td>\n",
       "      <td>https://dadosabertos.camara.leg.br/api/v2/depu...</td>\n",
       "      <td>Affonso Camargo</td>\n",
       "      <td>PFL</td>\n",
       "      <td>https://dadosabertos.camara.leg.br/api/v2/part...</td>\n",
       "      <td>PR</td>\n",
       "      <td>51</td>\n",
       "      <td>http://www.camara.gov.br/internet/deputado/ban...</td>\n",
       "    </tr>\n",
       "    <tr>\n",
       "      <th>...</th>\n",
       "      <td>...</td>\n",
       "      <td>...</td>\n",
       "      <td>...</td>\n",
       "      <td>...</td>\n",
       "      <td>...</td>\n",
       "      <td>...</td>\n",
       "      <td>...</td>\n",
       "      <td>...</td>\n",
       "      <td>...</td>\n",
       "      <td>...</td>\n",
       "      <td>...</td>\n",
       "      <td>...</td>\n",
       "    </tr>\n",
       "    <tr>\n",
       "      <th>1329477</th>\n",
       "      <td>945554-186</td>\n",
       "      <td>https://dadosabertos.camara.leg.br/api/v2/vota...</td>\n",
       "      <td>2022-04-07 13:21:12</td>\n",
       "      <td>Sim</td>\n",
       "      <td>178889</td>\n",
       "      <td>https://dadosabertos.camara.leg.br/api/v2/depu...</td>\n",
       "      <td>Zé Carlos</td>\n",
       "      <td>PT</td>\n",
       "      <td>https://dadosabertos.camara.leg.br/api/v2/part...</td>\n",
       "      <td>MA</td>\n",
       "      <td>56</td>\n",
       "      <td>http://www.camara.gov.br/internet/deputado/ban...</td>\n",
       "    </tr>\n",
       "    <tr>\n",
       "      <th>1329478</th>\n",
       "      <td>945554-186</td>\n",
       "      <td>https://dadosabertos.camara.leg.br/api/v2/vota...</td>\n",
       "      <td>2022-04-07 13:22:05</td>\n",
       "      <td>Sim</td>\n",
       "      <td>204559</td>\n",
       "      <td>https://dadosabertos.camara.leg.br/api/v2/depu...</td>\n",
       "      <td>Zé Neto</td>\n",
       "      <td>PT</td>\n",
       "      <td>https://dadosabertos.camara.leg.br/api/v2/part...</td>\n",
       "      <td>BA</td>\n",
       "      <td>56</td>\n",
       "      <td>http://www.camara.gov.br/internet/deputado/ban...</td>\n",
       "    </tr>\n",
       "    <tr>\n",
       "      <th>1329479</th>\n",
       "      <td>945554-186</td>\n",
       "      <td>https://dadosabertos.camara.leg.br/api/v2/vota...</td>\n",
       "      <td>2022-04-07 13:26:44</td>\n",
       "      <td>Não</td>\n",
       "      <td>160632</td>\n",
       "      <td>https://dadosabertos.camara.leg.br/api/v2/depu...</td>\n",
       "      <td>Zé Silva</td>\n",
       "      <td>SOLIDARIEDADE</td>\n",
       "      <td>https://dadosabertos.camara.leg.br/api/v2/part...</td>\n",
       "      <td>MG</td>\n",
       "      <td>56</td>\n",
       "      <td>http://www.camara.gov.br/internet/deputado/ban...</td>\n",
       "    </tr>\n",
       "    <tr>\n",
       "      <th>1329480</th>\n",
       "      <td>945554-186</td>\n",
       "      <td>https://dadosabertos.camara.leg.br/api/v2/vota...</td>\n",
       "      <td>2022-04-07 13:21:07</td>\n",
       "      <td>Não</td>\n",
       "      <td>204517</td>\n",
       "      <td>https://dadosabertos.camara.leg.br/api/v2/depu...</td>\n",
       "      <td>Zé Vitor</td>\n",
       "      <td>PL</td>\n",
       "      <td>https://dadosabertos.camara.leg.br/api/v2/part...</td>\n",
       "      <td>MG</td>\n",
       "      <td>56</td>\n",
       "      <td>http://www.camara.gov.br/internet/deputado/ban...</td>\n",
       "    </tr>\n",
       "    <tr>\n",
       "      <th>1329481</th>\n",
       "      <td>945554-186</td>\n",
       "      <td>https://dadosabertos.camara.leg.br/api/v2/vota...</td>\n",
       "      <td>2022-04-07 13:22:28</td>\n",
       "      <td>Sim</td>\n",
       "      <td>160592</td>\n",
       "      <td>https://dadosabertos.camara.leg.br/api/v2/depu...</td>\n",
       "      <td>Zeca Dirceu</td>\n",
       "      <td>PT</td>\n",
       "      <td>https://dadosabertos.camara.leg.br/api/v2/part...</td>\n",
       "      <td>PR</td>\n",
       "      <td>56</td>\n",
       "      <td>http://www.camara.gov.br/internet/deputado/ban...</td>\n",
       "    </tr>\n",
       "  </tbody>\n",
       "</table>\n",
       "<p>1329482 rows × 12 columns</p>\n",
       "</div>"
      ],
      "text/plain": [
       "          idVotacao                                         uriVotacao  \\\n",
       "0           37897-3  https://dadosabertos.camara.leg.br/api/v2/vota...   \n",
       "1           37897-3  https://dadosabertos.camara.leg.br/api/v2/vota...   \n",
       "2           37897-3  https://dadosabertos.camara.leg.br/api/v2/vota...   \n",
       "3           37897-3  https://dadosabertos.camara.leg.br/api/v2/vota...   \n",
       "4           37897-3  https://dadosabertos.camara.leg.br/api/v2/vota...   \n",
       "...             ...                                                ...   \n",
       "1329477  945554-186  https://dadosabertos.camara.leg.br/api/v2/vota...   \n",
       "1329478  945554-186  https://dadosabertos.camara.leg.br/api/v2/vota...   \n",
       "1329479  945554-186  https://dadosabertos.camara.leg.br/api/v2/vota...   \n",
       "1329480  945554-186  https://dadosabertos.camara.leg.br/api/v2/vota...   \n",
       "1329481  945554-186  https://dadosabertos.camara.leg.br/api/v2/vota...   \n",
       "\n",
       "               dataHoraVoto       voto  deputado_id  \\\n",
       "0       2001-12-11 19:49:15        Sim        73886   \n",
       "1       2001-12-11 19:29:35        Sim        74328   \n",
       "2       2001-12-11 19:26:34        Sim        74450   \n",
       "3       2001-12-11 19:25:14  Artigo 17        74646   \n",
       "4       2001-12-11 19:26:59        Sim        73765   \n",
       "...                     ...        ...          ...   \n",
       "1329477 2022-04-07 13:21:12        Sim       178889   \n",
       "1329478 2022-04-07 13:22:05        Sim       204559   \n",
       "1329479 2022-04-07 13:26:44        Não       160632   \n",
       "1329480 2022-04-07 13:21:07        Não       204517   \n",
       "1329481 2022-04-07 13:22:28        Sim       160592   \n",
       "\n",
       "                                              deputado_uri    deputado_nome  \\\n",
       "0        https://dadosabertos.camara.leg.br/api/v2/depu...      Adão Pretto   \n",
       "1        https://dadosabertos.camara.leg.br/api/v2/depu...   Adauto Pereira   \n",
       "2        https://dadosabertos.camara.leg.br/api/v2/depu...   Adolfo Marinho   \n",
       "3        https://dadosabertos.camara.leg.br/api/v2/depu...      Aécio Neves   \n",
       "4        https://dadosabertos.camara.leg.br/api/v2/depu...  Affonso Camargo   \n",
       "...                                                    ...              ...   \n",
       "1329477  https://dadosabertos.camara.leg.br/api/v2/depu...        Zé Carlos   \n",
       "1329478  https://dadosabertos.camara.leg.br/api/v2/depu...          Zé Neto   \n",
       "1329479  https://dadosabertos.camara.leg.br/api/v2/depu...         Zé Silva   \n",
       "1329480  https://dadosabertos.camara.leg.br/api/v2/depu...         Zé Vitor   \n",
       "1329481  https://dadosabertos.camara.leg.br/api/v2/depu...      Zeca Dirceu   \n",
       "\n",
       "        deputado_siglaPartido  \\\n",
       "0                          PT   \n",
       "1                         PFL   \n",
       "2                        PSDB   \n",
       "3                        PSDB   \n",
       "4                         PFL   \n",
       "...                       ...   \n",
       "1329477                    PT   \n",
       "1329478                    PT   \n",
       "1329479         SOLIDARIEDADE   \n",
       "1329480                    PL   \n",
       "1329481                    PT   \n",
       "\n",
       "                                       deputado_uriPartido deputado_siglaUf  \\\n",
       "0        https://dadosabertos.camara.leg.br/api/v2/part...               RS   \n",
       "1        https://dadosabertos.camara.leg.br/api/v2/part...               PB   \n",
       "2        https://dadosabertos.camara.leg.br/api/v2/part...               CE   \n",
       "3        https://dadosabertos.camara.leg.br/api/v2/part...               MG   \n",
       "4        https://dadosabertos.camara.leg.br/api/v2/part...               PR   \n",
       "...                                                    ...              ...   \n",
       "1329477  https://dadosabertos.camara.leg.br/api/v2/part...               MA   \n",
       "1329478  https://dadosabertos.camara.leg.br/api/v2/part...               BA   \n",
       "1329479  https://dadosabertos.camara.leg.br/api/v2/part...               MG   \n",
       "1329480  https://dadosabertos.camara.leg.br/api/v2/part...               MG   \n",
       "1329481  https://dadosabertos.camara.leg.br/api/v2/part...               PR   \n",
       "\n",
       "         deputado_idLegislatura  \\\n",
       "0                            51   \n",
       "1                            51   \n",
       "2                            51   \n",
       "3                            51   \n",
       "4                            51   \n",
       "...                         ...   \n",
       "1329477                      56   \n",
       "1329478                      56   \n",
       "1329479                      56   \n",
       "1329480                      56   \n",
       "1329481                      56   \n",
       "\n",
       "                                          deputado_urlFoto  \n",
       "0        http://www.camara.gov.br/internet/deputado/ban...  \n",
       "1        http://www.camara.gov.br/internet/deputado/ban...  \n",
       "2        http://www.camara.gov.br/internet/deputado/ban...  \n",
       "3        http://www.camara.gov.br/internet/deputado/ban...  \n",
       "4        http://www.camara.gov.br/internet/deputado/ban...  \n",
       "...                                                    ...  \n",
       "1329477  http://www.camara.gov.br/internet/deputado/ban...  \n",
       "1329478  http://www.camara.gov.br/internet/deputado/ban...  \n",
       "1329479  http://www.camara.gov.br/internet/deputado/ban...  \n",
       "1329480  http://www.camara.gov.br/internet/deputado/ban...  \n",
       "1329481  http://www.camara.gov.br/internet/deputado/ban...  \n",
       "\n",
       "[1329482 rows x 12 columns]"
      ]
     },
     "execution_count": 51,
     "metadata": {},
     "output_type": "execute_result"
    }
   ],
   "source": [
    "df[\"dataHoraVoto\"] = pd.to_datetime(df['dataHoraVoto'])\n",
    "df"
   ]
  },
  {
   "cell_type": "code",
   "execution_count": 52,
   "metadata": {},
   "outputs": [
    {
     "data": {
      "text/html": [
       "<div>\n",
       "<style scoped>\n",
       "    .dataframe tbody tr th:only-of-type {\n",
       "        vertical-align: middle;\n",
       "    }\n",
       "\n",
       "    .dataframe tbody tr th {\n",
       "        vertical-align: top;\n",
       "    }\n",
       "\n",
       "    .dataframe thead th {\n",
       "        text-align: right;\n",
       "    }\n",
       "</style>\n",
       "<table border=\"1\" class=\"dataframe\">\n",
       "  <thead>\n",
       "    <tr style=\"text-align: right;\">\n",
       "      <th></th>\n",
       "      <th>idVotacao</th>\n",
       "      <th>dataHoraVoto</th>\n",
       "      <th>voto</th>\n",
       "      <th>deputado_id</th>\n",
       "      <th>deputado_nome</th>\n",
       "      <th>deputado_siglaPartido</th>\n",
       "      <th>deputado_siglaUf</th>\n",
       "      <th>voto_count</th>\n",
       "    </tr>\n",
       "  </thead>\n",
       "  <tbody>\n",
       "    <tr>\n",
       "      <th>0</th>\n",
       "      <td>37897-3</td>\n",
       "      <td>2001-12-11 19:49:15</td>\n",
       "      <td>1.0</td>\n",
       "      <td>73886</td>\n",
       "      <td>Adão Pretto</td>\n",
       "      <td>PT</td>\n",
       "      <td>RS</td>\n",
       "      <td>1</td>\n",
       "    </tr>\n",
       "    <tr>\n",
       "      <th>1</th>\n",
       "      <td>37897-3</td>\n",
       "      <td>2001-12-11 19:29:35</td>\n",
       "      <td>1.0</td>\n",
       "      <td>74328</td>\n",
       "      <td>Adauto Pereira</td>\n",
       "      <td>PFL</td>\n",
       "      <td>PB</td>\n",
       "      <td>1</td>\n",
       "    </tr>\n",
       "    <tr>\n",
       "      <th>2</th>\n",
       "      <td>37897-3</td>\n",
       "      <td>2001-12-11 19:26:34</td>\n",
       "      <td>1.0</td>\n",
       "      <td>74450</td>\n",
       "      <td>Adolfo Marinho</td>\n",
       "      <td>PSDB</td>\n",
       "      <td>CE</td>\n",
       "      <td>1</td>\n",
       "    </tr>\n",
       "    <tr>\n",
       "      <th>3</th>\n",
       "      <td>37897-3</td>\n",
       "      <td>2001-12-11 19:25:14</td>\n",
       "      <td>0.0</td>\n",
       "      <td>74646</td>\n",
       "      <td>Aécio Neves</td>\n",
       "      <td>PSDB</td>\n",
       "      <td>MG</td>\n",
       "      <td>1</td>\n",
       "    </tr>\n",
       "    <tr>\n",
       "      <th>4</th>\n",
       "      <td>37897-3</td>\n",
       "      <td>2001-12-11 19:26:59</td>\n",
       "      <td>1.0</td>\n",
       "      <td>73765</td>\n",
       "      <td>Affonso Camargo</td>\n",
       "      <td>PFL</td>\n",
       "      <td>PR</td>\n",
       "      <td>1</td>\n",
       "    </tr>\n",
       "    <tr>\n",
       "      <th>...</th>\n",
       "      <td>...</td>\n",
       "      <td>...</td>\n",
       "      <td>...</td>\n",
       "      <td>...</td>\n",
       "      <td>...</td>\n",
       "      <td>...</td>\n",
       "      <td>...</td>\n",
       "      <td>...</td>\n",
       "    </tr>\n",
       "    <tr>\n",
       "      <th>1329477</th>\n",
       "      <td>945554-186</td>\n",
       "      <td>2022-04-07 13:21:12</td>\n",
       "      <td>1.0</td>\n",
       "      <td>178889</td>\n",
       "      <td>Zé Carlos</td>\n",
       "      <td>PT</td>\n",
       "      <td>MA</td>\n",
       "      <td>1</td>\n",
       "    </tr>\n",
       "    <tr>\n",
       "      <th>1329478</th>\n",
       "      <td>945554-186</td>\n",
       "      <td>2022-04-07 13:22:05</td>\n",
       "      <td>1.0</td>\n",
       "      <td>204559</td>\n",
       "      <td>Zé Neto</td>\n",
       "      <td>PT</td>\n",
       "      <td>BA</td>\n",
       "      <td>1</td>\n",
       "    </tr>\n",
       "    <tr>\n",
       "      <th>1329479</th>\n",
       "      <td>945554-186</td>\n",
       "      <td>2022-04-07 13:26:44</td>\n",
       "      <td>-1.0</td>\n",
       "      <td>160632</td>\n",
       "      <td>Zé Silva</td>\n",
       "      <td>SOLIDARIEDADE</td>\n",
       "      <td>MG</td>\n",
       "      <td>1</td>\n",
       "    </tr>\n",
       "    <tr>\n",
       "      <th>1329480</th>\n",
       "      <td>945554-186</td>\n",
       "      <td>2022-04-07 13:21:07</td>\n",
       "      <td>-1.0</td>\n",
       "      <td>204517</td>\n",
       "      <td>Zé Vitor</td>\n",
       "      <td>PL</td>\n",
       "      <td>MG</td>\n",
       "      <td>1</td>\n",
       "    </tr>\n",
       "    <tr>\n",
       "      <th>1329481</th>\n",
       "      <td>945554-186</td>\n",
       "      <td>2022-04-07 13:22:28</td>\n",
       "      <td>1.0</td>\n",
       "      <td>160592</td>\n",
       "      <td>Zeca Dirceu</td>\n",
       "      <td>PT</td>\n",
       "      <td>PR</td>\n",
       "      <td>1</td>\n",
       "    </tr>\n",
       "  </tbody>\n",
       "</table>\n",
       "<p>1329482 rows × 8 columns</p>\n",
       "</div>"
      ],
      "text/plain": [
       "          idVotacao        dataHoraVoto  voto  deputado_id    deputado_nome  \\\n",
       "0           37897-3 2001-12-11 19:49:15   1.0        73886      Adão Pretto   \n",
       "1           37897-3 2001-12-11 19:29:35   1.0        74328   Adauto Pereira   \n",
       "2           37897-3 2001-12-11 19:26:34   1.0        74450   Adolfo Marinho   \n",
       "3           37897-3 2001-12-11 19:25:14   0.0        74646      Aécio Neves   \n",
       "4           37897-3 2001-12-11 19:26:59   1.0        73765  Affonso Camargo   \n",
       "...             ...                 ...   ...          ...              ...   \n",
       "1329477  945554-186 2022-04-07 13:21:12   1.0       178889        Zé Carlos   \n",
       "1329478  945554-186 2022-04-07 13:22:05   1.0       204559          Zé Neto   \n",
       "1329479  945554-186 2022-04-07 13:26:44  -1.0       160632         Zé Silva   \n",
       "1329480  945554-186 2022-04-07 13:21:07  -1.0       204517         Zé Vitor   \n",
       "1329481  945554-186 2022-04-07 13:22:28   1.0       160592      Zeca Dirceu   \n",
       "\n",
       "        deputado_siglaPartido deputado_siglaUf  voto_count  \n",
       "0                          PT               RS           1  \n",
       "1                         PFL               PB           1  \n",
       "2                        PSDB               CE           1  \n",
       "3                        PSDB               MG           1  \n",
       "4                         PFL               PR           1  \n",
       "...                       ...              ...         ...  \n",
       "1329477                    PT               MA           1  \n",
       "1329478                    PT               BA           1  \n",
       "1329479         SOLIDARIEDADE               MG           1  \n",
       "1329480                    PL               MG           1  \n",
       "1329481                    PT               PR           1  \n",
       "\n",
       "[1329482 rows x 8 columns]"
      ]
     },
     "execution_count": 52,
     "metadata": {},
     "output_type": "execute_result"
    }
   ],
   "source": [
    "df = df.drop([\"uriVotacao\", \"deputado_uri\", \"deputado_uriPartido\", \"deputado_urlFoto\", \"deputado_idLegislatura\"], axis=1)\n",
    "df[\"voto\"].replace({\"Sim\": 1, \"Não\": -1, \"Abstenção\": 0, 'Artigo 17':0, 'Obstrução':0, \n",
    "                    \"Favorável com restrições\":0, \"Branco\":0}, inplace=True)\n",
    "df[\"voto_count\"] = 1\n",
    "df"
   ]
  },
  {
   "cell_type": "code",
   "execution_count": 53,
   "metadata": {
    "scrolled": true
   },
   "outputs": [
    {
     "data": {
      "text/html": [
       "<div>\n",
       "<style scoped>\n",
       "    .dataframe tbody tr th:only-of-type {\n",
       "        vertical-align: middle;\n",
       "    }\n",
       "\n",
       "    .dataframe tbody tr th {\n",
       "        vertical-align: top;\n",
       "    }\n",
       "\n",
       "    .dataframe thead th {\n",
       "        text-align: right;\n",
       "    }\n",
       "</style>\n",
       "<table border=\"1\" class=\"dataframe\">\n",
       "  <thead>\n",
       "    <tr style=\"text-align: right;\">\n",
       "      <th></th>\n",
       "      <th>idVotacao</th>\n",
       "      <th>dataHoraVoto</th>\n",
       "      <th>voto</th>\n",
       "      <th>deputado_id</th>\n",
       "      <th>deputado_nome</th>\n",
       "      <th>deputado_siglaPartido</th>\n",
       "      <th>deputado_siglaUf</th>\n",
       "      <th>voto_count</th>\n",
       "      <th>orientacao</th>\n",
       "      <th>posicionamento</th>\n",
       "    </tr>\n",
       "  </thead>\n",
       "  <tbody>\n",
       "    <tr>\n",
       "      <th>0</th>\n",
       "      <td>37897-3</td>\n",
       "      <td>2001-12-11 19:49:15</td>\n",
       "      <td>1.0</td>\n",
       "      <td>73886</td>\n",
       "      <td>Adão Pretto</td>\n",
       "      <td>PT</td>\n",
       "      <td>RS</td>\n",
       "      <td>1</td>\n",
       "      <td>NaN</td>\n",
       "      <td>Esquerda</td>\n",
       "    </tr>\n",
       "    <tr>\n",
       "      <th>1</th>\n",
       "      <td>37897-3</td>\n",
       "      <td>2001-12-11 19:29:35</td>\n",
       "      <td>1.0</td>\n",
       "      <td>74328</td>\n",
       "      <td>Adauto Pereira</td>\n",
       "      <td>PFL</td>\n",
       "      <td>PB</td>\n",
       "      <td>1</td>\n",
       "      <td>NaN</td>\n",
       "      <td>Centro-direita</td>\n",
       "    </tr>\n",
       "    <tr>\n",
       "      <th>2</th>\n",
       "      <td>37897-3</td>\n",
       "      <td>2001-12-11 19:26:34</td>\n",
       "      <td>1.0</td>\n",
       "      <td>74450</td>\n",
       "      <td>Adolfo Marinho</td>\n",
       "      <td>PSDB</td>\n",
       "      <td>CE</td>\n",
       "      <td>1</td>\n",
       "      <td>NaN</td>\n",
       "      <td>Centro</td>\n",
       "    </tr>\n",
       "    <tr>\n",
       "      <th>3</th>\n",
       "      <td>37897-3</td>\n",
       "      <td>2001-12-11 19:25:14</td>\n",
       "      <td>0.0</td>\n",
       "      <td>74646</td>\n",
       "      <td>Aécio Neves</td>\n",
       "      <td>PSDB</td>\n",
       "      <td>MG</td>\n",
       "      <td>1</td>\n",
       "      <td>NaN</td>\n",
       "      <td>Centro</td>\n",
       "    </tr>\n",
       "    <tr>\n",
       "      <th>4</th>\n",
       "      <td>37897-3</td>\n",
       "      <td>2001-12-11 19:26:59</td>\n",
       "      <td>1.0</td>\n",
       "      <td>73765</td>\n",
       "      <td>Affonso Camargo</td>\n",
       "      <td>PFL</td>\n",
       "      <td>PR</td>\n",
       "      <td>1</td>\n",
       "      <td>NaN</td>\n",
       "      <td>Centro-direita</td>\n",
       "    </tr>\n",
       "    <tr>\n",
       "      <th>...</th>\n",
       "      <td>...</td>\n",
       "      <td>...</td>\n",
       "      <td>...</td>\n",
       "      <td>...</td>\n",
       "      <td>...</td>\n",
       "      <td>...</td>\n",
       "      <td>...</td>\n",
       "      <td>...</td>\n",
       "      <td>...</td>\n",
       "      <td>...</td>\n",
       "    </tr>\n",
       "    <tr>\n",
       "      <th>1329477</th>\n",
       "      <td>945554-186</td>\n",
       "      <td>2022-04-07 13:21:12</td>\n",
       "      <td>1.0</td>\n",
       "      <td>178889</td>\n",
       "      <td>Zé Carlos</td>\n",
       "      <td>PT</td>\n",
       "      <td>MA</td>\n",
       "      <td>1</td>\n",
       "      <td>Sim</td>\n",
       "      <td>Esquerda</td>\n",
       "    </tr>\n",
       "    <tr>\n",
       "      <th>1329478</th>\n",
       "      <td>945554-186</td>\n",
       "      <td>2022-04-07 13:22:05</td>\n",
       "      <td>1.0</td>\n",
       "      <td>204559</td>\n",
       "      <td>Zé Neto</td>\n",
       "      <td>PT</td>\n",
       "      <td>BA</td>\n",
       "      <td>1</td>\n",
       "      <td>Sim</td>\n",
       "      <td>Esquerda</td>\n",
       "    </tr>\n",
       "    <tr>\n",
       "      <th>1329479</th>\n",
       "      <td>945554-186</td>\n",
       "      <td>2022-04-07 13:26:44</td>\n",
       "      <td>-1.0</td>\n",
       "      <td>160632</td>\n",
       "      <td>Zé Silva</td>\n",
       "      <td>SOLIDARIEDADE</td>\n",
       "      <td>MG</td>\n",
       "      <td>1</td>\n",
       "      <td>NaN</td>\n",
       "      <td>Centro</td>\n",
       "    </tr>\n",
       "    <tr>\n",
       "      <th>1329480</th>\n",
       "      <td>945554-186</td>\n",
       "      <td>2022-04-07 13:21:07</td>\n",
       "      <td>-1.0</td>\n",
       "      <td>204517</td>\n",
       "      <td>Zé Vitor</td>\n",
       "      <td>PL</td>\n",
       "      <td>MG</td>\n",
       "      <td>1</td>\n",
       "      <td>Não</td>\n",
       "      <td>Centro-direita</td>\n",
       "    </tr>\n",
       "    <tr>\n",
       "      <th>1329481</th>\n",
       "      <td>945554-186</td>\n",
       "      <td>2022-04-07 13:22:28</td>\n",
       "      <td>1.0</td>\n",
       "      <td>160592</td>\n",
       "      <td>Zeca Dirceu</td>\n",
       "      <td>PT</td>\n",
       "      <td>PR</td>\n",
       "      <td>1</td>\n",
       "      <td>Sim</td>\n",
       "      <td>Esquerda</td>\n",
       "    </tr>\n",
       "  </tbody>\n",
       "</table>\n",
       "<p>1325795 rows × 10 columns</p>\n",
       "</div>"
      ],
      "text/plain": [
       "          idVotacao        dataHoraVoto  voto  deputado_id    deputado_nome  \\\n",
       "0           37897-3 2001-12-11 19:49:15   1.0        73886      Adão Pretto   \n",
       "1           37897-3 2001-12-11 19:29:35   1.0        74328   Adauto Pereira   \n",
       "2           37897-3 2001-12-11 19:26:34   1.0        74450   Adolfo Marinho   \n",
       "3           37897-3 2001-12-11 19:25:14   0.0        74646      Aécio Neves   \n",
       "4           37897-3 2001-12-11 19:26:59   1.0        73765  Affonso Camargo   \n",
       "...             ...                 ...   ...          ...              ...   \n",
       "1329477  945554-186 2022-04-07 13:21:12   1.0       178889        Zé Carlos   \n",
       "1329478  945554-186 2022-04-07 13:22:05   1.0       204559          Zé Neto   \n",
       "1329479  945554-186 2022-04-07 13:26:44  -1.0       160632         Zé Silva   \n",
       "1329480  945554-186 2022-04-07 13:21:07  -1.0       204517         Zé Vitor   \n",
       "1329481  945554-186 2022-04-07 13:22:28   1.0       160592      Zeca Dirceu   \n",
       "\n",
       "        deputado_siglaPartido deputado_siglaUf  voto_count orientacao  \\\n",
       "0                          PT               RS           1        NaN   \n",
       "1                         PFL               PB           1        NaN   \n",
       "2                        PSDB               CE           1        NaN   \n",
       "3                        PSDB               MG           1        NaN   \n",
       "4                         PFL               PR           1        NaN   \n",
       "...                       ...              ...         ...        ...   \n",
       "1329477                    PT               MA           1        Sim   \n",
       "1329478                    PT               BA           1        Sim   \n",
       "1329479         SOLIDARIEDADE               MG           1        NaN   \n",
       "1329480                    PL               MG           1        Não   \n",
       "1329481                    PT               PR           1        Sim   \n",
       "\n",
       "         posicionamento  \n",
       "0              Esquerda  \n",
       "1        Centro-direita  \n",
       "2                Centro  \n",
       "3                Centro  \n",
       "4        Centro-direita  \n",
       "...                 ...  \n",
       "1329477        Esquerda  \n",
       "1329478        Esquerda  \n",
       "1329479          Centro  \n",
       "1329480  Centro-direita  \n",
       "1329481        Esquerda  \n",
       "\n",
       "[1325795 rows x 10 columns]"
      ]
     },
     "execution_count": 53,
     "metadata": {},
     "output_type": "execute_result"
    }
   ],
   "source": [
    "dv = pd.merge(df, dfo, how='left', left_on=['idVotacao','deputado_siglaPartido'], right_on=['idVotacao','siglaBancada'])\n",
    "dv = dv.drop([\"siglaBancada\"], axis=1)\n",
    "dv_nan = dv[dv[\"voto\"].isnull()].groupby(\"idVotacao\").count()\n",
    "dv = dv[~dv[\"idVotacao\"].isin(dv_nan.index)]\n",
    "dv[\"posicionamento\"] = dv[\"deputado_siglaPartido\"]\n",
    "dv[\"posicionamento\"].replace(posicionamento_partidos, inplace=True)\n",
    "dv"
   ]
  },
  {
   "cell_type": "code",
   "execution_count": 54,
   "metadata": {},
   "outputs": [],
   "source": [
    "dv.columns = ['idVotacao', 'data', 'voto', 'id', 'nome',\n",
    "       'partido', 'UF', 'voto_count', 'orientacao', 'posicionamento']\n",
    "\n",
    "dv[\"ano\"] = pd.DatetimeIndex(dv['data']).year\n",
    "\n",
    "dv = dv.query(\"ano > 2002\")"
   ]
  },
  {
   "cell_type": "code",
   "execution_count": 75,
   "metadata": {},
   "outputs": [
    {
     "data": {
      "text/html": [
       "<div>\n",
       "<style scoped>\n",
       "    .dataframe tbody tr th:only-of-type {\n",
       "        vertical-align: middle;\n",
       "    }\n",
       "\n",
       "    .dataframe tbody tr th {\n",
       "        vertical-align: top;\n",
       "    }\n",
       "\n",
       "    .dataframe thead th {\n",
       "        text-align: right;\n",
       "    }\n",
       "</style>\n",
       "<table border=\"1\" class=\"dataframe\">\n",
       "  <thead>\n",
       "    <tr style=\"text-align: right;\">\n",
       "      <th></th>\n",
       "      <th>id</th>\n",
       "      <th>posicionamento</th>\n",
       "    </tr>\n",
       "  </thead>\n",
       "  <tbody>\n",
       "    <tr>\n",
       "      <th>0</th>\n",
       "      <td>3151</td>\n",
       "      <td>Centro-direita</td>\n",
       "    </tr>\n",
       "    <tr>\n",
       "      <th>1</th>\n",
       "      <td>3155</td>\n",
       "      <td>Centro-direita</td>\n",
       "    </tr>\n",
       "    <tr>\n",
       "      <th>2</th>\n",
       "      <td>4927</td>\n",
       "      <td>Centro-direita</td>\n",
       "    </tr>\n",
       "    <tr>\n",
       "      <th>3</th>\n",
       "      <td>4928</td>\n",
       "      <td>Centro-direita</td>\n",
       "    </tr>\n",
       "    <tr>\n",
       "      <th>4</th>\n",
       "      <td>4928</td>\n",
       "      <td>Centro-esquerda</td>\n",
       "    </tr>\n",
       "    <tr>\n",
       "      <th>...</th>\n",
       "      <td>...</td>\n",
       "      <td>...</td>\n",
       "    </tr>\n",
       "    <tr>\n",
       "      <th>2453</th>\n",
       "      <td>218086</td>\n",
       "      <td>Centro-direita</td>\n",
       "    </tr>\n",
       "    <tr>\n",
       "      <th>2454</th>\n",
       "      <td>218245</td>\n",
       "      <td>Centro-direita</td>\n",
       "    </tr>\n",
       "    <tr>\n",
       "      <th>2455</th>\n",
       "      <td>218741</td>\n",
       "      <td>Centro</td>\n",
       "    </tr>\n",
       "    <tr>\n",
       "      <th>2456</th>\n",
       "      <td>218879</td>\n",
       "      <td>Centro</td>\n",
       "    </tr>\n",
       "    <tr>\n",
       "      <th>2457</th>\n",
       "      <td>218879</td>\n",
       "      <td>Direita</td>\n",
       "    </tr>\n",
       "  </tbody>\n",
       "</table>\n",
       "<p>2458 rows × 2 columns</p>\n",
       "</div>"
      ],
      "text/plain": [
       "          id   posicionamento\n",
       "0       3151   Centro-direita\n",
       "1       3155   Centro-direita\n",
       "2       4927   Centro-direita\n",
       "3       4928   Centro-direita\n",
       "4       4928  Centro-esquerda\n",
       "...      ...              ...\n",
       "2453  218086   Centro-direita\n",
       "2454  218245   Centro-direita\n",
       "2455  218741           Centro\n",
       "2456  218879           Centro\n",
       "2457  218879          Direita\n",
       "\n",
       "[2458 rows x 2 columns]"
      ]
     },
     "execution_count": 75,
     "metadata": {},
     "output_type": "execute_result"
    }
   ],
   "source": [
    "teste = dv.groupby(by=[\"idVotacao\",\"posicionamento\"], as_index=False).count()[[\"id\", \"posicionamento\"]]\n",
    "teste"
   ]
  },
  {
   "cell_type": "code",
   "execution_count": 55,
   "metadata": {},
   "outputs": [
    {
     "data": {
      "text/html": [
       "<div>\n",
       "<style scoped>\n",
       "    .dataframe tbody tr th:only-of-type {\n",
       "        vertical-align: middle;\n",
       "    }\n",
       "\n",
       "    .dataframe tbody tr th {\n",
       "        vertical-align: top;\n",
       "    }\n",
       "\n",
       "    .dataframe thead th {\n",
       "        text-align: right;\n",
       "    }\n",
       "</style>\n",
       "<table border=\"1\" class=\"dataframe\">\n",
       "  <thead>\n",
       "    <tr style=\"text-align: right;\">\n",
       "      <th></th>\n",
       "      <th>idVotacao</th>\n",
       "      <th>voto</th>\n",
       "      <th>id</th>\n",
       "      <th>nome</th>\n",
       "      <th>partido</th>\n",
       "      <th>UF</th>\n",
       "      <th>voto_count</th>\n",
       "      <th>orientacao</th>\n",
       "      <th>posicionamento</th>\n",
       "      <th>ano</th>\n",
       "    </tr>\n",
       "  </thead>\n",
       "  <tbody>\n",
       "    <tr>\n",
       "      <th>2810</th>\n",
       "      <td>113716-111</td>\n",
       "      <td>-1.0</td>\n",
       "      <td>73764</td>\n",
       "      <td>Abelardo Lupion</td>\n",
       "      <td>PFL</td>\n",
       "      <td>PR</td>\n",
       "      <td>1</td>\n",
       "      <td>-1</td>\n",
       "      <td>Centro-direita</td>\n",
       "      <td>2003</td>\n",
       "    </tr>\n",
       "    <tr>\n",
       "      <th>2811</th>\n",
       "      <td>113716-111</td>\n",
       "      <td>1.0</td>\n",
       "      <td>73886</td>\n",
       "      <td>Adão Pretto</td>\n",
       "      <td>PT</td>\n",
       "      <td>RS</td>\n",
       "      <td>1</td>\n",
       "      <td>1</td>\n",
       "      <td>Esquerda</td>\n",
       "      <td>2003</td>\n",
       "    </tr>\n",
       "    <tr>\n",
       "      <th>2812</th>\n",
       "      <td>113716-111</td>\n",
       "      <td>1.0</td>\n",
       "      <td>74328</td>\n",
       "      <td>Adauto Pereira</td>\n",
       "      <td>PFL</td>\n",
       "      <td>PB</td>\n",
       "      <td>1</td>\n",
       "      <td>-1</td>\n",
       "      <td>Centro-direita</td>\n",
       "      <td>2003</td>\n",
       "    </tr>\n",
       "    <tr>\n",
       "      <th>2813</th>\n",
       "      <td>113716-111</td>\n",
       "      <td>1.0</td>\n",
       "      <td>74386</td>\n",
       "      <td>Adelor Vieira</td>\n",
       "      <td>PMDB</td>\n",
       "      <td>SC</td>\n",
       "      <td>1</td>\n",
       "      <td>1</td>\n",
       "      <td>Centro</td>\n",
       "      <td>2003</td>\n",
       "    </tr>\n",
       "    <tr>\n",
       "      <th>2814</th>\n",
       "      <td>113716-111</td>\n",
       "      <td>1.0</td>\n",
       "      <td>73765</td>\n",
       "      <td>Affonso Camargo</td>\n",
       "      <td>PSDB</td>\n",
       "      <td>PR</td>\n",
       "      <td>1</td>\n",
       "      <td>1</td>\n",
       "      <td>Centro</td>\n",
       "      <td>2003</td>\n",
       "    </tr>\n",
       "    <tr>\n",
       "      <th>...</th>\n",
       "      <td>...</td>\n",
       "      <td>...</td>\n",
       "      <td>...</td>\n",
       "      <td>...</td>\n",
       "      <td>...</td>\n",
       "      <td>...</td>\n",
       "      <td>...</td>\n",
       "      <td>...</td>\n",
       "      <td>...</td>\n",
       "      <td>...</td>\n",
       "    </tr>\n",
       "    <tr>\n",
       "      <th>1329475</th>\n",
       "      <td>945554-186</td>\n",
       "      <td>-1.0</td>\n",
       "      <td>74043</td>\n",
       "      <td>Wellington Roberto</td>\n",
       "      <td>PL</td>\n",
       "      <td>PB</td>\n",
       "      <td>1</td>\n",
       "      <td>-1</td>\n",
       "      <td>Centro-direita</td>\n",
       "      <td>2022</td>\n",
       "    </tr>\n",
       "    <tr>\n",
       "      <th>1329477</th>\n",
       "      <td>945554-186</td>\n",
       "      <td>1.0</td>\n",
       "      <td>178889</td>\n",
       "      <td>Zé Carlos</td>\n",
       "      <td>PT</td>\n",
       "      <td>MA</td>\n",
       "      <td>1</td>\n",
       "      <td>1</td>\n",
       "      <td>Esquerda</td>\n",
       "      <td>2022</td>\n",
       "    </tr>\n",
       "    <tr>\n",
       "      <th>1329478</th>\n",
       "      <td>945554-186</td>\n",
       "      <td>1.0</td>\n",
       "      <td>204559</td>\n",
       "      <td>Zé Neto</td>\n",
       "      <td>PT</td>\n",
       "      <td>BA</td>\n",
       "      <td>1</td>\n",
       "      <td>1</td>\n",
       "      <td>Esquerda</td>\n",
       "      <td>2022</td>\n",
       "    </tr>\n",
       "    <tr>\n",
       "      <th>1329480</th>\n",
       "      <td>945554-186</td>\n",
       "      <td>-1.0</td>\n",
       "      <td>204517</td>\n",
       "      <td>Zé Vitor</td>\n",
       "      <td>PL</td>\n",
       "      <td>MG</td>\n",
       "      <td>1</td>\n",
       "      <td>-1</td>\n",
       "      <td>Centro-direita</td>\n",
       "      <td>2022</td>\n",
       "    </tr>\n",
       "    <tr>\n",
       "      <th>1329481</th>\n",
       "      <td>945554-186</td>\n",
       "      <td>1.0</td>\n",
       "      <td>160592</td>\n",
       "      <td>Zeca Dirceu</td>\n",
       "      <td>PT</td>\n",
       "      <td>PR</td>\n",
       "      <td>1</td>\n",
       "      <td>1</td>\n",
       "      <td>Esquerda</td>\n",
       "      <td>2022</td>\n",
       "    </tr>\n",
       "  </tbody>\n",
       "</table>\n",
       "<p>999683 rows × 10 columns</p>\n",
       "</div>"
      ],
      "text/plain": [
       "          idVotacao  voto      id                nome partido  UF  voto_count  \\\n",
       "2810     113716-111  -1.0   73764     Abelardo Lupion     PFL  PR           1   \n",
       "2811     113716-111   1.0   73886         Adão Pretto      PT  RS           1   \n",
       "2812     113716-111   1.0   74328      Adauto Pereira     PFL  PB           1   \n",
       "2813     113716-111   1.0   74386       Adelor Vieira    PMDB  SC           1   \n",
       "2814     113716-111   1.0   73765     Affonso Camargo    PSDB  PR           1   \n",
       "...             ...   ...     ...                 ...     ...  ..         ...   \n",
       "1329475  945554-186  -1.0   74043  Wellington Roberto      PL  PB           1   \n",
       "1329477  945554-186   1.0  178889           Zé Carlos      PT  MA           1   \n",
       "1329478  945554-186   1.0  204559             Zé Neto      PT  BA           1   \n",
       "1329480  945554-186  -1.0  204517            Zé Vitor      PL  MG           1   \n",
       "1329481  945554-186   1.0  160592         Zeca Dirceu      PT  PR           1   \n",
       "\n",
       "         orientacao  posicionamento   ano  \n",
       "2810             -1  Centro-direita  2003  \n",
       "2811              1        Esquerda  2003  \n",
       "2812             -1  Centro-direita  2003  \n",
       "2813              1          Centro  2003  \n",
       "2814              1          Centro  2003  \n",
       "...             ...             ...   ...  \n",
       "1329475          -1  Centro-direita  2022  \n",
       "1329477           1        Esquerda  2022  \n",
       "1329478           1        Esquerda  2022  \n",
       "1329480          -1  Centro-direita  2022  \n",
       "1329481           1        Esquerda  2022  \n",
       "\n",
       "[999683 rows x 10 columns]"
      ]
     },
     "execution_count": 55,
     "metadata": {},
     "output_type": "execute_result"
    }
   ],
   "source": [
    "new_dv = dv.copy()\n",
    "new_dv.dropna(subset = [\"orientacao\"], inplace=True)\n",
    "new_dv[\"ano\"] = pd.DatetimeIndex(new_dv['data']).year\n",
    "new_dv[\"orientacao\"].replace({\"Sim\": 1, \"Não\": -1, \"Abstenção\": 0, 'Liberado':0, 'Obstrução':0}, inplace=True)\n",
    "new_dv.drop([\"data\"], axis=1, inplace=True)\n",
    "new_dv"
   ]
  },
  {
   "cell_type": "code",
   "execution_count": 56,
   "metadata": {
    "scrolled": true
   },
   "outputs": [
    {
     "data": {
      "text/html": [
       "<div>\n",
       "<style scoped>\n",
       "    .dataframe tbody tr th:only-of-type {\n",
       "        vertical-align: middle;\n",
       "    }\n",
       "\n",
       "    .dataframe tbody tr th {\n",
       "        vertical-align: top;\n",
       "    }\n",
       "\n",
       "    .dataframe thead th {\n",
       "        text-align: right;\n",
       "    }\n",
       "</style>\n",
       "<table border=\"1\" class=\"dataframe\">\n",
       "  <thead>\n",
       "    <tr style=\"text-align: right;\">\n",
       "      <th></th>\n",
       "      <th>idVotacao</th>\n",
       "      <th>voto</th>\n",
       "      <th>id</th>\n",
       "      <th>nome</th>\n",
       "      <th>partido</th>\n",
       "      <th>UF</th>\n",
       "      <th>voto_count</th>\n",
       "      <th>orientacao</th>\n",
       "      <th>posicionamento</th>\n",
       "      <th>ano</th>\n",
       "    </tr>\n",
       "  </thead>\n",
       "  <tbody>\n",
       "    <tr>\n",
       "      <th>2812</th>\n",
       "      <td>113716-111</td>\n",
       "      <td>1.0</td>\n",
       "      <td>74328</td>\n",
       "      <td>Adauto Pereira</td>\n",
       "      <td>PFL</td>\n",
       "      <td>PB</td>\n",
       "      <td>1</td>\n",
       "      <td>-1</td>\n",
       "      <td>Centro-direita</td>\n",
       "      <td>2003</td>\n",
       "    </tr>\n",
       "    <tr>\n",
       "      <th>2816</th>\n",
       "      <td>113716-111</td>\n",
       "      <td>-1.0</td>\n",
       "      <td>73579</td>\n",
       "      <td>Alberto Fraga</td>\n",
       "      <td>PMDB</td>\n",
       "      <td>DF</td>\n",
       "      <td>1</td>\n",
       "      <td>1</td>\n",
       "      <td>Centro</td>\n",
       "      <td>2003</td>\n",
       "    </tr>\n",
       "    <tr>\n",
       "      <th>2819</th>\n",
       "      <td>113716-111</td>\n",
       "      <td>-1.0</td>\n",
       "      <td>73477</td>\n",
       "      <td>Alceu Collares</td>\n",
       "      <td>PDT</td>\n",
       "      <td>RS</td>\n",
       "      <td>1</td>\n",
       "      <td>1</td>\n",
       "      <td>Centro-esquerda</td>\n",
       "      <td>2003</td>\n",
       "    </tr>\n",
       "    <tr>\n",
       "      <th>2823</th>\n",
       "      <td>113716-111</td>\n",
       "      <td>-1.0</td>\n",
       "      <td>74057</td>\n",
       "      <td>Alice Portugal</td>\n",
       "      <td>PCdoB</td>\n",
       "      <td>BA</td>\n",
       "      <td>1</td>\n",
       "      <td>1</td>\n",
       "      <td>Esquerda</td>\n",
       "      <td>2003</td>\n",
       "    </tr>\n",
       "    <tr>\n",
       "      <th>2829</th>\n",
       "      <td>113716-111</td>\n",
       "      <td>-1.0</td>\n",
       "      <td>74036</td>\n",
       "      <td>Álvaro Dias</td>\n",
       "      <td>PDT</td>\n",
       "      <td>RN</td>\n",
       "      <td>1</td>\n",
       "      <td>1</td>\n",
       "      <td>Centro-esquerda</td>\n",
       "      <td>2003</td>\n",
       "    </tr>\n",
       "    <tr>\n",
       "      <th>...</th>\n",
       "      <td>...</td>\n",
       "      <td>...</td>\n",
       "      <td>...</td>\n",
       "      <td>...</td>\n",
       "      <td>...</td>\n",
       "      <td>...</td>\n",
       "      <td>...</td>\n",
       "      <td>...</td>\n",
       "      <td>...</td>\n",
       "      <td>...</td>\n",
       "    </tr>\n",
       "    <tr>\n",
       "      <th>1329300</th>\n",
       "      <td>945554-186</td>\n",
       "      <td>-1.0</td>\n",
       "      <td>178931</td>\n",
       "      <td>Luciano Ducci</td>\n",
       "      <td>PSB</td>\n",
       "      <td>PR</td>\n",
       "      <td>1</td>\n",
       "      <td>1</td>\n",
       "      <td>Centro-esquerda</td>\n",
       "      <td>2022</td>\n",
       "    </tr>\n",
       "    <tr>\n",
       "      <th>1329380</th>\n",
       "      <td>945554-186</td>\n",
       "      <td>-1.0</td>\n",
       "      <td>160517</td>\n",
       "      <td>Paulo Foletto</td>\n",
       "      <td>PSB</td>\n",
       "      <td>ES</td>\n",
       "      <td>1</td>\n",
       "      <td>1</td>\n",
       "      <td>Centro-esquerda</td>\n",
       "      <td>2022</td>\n",
       "    </tr>\n",
       "    <tr>\n",
       "      <th>1329437</th>\n",
       "      <td>945554-186</td>\n",
       "      <td>1.0</td>\n",
       "      <td>204438</td>\n",
       "      <td>Sergio Toledo</td>\n",
       "      <td>PL</td>\n",
       "      <td>AL</td>\n",
       "      <td>1</td>\n",
       "      <td>-1</td>\n",
       "      <td>Centro-direita</td>\n",
       "      <td>2022</td>\n",
       "    </tr>\n",
       "    <tr>\n",
       "      <th>1329441</th>\n",
       "      <td>945554-186</td>\n",
       "      <td>0.0</td>\n",
       "      <td>178946</td>\n",
       "      <td>Soraya Santos</td>\n",
       "      <td>PL</td>\n",
       "      <td>RJ</td>\n",
       "      <td>1</td>\n",
       "      <td>-1</td>\n",
       "      <td>Centro-direita</td>\n",
       "      <td>2022</td>\n",
       "    </tr>\n",
       "    <tr>\n",
       "      <th>1329451</th>\n",
       "      <td>945554-186</td>\n",
       "      <td>1.0</td>\n",
       "      <td>160976</td>\n",
       "      <td>Tiririca</td>\n",
       "      <td>PL</td>\n",
       "      <td>SP</td>\n",
       "      <td>1</td>\n",
       "      <td>-1</td>\n",
       "      <td>Centro-direita</td>\n",
       "      <td>2022</td>\n",
       "    </tr>\n",
       "  </tbody>\n",
       "</table>\n",
       "<p>61069 rows × 10 columns</p>\n",
       "</div>"
      ],
      "text/plain": [
       "          idVotacao  voto      id            nome partido  UF  voto_count  \\\n",
       "2812     113716-111   1.0   74328  Adauto Pereira     PFL  PB           1   \n",
       "2816     113716-111  -1.0   73579   Alberto Fraga    PMDB  DF           1   \n",
       "2819     113716-111  -1.0   73477  Alceu Collares     PDT  RS           1   \n",
       "2823     113716-111  -1.0   74057  Alice Portugal   PCdoB  BA           1   \n",
       "2829     113716-111  -1.0   74036     Álvaro Dias     PDT  RN           1   \n",
       "...             ...   ...     ...             ...     ...  ..         ...   \n",
       "1329300  945554-186  -1.0  178931   Luciano Ducci     PSB  PR           1   \n",
       "1329380  945554-186  -1.0  160517   Paulo Foletto     PSB  ES           1   \n",
       "1329437  945554-186   1.0  204438   Sergio Toledo      PL  AL           1   \n",
       "1329441  945554-186   0.0  178946   Soraya Santos      PL  RJ           1   \n",
       "1329451  945554-186   1.0  160976        Tiririca      PL  SP           1   \n",
       "\n",
       "         orientacao   posicionamento   ano  \n",
       "2812             -1   Centro-direita  2003  \n",
       "2816              1           Centro  2003  \n",
       "2819              1  Centro-esquerda  2003  \n",
       "2823              1         Esquerda  2003  \n",
       "2829              1  Centro-esquerda  2003  \n",
       "...             ...              ...   ...  \n",
       "1329300           1  Centro-esquerda  2022  \n",
       "1329380           1  Centro-esquerda  2022  \n",
       "1329437          -1   Centro-direita  2022  \n",
       "1329441          -1   Centro-direita  2022  \n",
       "1329451          -1   Centro-direita  2022  \n",
       "\n",
       "[61069 rows x 10 columns]"
      ]
     },
     "execution_count": 56,
     "metadata": {},
     "output_type": "execute_result"
    }
   ],
   "source": [
    "new_dv.query(\"voto != orientacao and orientacao != 0\")"
   ]
  },
  {
   "cell_type": "code",
   "execution_count": 57,
   "metadata": {},
   "outputs": [
    {
     "data": {
      "text/html": [
       "<div>\n",
       "<style scoped>\n",
       "    .dataframe tbody tr th:only-of-type {\n",
       "        vertical-align: middle;\n",
       "    }\n",
       "\n",
       "    .dataframe tbody tr th {\n",
       "        vertical-align: top;\n",
       "    }\n",
       "\n",
       "    .dataframe thead th {\n",
       "        text-align: right;\n",
       "    }\n",
       "</style>\n",
       "<table border=\"1\" class=\"dataframe\">\n",
       "  <thead>\n",
       "    <tr style=\"text-align: right;\">\n",
       "      <th></th>\n",
       "      <th>ano</th>\n",
       "      <th>idVotacao</th>\n",
       "    </tr>\n",
       "  </thead>\n",
       "  <tbody>\n",
       "    <tr>\n",
       "      <th>0</th>\n",
       "      <td>2003</td>\n",
       "      <td>61</td>\n",
       "    </tr>\n",
       "    <tr>\n",
       "      <th>1</th>\n",
       "      <td>2004</td>\n",
       "      <td>97</td>\n",
       "    </tr>\n",
       "    <tr>\n",
       "      <th>2</th>\n",
       "      <td>2005</td>\n",
       "      <td>67</td>\n",
       "    </tr>\n",
       "    <tr>\n",
       "      <th>3</th>\n",
       "      <td>2006</td>\n",
       "      <td>65</td>\n",
       "    </tr>\n",
       "    <tr>\n",
       "      <th>4</th>\n",
       "      <td>2007</td>\n",
       "      <td>164</td>\n",
       "    </tr>\n",
       "    <tr>\n",
       "      <th>5</th>\n",
       "      <td>2008</td>\n",
       "      <td>118</td>\n",
       "    </tr>\n",
       "    <tr>\n",
       "      <th>6</th>\n",
       "      <td>2009</td>\n",
       "      <td>170</td>\n",
       "    </tr>\n",
       "    <tr>\n",
       "      <th>7</th>\n",
       "      <td>2010</td>\n",
       "      <td>82</td>\n",
       "    </tr>\n",
       "    <tr>\n",
       "      <th>8</th>\n",
       "      <td>2011</td>\n",
       "      <td>125</td>\n",
       "    </tr>\n",
       "    <tr>\n",
       "      <th>9</th>\n",
       "      <td>2012</td>\n",
       "      <td>85</td>\n",
       "    </tr>\n",
       "    <tr>\n",
       "      <th>10</th>\n",
       "      <td>2013</td>\n",
       "      <td>153</td>\n",
       "    </tr>\n",
       "    <tr>\n",
       "      <th>11</th>\n",
       "      <td>2014</td>\n",
       "      <td>83</td>\n",
       "    </tr>\n",
       "    <tr>\n",
       "      <th>12</th>\n",
       "      <td>2015</td>\n",
       "      <td>312</td>\n",
       "    </tr>\n",
       "    <tr>\n",
       "      <th>13</th>\n",
       "      <td>2016</td>\n",
       "      <td>209</td>\n",
       "    </tr>\n",
       "    <tr>\n",
       "      <th>14</th>\n",
       "      <td>2017</td>\n",
       "      <td>235</td>\n",
       "    </tr>\n",
       "    <tr>\n",
       "      <th>15</th>\n",
       "      <td>2018</td>\n",
       "      <td>141</td>\n",
       "    </tr>\n",
       "    <tr>\n",
       "      <th>16</th>\n",
       "      <td>2019</td>\n",
       "      <td>333</td>\n",
       "    </tr>\n",
       "    <tr>\n",
       "      <th>17</th>\n",
       "      <td>2020</td>\n",
       "      <td>393</td>\n",
       "    </tr>\n",
       "    <tr>\n",
       "      <th>18</th>\n",
       "      <td>2021</td>\n",
       "      <td>955</td>\n",
       "    </tr>\n",
       "  </tbody>\n",
       "</table>\n",
       "</div>"
      ],
      "text/plain": [
       "     ano  idVotacao\n",
       "0   2003         61\n",
       "1   2004         97\n",
       "2   2005         67\n",
       "3   2006         65\n",
       "4   2007        164\n",
       "5   2008        118\n",
       "6   2009        170\n",
       "7   2010         82\n",
       "8   2011        125\n",
       "9   2012         85\n",
       "10  2013        153\n",
       "11  2014         83\n",
       "12  2015        312\n",
       "13  2016        209\n",
       "14  2017        235\n",
       "15  2018        141\n",
       "16  2019        333\n",
       "17  2020        393\n",
       "18  2021        955"
      ]
     },
     "execution_count": 57,
     "metadata": {},
     "output_type": "execute_result"
    }
   ],
   "source": [
    "votacoes_por_ano = dv.groupby(by=[\"ano\", \"idVotacao\"], as_index=False).sum().drop([\"voto\", \"id\", \"voto_count\"], axis=1)\n",
    "votacoes_por_ano = votacoes_por_ano.groupby([\"ano\"], as_index=False).count()\n",
    "votacoes_por_ano = votacoes_por_ano.query(\"ano < 2022\")\n",
    "votacoes_por_ano"
   ]
  },
  {
   "cell_type": "code",
   "execution_count": 58,
   "metadata": {},
   "outputs": [
    {
     "data": {
      "text/html": [
       "<div>\n",
       "<style scoped>\n",
       "    .dataframe tbody tr th:only-of-type {\n",
       "        vertical-align: middle;\n",
       "    }\n",
       "\n",
       "    .dataframe tbody tr th {\n",
       "        vertical-align: top;\n",
       "    }\n",
       "\n",
       "    .dataframe thead th {\n",
       "        text-align: right;\n",
       "    }\n",
       "</style>\n",
       "<table border=\"1\" class=\"dataframe\">\n",
       "  <thead>\n",
       "    <tr style=\"text-align: right;\">\n",
       "      <th></th>\n",
       "      <th>ano</th>\n",
       "      <th>voto_count</th>\n",
       "    </tr>\n",
       "  </thead>\n",
       "  <tbody>\n",
       "    <tr>\n",
       "      <th>0</th>\n",
       "      <td>2003</td>\n",
       "      <td>12380</td>\n",
       "    </tr>\n",
       "    <tr>\n",
       "      <th>1</th>\n",
       "      <td>2004</td>\n",
       "      <td>24903</td>\n",
       "    </tr>\n",
       "    <tr>\n",
       "      <th>2</th>\n",
       "      <td>2005</td>\n",
       "      <td>17455</td>\n",
       "    </tr>\n",
       "    <tr>\n",
       "      <th>3</th>\n",
       "      <td>2006</td>\n",
       "      <td>20704</td>\n",
       "    </tr>\n",
       "    <tr>\n",
       "      <th>4</th>\n",
       "      <td>2007</td>\n",
       "      <td>41102</td>\n",
       "    </tr>\n",
       "    <tr>\n",
       "      <th>5</th>\n",
       "      <td>2008</td>\n",
       "      <td>32110</td>\n",
       "    </tr>\n",
       "    <tr>\n",
       "      <th>6</th>\n",
       "      <td>2009</td>\n",
       "      <td>45908</td>\n",
       "    </tr>\n",
       "    <tr>\n",
       "      <th>7</th>\n",
       "      <td>2010</td>\n",
       "      <td>22293</td>\n",
       "    </tr>\n",
       "    <tr>\n",
       "      <th>8</th>\n",
       "      <td>2011</td>\n",
       "      <td>33237</td>\n",
       "    </tr>\n",
       "    <tr>\n",
       "      <th>9</th>\n",
       "      <td>2012</td>\n",
       "      <td>22345</td>\n",
       "    </tr>\n",
       "    <tr>\n",
       "      <th>10</th>\n",
       "      <td>2013</td>\n",
       "      <td>43188</td>\n",
       "    </tr>\n",
       "    <tr>\n",
       "      <th>11</th>\n",
       "      <td>2014</td>\n",
       "      <td>24207</td>\n",
       "    </tr>\n",
       "    <tr>\n",
       "      <th>12</th>\n",
       "      <td>2015</td>\n",
       "      <td>113394</td>\n",
       "    </tr>\n",
       "    <tr>\n",
       "      <th>13</th>\n",
       "      <td>2016</td>\n",
       "      <td>72419</td>\n",
       "    </tr>\n",
       "    <tr>\n",
       "      <th>14</th>\n",
       "      <td>2017</td>\n",
       "      <td>76522</td>\n",
       "    </tr>\n",
       "    <tr>\n",
       "      <th>15</th>\n",
       "      <td>2018</td>\n",
       "      <td>45568</td>\n",
       "    </tr>\n",
       "    <tr>\n",
       "      <th>16</th>\n",
       "      <td>2019</td>\n",
       "      <td>120952</td>\n",
       "    </tr>\n",
       "    <tr>\n",
       "      <th>17</th>\n",
       "      <td>2020</td>\n",
       "      <td>159717</td>\n",
       "    </tr>\n",
       "    <tr>\n",
       "      <th>18</th>\n",
       "      <td>2021</td>\n",
       "      <td>321146</td>\n",
       "    </tr>\n",
       "  </tbody>\n",
       "</table>\n",
       "</div>"
      ],
      "text/plain": [
       "     ano  voto_count\n",
       "0   2003       12380\n",
       "1   2004       24903\n",
       "2   2005       17455\n",
       "3   2006       20704\n",
       "4   2007       41102\n",
       "5   2008       32110\n",
       "6   2009       45908\n",
       "7   2010       22293\n",
       "8   2011       33237\n",
       "9   2012       22345\n",
       "10  2013       43188\n",
       "11  2014       24207\n",
       "12  2015      113394\n",
       "13  2016       72419\n",
       "14  2017       76522\n",
       "15  2018       45568\n",
       "16  2019      120952\n",
       "17  2020      159717\n",
       "18  2021      321146"
      ]
     },
     "execution_count": 58,
     "metadata": {},
     "output_type": "execute_result"
    }
   ],
   "source": [
    "votos_por_ano = dv.groupby(by=[\"ano\"], as_index=False).sum().drop([\"voto\", \"id\"], axis=1)\n",
    "votos_por_ano = votos_por_ano.query(\"ano < 2022\")\n",
    "votos_por_ano"
   ]
  },
  {
   "cell_type": "code",
   "execution_count": 59,
   "metadata": {},
   "outputs": [
    {
     "data": {
      "application/vnd.plotly.v1+json": {
       "config": {
        "plotlyServerURL": "https://plot.ly"
       },
       "data": [
        {
         "alignmentgroup": "True",
         "hovertemplate": "ano=%{x}<br>idVotacao=%{y}<extra></extra>",
         "legendgroup": "",
         "marker": {
          "color": "#30ade3"
         },
         "name": "",
         "offsetgroup": "",
         "orientation": "v",
         "showlegend": false,
         "textposition": "auto",
         "type": "bar",
         "x": [
          2003,
          2004,
          2005,
          2006,
          2007,
          2008,
          2009,
          2010,
          2011,
          2012,
          2013,
          2014,
          2015,
          2016,
          2017,
          2018,
          2019,
          2020,
          2021
         ],
         "xaxis": "x",
         "y": [
          61,
          97,
          67,
          65,
          164,
          118,
          170,
          82,
          125,
          85,
          153,
          83,
          312,
          209,
          235,
          141,
          333,
          393,
          955
         ],
         "yaxis": "y"
        }
       ],
       "layout": {
        "barmode": "relative",
        "legend": {
         "tracegroupgap": 0
        },
        "margin": {
         "t": 60
        },
        "plot_bgcolor": "white",
        "template": {
         "data": {
          "bar": [
           {
            "error_x": {
             "color": "#2a3f5f"
            },
            "error_y": {
             "color": "#2a3f5f"
            },
            "marker": {
             "line": {
              "color": "#E5ECF6",
              "width": 0.5
             }
            },
            "type": "bar"
           }
          ],
          "barpolar": [
           {
            "marker": {
             "line": {
              "color": "#E5ECF6",
              "width": 0.5
             }
            },
            "type": "barpolar"
           }
          ],
          "carpet": [
           {
            "aaxis": {
             "endlinecolor": "#2a3f5f",
             "gridcolor": "white",
             "linecolor": "white",
             "minorgridcolor": "white",
             "startlinecolor": "#2a3f5f"
            },
            "baxis": {
             "endlinecolor": "#2a3f5f",
             "gridcolor": "white",
             "linecolor": "white",
             "minorgridcolor": "white",
             "startlinecolor": "#2a3f5f"
            },
            "type": "carpet"
           }
          ],
          "choropleth": [
           {
            "colorbar": {
             "outlinewidth": 0,
             "ticks": ""
            },
            "type": "choropleth"
           }
          ],
          "contour": [
           {
            "colorbar": {
             "outlinewidth": 0,
             "ticks": ""
            },
            "colorscale": [
             [
              0,
              "#0d0887"
             ],
             [
              0.1111111111111111,
              "#46039f"
             ],
             [
              0.2222222222222222,
              "#7201a8"
             ],
             [
              0.3333333333333333,
              "#9c179e"
             ],
             [
              0.4444444444444444,
              "#bd3786"
             ],
             [
              0.5555555555555556,
              "#d8576b"
             ],
             [
              0.6666666666666666,
              "#ed7953"
             ],
             [
              0.7777777777777778,
              "#fb9f3a"
             ],
             [
              0.8888888888888888,
              "#fdca26"
             ],
             [
              1,
              "#f0f921"
             ]
            ],
            "type": "contour"
           }
          ],
          "contourcarpet": [
           {
            "colorbar": {
             "outlinewidth": 0,
             "ticks": ""
            },
            "type": "contourcarpet"
           }
          ],
          "heatmap": [
           {
            "colorbar": {
             "outlinewidth": 0,
             "ticks": ""
            },
            "colorscale": [
             [
              0,
              "#0d0887"
             ],
             [
              0.1111111111111111,
              "#46039f"
             ],
             [
              0.2222222222222222,
              "#7201a8"
             ],
             [
              0.3333333333333333,
              "#9c179e"
             ],
             [
              0.4444444444444444,
              "#bd3786"
             ],
             [
              0.5555555555555556,
              "#d8576b"
             ],
             [
              0.6666666666666666,
              "#ed7953"
             ],
             [
              0.7777777777777778,
              "#fb9f3a"
             ],
             [
              0.8888888888888888,
              "#fdca26"
             ],
             [
              1,
              "#f0f921"
             ]
            ],
            "type": "heatmap"
           }
          ],
          "heatmapgl": [
           {
            "colorbar": {
             "outlinewidth": 0,
             "ticks": ""
            },
            "colorscale": [
             [
              0,
              "#0d0887"
             ],
             [
              0.1111111111111111,
              "#46039f"
             ],
             [
              0.2222222222222222,
              "#7201a8"
             ],
             [
              0.3333333333333333,
              "#9c179e"
             ],
             [
              0.4444444444444444,
              "#bd3786"
             ],
             [
              0.5555555555555556,
              "#d8576b"
             ],
             [
              0.6666666666666666,
              "#ed7953"
             ],
             [
              0.7777777777777778,
              "#fb9f3a"
             ],
             [
              0.8888888888888888,
              "#fdca26"
             ],
             [
              1,
              "#f0f921"
             ]
            ],
            "type": "heatmapgl"
           }
          ],
          "histogram": [
           {
            "marker": {
             "colorbar": {
              "outlinewidth": 0,
              "ticks": ""
             }
            },
            "type": "histogram"
           }
          ],
          "histogram2d": [
           {
            "colorbar": {
             "outlinewidth": 0,
             "ticks": ""
            },
            "colorscale": [
             [
              0,
              "#0d0887"
             ],
             [
              0.1111111111111111,
              "#46039f"
             ],
             [
              0.2222222222222222,
              "#7201a8"
             ],
             [
              0.3333333333333333,
              "#9c179e"
             ],
             [
              0.4444444444444444,
              "#bd3786"
             ],
             [
              0.5555555555555556,
              "#d8576b"
             ],
             [
              0.6666666666666666,
              "#ed7953"
             ],
             [
              0.7777777777777778,
              "#fb9f3a"
             ],
             [
              0.8888888888888888,
              "#fdca26"
             ],
             [
              1,
              "#f0f921"
             ]
            ],
            "type": "histogram2d"
           }
          ],
          "histogram2dcontour": [
           {
            "colorbar": {
             "outlinewidth": 0,
             "ticks": ""
            },
            "colorscale": [
             [
              0,
              "#0d0887"
             ],
             [
              0.1111111111111111,
              "#46039f"
             ],
             [
              0.2222222222222222,
              "#7201a8"
             ],
             [
              0.3333333333333333,
              "#9c179e"
             ],
             [
              0.4444444444444444,
              "#bd3786"
             ],
             [
              0.5555555555555556,
              "#d8576b"
             ],
             [
              0.6666666666666666,
              "#ed7953"
             ],
             [
              0.7777777777777778,
              "#fb9f3a"
             ],
             [
              0.8888888888888888,
              "#fdca26"
             ],
             [
              1,
              "#f0f921"
             ]
            ],
            "type": "histogram2dcontour"
           }
          ],
          "mesh3d": [
           {
            "colorbar": {
             "outlinewidth": 0,
             "ticks": ""
            },
            "type": "mesh3d"
           }
          ],
          "parcoords": [
           {
            "line": {
             "colorbar": {
              "outlinewidth": 0,
              "ticks": ""
             }
            },
            "type": "parcoords"
           }
          ],
          "pie": [
           {
            "automargin": true,
            "type": "pie"
           }
          ],
          "scatter": [
           {
            "marker": {
             "colorbar": {
              "outlinewidth": 0,
              "ticks": ""
             }
            },
            "type": "scatter"
           }
          ],
          "scatter3d": [
           {
            "line": {
             "colorbar": {
              "outlinewidth": 0,
              "ticks": ""
             }
            },
            "marker": {
             "colorbar": {
              "outlinewidth": 0,
              "ticks": ""
             }
            },
            "type": "scatter3d"
           }
          ],
          "scattercarpet": [
           {
            "marker": {
             "colorbar": {
              "outlinewidth": 0,
              "ticks": ""
             }
            },
            "type": "scattercarpet"
           }
          ],
          "scattergeo": [
           {
            "marker": {
             "colorbar": {
              "outlinewidth": 0,
              "ticks": ""
             }
            },
            "type": "scattergeo"
           }
          ],
          "scattergl": [
           {
            "marker": {
             "colorbar": {
              "outlinewidth": 0,
              "ticks": ""
             }
            },
            "type": "scattergl"
           }
          ],
          "scattermapbox": [
           {
            "marker": {
             "colorbar": {
              "outlinewidth": 0,
              "ticks": ""
             }
            },
            "type": "scattermapbox"
           }
          ],
          "scatterpolar": [
           {
            "marker": {
             "colorbar": {
              "outlinewidth": 0,
              "ticks": ""
             }
            },
            "type": "scatterpolar"
           }
          ],
          "scatterpolargl": [
           {
            "marker": {
             "colorbar": {
              "outlinewidth": 0,
              "ticks": ""
             }
            },
            "type": "scatterpolargl"
           }
          ],
          "scatterternary": [
           {
            "marker": {
             "colorbar": {
              "outlinewidth": 0,
              "ticks": ""
             }
            },
            "type": "scatterternary"
           }
          ],
          "surface": [
           {
            "colorbar": {
             "outlinewidth": 0,
             "ticks": ""
            },
            "colorscale": [
             [
              0,
              "#0d0887"
             ],
             [
              0.1111111111111111,
              "#46039f"
             ],
             [
              0.2222222222222222,
              "#7201a8"
             ],
             [
              0.3333333333333333,
              "#9c179e"
             ],
             [
              0.4444444444444444,
              "#bd3786"
             ],
             [
              0.5555555555555556,
              "#d8576b"
             ],
             [
              0.6666666666666666,
              "#ed7953"
             ],
             [
              0.7777777777777778,
              "#fb9f3a"
             ],
             [
              0.8888888888888888,
              "#fdca26"
             ],
             [
              1,
              "#f0f921"
             ]
            ],
            "type": "surface"
           }
          ],
          "table": [
           {
            "cells": {
             "fill": {
              "color": "#EBF0F8"
             },
             "line": {
              "color": "white"
             }
            },
            "header": {
             "fill": {
              "color": "#C8D4E3"
             },
             "line": {
              "color": "white"
             }
            },
            "type": "table"
           }
          ]
         },
         "layout": {
          "annotationdefaults": {
           "arrowcolor": "#2a3f5f",
           "arrowhead": 0,
           "arrowwidth": 1
          },
          "autotypenumbers": "strict",
          "coloraxis": {
           "colorbar": {
            "outlinewidth": 0,
            "ticks": ""
           }
          },
          "colorscale": {
           "diverging": [
            [
             0,
             "#8e0152"
            ],
            [
             0.1,
             "#c51b7d"
            ],
            [
             0.2,
             "#de77ae"
            ],
            [
             0.3,
             "#f1b6da"
            ],
            [
             0.4,
             "#fde0ef"
            ],
            [
             0.5,
             "#f7f7f7"
            ],
            [
             0.6,
             "#e6f5d0"
            ],
            [
             0.7,
             "#b8e186"
            ],
            [
             0.8,
             "#7fbc41"
            ],
            [
             0.9,
             "#4d9221"
            ],
            [
             1,
             "#276419"
            ]
           ],
           "sequential": [
            [
             0,
             "#0d0887"
            ],
            [
             0.1111111111111111,
             "#46039f"
            ],
            [
             0.2222222222222222,
             "#7201a8"
            ],
            [
             0.3333333333333333,
             "#9c179e"
            ],
            [
             0.4444444444444444,
             "#bd3786"
            ],
            [
             0.5555555555555556,
             "#d8576b"
            ],
            [
             0.6666666666666666,
             "#ed7953"
            ],
            [
             0.7777777777777778,
             "#fb9f3a"
            ],
            [
             0.8888888888888888,
             "#fdca26"
            ],
            [
             1,
             "#f0f921"
            ]
           ],
           "sequentialminus": [
            [
             0,
             "#0d0887"
            ],
            [
             0.1111111111111111,
             "#46039f"
            ],
            [
             0.2222222222222222,
             "#7201a8"
            ],
            [
             0.3333333333333333,
             "#9c179e"
            ],
            [
             0.4444444444444444,
             "#bd3786"
            ],
            [
             0.5555555555555556,
             "#d8576b"
            ],
            [
             0.6666666666666666,
             "#ed7953"
            ],
            [
             0.7777777777777778,
             "#fb9f3a"
            ],
            [
             0.8888888888888888,
             "#fdca26"
            ],
            [
             1,
             "#f0f921"
            ]
           ]
          },
          "colorway": [
           "#636efa",
           "#EF553B",
           "#00cc96",
           "#ab63fa",
           "#FFA15A",
           "#19d3f3",
           "#FF6692",
           "#B6E880",
           "#FF97FF",
           "#FECB52"
          ],
          "font": {
           "color": "#2a3f5f"
          },
          "geo": {
           "bgcolor": "white",
           "lakecolor": "white",
           "landcolor": "#E5ECF6",
           "showlakes": true,
           "showland": true,
           "subunitcolor": "white"
          },
          "hoverlabel": {
           "align": "left"
          },
          "hovermode": "closest",
          "mapbox": {
           "style": "light"
          },
          "paper_bgcolor": "white",
          "plot_bgcolor": "#E5ECF6",
          "polar": {
           "angularaxis": {
            "gridcolor": "white",
            "linecolor": "white",
            "ticks": ""
           },
           "bgcolor": "#E5ECF6",
           "radialaxis": {
            "gridcolor": "white",
            "linecolor": "white",
            "ticks": ""
           }
          },
          "scene": {
           "xaxis": {
            "backgroundcolor": "#E5ECF6",
            "gridcolor": "white",
            "gridwidth": 2,
            "linecolor": "white",
            "showbackground": true,
            "ticks": "",
            "zerolinecolor": "white"
           },
           "yaxis": {
            "backgroundcolor": "#E5ECF6",
            "gridcolor": "white",
            "gridwidth": 2,
            "linecolor": "white",
            "showbackground": true,
            "ticks": "",
            "zerolinecolor": "white"
           },
           "zaxis": {
            "backgroundcolor": "#E5ECF6",
            "gridcolor": "white",
            "gridwidth": 2,
            "linecolor": "white",
            "showbackground": true,
            "ticks": "",
            "zerolinecolor": "white"
           }
          },
          "shapedefaults": {
           "line": {
            "color": "#2a3f5f"
           }
          },
          "ternary": {
           "aaxis": {
            "gridcolor": "white",
            "linecolor": "white",
            "ticks": ""
           },
           "baxis": {
            "gridcolor": "white",
            "linecolor": "white",
            "ticks": ""
           },
           "bgcolor": "#E5ECF6",
           "caxis": {
            "gridcolor": "white",
            "linecolor": "white",
            "ticks": ""
           }
          },
          "title": {
           "x": 0.05
          },
          "xaxis": {
           "automargin": true,
           "gridcolor": "white",
           "linecolor": "white",
           "ticks": "",
           "title": {
            "standoff": 15
           },
           "zerolinecolor": "white",
           "zerolinewidth": 2
          },
          "yaxis": {
           "automargin": true,
           "gridcolor": "white",
           "linecolor": "white",
           "ticks": "",
           "title": {
            "standoff": 15
           },
           "zerolinecolor": "white",
           "zerolinewidth": 2
          }
         }
        },
        "title": {
         "text": "Total de votações ao longo dos anos",
         "x": 0.5
        },
        "xaxis": {
         "anchor": "y",
         "domain": [
          0,
          1
         ],
         "title": {
          "text": "<b>Ano</b>"
         },
         "type": "category"
        },
        "yaxis": {
         "anchor": "x",
         "domain": [
          0,
          1
         ],
         "title": {
          "text": "<b>Quantidade de votações</b>"
         }
        }
       }
      },
      "text/html": [
       "<div>                            <div id=\"d80f2c20-fdef-41e4-963d-fb31a6c17770\" class=\"plotly-graph-div\" style=\"height:525px; width:100%;\"></div>            <script type=\"text/javascript\">                require([\"plotly\"], function(Plotly) {                    window.PLOTLYENV=window.PLOTLYENV || {};                                    if (document.getElementById(\"d80f2c20-fdef-41e4-963d-fb31a6c17770\")) {                    Plotly.newPlot(                        \"d80f2c20-fdef-41e4-963d-fb31a6c17770\",                        [{\"alignmentgroup\": \"True\", \"hovertemplate\": \"ano=%{x}<br>idVotacao=%{y}<extra></extra>\", \"legendgroup\": \"\", \"marker\": {\"color\": \"#30ade3\"}, \"name\": \"\", \"offsetgroup\": \"\", \"orientation\": \"v\", \"showlegend\": false, \"textposition\": \"auto\", \"type\": \"bar\", \"x\": [2003, 2004, 2005, 2006, 2007, 2008, 2009, 2010, 2011, 2012, 2013, 2014, 2015, 2016, 2017, 2018, 2019, 2020, 2021], \"xaxis\": \"x\", \"y\": [61, 97, 67, 65, 164, 118, 170, 82, 125, 85, 153, 83, 312, 209, 235, 141, 333, 393, 955], \"yaxis\": \"y\"}],                        {\"barmode\": \"relative\", \"legend\": {\"tracegroupgap\": 0}, \"margin\": {\"t\": 60}, \"plot_bgcolor\": \"white\", \"template\": {\"data\": {\"bar\": [{\"error_x\": {\"color\": \"#2a3f5f\"}, \"error_y\": {\"color\": \"#2a3f5f\"}, \"marker\": {\"line\": {\"color\": \"#E5ECF6\", \"width\": 0.5}}, \"type\": \"bar\"}], \"barpolar\": [{\"marker\": {\"line\": {\"color\": \"#E5ECF6\", \"width\": 0.5}}, \"type\": \"barpolar\"}], \"carpet\": [{\"aaxis\": {\"endlinecolor\": \"#2a3f5f\", \"gridcolor\": \"white\", \"linecolor\": \"white\", \"minorgridcolor\": \"white\", \"startlinecolor\": \"#2a3f5f\"}, \"baxis\": {\"endlinecolor\": \"#2a3f5f\", \"gridcolor\": \"white\", \"linecolor\": \"white\", \"minorgridcolor\": \"white\", \"startlinecolor\": \"#2a3f5f\"}, \"type\": \"carpet\"}], \"choropleth\": [{\"colorbar\": {\"outlinewidth\": 0, \"ticks\": \"\"}, \"type\": \"choropleth\"}], \"contour\": [{\"colorbar\": {\"outlinewidth\": 0, \"ticks\": \"\"}, \"colorscale\": [[0.0, \"#0d0887\"], [0.1111111111111111, \"#46039f\"], [0.2222222222222222, \"#7201a8\"], [0.3333333333333333, \"#9c179e\"], [0.4444444444444444, \"#bd3786\"], [0.5555555555555556, \"#d8576b\"], [0.6666666666666666, \"#ed7953\"], [0.7777777777777778, \"#fb9f3a\"], [0.8888888888888888, \"#fdca26\"], [1.0, \"#f0f921\"]], \"type\": \"contour\"}], \"contourcarpet\": [{\"colorbar\": {\"outlinewidth\": 0, \"ticks\": \"\"}, \"type\": \"contourcarpet\"}], \"heatmap\": [{\"colorbar\": {\"outlinewidth\": 0, \"ticks\": \"\"}, \"colorscale\": [[0.0, \"#0d0887\"], [0.1111111111111111, \"#46039f\"], [0.2222222222222222, \"#7201a8\"], [0.3333333333333333, \"#9c179e\"], [0.4444444444444444, \"#bd3786\"], [0.5555555555555556, \"#d8576b\"], [0.6666666666666666, \"#ed7953\"], [0.7777777777777778, \"#fb9f3a\"], [0.8888888888888888, \"#fdca26\"], [1.0, \"#f0f921\"]], \"type\": \"heatmap\"}], \"heatmapgl\": [{\"colorbar\": {\"outlinewidth\": 0, \"ticks\": \"\"}, \"colorscale\": [[0.0, \"#0d0887\"], [0.1111111111111111, \"#46039f\"], [0.2222222222222222, \"#7201a8\"], [0.3333333333333333, \"#9c179e\"], [0.4444444444444444, \"#bd3786\"], [0.5555555555555556, \"#d8576b\"], [0.6666666666666666, \"#ed7953\"], [0.7777777777777778, \"#fb9f3a\"], [0.8888888888888888, \"#fdca26\"], [1.0, \"#f0f921\"]], \"type\": \"heatmapgl\"}], \"histogram\": [{\"marker\": {\"colorbar\": {\"outlinewidth\": 0, \"ticks\": \"\"}}, \"type\": \"histogram\"}], \"histogram2d\": [{\"colorbar\": {\"outlinewidth\": 0, \"ticks\": \"\"}, \"colorscale\": [[0.0, \"#0d0887\"], [0.1111111111111111, \"#46039f\"], [0.2222222222222222, \"#7201a8\"], [0.3333333333333333, \"#9c179e\"], [0.4444444444444444, \"#bd3786\"], [0.5555555555555556, \"#d8576b\"], [0.6666666666666666, \"#ed7953\"], [0.7777777777777778, \"#fb9f3a\"], [0.8888888888888888, \"#fdca26\"], [1.0, \"#f0f921\"]], \"type\": \"histogram2d\"}], \"histogram2dcontour\": [{\"colorbar\": {\"outlinewidth\": 0, \"ticks\": \"\"}, \"colorscale\": [[0.0, \"#0d0887\"], [0.1111111111111111, \"#46039f\"], [0.2222222222222222, \"#7201a8\"], [0.3333333333333333, \"#9c179e\"], [0.4444444444444444, \"#bd3786\"], [0.5555555555555556, \"#d8576b\"], [0.6666666666666666, \"#ed7953\"], [0.7777777777777778, \"#fb9f3a\"], [0.8888888888888888, \"#fdca26\"], [1.0, \"#f0f921\"]], \"type\": \"histogram2dcontour\"}], \"mesh3d\": [{\"colorbar\": {\"outlinewidth\": 0, \"ticks\": \"\"}, \"type\": \"mesh3d\"}], \"parcoords\": [{\"line\": {\"colorbar\": {\"outlinewidth\": 0, \"ticks\": \"\"}}, \"type\": \"parcoords\"}], \"pie\": [{\"automargin\": true, \"type\": \"pie\"}], \"scatter\": [{\"marker\": {\"colorbar\": {\"outlinewidth\": 0, \"ticks\": \"\"}}, \"type\": \"scatter\"}], \"scatter3d\": [{\"line\": {\"colorbar\": {\"outlinewidth\": 0, \"ticks\": \"\"}}, \"marker\": {\"colorbar\": {\"outlinewidth\": 0, \"ticks\": \"\"}}, \"type\": \"scatter3d\"}], \"scattercarpet\": [{\"marker\": {\"colorbar\": {\"outlinewidth\": 0, \"ticks\": \"\"}}, \"type\": \"scattercarpet\"}], \"scattergeo\": [{\"marker\": {\"colorbar\": {\"outlinewidth\": 0, \"ticks\": \"\"}}, \"type\": \"scattergeo\"}], \"scattergl\": [{\"marker\": {\"colorbar\": {\"outlinewidth\": 0, \"ticks\": \"\"}}, \"type\": \"scattergl\"}], \"scattermapbox\": [{\"marker\": {\"colorbar\": {\"outlinewidth\": 0, \"ticks\": \"\"}}, \"type\": \"scattermapbox\"}], \"scatterpolar\": [{\"marker\": {\"colorbar\": {\"outlinewidth\": 0, \"ticks\": \"\"}}, \"type\": \"scatterpolar\"}], \"scatterpolargl\": [{\"marker\": {\"colorbar\": {\"outlinewidth\": 0, \"ticks\": \"\"}}, \"type\": \"scatterpolargl\"}], \"scatterternary\": [{\"marker\": {\"colorbar\": {\"outlinewidth\": 0, \"ticks\": \"\"}}, \"type\": \"scatterternary\"}], \"surface\": [{\"colorbar\": {\"outlinewidth\": 0, \"ticks\": \"\"}, \"colorscale\": [[0.0, \"#0d0887\"], [0.1111111111111111, \"#46039f\"], [0.2222222222222222, \"#7201a8\"], [0.3333333333333333, \"#9c179e\"], [0.4444444444444444, \"#bd3786\"], [0.5555555555555556, \"#d8576b\"], [0.6666666666666666, \"#ed7953\"], [0.7777777777777778, \"#fb9f3a\"], [0.8888888888888888, \"#fdca26\"], [1.0, \"#f0f921\"]], \"type\": \"surface\"}], \"table\": [{\"cells\": {\"fill\": {\"color\": \"#EBF0F8\"}, \"line\": {\"color\": \"white\"}}, \"header\": {\"fill\": {\"color\": \"#C8D4E3\"}, \"line\": {\"color\": \"white\"}}, \"type\": \"table\"}]}, \"layout\": {\"annotationdefaults\": {\"arrowcolor\": \"#2a3f5f\", \"arrowhead\": 0, \"arrowwidth\": 1}, \"autotypenumbers\": \"strict\", \"coloraxis\": {\"colorbar\": {\"outlinewidth\": 0, \"ticks\": \"\"}}, \"colorscale\": {\"diverging\": [[0, \"#8e0152\"], [0.1, \"#c51b7d\"], [0.2, \"#de77ae\"], [0.3, \"#f1b6da\"], [0.4, \"#fde0ef\"], [0.5, \"#f7f7f7\"], [0.6, \"#e6f5d0\"], [0.7, \"#b8e186\"], [0.8, \"#7fbc41\"], [0.9, \"#4d9221\"], [1, \"#276419\"]], \"sequential\": [[0.0, \"#0d0887\"], [0.1111111111111111, \"#46039f\"], [0.2222222222222222, \"#7201a8\"], [0.3333333333333333, \"#9c179e\"], [0.4444444444444444, \"#bd3786\"], [0.5555555555555556, \"#d8576b\"], [0.6666666666666666, \"#ed7953\"], [0.7777777777777778, \"#fb9f3a\"], [0.8888888888888888, \"#fdca26\"], [1.0, \"#f0f921\"]], \"sequentialminus\": [[0.0, \"#0d0887\"], [0.1111111111111111, \"#46039f\"], [0.2222222222222222, \"#7201a8\"], [0.3333333333333333, \"#9c179e\"], [0.4444444444444444, \"#bd3786\"], [0.5555555555555556, \"#d8576b\"], [0.6666666666666666, \"#ed7953\"], [0.7777777777777778, \"#fb9f3a\"], [0.8888888888888888, \"#fdca26\"], [1.0, \"#f0f921\"]]}, \"colorway\": [\"#636efa\", \"#EF553B\", \"#00cc96\", \"#ab63fa\", \"#FFA15A\", \"#19d3f3\", \"#FF6692\", \"#B6E880\", \"#FF97FF\", \"#FECB52\"], \"font\": {\"color\": \"#2a3f5f\"}, \"geo\": {\"bgcolor\": \"white\", \"lakecolor\": \"white\", \"landcolor\": \"#E5ECF6\", \"showlakes\": true, \"showland\": true, \"subunitcolor\": \"white\"}, \"hoverlabel\": {\"align\": \"left\"}, \"hovermode\": \"closest\", \"mapbox\": {\"style\": \"light\"}, \"paper_bgcolor\": \"white\", \"plot_bgcolor\": \"#E5ECF6\", \"polar\": {\"angularaxis\": {\"gridcolor\": \"white\", \"linecolor\": \"white\", \"ticks\": \"\"}, \"bgcolor\": \"#E5ECF6\", \"radialaxis\": {\"gridcolor\": \"white\", \"linecolor\": \"white\", \"ticks\": \"\"}}, \"scene\": {\"xaxis\": {\"backgroundcolor\": \"#E5ECF6\", \"gridcolor\": \"white\", \"gridwidth\": 2, \"linecolor\": \"white\", \"showbackground\": true, \"ticks\": \"\", \"zerolinecolor\": \"white\"}, \"yaxis\": {\"backgroundcolor\": \"#E5ECF6\", \"gridcolor\": \"white\", \"gridwidth\": 2, \"linecolor\": \"white\", \"showbackground\": true, \"ticks\": \"\", \"zerolinecolor\": \"white\"}, \"zaxis\": {\"backgroundcolor\": \"#E5ECF6\", \"gridcolor\": \"white\", \"gridwidth\": 2, \"linecolor\": \"white\", \"showbackground\": true, \"ticks\": \"\", \"zerolinecolor\": \"white\"}}, \"shapedefaults\": {\"line\": {\"color\": \"#2a3f5f\"}}, \"ternary\": {\"aaxis\": {\"gridcolor\": \"white\", \"linecolor\": \"white\", \"ticks\": \"\"}, \"baxis\": {\"gridcolor\": \"white\", \"linecolor\": \"white\", \"ticks\": \"\"}, \"bgcolor\": \"#E5ECF6\", \"caxis\": {\"gridcolor\": \"white\", \"linecolor\": \"white\", \"ticks\": \"\"}}, \"title\": {\"x\": 0.05}, \"xaxis\": {\"automargin\": true, \"gridcolor\": \"white\", \"linecolor\": \"white\", \"ticks\": \"\", \"title\": {\"standoff\": 15}, \"zerolinecolor\": \"white\", \"zerolinewidth\": 2}, \"yaxis\": {\"automargin\": true, \"gridcolor\": \"white\", \"linecolor\": \"white\", \"ticks\": \"\", \"title\": {\"standoff\": 15}, \"zerolinecolor\": \"white\", \"zerolinewidth\": 2}}}, \"title\": {\"text\": \"Total de vota\\u00e7\\u00f5es ao longo dos anos\", \"x\": 0.5}, \"xaxis\": {\"anchor\": \"y\", \"domain\": [0.0, 1.0], \"title\": {\"text\": \"<b>Ano</b>\"}, \"type\": \"category\"}, \"yaxis\": {\"anchor\": \"x\", \"domain\": [0.0, 1.0], \"title\": {\"text\": \"<b>Quantidade de vota\\u00e7\\u00f5es</b>\"}}},                        {\"responsive\": true}                    ).then(function(){\n",
       "                            \n",
       "var gd = document.getElementById('d80f2c20-fdef-41e4-963d-fb31a6c17770');\n",
       "var x = new MutationObserver(function (mutations, observer) {{\n",
       "        var display = window.getComputedStyle(gd).display;\n",
       "        if (!display || display === 'none') {{\n",
       "            console.log([gd, 'removed!']);\n",
       "            Plotly.purge(gd);\n",
       "            observer.disconnect();\n",
       "        }}\n",
       "}});\n",
       "\n",
       "// Listen for the removal of the full notebook cells\n",
       "var notebookContainer = gd.closest('#notebook-container');\n",
       "if (notebookContainer) {{\n",
       "    x.observe(notebookContainer, {childList: true});\n",
       "}}\n",
       "\n",
       "// Listen for the clearing of the current output cell\n",
       "var outputEl = gd.closest('.output');\n",
       "if (outputEl) {{\n",
       "    x.observe(outputEl, {childList: true});\n",
       "}}\n",
       "\n",
       "                        })                };                });            </script>        </div>"
      ]
     },
     "metadata": {},
     "output_type": "display_data"
    }
   ],
   "source": [
    "fig = px.bar(votacoes_por_ano, x='ano', y='idVotacao')\n",
    "fig.update_layout(plot_bgcolor=\"white\")\n",
    "fig.update_layout(title_x=0.5)\n",
    "fig.update_layout(\n",
    "    title_text=\"Total de votações ao longo dos anos\",\n",
    "    title_x=0.5,\n",
    "    xaxis_title_text=\"<b>Ano</b>\",\n",
    "    yaxis_title_text=\"<b>Quantidade de votações</b>\",\n",
    ")\n",
    "fig.update_traces(marker_color='#30ade3')\n",
    "fig.update_layout(xaxis = {'type' : 'category'})\n",
    "fig.show()"
   ]
  },
  {
   "cell_type": "code",
   "execution_count": 60,
   "metadata": {},
   "outputs": [
    {
     "data": {
      "application/vnd.plotly.v1+json": {
       "config": {
        "plotlyServerURL": "https://plot.ly"
       },
       "data": [
        {
         "alignmentgroup": "True",
         "hovertemplate": "ano=%{x}<br>voto_count=%{y}<extra></extra>",
         "legendgroup": "",
         "marker": {
          "color": "#30ade3"
         },
         "name": "",
         "offsetgroup": "",
         "orientation": "v",
         "showlegend": false,
         "textposition": "auto",
         "type": "bar",
         "x": [
          2003,
          2004,
          2005,
          2006,
          2007,
          2008,
          2009,
          2010,
          2011,
          2012,
          2013,
          2014,
          2015,
          2016,
          2017,
          2018,
          2019,
          2020,
          2021
         ],
         "xaxis": "x",
         "y": [
          12380,
          24903,
          17455,
          20704,
          41102,
          32110,
          45908,
          22293,
          33237,
          22345,
          43188,
          24207,
          113394,
          72419,
          76522,
          45568,
          120952,
          159717,
          321146
         ],
         "yaxis": "y"
        }
       ],
       "layout": {
        "barmode": "relative",
        "legend": {
         "tracegroupgap": 0
        },
        "margin": {
         "t": 60
        },
        "plot_bgcolor": "white",
        "template": {
         "data": {
          "bar": [
           {
            "error_x": {
             "color": "#2a3f5f"
            },
            "error_y": {
             "color": "#2a3f5f"
            },
            "marker": {
             "line": {
              "color": "#E5ECF6",
              "width": 0.5
             }
            },
            "type": "bar"
           }
          ],
          "barpolar": [
           {
            "marker": {
             "line": {
              "color": "#E5ECF6",
              "width": 0.5
             }
            },
            "type": "barpolar"
           }
          ],
          "carpet": [
           {
            "aaxis": {
             "endlinecolor": "#2a3f5f",
             "gridcolor": "white",
             "linecolor": "white",
             "minorgridcolor": "white",
             "startlinecolor": "#2a3f5f"
            },
            "baxis": {
             "endlinecolor": "#2a3f5f",
             "gridcolor": "white",
             "linecolor": "white",
             "minorgridcolor": "white",
             "startlinecolor": "#2a3f5f"
            },
            "type": "carpet"
           }
          ],
          "choropleth": [
           {
            "colorbar": {
             "outlinewidth": 0,
             "ticks": ""
            },
            "type": "choropleth"
           }
          ],
          "contour": [
           {
            "colorbar": {
             "outlinewidth": 0,
             "ticks": ""
            },
            "colorscale": [
             [
              0,
              "#0d0887"
             ],
             [
              0.1111111111111111,
              "#46039f"
             ],
             [
              0.2222222222222222,
              "#7201a8"
             ],
             [
              0.3333333333333333,
              "#9c179e"
             ],
             [
              0.4444444444444444,
              "#bd3786"
             ],
             [
              0.5555555555555556,
              "#d8576b"
             ],
             [
              0.6666666666666666,
              "#ed7953"
             ],
             [
              0.7777777777777778,
              "#fb9f3a"
             ],
             [
              0.8888888888888888,
              "#fdca26"
             ],
             [
              1,
              "#f0f921"
             ]
            ],
            "type": "contour"
           }
          ],
          "contourcarpet": [
           {
            "colorbar": {
             "outlinewidth": 0,
             "ticks": ""
            },
            "type": "contourcarpet"
           }
          ],
          "heatmap": [
           {
            "colorbar": {
             "outlinewidth": 0,
             "ticks": ""
            },
            "colorscale": [
             [
              0,
              "#0d0887"
             ],
             [
              0.1111111111111111,
              "#46039f"
             ],
             [
              0.2222222222222222,
              "#7201a8"
             ],
             [
              0.3333333333333333,
              "#9c179e"
             ],
             [
              0.4444444444444444,
              "#bd3786"
             ],
             [
              0.5555555555555556,
              "#d8576b"
             ],
             [
              0.6666666666666666,
              "#ed7953"
             ],
             [
              0.7777777777777778,
              "#fb9f3a"
             ],
             [
              0.8888888888888888,
              "#fdca26"
             ],
             [
              1,
              "#f0f921"
             ]
            ],
            "type": "heatmap"
           }
          ],
          "heatmapgl": [
           {
            "colorbar": {
             "outlinewidth": 0,
             "ticks": ""
            },
            "colorscale": [
             [
              0,
              "#0d0887"
             ],
             [
              0.1111111111111111,
              "#46039f"
             ],
             [
              0.2222222222222222,
              "#7201a8"
             ],
             [
              0.3333333333333333,
              "#9c179e"
             ],
             [
              0.4444444444444444,
              "#bd3786"
             ],
             [
              0.5555555555555556,
              "#d8576b"
             ],
             [
              0.6666666666666666,
              "#ed7953"
             ],
             [
              0.7777777777777778,
              "#fb9f3a"
             ],
             [
              0.8888888888888888,
              "#fdca26"
             ],
             [
              1,
              "#f0f921"
             ]
            ],
            "type": "heatmapgl"
           }
          ],
          "histogram": [
           {
            "marker": {
             "colorbar": {
              "outlinewidth": 0,
              "ticks": ""
             }
            },
            "type": "histogram"
           }
          ],
          "histogram2d": [
           {
            "colorbar": {
             "outlinewidth": 0,
             "ticks": ""
            },
            "colorscale": [
             [
              0,
              "#0d0887"
             ],
             [
              0.1111111111111111,
              "#46039f"
             ],
             [
              0.2222222222222222,
              "#7201a8"
             ],
             [
              0.3333333333333333,
              "#9c179e"
             ],
             [
              0.4444444444444444,
              "#bd3786"
             ],
             [
              0.5555555555555556,
              "#d8576b"
             ],
             [
              0.6666666666666666,
              "#ed7953"
             ],
             [
              0.7777777777777778,
              "#fb9f3a"
             ],
             [
              0.8888888888888888,
              "#fdca26"
             ],
             [
              1,
              "#f0f921"
             ]
            ],
            "type": "histogram2d"
           }
          ],
          "histogram2dcontour": [
           {
            "colorbar": {
             "outlinewidth": 0,
             "ticks": ""
            },
            "colorscale": [
             [
              0,
              "#0d0887"
             ],
             [
              0.1111111111111111,
              "#46039f"
             ],
             [
              0.2222222222222222,
              "#7201a8"
             ],
             [
              0.3333333333333333,
              "#9c179e"
             ],
             [
              0.4444444444444444,
              "#bd3786"
             ],
             [
              0.5555555555555556,
              "#d8576b"
             ],
             [
              0.6666666666666666,
              "#ed7953"
             ],
             [
              0.7777777777777778,
              "#fb9f3a"
             ],
             [
              0.8888888888888888,
              "#fdca26"
             ],
             [
              1,
              "#f0f921"
             ]
            ],
            "type": "histogram2dcontour"
           }
          ],
          "mesh3d": [
           {
            "colorbar": {
             "outlinewidth": 0,
             "ticks": ""
            },
            "type": "mesh3d"
           }
          ],
          "parcoords": [
           {
            "line": {
             "colorbar": {
              "outlinewidth": 0,
              "ticks": ""
             }
            },
            "type": "parcoords"
           }
          ],
          "pie": [
           {
            "automargin": true,
            "type": "pie"
           }
          ],
          "scatter": [
           {
            "marker": {
             "colorbar": {
              "outlinewidth": 0,
              "ticks": ""
             }
            },
            "type": "scatter"
           }
          ],
          "scatter3d": [
           {
            "line": {
             "colorbar": {
              "outlinewidth": 0,
              "ticks": ""
             }
            },
            "marker": {
             "colorbar": {
              "outlinewidth": 0,
              "ticks": ""
             }
            },
            "type": "scatter3d"
           }
          ],
          "scattercarpet": [
           {
            "marker": {
             "colorbar": {
              "outlinewidth": 0,
              "ticks": ""
             }
            },
            "type": "scattercarpet"
           }
          ],
          "scattergeo": [
           {
            "marker": {
             "colorbar": {
              "outlinewidth": 0,
              "ticks": ""
             }
            },
            "type": "scattergeo"
           }
          ],
          "scattergl": [
           {
            "marker": {
             "colorbar": {
              "outlinewidth": 0,
              "ticks": ""
             }
            },
            "type": "scattergl"
           }
          ],
          "scattermapbox": [
           {
            "marker": {
             "colorbar": {
              "outlinewidth": 0,
              "ticks": ""
             }
            },
            "type": "scattermapbox"
           }
          ],
          "scatterpolar": [
           {
            "marker": {
             "colorbar": {
              "outlinewidth": 0,
              "ticks": ""
             }
            },
            "type": "scatterpolar"
           }
          ],
          "scatterpolargl": [
           {
            "marker": {
             "colorbar": {
              "outlinewidth": 0,
              "ticks": ""
             }
            },
            "type": "scatterpolargl"
           }
          ],
          "scatterternary": [
           {
            "marker": {
             "colorbar": {
              "outlinewidth": 0,
              "ticks": ""
             }
            },
            "type": "scatterternary"
           }
          ],
          "surface": [
           {
            "colorbar": {
             "outlinewidth": 0,
             "ticks": ""
            },
            "colorscale": [
             [
              0,
              "#0d0887"
             ],
             [
              0.1111111111111111,
              "#46039f"
             ],
             [
              0.2222222222222222,
              "#7201a8"
             ],
             [
              0.3333333333333333,
              "#9c179e"
             ],
             [
              0.4444444444444444,
              "#bd3786"
             ],
             [
              0.5555555555555556,
              "#d8576b"
             ],
             [
              0.6666666666666666,
              "#ed7953"
             ],
             [
              0.7777777777777778,
              "#fb9f3a"
             ],
             [
              0.8888888888888888,
              "#fdca26"
             ],
             [
              1,
              "#f0f921"
             ]
            ],
            "type": "surface"
           }
          ],
          "table": [
           {
            "cells": {
             "fill": {
              "color": "#EBF0F8"
             },
             "line": {
              "color": "white"
             }
            },
            "header": {
             "fill": {
              "color": "#C8D4E3"
             },
             "line": {
              "color": "white"
             }
            },
            "type": "table"
           }
          ]
         },
         "layout": {
          "annotationdefaults": {
           "arrowcolor": "#2a3f5f",
           "arrowhead": 0,
           "arrowwidth": 1
          },
          "autotypenumbers": "strict",
          "coloraxis": {
           "colorbar": {
            "outlinewidth": 0,
            "ticks": ""
           }
          },
          "colorscale": {
           "diverging": [
            [
             0,
             "#8e0152"
            ],
            [
             0.1,
             "#c51b7d"
            ],
            [
             0.2,
             "#de77ae"
            ],
            [
             0.3,
             "#f1b6da"
            ],
            [
             0.4,
             "#fde0ef"
            ],
            [
             0.5,
             "#f7f7f7"
            ],
            [
             0.6,
             "#e6f5d0"
            ],
            [
             0.7,
             "#b8e186"
            ],
            [
             0.8,
             "#7fbc41"
            ],
            [
             0.9,
             "#4d9221"
            ],
            [
             1,
             "#276419"
            ]
           ],
           "sequential": [
            [
             0,
             "#0d0887"
            ],
            [
             0.1111111111111111,
             "#46039f"
            ],
            [
             0.2222222222222222,
             "#7201a8"
            ],
            [
             0.3333333333333333,
             "#9c179e"
            ],
            [
             0.4444444444444444,
             "#bd3786"
            ],
            [
             0.5555555555555556,
             "#d8576b"
            ],
            [
             0.6666666666666666,
             "#ed7953"
            ],
            [
             0.7777777777777778,
             "#fb9f3a"
            ],
            [
             0.8888888888888888,
             "#fdca26"
            ],
            [
             1,
             "#f0f921"
            ]
           ],
           "sequentialminus": [
            [
             0,
             "#0d0887"
            ],
            [
             0.1111111111111111,
             "#46039f"
            ],
            [
             0.2222222222222222,
             "#7201a8"
            ],
            [
             0.3333333333333333,
             "#9c179e"
            ],
            [
             0.4444444444444444,
             "#bd3786"
            ],
            [
             0.5555555555555556,
             "#d8576b"
            ],
            [
             0.6666666666666666,
             "#ed7953"
            ],
            [
             0.7777777777777778,
             "#fb9f3a"
            ],
            [
             0.8888888888888888,
             "#fdca26"
            ],
            [
             1,
             "#f0f921"
            ]
           ]
          },
          "colorway": [
           "#636efa",
           "#EF553B",
           "#00cc96",
           "#ab63fa",
           "#FFA15A",
           "#19d3f3",
           "#FF6692",
           "#B6E880",
           "#FF97FF",
           "#FECB52"
          ],
          "font": {
           "color": "#2a3f5f"
          },
          "geo": {
           "bgcolor": "white",
           "lakecolor": "white",
           "landcolor": "#E5ECF6",
           "showlakes": true,
           "showland": true,
           "subunitcolor": "white"
          },
          "hoverlabel": {
           "align": "left"
          },
          "hovermode": "closest",
          "mapbox": {
           "style": "light"
          },
          "paper_bgcolor": "white",
          "plot_bgcolor": "#E5ECF6",
          "polar": {
           "angularaxis": {
            "gridcolor": "white",
            "linecolor": "white",
            "ticks": ""
           },
           "bgcolor": "#E5ECF6",
           "radialaxis": {
            "gridcolor": "white",
            "linecolor": "white",
            "ticks": ""
           }
          },
          "scene": {
           "xaxis": {
            "backgroundcolor": "#E5ECF6",
            "gridcolor": "white",
            "gridwidth": 2,
            "linecolor": "white",
            "showbackground": true,
            "ticks": "",
            "zerolinecolor": "white"
           },
           "yaxis": {
            "backgroundcolor": "#E5ECF6",
            "gridcolor": "white",
            "gridwidth": 2,
            "linecolor": "white",
            "showbackground": true,
            "ticks": "",
            "zerolinecolor": "white"
           },
           "zaxis": {
            "backgroundcolor": "#E5ECF6",
            "gridcolor": "white",
            "gridwidth": 2,
            "linecolor": "white",
            "showbackground": true,
            "ticks": "",
            "zerolinecolor": "white"
           }
          },
          "shapedefaults": {
           "line": {
            "color": "#2a3f5f"
           }
          },
          "ternary": {
           "aaxis": {
            "gridcolor": "white",
            "linecolor": "white",
            "ticks": ""
           },
           "baxis": {
            "gridcolor": "white",
            "linecolor": "white",
            "ticks": ""
           },
           "bgcolor": "#E5ECF6",
           "caxis": {
            "gridcolor": "white",
            "linecolor": "white",
            "ticks": ""
           }
          },
          "title": {
           "x": 0.05
          },
          "xaxis": {
           "automargin": true,
           "gridcolor": "white",
           "linecolor": "white",
           "ticks": "",
           "title": {
            "standoff": 15
           },
           "zerolinecolor": "white",
           "zerolinewidth": 2
          },
          "yaxis": {
           "automargin": true,
           "gridcolor": "white",
           "linecolor": "white",
           "ticks": "",
           "title": {
            "standoff": 15
           },
           "zerolinecolor": "white",
           "zerolinewidth": 2
          }
         }
        },
        "title": {
         "text": "Total de votos ao longo dos anos",
         "x": 0.5
        },
        "xaxis": {
         "anchor": "y",
         "domain": [
          0,
          1
         ],
         "title": {
          "text": "<b>Ano</b>"
         },
         "type": "category"
        },
        "yaxis": {
         "anchor": "x",
         "domain": [
          0,
          1
         ],
         "title": {
          "text": "<b>Quantidade de votos</b>"
         }
        }
       }
      },
      "text/html": [
       "<div>                            <div id=\"332571ec-b1e2-4ebb-ad6c-8e020c1fed7b\" class=\"plotly-graph-div\" style=\"height:525px; width:100%;\"></div>            <script type=\"text/javascript\">                require([\"plotly\"], function(Plotly) {                    window.PLOTLYENV=window.PLOTLYENV || {};                                    if (document.getElementById(\"332571ec-b1e2-4ebb-ad6c-8e020c1fed7b\")) {                    Plotly.newPlot(                        \"332571ec-b1e2-4ebb-ad6c-8e020c1fed7b\",                        [{\"alignmentgroup\": \"True\", \"hovertemplate\": \"ano=%{x}<br>voto_count=%{y}<extra></extra>\", \"legendgroup\": \"\", \"marker\": {\"color\": \"#30ade3\"}, \"name\": \"\", \"offsetgroup\": \"\", \"orientation\": \"v\", \"showlegend\": false, \"textposition\": \"auto\", \"type\": \"bar\", \"x\": [2003, 2004, 2005, 2006, 2007, 2008, 2009, 2010, 2011, 2012, 2013, 2014, 2015, 2016, 2017, 2018, 2019, 2020, 2021], \"xaxis\": \"x\", \"y\": [12380, 24903, 17455, 20704, 41102, 32110, 45908, 22293, 33237, 22345, 43188, 24207, 113394, 72419, 76522, 45568, 120952, 159717, 321146], \"yaxis\": \"y\"}],                        {\"barmode\": \"relative\", \"legend\": {\"tracegroupgap\": 0}, \"margin\": {\"t\": 60}, \"plot_bgcolor\": \"white\", \"template\": {\"data\": {\"bar\": [{\"error_x\": {\"color\": \"#2a3f5f\"}, \"error_y\": {\"color\": \"#2a3f5f\"}, \"marker\": {\"line\": {\"color\": \"#E5ECF6\", \"width\": 0.5}}, \"type\": \"bar\"}], \"barpolar\": [{\"marker\": {\"line\": {\"color\": \"#E5ECF6\", \"width\": 0.5}}, \"type\": \"barpolar\"}], \"carpet\": [{\"aaxis\": {\"endlinecolor\": \"#2a3f5f\", \"gridcolor\": \"white\", \"linecolor\": \"white\", \"minorgridcolor\": \"white\", \"startlinecolor\": \"#2a3f5f\"}, \"baxis\": {\"endlinecolor\": \"#2a3f5f\", \"gridcolor\": \"white\", \"linecolor\": \"white\", \"minorgridcolor\": \"white\", \"startlinecolor\": \"#2a3f5f\"}, \"type\": \"carpet\"}], \"choropleth\": [{\"colorbar\": {\"outlinewidth\": 0, \"ticks\": \"\"}, \"type\": \"choropleth\"}], \"contour\": [{\"colorbar\": {\"outlinewidth\": 0, \"ticks\": \"\"}, \"colorscale\": [[0.0, \"#0d0887\"], [0.1111111111111111, \"#46039f\"], [0.2222222222222222, \"#7201a8\"], [0.3333333333333333, \"#9c179e\"], [0.4444444444444444, \"#bd3786\"], [0.5555555555555556, \"#d8576b\"], [0.6666666666666666, \"#ed7953\"], [0.7777777777777778, \"#fb9f3a\"], [0.8888888888888888, \"#fdca26\"], [1.0, \"#f0f921\"]], \"type\": \"contour\"}], \"contourcarpet\": [{\"colorbar\": {\"outlinewidth\": 0, \"ticks\": \"\"}, \"type\": \"contourcarpet\"}], \"heatmap\": [{\"colorbar\": {\"outlinewidth\": 0, \"ticks\": \"\"}, \"colorscale\": [[0.0, \"#0d0887\"], [0.1111111111111111, \"#46039f\"], [0.2222222222222222, \"#7201a8\"], [0.3333333333333333, \"#9c179e\"], [0.4444444444444444, \"#bd3786\"], [0.5555555555555556, \"#d8576b\"], [0.6666666666666666, \"#ed7953\"], [0.7777777777777778, \"#fb9f3a\"], [0.8888888888888888, \"#fdca26\"], [1.0, \"#f0f921\"]], \"type\": \"heatmap\"}], \"heatmapgl\": [{\"colorbar\": {\"outlinewidth\": 0, \"ticks\": \"\"}, \"colorscale\": [[0.0, \"#0d0887\"], [0.1111111111111111, \"#46039f\"], [0.2222222222222222, \"#7201a8\"], [0.3333333333333333, \"#9c179e\"], [0.4444444444444444, \"#bd3786\"], [0.5555555555555556, \"#d8576b\"], [0.6666666666666666, \"#ed7953\"], [0.7777777777777778, \"#fb9f3a\"], [0.8888888888888888, \"#fdca26\"], [1.0, \"#f0f921\"]], \"type\": \"heatmapgl\"}], \"histogram\": [{\"marker\": {\"colorbar\": {\"outlinewidth\": 0, \"ticks\": \"\"}}, \"type\": \"histogram\"}], \"histogram2d\": [{\"colorbar\": {\"outlinewidth\": 0, \"ticks\": \"\"}, \"colorscale\": [[0.0, \"#0d0887\"], [0.1111111111111111, \"#46039f\"], [0.2222222222222222, \"#7201a8\"], [0.3333333333333333, \"#9c179e\"], [0.4444444444444444, \"#bd3786\"], [0.5555555555555556, \"#d8576b\"], [0.6666666666666666, \"#ed7953\"], [0.7777777777777778, \"#fb9f3a\"], [0.8888888888888888, \"#fdca26\"], [1.0, \"#f0f921\"]], \"type\": \"histogram2d\"}], \"histogram2dcontour\": [{\"colorbar\": {\"outlinewidth\": 0, \"ticks\": \"\"}, \"colorscale\": [[0.0, \"#0d0887\"], [0.1111111111111111, \"#46039f\"], [0.2222222222222222, \"#7201a8\"], [0.3333333333333333, \"#9c179e\"], [0.4444444444444444, \"#bd3786\"], [0.5555555555555556, \"#d8576b\"], [0.6666666666666666, \"#ed7953\"], [0.7777777777777778, \"#fb9f3a\"], [0.8888888888888888, \"#fdca26\"], [1.0, \"#f0f921\"]], \"type\": \"histogram2dcontour\"}], \"mesh3d\": [{\"colorbar\": {\"outlinewidth\": 0, \"ticks\": \"\"}, \"type\": \"mesh3d\"}], \"parcoords\": [{\"line\": {\"colorbar\": {\"outlinewidth\": 0, \"ticks\": \"\"}}, \"type\": \"parcoords\"}], \"pie\": [{\"automargin\": true, \"type\": \"pie\"}], \"scatter\": [{\"marker\": {\"colorbar\": {\"outlinewidth\": 0, \"ticks\": \"\"}}, \"type\": \"scatter\"}], \"scatter3d\": [{\"line\": {\"colorbar\": {\"outlinewidth\": 0, \"ticks\": \"\"}}, \"marker\": {\"colorbar\": {\"outlinewidth\": 0, \"ticks\": \"\"}}, \"type\": \"scatter3d\"}], \"scattercarpet\": [{\"marker\": {\"colorbar\": {\"outlinewidth\": 0, \"ticks\": \"\"}}, \"type\": \"scattercarpet\"}], \"scattergeo\": [{\"marker\": {\"colorbar\": {\"outlinewidth\": 0, \"ticks\": \"\"}}, \"type\": \"scattergeo\"}], \"scattergl\": [{\"marker\": {\"colorbar\": {\"outlinewidth\": 0, \"ticks\": \"\"}}, \"type\": \"scattergl\"}], \"scattermapbox\": [{\"marker\": {\"colorbar\": {\"outlinewidth\": 0, \"ticks\": \"\"}}, \"type\": \"scattermapbox\"}], \"scatterpolar\": [{\"marker\": {\"colorbar\": {\"outlinewidth\": 0, \"ticks\": \"\"}}, \"type\": \"scatterpolar\"}], \"scatterpolargl\": [{\"marker\": {\"colorbar\": {\"outlinewidth\": 0, \"ticks\": \"\"}}, \"type\": \"scatterpolargl\"}], \"scatterternary\": [{\"marker\": {\"colorbar\": {\"outlinewidth\": 0, \"ticks\": \"\"}}, \"type\": \"scatterternary\"}], \"surface\": [{\"colorbar\": {\"outlinewidth\": 0, \"ticks\": \"\"}, \"colorscale\": [[0.0, \"#0d0887\"], [0.1111111111111111, \"#46039f\"], [0.2222222222222222, \"#7201a8\"], [0.3333333333333333, \"#9c179e\"], [0.4444444444444444, \"#bd3786\"], [0.5555555555555556, \"#d8576b\"], [0.6666666666666666, \"#ed7953\"], [0.7777777777777778, \"#fb9f3a\"], [0.8888888888888888, \"#fdca26\"], [1.0, \"#f0f921\"]], \"type\": \"surface\"}], \"table\": [{\"cells\": {\"fill\": {\"color\": \"#EBF0F8\"}, \"line\": {\"color\": \"white\"}}, \"header\": {\"fill\": {\"color\": \"#C8D4E3\"}, \"line\": {\"color\": \"white\"}}, \"type\": \"table\"}]}, \"layout\": {\"annotationdefaults\": {\"arrowcolor\": \"#2a3f5f\", \"arrowhead\": 0, \"arrowwidth\": 1}, \"autotypenumbers\": \"strict\", \"coloraxis\": {\"colorbar\": {\"outlinewidth\": 0, \"ticks\": \"\"}}, \"colorscale\": {\"diverging\": [[0, \"#8e0152\"], [0.1, \"#c51b7d\"], [0.2, \"#de77ae\"], [0.3, \"#f1b6da\"], [0.4, \"#fde0ef\"], [0.5, \"#f7f7f7\"], [0.6, \"#e6f5d0\"], [0.7, \"#b8e186\"], [0.8, \"#7fbc41\"], [0.9, \"#4d9221\"], [1, \"#276419\"]], \"sequential\": [[0.0, \"#0d0887\"], [0.1111111111111111, \"#46039f\"], [0.2222222222222222, \"#7201a8\"], [0.3333333333333333, \"#9c179e\"], [0.4444444444444444, \"#bd3786\"], [0.5555555555555556, \"#d8576b\"], [0.6666666666666666, \"#ed7953\"], [0.7777777777777778, \"#fb9f3a\"], [0.8888888888888888, \"#fdca26\"], [1.0, \"#f0f921\"]], \"sequentialminus\": [[0.0, \"#0d0887\"], [0.1111111111111111, \"#46039f\"], [0.2222222222222222, \"#7201a8\"], [0.3333333333333333, \"#9c179e\"], [0.4444444444444444, \"#bd3786\"], [0.5555555555555556, \"#d8576b\"], [0.6666666666666666, \"#ed7953\"], [0.7777777777777778, \"#fb9f3a\"], [0.8888888888888888, \"#fdca26\"], [1.0, \"#f0f921\"]]}, \"colorway\": [\"#636efa\", \"#EF553B\", \"#00cc96\", \"#ab63fa\", \"#FFA15A\", \"#19d3f3\", \"#FF6692\", \"#B6E880\", \"#FF97FF\", \"#FECB52\"], \"font\": {\"color\": \"#2a3f5f\"}, \"geo\": {\"bgcolor\": \"white\", \"lakecolor\": \"white\", \"landcolor\": \"#E5ECF6\", \"showlakes\": true, \"showland\": true, \"subunitcolor\": \"white\"}, \"hoverlabel\": {\"align\": \"left\"}, \"hovermode\": \"closest\", \"mapbox\": {\"style\": \"light\"}, \"paper_bgcolor\": \"white\", \"plot_bgcolor\": \"#E5ECF6\", \"polar\": {\"angularaxis\": {\"gridcolor\": \"white\", \"linecolor\": \"white\", \"ticks\": \"\"}, \"bgcolor\": \"#E5ECF6\", \"radialaxis\": {\"gridcolor\": \"white\", \"linecolor\": \"white\", \"ticks\": \"\"}}, \"scene\": {\"xaxis\": {\"backgroundcolor\": \"#E5ECF6\", \"gridcolor\": \"white\", \"gridwidth\": 2, \"linecolor\": \"white\", \"showbackground\": true, \"ticks\": \"\", \"zerolinecolor\": \"white\"}, \"yaxis\": {\"backgroundcolor\": \"#E5ECF6\", \"gridcolor\": \"white\", \"gridwidth\": 2, \"linecolor\": \"white\", \"showbackground\": true, \"ticks\": \"\", \"zerolinecolor\": \"white\"}, \"zaxis\": {\"backgroundcolor\": \"#E5ECF6\", \"gridcolor\": \"white\", \"gridwidth\": 2, \"linecolor\": \"white\", \"showbackground\": true, \"ticks\": \"\", \"zerolinecolor\": \"white\"}}, \"shapedefaults\": {\"line\": {\"color\": \"#2a3f5f\"}}, \"ternary\": {\"aaxis\": {\"gridcolor\": \"white\", \"linecolor\": \"white\", \"ticks\": \"\"}, \"baxis\": {\"gridcolor\": \"white\", \"linecolor\": \"white\", \"ticks\": \"\"}, \"bgcolor\": \"#E5ECF6\", \"caxis\": {\"gridcolor\": \"white\", \"linecolor\": \"white\", \"ticks\": \"\"}}, \"title\": {\"x\": 0.05}, \"xaxis\": {\"automargin\": true, \"gridcolor\": \"white\", \"linecolor\": \"white\", \"ticks\": \"\", \"title\": {\"standoff\": 15}, \"zerolinecolor\": \"white\", \"zerolinewidth\": 2}, \"yaxis\": {\"automargin\": true, \"gridcolor\": \"white\", \"linecolor\": \"white\", \"ticks\": \"\", \"title\": {\"standoff\": 15}, \"zerolinecolor\": \"white\", \"zerolinewidth\": 2}}}, \"title\": {\"text\": \"Total de votos ao longo dos anos\", \"x\": 0.5}, \"xaxis\": {\"anchor\": \"y\", \"domain\": [0.0, 1.0], \"title\": {\"text\": \"<b>Ano</b>\"}, \"type\": \"category\"}, \"yaxis\": {\"anchor\": \"x\", \"domain\": [0.0, 1.0], \"title\": {\"text\": \"<b>Quantidade de votos</b>\"}}},                        {\"responsive\": true}                    ).then(function(){\n",
       "                            \n",
       "var gd = document.getElementById('332571ec-b1e2-4ebb-ad6c-8e020c1fed7b');\n",
       "var x = new MutationObserver(function (mutations, observer) {{\n",
       "        var display = window.getComputedStyle(gd).display;\n",
       "        if (!display || display === 'none') {{\n",
       "            console.log([gd, 'removed!']);\n",
       "            Plotly.purge(gd);\n",
       "            observer.disconnect();\n",
       "        }}\n",
       "}});\n",
       "\n",
       "// Listen for the removal of the full notebook cells\n",
       "var notebookContainer = gd.closest('#notebook-container');\n",
       "if (notebookContainer) {{\n",
       "    x.observe(notebookContainer, {childList: true});\n",
       "}}\n",
       "\n",
       "// Listen for the clearing of the current output cell\n",
       "var outputEl = gd.closest('.output');\n",
       "if (outputEl) {{\n",
       "    x.observe(outputEl, {childList: true});\n",
       "}}\n",
       "\n",
       "                        })                };                });            </script>        </div>"
      ]
     },
     "metadata": {},
     "output_type": "display_data"
    }
   ],
   "source": [
    "fig = px.bar(votos_por_ano, x='ano', y='voto_count')\n",
    "fig.update_layout(plot_bgcolor=\"white\")\n",
    "fig.update_layout(\n",
    "    title_text=\"Total de votos ao longo dos anos\",\n",
    "    title_x=0.5,\n",
    "    xaxis_title_text=\"<b>Ano</b>\",\n",
    "    yaxis_title_text=\"<b>Quantidade de votos</b>\",\n",
    ")\n",
    "fig.update_traces(marker_color='#30ade3')\n",
    "fig.update_layout(xaxis = {'type' : 'category'})\n",
    "fig.show()"
   ]
  },
  {
   "cell_type": "code",
   "execution_count": 14,
   "metadata": {},
   "outputs": [
    {
     "data": {
      "text/html": [
       "<div>\n",
       "<style scoped>\n",
       "    .dataframe tbody tr th:only-of-type {\n",
       "        vertical-align: middle;\n",
       "    }\n",
       "\n",
       "    .dataframe tbody tr th {\n",
       "        vertical-align: top;\n",
       "    }\n",
       "\n",
       "    .dataframe thead th {\n",
       "        text-align: right;\n",
       "    }\n",
       "</style>\n",
       "<table border=\"1\" class=\"dataframe\">\n",
       "  <thead>\n",
       "    <tr style=\"text-align: right;\">\n",
       "      <th></th>\n",
       "      <th>partido</th>\n",
       "      <th>ano</th>\n",
       "      <th>voto</th>\n",
       "    </tr>\n",
       "  </thead>\n",
       "  <tbody>\n",
       "    <tr>\n",
       "      <th>0</th>\n",
       "      <td>AVANTE</td>\n",
       "      <td>2017</td>\n",
       "      <td>44.0</td>\n",
       "    </tr>\n",
       "    <tr>\n",
       "      <th>1</th>\n",
       "      <td>AVANTE</td>\n",
       "      <td>2018</td>\n",
       "      <td>20.0</td>\n",
       "    </tr>\n",
       "    <tr>\n",
       "      <th>2</th>\n",
       "      <td>AVANTE</td>\n",
       "      <td>2019</td>\n",
       "      <td>-1.0</td>\n",
       "    </tr>\n",
       "    <tr>\n",
       "      <th>3</th>\n",
       "      <td>AVANTE</td>\n",
       "      <td>2020</td>\n",
       "      <td>-31.0</td>\n",
       "    </tr>\n",
       "    <tr>\n",
       "      <th>4</th>\n",
       "      <td>AVANTE</td>\n",
       "      <td>2021</td>\n",
       "      <td>495.0</td>\n",
       "    </tr>\n",
       "    <tr>\n",
       "      <th>...</th>\n",
       "      <td>...</td>\n",
       "      <td>...</td>\n",
       "      <td>...</td>\n",
       "    </tr>\n",
       "    <tr>\n",
       "      <th>476</th>\n",
       "      <td>SOLIDARIEDADE</td>\n",
       "      <td>2019</td>\n",
       "      <td>-103.0</td>\n",
       "    </tr>\n",
       "    <tr>\n",
       "      <th>477</th>\n",
       "      <td>SOLIDARIEDADE</td>\n",
       "      <td>2020</td>\n",
       "      <td>-28.0</td>\n",
       "    </tr>\n",
       "    <tr>\n",
       "      <th>478</th>\n",
       "      <td>SOLIDARIEDADE</td>\n",
       "      <td>2021</td>\n",
       "      <td>853.0</td>\n",
       "    </tr>\n",
       "    <tr>\n",
       "      <th>479</th>\n",
       "      <td>SOLIDARIEDADE</td>\n",
       "      <td>2022</td>\n",
       "      <td>247.0</td>\n",
       "    </tr>\n",
       "    <tr>\n",
       "      <th>480</th>\n",
       "      <td>UNIÃO</td>\n",
       "      <td>2022</td>\n",
       "      <td>988.0</td>\n",
       "    </tr>\n",
       "  </tbody>\n",
       "</table>\n",
       "<p>481 rows × 3 columns</p>\n",
       "</div>"
      ],
      "text/plain": [
       "           partido   ano   voto\n",
       "0           AVANTE  2017   44.0\n",
       "1           AVANTE  2018   20.0\n",
       "2           AVANTE  2019   -1.0\n",
       "3           AVANTE  2020  -31.0\n",
       "4           AVANTE  2021  495.0\n",
       "..             ...   ...    ...\n",
       "476  SOLIDARIEDADE  2019 -103.0\n",
       "477  SOLIDARIEDADE  2020  -28.0\n",
       "478  SOLIDARIEDADE  2021  853.0\n",
       "479  SOLIDARIEDADE  2022  247.0\n",
       "480          UNIÃO  2022  988.0\n",
       "\n",
       "[481 rows x 3 columns]"
      ]
     },
     "execution_count": 14,
     "metadata": {},
     "output_type": "execute_result"
    }
   ],
   "source": [
    "df_heat = dv.copy()\n",
    "df_heat[\"ano\"] = pd.DatetimeIndex(dv['data']).year\n",
    "df_heat.drop([\"orientacao\", \"data\", \"voto_count\", \"UF\", \"nome\", \"id\"], axis=1, inplace=True)\n",
    "heat = df_heat.groupby([\"partido\", \"ano\"], as_index=False).sum()\n",
    "#heat = heat.query(\"ano > 2015 and ano < 2019\")\n",
    "heat"
   ]
  },
  {
   "cell_type": "code",
   "execution_count": 15,
   "metadata": {},
   "outputs": [
    {
     "data": {
      "image/png": "[encoded data removed]",
      "text/plain": [
       "<Figure size 432x288 with 2 Axes>"
      ]
     },
     "metadata": {},
     "output_type": "display_data"
    }
   ],
   "source": [
    "flights = sns.load_dataset(\"flights\")\n",
    "heat = heat.pivot(\"partido\", \"ano\", \"voto\")\n",
    "ax = sns.heatmap(heat, cmap=\"YlGnBu\")"
   ]
  },
  {
   "cell_type": "code",
   "execution_count": 31,
   "metadata": {},
   "outputs": [
    {
     "data": {
      "application/vnd.plotly.v1+json": {
       "config": {
        "plotlyServerURL": "https://plot.ly"
       },
       "data": [
        {
         "coloraxis": "coloraxis",
         "hovertemplate": "ano: %{x}<br>partido: %{y}<br>color: %{z}<extra></extra>",
         "name": "0",
         "type": "heatmap",
         "x": [
          2003,
          2004,
          2005,
          2006,
          2007,
          2008,
          2009,
          2010,
          2011,
          2012,
          2013,
          2014,
          2015,
          2016,
          2017,
          2018,
          2019,
          2020,
          2021,
          2022
         ],
         "xaxis": "x",
         "y": [
          "AVANTE",
          "CIDADANIA",
          "DC",
          "DEM",
          "MDB",
          "NOVO",
          "PAN",
          "PATRI",
          "PATRIOTA",
          "PCdoB",
          "PDT",
          "PEN",
          "PFL",
          "PHS",
          "PL",
          "PMB",
          "PMDB",
          "PMN",
          "PMR",
          "PODE",
          "PP",
          "PPB",
          "PPL",
          "PPS",
          "PR",
          "PRB",
          "PRONA",
          "PROS",
          "PRP",
          "PRTB",
          "PSB",
          "PSC",
          "PSD",
          "PSDB",
          "PSDC",
          "PSL",
          "PSOL",
          "PT",
          "PTB",
          "PTC",
          "PTN",
          "PTdoB",
          "PV",
          "REDE",
          "REPUBLICANOS",
          "S.PART.",
          "SD",
          "SDD",
          "SOLIDARIEDADE",
          "UNIÃO"
         ],
         "yaxis": "y",
         "z": [
          [
           null,
           null,
           null,
           null,
           null,
           null,
           null,
           null,
           null,
           null,
           null,
           null,
           null,
           null,
           44,
           20,
           -1,
           -31,
           495,
           227
          ],
          [
           null,
           null,
           null,
           null,
           null,
           null,
           null,
           null,
           null,
           null,
           null,
           null,
           null,
           null,
           null,
           null,
           134,
           -10,
           338,
           118
          ],
          [
           null,
           null,
           null,
           null,
           null,
           null,
           null,
           null,
           null,
           null,
           null,
           null,
           null,
           null,
           null,
           null,
           -6,
           null,
           null,
           null
          ],
          [
           null,
           null,
           null,
           null,
           -316,
           -127,
           747,
           953,
           162,
           495,
           602,
           797,
           897,
           86,
           356,
           -426,
           -19,
           -345,
           999,
           200
          ],
          [
           null,
           null,
           null,
           null,
           null,
           null,
           null,
           null,
           null,
           null,
           null,
           null,
           null,
           null,
           null,
           -54,
           -5,
           -184,
           1791,
           925
          ],
          [
           null,
           null,
           null,
           null,
           null,
           null,
           null,
           null,
           null,
           null,
           null,
           null,
           null,
           null,
           null,
           null,
           -85,
           -413,
           -654,
           -13
          ],
          [
           null,
           null,
           null,
           null,
           5,
           null,
           null,
           null,
           null,
           null,
           null,
           null,
           null,
           null,
           null,
           null,
           null,
           null,
           null,
           null
          ],
          [
           null,
           null,
           null,
           null,
           null,
           null,
           null,
           null,
           null,
           null,
           null,
           null,
           null,
           null,
           null,
           18,
           -43,
           null,
           null,
           null
          ],
          [
           null,
           null,
           null,
           null,
           null,
           null,
           null,
           null,
           null,
           null,
           null,
           null,
           null,
           null,
           null,
           null,
           13,
           -88,
           268,
           121
          ],
          [
           57,
           -40,
           -93,
           -67,
           5,
           -45,
           125,
           148,
           30,
           77,
           72,
           221,
           123,
           208,
           107,
           33,
           -92,
           363,
           893,
           217
          ],
          [
           60,
           1,
           150,
           98,
           -117,
           -52,
           128,
           332,
           -81,
           174,
           166,
           415,
           690,
           300,
           245,
           66,
           -230,
           791,
           2703,
           387
          ],
          [
           null,
           null,
           null,
           null,
           null,
           null,
           null,
           null,
           null,
           17,
           32,
           2,
           110,
           49,
           11,
           -33,
           null,
           null,
           null,
           null
          ],
          [
           449,
           967,
           607,
           1079,
           82,
           null,
           null,
           null,
           null,
           null,
           null,
           null,
           null,
           null,
           null,
           null,
           null,
           null,
           null,
           null
          ],
          [
           null,
           null,
           null,
           null,
           -12,
           -13,
           16,
           52,
           -8,
           0,
           2,
           null,
           307,
           77,
           1,
           32,
           -10,
           null,
           null,
           null
          ],
          [
           303,
           -222,
           -108,
           59,
           null,
           null,
           null,
           null,
           null,
           null,
           null,
           null,
           null,
           null,
           null,
           null,
           -2,
           -296,
           1989,
           1365
          ],
          [
           null,
           null,
           null,
           null,
           null,
           null,
           null,
           null,
           null,
           null,
           null,
           null,
           -21,
           30,
           3,
           null,
           null,
           null,
           null,
           null
          ],
          [
           389,
           -64,
           84,
           188,
           434,
           -352,
           1086,
           1326,
           290,
           432,
           1035,
           1730,
           3917,
           476,
           740,
           -466,
           null,
           null,
           null,
           null
          ],
          [
           -3,
           null,
           null,
           null,
           -14,
           0,
           61,
           52,
           -7,
           10,
           29,
           74,
           170,
           2,
           null,
           null,
           -24,
           null,
           null,
           null
          ],
          [
           null,
           null,
           -2,
           4,
           null,
           null,
           null,
           null,
           null,
           null,
           null,
           null,
           null,
           null,
           null,
           null,
           null,
           null,
           null,
           null
          ],
          [
           null,
           null,
           null,
           null,
           null,
           null,
           null,
           null,
           null,
           null,
           null,
           null,
           null,
           null,
           165,
           -112,
           180,
           28,
           674,
           213
          ],
          [
           157,
           -47,
           -116,
           107,
           -157,
           -179,
           447,
           699,
           9,
           171,
           390,
           895,
           2083,
           275,
           499,
           -477,
           -39,
           2,
           2007,
           1062
          ],
          [
           67,
           null,
           null,
           null,
           null,
           null,
           null,
           null,
           null,
           null,
           null,
           null,
           null,
           null,
           null,
           null,
           null,
           null,
           null,
           null
          ],
          [
           null,
           null,
           null,
           null,
           null,
           null,
           null,
           null,
           null,
           null,
           null,
           null,
           null,
           null,
           null,
           -6,
           -7,
           null,
           null,
           null
          ],
          [
           115,
           -74,
           119,
           112,
           -96,
           -8,
           250,
           310,
           12,
           108,
           250,
           179,
           501,
           94,
           16,
           -77,
           -54,
           null,
           null,
           null
          ],
          [
           null,
           null,
           null,
           null,
           -91,
           -65,
           496,
           610,
           -47,
           373,
           233,
           756,
           1508,
           433,
           111,
           -336,
           -272,
           null,
           null,
           null
          ],
          [
           null,
           null,
           null,
           3,
           3,
           -22,
           55,
           93,
           -43,
           147,
           115,
           196,
           649,
           341,
           75,
           -168,
           104,
           null,
           null,
           null
          ],
          [
           32,
           10,
           2,
           32,
           null,
           null,
           null,
           null,
           null,
           null,
           null,
           null,
           null,
           null,
           null,
           null,
           null,
           null,
           null,
           null
          ],
          [
           null,
           null,
           null,
           null,
           null,
           null,
           null,
           null,
           null,
           null,
           52,
           469,
           580,
           49,
           15,
           -45,
           -89,
           100,
           378,
           259
          ],
          [
           null,
           null,
           3,
           null,
           null,
           null,
           null,
           null,
           -6,
           7,
           9,
           54,
           137,
           -4,
           13,
           -6,
           -13,
           null,
           null,
           null
          ],
          [
           null,
           null,
           null,
           null,
           7,
           -3,
           null,
           null,
           -2,
           5,
           16,
           null,
           54,
           19,
           null,
           null,
           null,
           null,
           null,
           null
          ],
          [
           149,
           -100,
           -15,
           -38,
           -49,
           -48,
           316,
           413,
           -39,
           276,
           349,
           653,
           1400,
           217,
           232,
           84,
           -38,
           364,
           3245,
           365
          ],
          [
           27,
           -6,
           -7,
           12,
           24,
           -53,
           232,
           192,
           20,
           122,
           128,
           291,
           573,
           46,
           66,
           -36,
           -27,
           -121,
           506,
           230
          ],
          [
           null,
           null,
           null,
           null,
           null,
           null,
           null,
           null,
           283,
           403,
           768,
           1044,
           1876,
           218,
           407,
           -314,
           -335,
           -265,
           1567,
           785
          ],
          [
           221,
           558,
           415,
           918,
           -543,
           -256,
           218,
           737,
           91,
           689,
           956,
           1286,
           2473,
           95,
           256,
           -728,
           384,
           216,
           2682,
           576
          ],
          [
           null,
           null,
           null,
           null,
           null,
           null,
           null,
           null,
           null,
           null,
           null,
           20,
           77,
           null,
           null,
           null,
           null,
           null,
           null,
           null
          ],
          [
           7,
           -5,
           -5,
           null,
           null,
           null,
           null,
           null,
           -3,
           15,
           14,
           null,
           35,
           13,
           29,
           -102,
           -134,
           -1080,
           1038,
           443
          ],
          [
           null,
           null,
           28,
           -50,
           -92,
           -2,
           17,
           -15,
           -29,
           16,
           3,
           48,
           54,
           53,
           -188,
           -8,
           19,
           145,
           425,
           63
          ],
          [
           530,
           -602,
           -457,
           -683,
           -569,
           -304,
           -36,
           1225,
           181,
           307,
           -429,
           1397,
           1404,
           882,
           426,
           396,
           -609,
           569,
           5945,
           964
          ],
          [
           260,
           -157,
           -10,
           29,
           -127,
           -61,
           389,
           320,
           21,
           117,
           289,
           425,
           1220,
           135,
           184,
           -117,
           -2,
           24,
           386,
           165
          ],
          [
           null,
           null,
           null,
           6,
           1,
           0,
           -45,
           26,
           -4,
           7,
           null,
           null,
           62,
           -6,
           null,
           null,
           -2,
           null,
           null,
           null
          ],
          [
           null,
           null,
           null,
           null,
           null,
           null,
           null,
           null,
           null,
           null,
           null,
           null,
           130,
           163,
           147,
           null,
           null,
           null,
           null,
           null
          ],
          [
           null,
           null,
           null,
           null,
           -22,
           -6,
           7,
           14,
           -14,
           57,
           16,
           72,
           86,
           69,
           25,
           null,
           null,
           null,
           null,
           null
          ],
          [
           36,
           3,
           54,
           28,
           -67,
           -107,
           120,
           182,
           -35,
           132,
           145,
           175,
           424,
           -22,
           -8,
           -22,
           23,
           81,
           296,
           23
          ],
          [
           null,
           null,
           null,
           null,
           null,
           null,
           null,
           null,
           null,
           null,
           null,
           null,
           -12,
           64,
           -4,
           18,
           8,
           24,
           166,
           14
          ],
          [
           null,
           null,
           null,
           null,
           null,
           null,
           null,
           null,
           null,
           null,
           null,
           null,
           null,
           null,
           null,
           null,
           -266,
           -305,
           1600,
           920
          ],
          [
           9,
           -29,
           -6,
           6,
           -14,
           null,
           -2,
           null,
           3,
           null,
           14,
           null,
           14,
           7,
           16,
           -1,
           5,
           null,
           7,
           19
          ],
          [
           null,
           null,
           null,
           null,
           null,
           null,
           null,
           null,
           null,
           null,
           null,
           295,
           762,
           15,
           11,
           -73,
           null,
           null,
           null,
           null
          ],
          [
           null,
           null,
           null,
           null,
           null,
           null,
           null,
           null,
           null,
           null,
           77,
           308,
           null,
           null,
           null,
           null,
           null,
           null,
           null,
           null
          ],
          [
           null,
           null,
           null,
           null,
           null,
           null,
           null,
           null,
           null,
           null,
           null,
           null,
           null,
           null,
           null,
           null,
           -103,
           -28,
           853,
           247
          ],
          [
           null,
           null,
           null,
           null,
           null,
           null,
           null,
           null,
           null,
           null,
           null,
           null,
           null,
           null,
           null,
           null,
           null,
           null,
           null,
           988
          ]
         ]
        }
       ],
       "layout": {
        "coloraxis": {
         "colorscale": [
          [
           0,
           "#0d0887"
          ],
          [
           0.1111111111111111,
           "#46039f"
          ],
          [
           0.2222222222222222,
           "#7201a8"
          ],
          [
           0.3333333333333333,
           "#9c179e"
          ],
          [
           0.4444444444444444,
           "#bd3786"
          ],
          [
           0.5555555555555556,
           "#d8576b"
          ],
          [
           0.6666666666666666,
           "#ed7953"
          ],
          [
           0.7777777777777778,
           "#fb9f3a"
          ],
          [
           0.8888888888888888,
           "#fdca26"
          ],
          [
           1,
           "#f0f921"
          ]
         ]
        },
        "margin": {
         "t": 60
        },
        "template": {
         "data": {
          "bar": [
           {
            "error_x": {
             "color": "#2a3f5f"
            },
            "error_y": {
             "color": "#2a3f5f"
            },
            "marker": {
             "line": {
              "color": "#E5ECF6",
              "width": 0.5
             }
            },
            "type": "bar"
           }
          ],
          "barpolar": [
           {
            "marker": {
             "line": {
              "color": "#E5ECF6",
              "width": 0.5
             }
            },
            "type": "barpolar"
           }
          ],
          "carpet": [
           {
            "aaxis": {
             "endlinecolor": "#2a3f5f",
             "gridcolor": "white",
             "linecolor": "white",
             "minorgridcolor": "white",
             "startlinecolor": "#2a3f5f"
            },
            "baxis": {
             "endlinecolor": "#2a3f5f",
             "gridcolor": "white",
             "linecolor": "white",
             "minorgridcolor": "white",
             "startlinecolor": "#2a3f5f"
            },
            "type": "carpet"
           }
          ],
          "choropleth": [
           {
            "colorbar": {
             "outlinewidth": 0,
             "ticks": ""
            },
            "type": "choropleth"
           }
          ],
          "contour": [
           {
            "colorbar": {
             "outlinewidth": 0,
             "ticks": ""
            },
            "colorscale": [
             [
              0,
              "#0d0887"
             ],
             [
              0.1111111111111111,
              "#46039f"
             ],
             [
              0.2222222222222222,
              "#7201a8"
             ],
             [
              0.3333333333333333,
              "#9c179e"
             ],
             [
              0.4444444444444444,
              "#bd3786"
             ],
             [
              0.5555555555555556,
              "#d8576b"
             ],
             [
              0.6666666666666666,
              "#ed7953"
             ],
             [
              0.7777777777777778,
              "#fb9f3a"
             ],
             [
              0.8888888888888888,
              "#fdca26"
             ],
             [
              1,
              "#f0f921"
             ]
            ],
            "type": "contour"
           }
          ],
          "contourcarpet": [
           {
            "colorbar": {
             "outlinewidth": 0,
             "ticks": ""
            },
            "type": "contourcarpet"
           }
          ],
          "heatmap": [
           {
            "colorbar": {
             "outlinewidth": 0,
             "ticks": ""
            },
            "colorscale": [
             [
              0,
              "#0d0887"
             ],
             [
              0.1111111111111111,
              "#46039f"
             ],
             [
              0.2222222222222222,
              "#7201a8"
             ],
             [
              0.3333333333333333,
              "#9c179e"
             ],
             [
              0.4444444444444444,
              "#bd3786"
             ],
             [
              0.5555555555555556,
              "#d8576b"
             ],
             [
              0.6666666666666666,
              "#ed7953"
             ],
             [
              0.7777777777777778,
              "#fb9f3a"
             ],
             [
              0.8888888888888888,
              "#fdca26"
             ],
             [
              1,
              "#f0f921"
             ]
            ],
            "type": "heatmap"
           }
          ],
          "heatmapgl": [
           {
            "colorbar": {
             "outlinewidth": 0,
             "ticks": ""
            },
            "colorscale": [
             [
              0,
              "#0d0887"
             ],
             [
              0.1111111111111111,
              "#46039f"
             ],
             [
              0.2222222222222222,
              "#7201a8"
             ],
             [
              0.3333333333333333,
              "#9c179e"
             ],
             [
              0.4444444444444444,
              "#bd3786"
             ],
             [
              0.5555555555555556,
              "#d8576b"
             ],
             [
              0.6666666666666666,
              "#ed7953"
             ],
             [
              0.7777777777777778,
              "#fb9f3a"
             ],
             [
              0.8888888888888888,
              "#fdca26"
             ],
             [
              1,
              "#f0f921"
             ]
            ],
            "type": "heatmapgl"
           }
          ],
          "histogram": [
           {
            "marker": {
             "colorbar": {
              "outlinewidth": 0,
              "ticks": ""
             }
            },
            "type": "histogram"
           }
          ],
          "histogram2d": [
           {
            "colorbar": {
             "outlinewidth": 0,
             "ticks": ""
            },
            "colorscale": [
             [
              0,
              "#0d0887"
             ],
             [
              0.1111111111111111,
              "#46039f"
             ],
             [
              0.2222222222222222,
              "#7201a8"
             ],
             [
              0.3333333333333333,
              "#9c179e"
             ],
             [
              0.4444444444444444,
              "#bd3786"
             ],
             [
              0.5555555555555556,
              "#d8576b"
             ],
             [
              0.6666666666666666,
              "#ed7953"
             ],
             [
              0.7777777777777778,
              "#fb9f3a"
             ],
             [
              0.8888888888888888,
              "#fdca26"
             ],
             [
              1,
              "#f0f921"
             ]
            ],
            "type": "histogram2d"
           }
          ],
          "histogram2dcontour": [
           {
            "colorbar": {
             "outlinewidth": 0,
             "ticks": ""
            },
            "colorscale": [
             [
              0,
              "#0d0887"
             ],
             [
              0.1111111111111111,
              "#46039f"
             ],
             [
              0.2222222222222222,
              "#7201a8"
             ],
             [
              0.3333333333333333,
              "#9c179e"
             ],
             [
              0.4444444444444444,
              "#bd3786"
             ],
             [
              0.5555555555555556,
              "#d8576b"
             ],
             [
              0.6666666666666666,
              "#ed7953"
             ],
             [
              0.7777777777777778,
              "#fb9f3a"
             ],
             [
              0.8888888888888888,
              "#fdca26"
             ],
             [
              1,
              "#f0f921"
             ]
            ],
            "type": "histogram2dcontour"
           }
          ],
          "mesh3d": [
           {
            "colorbar": {
             "outlinewidth": 0,
             "ticks": ""
            },
            "type": "mesh3d"
           }
          ],
          "parcoords": [
           {
            "line": {
             "colorbar": {
              "outlinewidth": 0,
              "ticks": ""
             }
            },
            "type": "parcoords"
           }
          ],
          "pie": [
           {
            "automargin": true,
            "type": "pie"
           }
          ],
          "scatter": [
           {
            "marker": {
             "colorbar": {
              "outlinewidth": 0,
              "ticks": ""
             }
            },
            "type": "scatter"
           }
          ],
          "scatter3d": [
           {
            "line": {
             "colorbar": {
              "outlinewidth": 0,
              "ticks": ""
             }
            },
            "marker": {
             "colorbar": {
              "outlinewidth": 0,
              "ticks": ""
             }
            },
            "type": "scatter3d"
           }
          ],
          "scattercarpet": [
           {
            "marker": {
             "colorbar": {
              "outlinewidth": 0,
              "ticks": ""
             }
            },
            "type": "scattercarpet"
           }
          ],
          "scattergeo": [
           {
            "marker": {
             "colorbar": {
              "outlinewidth": 0,
              "ticks": ""
             }
            },
            "type": "scattergeo"
           }
          ],
          "scattergl": [
           {
            "marker": {
             "colorbar": {
              "outlinewidth": 0,
              "ticks": ""
             }
            },
            "type": "scattergl"
           }
          ],
          "scattermapbox": [
           {
            "marker": {
             "colorbar": {
              "outlinewidth": 0,
              "ticks": ""
             }
            },
            "type": "scattermapbox"
           }
          ],
          "scatterpolar": [
           {
            "marker": {
             "colorbar": {
              "outlinewidth": 0,
              "ticks": ""
             }
            },
            "type": "scatterpolar"
           }
          ],
          "scatterpolargl": [
           {
            "marker": {
             "colorbar": {
              "outlinewidth": 0,
              "ticks": ""
             }
            },
            "type": "scatterpolargl"
           }
          ],
          "scatterternary": [
           {
            "marker": {
             "colorbar": {
              "outlinewidth": 0,
              "ticks": ""
             }
            },
            "type": "scatterternary"
           }
          ],
          "surface": [
           {
            "colorbar": {
             "outlinewidth": 0,
             "ticks": ""
            },
            "colorscale": [
             [
              0,
              "#0d0887"
             ],
             [
              0.1111111111111111,
              "#46039f"
             ],
             [
              0.2222222222222222,
              "#7201a8"
             ],
             [
              0.3333333333333333,
              "#9c179e"
             ],
             [
              0.4444444444444444,
              "#bd3786"
             ],
             [
              0.5555555555555556,
              "#d8576b"
             ],
             [
              0.6666666666666666,
              "#ed7953"
             ],
             [
              0.7777777777777778,
              "#fb9f3a"
             ],
             [
              0.8888888888888888,
              "#fdca26"
             ],
             [
              1,
              "#f0f921"
             ]
            ],
            "type": "surface"
           }
          ],
          "table": [
           {
            "cells": {
             "fill": {
              "color": "#EBF0F8"
             },
             "line": {
              "color": "white"
             }
            },
            "header": {
             "fill": {
              "color": "#C8D4E3"
             },
             "line": {
              "color": "white"
             }
            },
            "type": "table"
           }
          ]
         },
         "layout": {
          "annotationdefaults": {
           "arrowcolor": "#2a3f5f",
           "arrowhead": 0,
           "arrowwidth": 1
          },
          "autotypenumbers": "strict",
          "coloraxis": {
           "colorbar": {
            "outlinewidth": 0,
            "ticks": ""
           }
          },
          "colorscale": {
           "diverging": [
            [
             0,
             "#8e0152"
            ],
            [
             0.1,
             "#c51b7d"
            ],
            [
             0.2,
             "#de77ae"
            ],
            [
             0.3,
             "#f1b6da"
            ],
            [
             0.4,
             "#fde0ef"
            ],
            [
             0.5,
             "#f7f7f7"
            ],
            [
             0.6,
             "#e6f5d0"
            ],
            [
             0.7,
             "#b8e186"
            ],
            [
             0.8,
             "#7fbc41"
            ],
            [
             0.9,
             "#4d9221"
            ],
            [
             1,
             "#276419"
            ]
           ],
           "sequential": [
            [
             0,
             "#0d0887"
            ],
            [
             0.1111111111111111,
             "#46039f"
            ],
            [
             0.2222222222222222,
             "#7201a8"
            ],
            [
             0.3333333333333333,
             "#9c179e"
            ],
            [
             0.4444444444444444,
             "#bd3786"
            ],
            [
             0.5555555555555556,
             "#d8576b"
            ],
            [
             0.6666666666666666,
             "#ed7953"
            ],
            [
             0.7777777777777778,
             "#fb9f3a"
            ],
            [
             0.8888888888888888,
             "#fdca26"
            ],
            [
             1,
             "#f0f921"
            ]
           ],
           "sequentialminus": [
            [
             0,
             "#0d0887"
            ],
            [
             0.1111111111111111,
             "#46039f"
            ],
            [
             0.2222222222222222,
             "#7201a8"
            ],
            [
             0.3333333333333333,
             "#9c179e"
            ],
            [
             0.4444444444444444,
             "#bd3786"
            ],
            [
             0.5555555555555556,
             "#d8576b"
            ],
            [
             0.6666666666666666,
             "#ed7953"
            ],
            [
             0.7777777777777778,
             "#fb9f3a"
            ],
            [
             0.8888888888888888,
             "#fdca26"
            ],
            [
             1,
             "#f0f921"
            ]
           ]
          },
          "colorway": [
           "#636efa",
           "#EF553B",
           "#00cc96",
           "#ab63fa",
           "#FFA15A",
           "#19d3f3",
           "#FF6692",
           "#B6E880",
           "#FF97FF",
           "#FECB52"
          ],
          "font": {
           "color": "#2a3f5f"
          },
          "geo": {
           "bgcolor": "white",
           "lakecolor": "white",
           "landcolor": "#E5ECF6",
           "showlakes": true,
           "showland": true,
           "subunitcolor": "white"
          },
          "hoverlabel": {
           "align": "left"
          },
          "hovermode": "closest",
          "mapbox": {
           "style": "light"
          },
          "paper_bgcolor": "white",
          "plot_bgcolor": "#E5ECF6",
          "polar": {
           "angularaxis": {
            "gridcolor": "white",
            "linecolor": "white",
            "ticks": ""
           },
           "bgcolor": "#E5ECF6",
           "radialaxis": {
            "gridcolor": "white",
            "linecolor": "white",
            "ticks": ""
           }
          },
          "scene": {
           "xaxis": {
            "backgroundcolor": "#E5ECF6",
            "gridcolor": "white",
            "gridwidth": 2,
            "linecolor": "white",
            "showbackground": true,
            "ticks": "",
            "zerolinecolor": "white"
           },
           "yaxis": {
            "backgroundcolor": "#E5ECF6",
            "gridcolor": "white",
            "gridwidth": 2,
            "linecolor": "white",
            "showbackground": true,
            "ticks": "",
            "zerolinecolor": "white"
           },
           "zaxis": {
            "backgroundcolor": "#E5ECF6",
            "gridcolor": "white",
            "gridwidth": 2,
            "linecolor": "white",
            "showbackground": true,
            "ticks": "",
            "zerolinecolor": "white"
           }
          },
          "shapedefaults": {
           "line": {
            "color": "#2a3f5f"
           }
          },
          "ternary": {
           "aaxis": {
            "gridcolor": "white",
            "linecolor": "white",
            "ticks": ""
           },
           "baxis": {
            "gridcolor": "white",
            "linecolor": "white",
            "ticks": ""
           },
           "bgcolor": "#E5ECF6",
           "caxis": {
            "gridcolor": "white",
            "linecolor": "white",
            "ticks": ""
           }
          },
          "title": {
           "x": 0.05
          },
          "xaxis": {
           "automargin": true,
           "gridcolor": "white",
           "linecolor": "white",
           "ticks": "",
           "title": {
            "standoff": 15
           },
           "zerolinecolor": "white",
           "zerolinewidth": 2
          },
          "yaxis": {
           "automargin": true,
           "gridcolor": "white",
           "linecolor": "white",
           "ticks": "",
           "title": {
            "standoff": 15
           },
           "zerolinecolor": "white",
           "zerolinewidth": 2
          }
         }
        },
        "title": {
         "text": "Heatmap - Tendência de votos por partido, por ano",
         "x": 0.5
        },
        "xaxis": {
         "anchor": "y",
         "constrain": "domain",
         "domain": [
          0,
          1
         ],
         "scaleanchor": "y",
         "title": {
          "text": "<b>Ano</b>"
         }
        },
        "yaxis": {
         "anchor": "x",
         "autorange": "reversed",
         "constrain": "domain",
         "domain": [
          0,
          1
         ],
         "title": {
          "text": "<b>Partido</b>"
         }
        }
       }
      },
      "text/html": [
       "<div>                            <div id=\"c951936d-bf50-4d24-b6cb-5b866bbd0071\" class=\"plotly-graph-div\" style=\"height:525px; width:100%;\"></div>            <script type=\"text/javascript\">                require([\"plotly\"], function(Plotly) {                    window.PLOTLYENV=window.PLOTLYENV || {};                                    if (document.getElementById(\"c951936d-bf50-4d24-b6cb-5b866bbd0071\")) {                    Plotly.newPlot(                        \"c951936d-bf50-4d24-b6cb-5b866bbd0071\",                        [{\"coloraxis\": \"coloraxis\", \"hovertemplate\": \"ano: %{x}<br>partido: %{y}<br>color: %{z}<extra></extra>\", \"name\": \"0\", \"type\": \"heatmap\", \"x\": [2003, 2004, 2005, 2006, 2007, 2008, 2009, 2010, 2011, 2012, 2013, 2014, 2015, 2016, 2017, 2018, 2019, 2020, 2021, 2022], \"xaxis\": \"x\", \"y\": [\"AVANTE\", \"CIDADANIA\", \"DC\", \"DEM\", \"MDB\", \"NOVO\", \"PAN\", \"PATRI\", \"PATRIOTA\", \"PCdoB\", \"PDT\", \"PEN\", \"PFL\", \"PHS\", \"PL\", \"PMB\", \"PMDB\", \"PMN\", \"PMR\", \"PODE\", \"PP\", \"PPB\", \"PPL\", \"PPS\", \"PR\", \"PRB\", \"PRONA\", \"PROS\", \"PRP\", \"PRTB\", \"PSB\", \"PSC\", \"PSD\", \"PSDB\", \"PSDC\", \"PSL\", \"PSOL\", \"PT\", \"PTB\", \"PTC\", \"PTN\", \"PTdoB\", \"PV\", \"REDE\", \"REPUBLICANOS\", \"S.PART.\", \"SD\", \"SDD\", \"SOLIDARIEDADE\", \"UNI\\u00c3O\"], \"yaxis\": \"y\", \"z\": [[null, null, null, null, null, null, null, null, null, null, null, null, null, null, 44.0, 20.0, -1.0, -31.0, 495.0, 227.0], [null, null, null, null, null, null, null, null, null, null, null, null, null, null, null, null, 134.0, -10.0, 338.0, 118.0], [null, null, null, null, null, null, null, null, null, null, null, null, null, null, null, null, -6.0, null, null, null], [null, null, null, null, -316.0, -127.0, 747.0, 953.0, 162.0, 495.0, 602.0, 797.0, 897.0, 86.0, 356.0, -426.0, -19.0, -345.0, 999.0, 200.0], [null, null, null, null, null, null, null, null, null, null, null, null, null, null, null, -54.0, -5.0, -184.0, 1791.0, 925.0], [null, null, null, null, null, null, null, null, null, null, null, null, null, null, null, null, -85.0, -413.0, -654.0, -13.0], [null, null, null, null, 5.0, null, null, null, null, null, null, null, null, null, null, null, null, null, null, null], [null, null, null, null, null, null, null, null, null, null, null, null, null, null, null, 18.0, -43.0, null, null, null], [null, null, null, null, null, null, null, null, null, null, null, null, null, null, null, null, 13.0, -88.0, 268.0, 121.0], [57.0, -40.0, -93.0, -67.0, 5.0, -45.0, 125.0, 148.0, 30.0, 77.0, 72.0, 221.0, 123.0, 208.0, 107.0, 33.0, -92.0, 363.0, 893.0, 217.0], [60.0, 1.0, 150.0, 98.0, -117.0, -52.0, 128.0, 332.0, -81.0, 174.0, 166.0, 415.0, 690.0, 300.0, 245.0, 66.0, -230.0, 791.0, 2703.0, 387.0], [null, null, null, null, null, null, null, null, null, 17.0, 32.0, 2.0, 110.0, 49.0, 11.0, -33.0, null, null, null, null], [449.0, 967.0, 607.0, 1079.0, 82.0, null, null, null, null, null, null, null, null, null, null, null, null, null, null, null], [null, null, null, null, -12.0, -13.0, 16.0, 52.0, -8.0, 0.0, 2.0, null, 307.0, 77.0, 1.0, 32.0, -10.0, null, null, null], [303.0, -222.0, -108.0, 59.0, null, null, null, null, null, null, null, null, null, null, null, null, -2.0, -296.0, 1989.0, 1365.0], [null, null, null, null, null, null, null, null, null, null, null, null, -21.0, 30.0, 3.0, null, null, null, null, null], [389.0, -64.0, 84.0, 188.0, 434.0, -352.0, 1086.0, 1326.0, 290.0, 432.0, 1035.0, 1730.0, 3917.0, 476.0, 740.0, -466.0, null, null, null, null], [-3.0, null, null, null, -14.0, 0.0, 61.0, 52.0, -7.0, 10.0, 29.0, 74.0, 170.0, 2.0, null, null, -24.0, null, null, null], [null, null, -2.0, 4.0, null, null, null, null, null, null, null, null, null, null, null, null, null, null, null, null], [null, null, null, null, null, null, null, null, null, null, null, null, null, null, 165.0, -112.0, 180.0, 28.0, 674.0, 213.0], [157.0, -47.0, -116.0, 107.0, -157.0, -179.0, 447.0, 699.0, 9.0, 171.0, 390.0, 895.0, 2083.0, 275.0, 499.0, -477.0, -39.0, 2.0, 2007.0, 1062.0], [67.0, null, null, null, null, null, null, null, null, null, null, null, null, null, null, null, null, null, null, null], [null, null, null, null, null, null, null, null, null, null, null, null, null, null, null, -6.0, -7.0, null, null, null], [115.0, -74.0, 119.0, 112.0, -96.0, -8.0, 250.0, 310.0, 12.0, 108.0, 250.0, 179.0, 501.0, 94.0, 16.0, -77.0, -54.0, null, null, null], [null, null, null, null, -91.0, -65.0, 496.0, 610.0, -47.0, 373.0, 233.0, 756.0, 1508.0, 433.0, 111.0, -336.0, -272.0, null, null, null], [null, null, null, 3.0, 3.0, -22.0, 55.0, 93.0, -43.0, 147.0, 115.0, 196.0, 649.0, 341.0, 75.0, -168.0, 104.0, null, null, null], [32.0, 10.0, 2.0, 32.0, null, null, null, null, null, null, null, null, null, null, null, null, null, null, null, null], [null, null, null, null, null, null, null, null, null, null, 52.0, 469.0, 580.0, 49.0, 15.0, -45.0, -89.0, 100.0, 378.0, 259.0], [null, null, 3.0, null, null, null, null, null, -6.0, 7.0, 9.0, 54.0, 137.0, -4.0, 13.0, -6.0, -13.0, null, null, null], [null, null, null, null, 7.0, -3.0, null, null, -2.0, 5.0, 16.0, null, 54.0, 19.0, null, null, null, null, null, null], [149.0, -100.0, -15.0, -38.0, -49.0, -48.0, 316.0, 413.0, -39.0, 276.0, 349.0, 653.0, 1400.0, 217.0, 232.0, 84.0, -38.0, 364.0, 3245.0, 365.0], [27.0, -6.0, -7.0, 12.0, 24.0, -53.0, 232.0, 192.0, 20.0, 122.0, 128.0, 291.0, 573.0, 46.0, 66.0, -36.0, -27.0, -121.0, 506.0, 230.0], [null, null, null, null, null, null, null, null, 283.0, 403.0, 768.0, 1044.0, 1876.0, 218.0, 407.0, -314.0, -335.0, -265.0, 1567.0, 785.0], [221.0, 558.0, 415.0, 918.0, -543.0, -256.0, 218.0, 737.0, 91.0, 689.0, 956.0, 1286.0, 2473.0, 95.0, 256.0, -728.0, 384.0, 216.0, 2682.0, 576.0], [null, null, null, null, null, null, null, null, null, null, null, 20.0, 77.0, null, null, null, null, null, null, null], [7.0, -5.0, -5.0, null, null, null, null, null, -3.0, 15.0, 14.0, null, 35.0, 13.0, 29.0, -102.0, -134.0, -1080.0, 1038.0, 443.0], [null, null, 28.0, -50.0, -92.0, -2.0, 17.0, -15.0, -29.0, 16.0, 3.0, 48.0, 54.0, 53.0, -188.0, -8.0, 19.0, 145.0, 425.0, 63.0], [530.0, -602.0, -457.0, -683.0, -569.0, -304.0, -36.0, 1225.0, 181.0, 307.0, -429.0, 1397.0, 1404.0, 882.0, 426.0, 396.0, -609.0, 569.0, 5945.0, 964.0], [260.0, -157.0, -10.0, 29.0, -127.0, -61.0, 389.0, 320.0, 21.0, 117.0, 289.0, 425.0, 1220.0, 135.0, 184.0, -117.0, -2.0, 24.0, 386.0, 165.0], [null, null, null, 6.0, 1.0, 0.0, -45.0, 26.0, -4.0, 7.0, null, null, 62.0, -6.0, null, null, -2.0, null, null, null], [null, null, null, null, null, null, null, null, null, null, null, null, 130.0, 163.0, 147.0, null, null, null, null, null], [null, null, null, null, -22.0, -6.0, 7.0, 14.0, -14.0, 57.0, 16.0, 72.0, 86.0, 69.0, 25.0, null, null, null, null, null], [36.0, 3.0, 54.0, 28.0, -67.0, -107.0, 120.0, 182.0, -35.0, 132.0, 145.0, 175.0, 424.0, -22.0, -8.0, -22.0, 23.0, 81.0, 296.0, 23.0], [null, null, null, null, null, null, null, null, null, null, null, null, -12.0, 64.0, -4.0, 18.0, 8.0, 24.0, 166.0, 14.0], [null, null, null, null, null, null, null, null, null, null, null, null, null, null, null, null, -266.0, -305.0, 1600.0, 920.0], [9.0, -29.0, -6.0, 6.0, -14.0, null, -2.0, null, 3.0, null, 14.0, null, 14.0, 7.0, 16.0, -1.0, 5.0, null, 7.0, 19.0], [null, null, null, null, null, null, null, null, null, null, null, 295.0, 762.0, 15.0, 11.0, -73.0, null, null, null, null], [null, null, null, null, null, null, null, null, null, null, 77.0, 308.0, null, null, null, null, null, null, null, null], [null, null, null, null, null, null, null, null, null, null, null, null, null, null, null, null, -103.0, -28.0, 853.0, 247.0], [null, null, null, null, null, null, null, null, null, null, null, null, null, null, null, null, null, null, null, 988.0]]}],                        {\"coloraxis\": {\"colorscale\": [[0.0, \"#0d0887\"], [0.1111111111111111, \"#46039f\"], [0.2222222222222222, \"#7201a8\"], [0.3333333333333333, \"#9c179e\"], [0.4444444444444444, \"#bd3786\"], [0.5555555555555556, \"#d8576b\"], [0.6666666666666666, \"#ed7953\"], [0.7777777777777778, \"#fb9f3a\"], [0.8888888888888888, \"#fdca26\"], [1.0, \"#f0f921\"]]}, \"margin\": {\"t\": 60}, \"template\": {\"data\": {\"bar\": [{\"error_x\": {\"color\": \"#2a3f5f\"}, \"error_y\": {\"color\": \"#2a3f5f\"}, \"marker\": {\"line\": {\"color\": \"#E5ECF6\", \"width\": 0.5}}, \"type\": \"bar\"}], \"barpolar\": [{\"marker\": {\"line\": {\"color\": \"#E5ECF6\", \"width\": 0.5}}, \"type\": \"barpolar\"}], \"carpet\": [{\"aaxis\": {\"endlinecolor\": \"#2a3f5f\", \"gridcolor\": \"white\", \"linecolor\": \"white\", \"minorgridcolor\": \"white\", \"startlinecolor\": \"#2a3f5f\"}, \"baxis\": {\"endlinecolor\": \"#2a3f5f\", \"gridcolor\": \"white\", \"linecolor\": \"white\", \"minorgridcolor\": \"white\", \"startlinecolor\": \"#2a3f5f\"}, \"type\": \"carpet\"}], \"choropleth\": [{\"colorbar\": {\"outlinewidth\": 0, \"ticks\": \"\"}, \"type\": \"choropleth\"}], \"contour\": [{\"colorbar\": {\"outlinewidth\": 0, \"ticks\": \"\"}, \"colorscale\": [[0.0, \"#0d0887\"], [0.1111111111111111, \"#46039f\"], [0.2222222222222222, \"#7201a8\"], [0.3333333333333333, \"#9c179e\"], [0.4444444444444444, \"#bd3786\"], [0.5555555555555556, \"#d8576b\"], [0.6666666666666666, \"#ed7953\"], [0.7777777777777778, \"#fb9f3a\"], [0.8888888888888888, \"#fdca26\"], [1.0, \"#f0f921\"]], \"type\": \"contour\"}], \"contourcarpet\": [{\"colorbar\": {\"outlinewidth\": 0, \"ticks\": \"\"}, \"type\": \"contourcarpet\"}], \"heatmap\": [{\"colorbar\": {\"outlinewidth\": 0, \"ticks\": \"\"}, \"colorscale\": [[0.0, \"#0d0887\"], [0.1111111111111111, \"#46039f\"], [0.2222222222222222, \"#7201a8\"], [0.3333333333333333, \"#9c179e\"], [0.4444444444444444, \"#bd3786\"], [0.5555555555555556, \"#d8576b\"], [0.6666666666666666, \"#ed7953\"], [0.7777777777777778, \"#fb9f3a\"], [0.8888888888888888, \"#fdca26\"], [1.0, \"#f0f921\"]], \"type\": \"heatmap\"}], \"heatmapgl\": [{\"colorbar\": {\"outlinewidth\": 0, \"ticks\": \"\"}, \"colorscale\": [[0.0, \"#0d0887\"], [0.1111111111111111, \"#46039f\"], [0.2222222222222222, \"#7201a8\"], [0.3333333333333333, \"#9c179e\"], [0.4444444444444444, \"#bd3786\"], [0.5555555555555556, \"#d8576b\"], [0.6666666666666666, \"#ed7953\"], [0.7777777777777778, \"#fb9f3a\"], [0.8888888888888888, \"#fdca26\"], [1.0, \"#f0f921\"]], \"type\": \"heatmapgl\"}], \"histogram\": [{\"marker\": {\"colorbar\": {\"outlinewidth\": 0, \"ticks\": \"\"}}, \"type\": \"histogram\"}], \"histogram2d\": [{\"colorbar\": {\"outlinewidth\": 0, \"ticks\": \"\"}, \"colorscale\": [[0.0, \"#0d0887\"], [0.1111111111111111, \"#46039f\"], [0.2222222222222222, \"#7201a8\"], [0.3333333333333333, \"#9c179e\"], [0.4444444444444444, \"#bd3786\"], [0.5555555555555556, \"#d8576b\"], [0.6666666666666666, \"#ed7953\"], [0.7777777777777778, \"#fb9f3a\"], [0.8888888888888888, \"#fdca26\"], [1.0, \"#f0f921\"]], \"type\": \"histogram2d\"}], \"histogram2dcontour\": [{\"colorbar\": {\"outlinewidth\": 0, \"ticks\": \"\"}, \"colorscale\": [[0.0, \"#0d0887\"], [0.1111111111111111, \"#46039f\"], [0.2222222222222222, \"#7201a8\"], [0.3333333333333333, \"#9c179e\"], [0.4444444444444444, \"#bd3786\"], [0.5555555555555556, \"#d8576b\"], [0.6666666666666666, \"#ed7953\"], [0.7777777777777778, \"#fb9f3a\"], [0.8888888888888888, \"#fdca26\"], [1.0, \"#f0f921\"]], \"type\": \"histogram2dcontour\"}], \"mesh3d\": [{\"colorbar\": {\"outlinewidth\": 0, \"ticks\": \"\"}, \"type\": \"mesh3d\"}], \"parcoords\": [{\"line\": {\"colorbar\": {\"outlinewidth\": 0, \"ticks\": \"\"}}, \"type\": \"parcoords\"}], \"pie\": [{\"automargin\": true, \"type\": \"pie\"}], \"scatter\": [{\"marker\": {\"colorbar\": {\"outlinewidth\": 0, \"ticks\": \"\"}}, \"type\": \"scatter\"}], \"scatter3d\": [{\"line\": {\"colorbar\": {\"outlinewidth\": 0, \"ticks\": \"\"}}, \"marker\": {\"colorbar\": {\"outlinewidth\": 0, \"ticks\": \"\"}}, \"type\": \"scatter3d\"}], \"scattercarpet\": [{\"marker\": {\"colorbar\": {\"outlinewidth\": 0, \"ticks\": \"\"}}, \"type\": \"scattercarpet\"}], \"scattergeo\": [{\"marker\": {\"colorbar\": {\"outlinewidth\": 0, \"ticks\": \"\"}}, \"type\": \"scattergeo\"}], \"scattergl\": [{\"marker\": {\"colorbar\": {\"outlinewidth\": 0, \"ticks\": \"\"}}, \"type\": \"scattergl\"}], \"scattermapbox\": [{\"marker\": {\"colorbar\": {\"outlinewidth\": 0, \"ticks\": \"\"}}, \"type\": \"scattermapbox\"}], \"scatterpolar\": [{\"marker\": {\"colorbar\": {\"outlinewidth\": 0, \"ticks\": \"\"}}, \"type\": \"scatterpolar\"}], \"scatterpolargl\": [{\"marker\": {\"colorbar\": {\"outlinewidth\": 0, \"ticks\": \"\"}}, \"type\": \"scatterpolargl\"}], \"scatterternary\": [{\"marker\": {\"colorbar\": {\"outlinewidth\": 0, \"ticks\": \"\"}}, \"type\": \"scatterternary\"}], \"surface\": [{\"colorbar\": {\"outlinewidth\": 0, \"ticks\": \"\"}, \"colorscale\": [[0.0, \"#0d0887\"], [0.1111111111111111, \"#46039f\"], [0.2222222222222222, \"#7201a8\"], [0.3333333333333333, \"#9c179e\"], [0.4444444444444444, \"#bd3786\"], [0.5555555555555556, \"#d8576b\"], [0.6666666666666666, \"#ed7953\"], [0.7777777777777778, \"#fb9f3a\"], [0.8888888888888888, \"#fdca26\"], [1.0, \"#f0f921\"]], \"type\": \"surface\"}], \"table\": [{\"cells\": {\"fill\": {\"color\": \"#EBF0F8\"}, \"line\": {\"color\": \"white\"}}, \"header\": {\"fill\": {\"color\": \"#C8D4E3\"}, \"line\": {\"color\": \"white\"}}, \"type\": \"table\"}]}, \"layout\": {\"annotationdefaults\": {\"arrowcolor\": \"#2a3f5f\", \"arrowhead\": 0, \"arrowwidth\": 1}, \"autotypenumbers\": \"strict\", \"coloraxis\": {\"colorbar\": {\"outlinewidth\": 0, \"ticks\": \"\"}}, \"colorscale\": {\"diverging\": [[0, \"#8e0152\"], [0.1, \"#c51b7d\"], [0.2, \"#de77ae\"], [0.3, \"#f1b6da\"], [0.4, \"#fde0ef\"], [0.5, \"#f7f7f7\"], [0.6, \"#e6f5d0\"], [0.7, \"#b8e186\"], [0.8, \"#7fbc41\"], [0.9, \"#4d9221\"], [1, \"#276419\"]], \"sequential\": [[0.0, \"#0d0887\"], [0.1111111111111111, \"#46039f\"], [0.2222222222222222, \"#7201a8\"], [0.3333333333333333, \"#9c179e\"], [0.4444444444444444, \"#bd3786\"], [0.5555555555555556, \"#d8576b\"], [0.6666666666666666, \"#ed7953\"], [0.7777777777777778, \"#fb9f3a\"], [0.8888888888888888, \"#fdca26\"], [1.0, \"#f0f921\"]], \"sequentialminus\": [[0.0, \"#0d0887\"], [0.1111111111111111, \"#46039f\"], [0.2222222222222222, \"#7201a8\"], [0.3333333333333333, \"#9c179e\"], [0.4444444444444444, \"#bd3786\"], [0.5555555555555556, \"#d8576b\"], [0.6666666666666666, \"#ed7953\"], [0.7777777777777778, \"#fb9f3a\"], [0.8888888888888888, \"#fdca26\"], [1.0, \"#f0f921\"]]}, \"colorway\": [\"#636efa\", \"#EF553B\", \"#00cc96\", \"#ab63fa\", \"#FFA15A\", \"#19d3f3\", \"#FF6692\", \"#B6E880\", \"#FF97FF\", \"#FECB52\"], \"font\": {\"color\": \"#2a3f5f\"}, \"geo\": {\"bgcolor\": \"white\", \"lakecolor\": \"white\", \"landcolor\": \"#E5ECF6\", \"showlakes\": true, \"showland\": true, \"subunitcolor\": \"white\"}, \"hoverlabel\": {\"align\": \"left\"}, \"hovermode\": \"closest\", \"mapbox\": {\"style\": \"light\"}, \"paper_bgcolor\": \"white\", \"plot_bgcolor\": \"#E5ECF6\", \"polar\": {\"angularaxis\": {\"gridcolor\": \"white\", \"linecolor\": \"white\", \"ticks\": \"\"}, \"bgcolor\": \"#E5ECF6\", \"radialaxis\": {\"gridcolor\": \"white\", \"linecolor\": \"white\", \"ticks\": \"\"}}, \"scene\": {\"xaxis\": {\"backgroundcolor\": \"#E5ECF6\", \"gridcolor\": \"white\", \"gridwidth\": 2, \"linecolor\": \"white\", \"showbackground\": true, \"ticks\": \"\", \"zerolinecolor\": \"white\"}, \"yaxis\": {\"backgroundcolor\": \"#E5ECF6\", \"gridcolor\": \"white\", \"gridwidth\": 2, \"linecolor\": \"white\", \"showbackground\": true, \"ticks\": \"\", \"zerolinecolor\": \"white\"}, \"zaxis\": {\"backgroundcolor\": \"#E5ECF6\", \"gridcolor\": \"white\", \"gridwidth\": 2, \"linecolor\": \"white\", \"showbackground\": true, \"ticks\": \"\", \"zerolinecolor\": \"white\"}}, \"shapedefaults\": {\"line\": {\"color\": \"#2a3f5f\"}}, \"ternary\": {\"aaxis\": {\"gridcolor\": \"white\", \"linecolor\": \"white\", \"ticks\": \"\"}, \"baxis\": {\"gridcolor\": \"white\", \"linecolor\": \"white\", \"ticks\": \"\"}, \"bgcolor\": \"#E5ECF6\", \"caxis\": {\"gridcolor\": \"white\", \"linecolor\": \"white\", \"ticks\": \"\"}}, \"title\": {\"x\": 0.05}, \"xaxis\": {\"automargin\": true, \"gridcolor\": \"white\", \"linecolor\": \"white\", \"ticks\": \"\", \"title\": {\"standoff\": 15}, \"zerolinecolor\": \"white\", \"zerolinewidth\": 2}, \"yaxis\": {\"automargin\": true, \"gridcolor\": \"white\", \"linecolor\": \"white\", \"ticks\": \"\", \"title\": {\"standoff\": 15}, \"zerolinecolor\": \"white\", \"zerolinewidth\": 2}}}, \"title\": {\"text\": \"Heatmap - Tend\\u00eancia de votos por partido, por ano\", \"x\": 0.5}, \"xaxis\": {\"anchor\": \"y\", \"constrain\": \"domain\", \"domain\": [0.0, 1.0], \"scaleanchor\": \"y\", \"title\": {\"text\": \"<b>Ano</b>\"}}, \"yaxis\": {\"anchor\": \"x\", \"autorange\": \"reversed\", \"constrain\": \"domain\", \"domain\": [0.0, 1.0], \"title\": {\"text\": \"<b>Partido</b>\"}}},                        {\"responsive\": true}                    ).then(function(){\n",
       "                            \n",
       "var gd = document.getElementById('c951936d-bf50-4d24-b6cb-5b866bbd0071');\n",
       "var x = new MutationObserver(function (mutations, observer) {{\n",
       "        var display = window.getComputedStyle(gd).display;\n",
       "        if (!display || display === 'none') {{\n",
       "            console.log([gd, 'removed!']);\n",
       "            Plotly.purge(gd);\n",
       "            observer.disconnect();\n",
       "        }}\n",
       "}});\n",
       "\n",
       "// Listen for the removal of the full notebook cells\n",
       "var notebookContainer = gd.closest('#notebook-container');\n",
       "if (notebookContainer) {{\n",
       "    x.observe(notebookContainer, {childList: true});\n",
       "}}\n",
       "\n",
       "// Listen for the clearing of the current output cell\n",
       "var outputEl = gd.closest('.output');\n",
       "if (outputEl) {{\n",
       "    x.observe(outputEl, {childList: true});\n",
       "}}\n",
       "\n",
       "                        })                };                });            </script>        </div>"
      ]
     },
     "metadata": {},
     "output_type": "display_data"
    }
   ],
   "source": [
    "#heat = heat.pivot(\"partido\", \"ano\", \"voto\")\n",
    "fig = px.imshow(heat)\n",
    "fig.update_layout(\n",
    "    title_text=\"Heatmap - Tendência de votos por partido, por ano\",\n",
    "    title_x=0.5,\n",
    "    xaxis_title_text=\"<b>Ano</b>\",\n",
    "    yaxis_title_text=\"<b>Partido</b>\",\n",
    ")\n",
    "fig.show()"
   ]
  },
  {
   "cell_type": "code",
   "execution_count": 17,
   "metadata": {},
   "outputs": [
    {
     "name": "stderr",
     "output_type": "stream",
     "text": [
      "<ipython-input-17-df9325b4af4c>:1: SettingWithCopyWarning:\n",
      "\n",
      "\n",
      "A value is trying to be set on a copy of a slice from a DataFrame.\n",
      "Try using .loc[row_indexer,col_indexer] = value instead\n",
      "\n",
      "See the caveats in the documentation: https://pandas.pydata.org/pandas-docs/stable/user_guide/indexing.html#returning-a-view-versus-a-copy\n",
      "\n"
     ]
    },
    {
     "data": {
      "text/plain": [
       "array(['Sem dados', 'Não', 'Sim', 'Obstrução', 'Liberado', 'Abstenção'],\n",
       "      dtype=object)"
      ]
     },
     "execution_count": 17,
     "metadata": {},
     "output_type": "execute_result"
    }
   ],
   "source": [
    "dv[\"orientacao\"] = dv[\"orientacao\"].fillna(\"Sem dados\")\n",
    "dv[\"orientacao\"].unique()"
   ]
  },
  {
   "cell_type": "code",
   "execution_count": 18,
   "metadata": {},
   "outputs": [
    {
     "data": {
      "text/html": [
       "<div>\n",
       "<style scoped>\n",
       "    .dataframe tbody tr th:only-of-type {\n",
       "        vertical-align: middle;\n",
       "    }\n",
       "\n",
       "    .dataframe tbody tr th {\n",
       "        vertical-align: top;\n",
       "    }\n",
       "\n",
       "    .dataframe thead th {\n",
       "        text-align: right;\n",
       "    }\n",
       "</style>\n",
       "<table border=\"1\" class=\"dataframe\">\n",
       "  <thead>\n",
       "    <tr style=\"text-align: right;\">\n",
       "      <th></th>\n",
       "      <th>voto</th>\n",
       "      <th>ano</th>\n",
       "    </tr>\n",
       "    <tr>\n",
       "      <th>idVotacao</th>\n",
       "      <th></th>\n",
       "      <th></th>\n",
       "    </tr>\n",
       "  </thead>\n",
       "  <tbody>\n",
       "    <tr>\n",
       "      <th>101666-71</th>\n",
       "      <td>333.0</td>\n",
       "      <td>705510</td>\n",
       "    </tr>\n",
       "    <tr>\n",
       "      <th>104342-141</th>\n",
       "      <td>180.0</td>\n",
       "      <td>812835</td>\n",
       "    </tr>\n",
       "    <tr>\n",
       "      <th>104342-99</th>\n",
       "      <td>-170.0</td>\n",
       "      <td>786744</td>\n",
       "    </tr>\n",
       "    <tr>\n",
       "      <th>104485-117</th>\n",
       "      <td>20.0</td>\n",
       "      <td>48168</td>\n",
       "    </tr>\n",
       "    <tr>\n",
       "      <th>104509-28</th>\n",
       "      <td>3.0</td>\n",
       "      <td>26039</td>\n",
       "    </tr>\n",
       "    <tr>\n",
       "      <th>...</th>\n",
       "      <td>...</td>\n",
       "      <td>...</td>\n",
       "    </tr>\n",
       "    <tr>\n",
       "      <th>996553-34</th>\n",
       "      <td>-101.0</td>\n",
       "      <td>892645</td>\n",
       "    </tr>\n",
       "    <tr>\n",
       "      <th>996553-39</th>\n",
       "      <td>23.0</td>\n",
       "      <td>854360</td>\n",
       "    </tr>\n",
       "    <tr>\n",
       "      <th>996553-43</th>\n",
       "      <td>88.0</td>\n",
       "      <td>755625</td>\n",
       "    </tr>\n",
       "    <tr>\n",
       "      <th>996882-4</th>\n",
       "      <td>30.0</td>\n",
       "      <td>64480</td>\n",
       "    </tr>\n",
       "    <tr>\n",
       "      <th>996938-70</th>\n",
       "      <td>-5.0</td>\n",
       "      <td>50525</td>\n",
       "    </tr>\n",
       "  </tbody>\n",
       "</table>\n",
       "<p>4028 rows × 2 columns</p>\n",
       "</div>"
      ],
      "text/plain": [
       "             voto     ano\n",
       "idVotacao                \n",
       "101666-71   333.0  705510\n",
       "104342-141  180.0  812835\n",
       "104342-99  -170.0  786744\n",
       "104485-117   20.0   48168\n",
       "104509-28     3.0   26039\n",
       "...           ...     ...\n",
       "996553-34  -101.0  892645\n",
       "996553-39    23.0  854360\n",
       "996553-43    88.0  755625\n",
       "996882-4     30.0   64480\n",
       "996938-70    -5.0   50525\n",
       "\n",
       "[4028 rows x 2 columns]"
      ]
     },
     "execution_count": 18,
     "metadata": {},
     "output_type": "execute_result"
    }
   ],
   "source": [
    "votacoes = dv.groupby(by=[\"idVotacao\"]).sum().drop([\"id\", \"voto_count\"], axis=1)\n",
    "votacoes"
   ]
  },
  {
   "cell_type": "code",
   "execution_count": 19,
   "metadata": {},
   "outputs": [],
   "source": [
    "neo_df = dv.query(\"partido == 'PT'\")\n",
    "neo_df = neo_df.groupby([\"idVotacao\", \"partido\"]).sum()\n",
    "neo_df = neo_df.drop([\"id\", \"voto_count\"], axis=1)\n",
    "neo_df = neo_df.sort_values(\"voto\")"
   ]
  },
  {
   "cell_type": "code",
   "execution_count": 20,
   "metadata": {},
   "outputs": [
    {
     "data": {
      "text/html": [
       "<div>\n",
       "<style scoped>\n",
       "    .dataframe tbody tr th:only-of-type {\n",
       "        vertical-align: middle;\n",
       "    }\n",
       "\n",
       "    .dataframe tbody tr th {\n",
       "        vertical-align: top;\n",
       "    }\n",
       "\n",
       "    .dataframe thead th {\n",
       "        text-align: right;\n",
       "    }\n",
       "</style>\n",
       "<table border=\"1\" class=\"dataframe\">\n",
       "  <thead>\n",
       "    <tr style=\"text-align: right;\">\n",
       "      <th></th>\n",
       "      <th>voto_x</th>\n",
       "      <th>ano_x</th>\n",
       "      <th>voto_y</th>\n",
       "      <th>ano_y</th>\n",
       "    </tr>\n",
       "    <tr>\n",
       "      <th>idVotacao</th>\n",
       "      <th></th>\n",
       "      <th></th>\n",
       "      <th></th>\n",
       "      <th></th>\n",
       "    </tr>\n",
       "  </thead>\n",
       "  <tbody>\n",
       "    <tr>\n",
       "      <th>282740-60</th>\n",
       "      <td>0</td>\n",
       "      <td>176440</td>\n",
       "      <td>0</td>\n",
       "      <td>812025</td>\n",
       "    </tr>\n",
       "    <tr>\n",
       "      <th>562615-106</th>\n",
       "      <td>0</td>\n",
       "      <td>165066</td>\n",
       "      <td>0</td>\n",
       "      <td>851499</td>\n",
       "    </tr>\n",
       "    <tr>\n",
       "      <th>562615-93</th>\n",
       "      <td>0</td>\n",
       "      <td>165066</td>\n",
       "      <td>0</td>\n",
       "      <td>843447</td>\n",
       "    </tr>\n",
       "    <tr>\n",
       "      <th>277133-92</th>\n",
       "      <td>0</td>\n",
       "      <td>164410</td>\n",
       "      <td>0</td>\n",
       "      <td>611525</td>\n",
       "    </tr>\n",
       "    <tr>\n",
       "      <th>282740-97</th>\n",
       "      <td>0</td>\n",
       "      <td>162405</td>\n",
       "      <td>0</td>\n",
       "      <td>699745</td>\n",
       "    </tr>\n",
       "    <tr>\n",
       "      <th>...</th>\n",
       "      <td>...</td>\n",
       "      <td>...</td>\n",
       "      <td>...</td>\n",
       "      <td>...</td>\n",
       "    </tr>\n",
       "    <tr>\n",
       "      <th>513496-260</th>\n",
       "      <td>1</td>\n",
       "      <td>166913</td>\n",
       "      <td>1</td>\n",
       "      <td>794345</td>\n",
       "    </tr>\n",
       "    <tr>\n",
       "      <th>113717-184</th>\n",
       "      <td>1</td>\n",
       "      <td>174261</td>\n",
       "      <td>1</td>\n",
       "      <td>859287</td>\n",
       "    </tr>\n",
       "    <tr>\n",
       "      <th>590335-46</th>\n",
       "      <td>1</td>\n",
       "      <td>169176</td>\n",
       "      <td>1</td>\n",
       "      <td>944566</td>\n",
       "    </tr>\n",
       "    <tr>\n",
       "      <th>14312-65</th>\n",
       "      <td>1</td>\n",
       "      <td>174261</td>\n",
       "      <td>1</td>\n",
       "      <td>947419</td>\n",
       "    </tr>\n",
       "    <tr>\n",
       "      <th>113717-189</th>\n",
       "      <td>1</td>\n",
       "      <td>178267</td>\n",
       "      <td>1</td>\n",
       "      <td>833248</td>\n",
       "    </tr>\n",
       "  </tbody>\n",
       "</table>\n",
       "<p>3920 rows × 4 columns</p>\n",
       "</div>"
      ],
      "text/plain": [
       "            voto_x   ano_x  voto_y   ano_y\n",
       "idVotacao                                 \n",
       "282740-60        0  176440       0  812025\n",
       "562615-106       0  165066       0  851499\n",
       "562615-93        0  165066       0  843447\n",
       "277133-92        0  164410       0  611525\n",
       "282740-97        0  162405       0  699745\n",
       "...            ...     ...     ...     ...\n",
       "513496-260       1  166913       1  794345\n",
       "113717-184       1  174261       1  859287\n",
       "590335-46        1  169176       1  944566\n",
       "14312-65         1  174261       1  947419\n",
       "113717-189       1  178267       1  833248\n",
       "\n",
       "[3920 rows x 4 columns]"
      ]
     },
     "execution_count": 20,
     "metadata": {},
     "output_type": "execute_result"
    }
   ],
   "source": [
    "merge_df = neo_df.merge(votacoes, left_on=\"idVotacao\", right_on=\"idVotacao\")\n",
    "merge_df[\"voto_y\"] = np.where(merge_df['voto_y'] > 0, 1, 0)\n",
    "merge_df[\"voto_x\"] = np.where(merge_df['voto_x'] > 0, 1, 0)\n",
    "merge_df"
   ]
  },
  {
   "cell_type": "code",
   "execution_count": 21,
   "metadata": {},
   "outputs": [
    {
     "data": {
      "text/plain": [
       "voto_x  voto_y\n",
       "0       0         1021\n",
       "        1          914\n",
       "1       0          705\n",
       "        1         1280\n",
       "dtype: int64"
      ]
     },
     "execution_count": 21,
     "metadata": {},
     "output_type": "execute_result"
    }
   ],
   "source": [
    "merge_df.groupby([\"voto_x\", \"voto_y\"]).size()"
   ]
  },
  {
   "cell_type": "code",
   "execution_count": 22,
   "metadata": {},
   "outputs": [
    {
     "data": {
      "text/html": [
       "<div>\n",
       "<style scoped>\n",
       "    .dataframe tbody tr th:only-of-type {\n",
       "        vertical-align: middle;\n",
       "    }\n",
       "\n",
       "    .dataframe tbody tr th {\n",
       "        vertical-align: top;\n",
       "    }\n",
       "\n",
       "    .dataframe thead th {\n",
       "        text-align: right;\n",
       "    }\n",
       "</style>\n",
       "<table border=\"1\" class=\"dataframe\">\n",
       "  <thead>\n",
       "    <tr style=\"text-align: right;\">\n",
       "      <th></th>\n",
       "      <th>partido</th>\n",
       "      <th>voto</th>\n",
       "      <th>ano</th>\n",
       "    </tr>\n",
       "  </thead>\n",
       "  <tbody>\n",
       "    <tr>\n",
       "      <th>5</th>\n",
       "      <td>NOVO</td>\n",
       "      <td>-1165.0</td>\n",
       "      <td>26030033</td>\n",
       "    </tr>\n",
       "    <tr>\n",
       "      <th>7</th>\n",
       "      <td>PATRI</td>\n",
       "      <td>-25.0</td>\n",
       "      <td>1180889</td>\n",
       "    </tr>\n",
       "    <tr>\n",
       "      <th>22</th>\n",
       "      <td>PPL</td>\n",
       "      <td>-13.0</td>\n",
       "      <td>203851</td>\n",
       "    </tr>\n",
       "    <tr>\n",
       "      <th>2</th>\n",
       "      <td>DC</td>\n",
       "      <td>-6.0</td>\n",
       "      <td>40380</td>\n",
       "    </tr>\n",
       "    <tr>\n",
       "      <th>18</th>\n",
       "      <td>PMR</td>\n",
       "      <td>2.0</td>\n",
       "      <td>162460</td>\n",
       "    </tr>\n",
       "    <tr>\n",
       "      <th>6</th>\n",
       "      <td>PAN</td>\n",
       "      <td>5.0</td>\n",
       "      <td>369288</td>\n",
       "    </tr>\n",
       "    <tr>\n",
       "      <th>15</th>\n",
       "      <td>PMB</td>\n",
       "      <td>12.0</td>\n",
       "      <td>1296314</td>\n",
       "    </tr>\n",
       "    <tr>\n",
       "      <th>39</th>\n",
       "      <td>PTC</td>\n",
       "      <td>45.0</td>\n",
       "      <td>2100215</td>\n",
       "    </tr>\n",
       "    <tr>\n",
       "      <th>45</th>\n",
       "      <td>S.PART.</td>\n",
       "      <td>48.0</td>\n",
       "      <td>2505177</td>\n",
       "    </tr>\n",
       "    <tr>\n",
       "      <th>21</th>\n",
       "      <td>PPB</td>\n",
       "      <td>67.0</td>\n",
       "      <td>284426</td>\n",
       "    </tr>\n",
       "    <tr>\n",
       "      <th>26</th>\n",
       "      <td>PRONA</td>\n",
       "      <td>76.0</td>\n",
       "      <td>789612</td>\n",
       "    </tr>\n",
       "    <tr>\n",
       "      <th>29</th>\n",
       "      <td>PRTB</td>\n",
       "      <td>96.0</td>\n",
       "      <td>1026576</td>\n",
       "    </tr>\n",
       "    <tr>\n",
       "      <th>34</th>\n",
       "      <td>PSDC</td>\n",
       "      <td>97.0</td>\n",
       "      <td>999416</td>\n",
       "    </tr>\n",
       "    <tr>\n",
       "      <th>11</th>\n",
       "      <td>PEN</td>\n",
       "      <td>188.0</td>\n",
       "      <td>3330425</td>\n",
       "    </tr>\n",
       "    <tr>\n",
       "      <th>28</th>\n",
       "      <td>PRP</td>\n",
       "      <td>194.0</td>\n",
       "      <td>2877373</td>\n",
       "    </tr>\n",
       "    <tr>\n",
       "      <th>35</th>\n",
       "      <td>PSL</td>\n",
       "      <td>265.0</td>\n",
       "      <td>144873840</td>\n",
       "    </tr>\n",
       "    <tr>\n",
       "      <th>43</th>\n",
       "      <td>REDE</td>\n",
       "      <td>278.0</td>\n",
       "      <td>6675059</td>\n",
       "    </tr>\n",
       "    <tr>\n",
       "      <th>41</th>\n",
       "      <td>PTdoB</td>\n",
       "      <td>304.0</td>\n",
       "      <td>4480687</td>\n",
       "    </tr>\n",
       "    <tr>\n",
       "      <th>8</th>\n",
       "      <td>PATRIOTA</td>\n",
       "      <td>314.0</td>\n",
       "      <td>13741923</td>\n",
       "    </tr>\n",
       "    <tr>\n",
       "      <th>17</th>\n",
       "      <td>PMN</td>\n",
       "      <td>350.0</td>\n",
       "      <td>6034271</td>\n",
       "    </tr>\n",
       "    <tr>\n",
       "      <th>47</th>\n",
       "      <td>SDD</td>\n",
       "      <td>385.0</td>\n",
       "      <td>1890667</td>\n",
       "    </tr>\n",
       "    <tr>\n",
       "      <th>40</th>\n",
       "      <td>PTN</td>\n",
       "      <td>440.0</td>\n",
       "      <td>7186774</td>\n",
       "    </tr>\n",
       "    <tr>\n",
       "      <th>13</th>\n",
       "      <td>PHS</td>\n",
       "      <td>444.0</td>\n",
       "      <td>9523124</td>\n",
       "    </tr>\n",
       "    <tr>\n",
       "      <th>36</th>\n",
       "      <td>PSOL</td>\n",
       "      <td>487.0</td>\n",
       "      <td>37802576</td>\n",
       "    </tr>\n",
       "    <tr>\n",
       "      <th>1</th>\n",
       "      <td>CIDADANIA</td>\n",
       "      <td>580.0</td>\n",
       "      <td>21069574</td>\n",
       "    </tr>\n",
       "    <tr>\n",
       "      <th>0</th>\n",
       "      <td>AVANTE</td>\n",
       "      <td>754.0</td>\n",
       "      <td>21688598</td>\n",
       "    </tr>\n",
       "    <tr>\n",
       "      <th>48</th>\n",
       "      <td>SOLIDARIEDADE</td>\n",
       "      <td>969.0</td>\n",
       "      <td>33941685</td>\n",
       "    </tr>\n",
       "    <tr>\n",
       "      <th>49</th>\n",
       "      <td>UNIÃO</td>\n",
       "      <td>988.0</td>\n",
       "      <td>12291738</td>\n",
       "    </tr>\n",
       "    <tr>\n",
       "      <th>46</th>\n",
       "      <td>SD</td>\n",
       "      <td>1010.0</td>\n",
       "      <td>17984242</td>\n",
       "    </tr>\n",
       "    <tr>\n",
       "      <th>19</th>\n",
       "      <td>PODE</td>\n",
       "      <td>1148.0</td>\n",
       "      <td>32875305</td>\n",
       "    </tr>\n",
       "    <tr>\n",
       "      <th>42</th>\n",
       "      <td>PV</td>\n",
       "      <td>1461.0</td>\n",
       "      <td>32940940</td>\n",
       "    </tr>\n",
       "    <tr>\n",
       "      <th>25</th>\n",
       "      <td>PRB</td>\n",
       "      <td>1548.0</td>\n",
       "      <td>40489724</td>\n",
       "    </tr>\n",
       "    <tr>\n",
       "      <th>23</th>\n",
       "      <td>PPS</td>\n",
       "      <td>1757.0</td>\n",
       "      <td>30581864</td>\n",
       "    </tr>\n",
       "    <tr>\n",
       "      <th>27</th>\n",
       "      <td>PROS</td>\n",
       "      <td>1768.0</td>\n",
       "      <td>40769396</td>\n",
       "    </tr>\n",
       "    <tr>\n",
       "      <th>44</th>\n",
       "      <td>REPUBLICANOS</td>\n",
       "      <td>1949.0</td>\n",
       "      <td>78379319</td>\n",
       "    </tr>\n",
       "    <tr>\n",
       "      <th>31</th>\n",
       "      <td>PSC</td>\n",
       "      <td>2219.0</td>\n",
       "      <td>54173250</td>\n",
       "    </tr>\n",
       "    <tr>\n",
       "      <th>9</th>\n",
       "      <td>PCdoB</td>\n",
       "      <td>2342.0</td>\n",
       "      <td>55744854</td>\n",
       "    </tr>\n",
       "    <tr>\n",
       "      <th>4</th>\n",
       "      <td>MDB</td>\n",
       "      <td>2473.0</td>\n",
       "      <td>89781575</td>\n",
       "    </tr>\n",
       "    <tr>\n",
       "      <th>14</th>\n",
       "      <td>PL</td>\n",
       "      <td>3088.0</td>\n",
       "      <td>116658128</td>\n",
       "    </tr>\n",
       "    <tr>\n",
       "      <th>12</th>\n",
       "      <td>PFL</td>\n",
       "      <td>3184.0</td>\n",
       "      <td>20566941</td>\n",
       "    </tr>\n",
       "    <tr>\n",
       "      <th>38</th>\n",
       "      <td>PTB</td>\n",
       "      <td>3490.0</td>\n",
       "      <td>84750095</td>\n",
       "    </tr>\n",
       "    <tr>\n",
       "      <th>24</th>\n",
       "      <td>PR</td>\n",
       "      <td>3709.0</td>\n",
       "      <td>84527842</td>\n",
       "    </tr>\n",
       "    <tr>\n",
       "      <th>3</th>\n",
       "      <td>DEM</td>\n",
       "      <td>5061.0</td>\n",
       "      <td>135208722</td>\n",
       "    </tr>\n",
       "    <tr>\n",
       "      <th>10</th>\n",
       "      <td>PDT</td>\n",
       "      <td>6226.0</td>\n",
       "      <td>126563526</td>\n",
       "    </tr>\n",
       "    <tr>\n",
       "      <th>32</th>\n",
       "      <td>PSD</td>\n",
       "      <td>6437.0</td>\n",
       "      <td>152512351</td>\n",
       "    </tr>\n",
       "    <tr>\n",
       "      <th>30</th>\n",
       "      <td>PSB</td>\n",
       "      <td>7736.0</td>\n",
       "      <td>160110346</td>\n",
       "    </tr>\n",
       "    <tr>\n",
       "      <th>20</th>\n",
       "      <td>PP</td>\n",
       "      <td>7788.0</td>\n",
       "      <td>208224039</td>\n",
       "    </tr>\n",
       "    <tr>\n",
       "      <th>37</th>\n",
       "      <td>PT</td>\n",
       "      <td>10537.0</td>\n",
       "      <td>344401587</td>\n",
       "    </tr>\n",
       "    <tr>\n",
       "      <th>33</th>\n",
       "      <td>PSDB</td>\n",
       "      <td>11244.0</td>\n",
       "      <td>211577059</td>\n",
       "    </tr>\n",
       "    <tr>\n",
       "      <th>16</th>\n",
       "      <td>PMDB</td>\n",
       "      <td>11245.0</td>\n",
       "      <td>184908594</td>\n",
       "    </tr>\n",
       "  </tbody>\n",
       "</table>\n",
       "</div>"
      ],
      "text/plain": [
       "          partido     voto        ano\n",
       "5            NOVO  -1165.0   26030033\n",
       "7           PATRI    -25.0    1180889\n",
       "22            PPL    -13.0     203851\n",
       "2              DC     -6.0      40380\n",
       "18            PMR      2.0     162460\n",
       "6             PAN      5.0     369288\n",
       "15            PMB     12.0    1296314\n",
       "39            PTC     45.0    2100215\n",
       "45        S.PART.     48.0    2505177\n",
       "21            PPB     67.0     284426\n",
       "26          PRONA     76.0     789612\n",
       "29           PRTB     96.0    1026576\n",
       "34           PSDC     97.0     999416\n",
       "11            PEN    188.0    3330425\n",
       "28            PRP    194.0    2877373\n",
       "35            PSL    265.0  144873840\n",
       "43           REDE    278.0    6675059\n",
       "41          PTdoB    304.0    4480687\n",
       "8        PATRIOTA    314.0   13741923\n",
       "17            PMN    350.0    6034271\n",
       "47            SDD    385.0    1890667\n",
       "40            PTN    440.0    7186774\n",
       "13            PHS    444.0    9523124\n",
       "36           PSOL    487.0   37802576\n",
       "1       CIDADANIA    580.0   21069574\n",
       "0          AVANTE    754.0   21688598\n",
       "48  SOLIDARIEDADE    969.0   33941685\n",
       "49          UNIÃO    988.0   12291738\n",
       "46             SD   1010.0   17984242\n",
       "19           PODE   1148.0   32875305\n",
       "42             PV   1461.0   32940940\n",
       "25            PRB   1548.0   40489724\n",
       "23            PPS   1757.0   30581864\n",
       "27           PROS   1768.0   40769396\n",
       "44   REPUBLICANOS   1949.0   78379319\n",
       "31            PSC   2219.0   54173250\n",
       "9           PCdoB   2342.0   55744854\n",
       "4             MDB   2473.0   89781575\n",
       "14             PL   3088.0  116658128\n",
       "12            PFL   3184.0   20566941\n",
       "38            PTB   3490.0   84750095\n",
       "24             PR   3709.0   84527842\n",
       "3             DEM   5061.0  135208722\n",
       "10            PDT   6226.0  126563526\n",
       "32            PSD   6437.0  152512351\n",
       "30            PSB   7736.0  160110346\n",
       "20             PP   7788.0  208224039\n",
       "37             PT  10537.0  344401587\n",
       "33           PSDB  11244.0  211577059\n",
       "16           PMDB  11245.0  184908594"
      ]
     },
     "execution_count": 22,
     "metadata": {},
     "output_type": "execute_result"
    }
   ],
   "source": [
    "new_df = dv.groupby([\"partido\"]).sum()\n",
    "new_df = new_df.drop([\"id\", \"voto_count\"], axis=1)\n",
    "new_df = new_df.reset_index(level=0)\n",
    "new_df = new_df.sort_values(\"voto\")\n",
    "new_df"
   ]
  },
  {
   "cell_type": "code",
   "execution_count": 23,
   "metadata": {},
   "outputs": [
    {
     "data": {
      "image/png": "[encoded data removed]",
      "text/plain": [
       "<Figure size 640x480 with 1 Axes>"
      ]
     },
     "metadata": {},
     "output_type": "display_data"
    }
   ],
   "source": [
    "figure(figsize=(8, 6), dpi=80)\n",
    "plt.xticks(rotation=90)\n",
    "plt.bar(new_df[\"partido\"], new_df[\"voto\"])\n",
    "plt.show()"
   ]
  },
  {
   "cell_type": "code",
   "execution_count": null,
   "metadata": {},
   "outputs": [],
   "source": []
  }
 ],
 "metadata": {
  "kernelspec": {
   "display_name": "Python 3",
   "language": "python",
   "name": "python3"
  },
  "language_info": {
   "codemirror_mode": {
    "name": "ipython",
    "version": 3
   },
   "file_extension": ".py",
   "mimetype": "text/x-python",
   "name": "python",
   "nbconvert_exporter": "python",
   "pygments_lexer": "ipython3",
   "version": "3.8.5"
  }
 },
 "nbformat": 4,
 "nbformat_minor": 4
}
