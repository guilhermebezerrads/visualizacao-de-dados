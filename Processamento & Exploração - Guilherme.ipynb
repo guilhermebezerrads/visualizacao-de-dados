{
 "cells": [
  {
   "cell_type": "code",
   "execution_count": 1,
   "metadata": {},
   "outputs": [],
   "source": [
    "import pandas as pd\n",
    "import numpy as np\n",
    "import matplotlib.pyplot as plt\n",
    "from matplotlib.pyplot import figure\n",
    "import glob\n",
    "import plotly.express as px\n",
    "import os\n",
    "import seaborn as sns; sns.set_theme()\n",
    "from posicionamento import posicionamento_partidos"
   ]
  },
  {
   "cell_type": "code",
   "execution_count": 2,
   "metadata": {},
   "outputs": [
    {
     "name": "stdout",
     "output_type": "stream",
     "text": [
      "Index(['idVotacao', 'siglaBancada', 'orientacao'], dtype='object')\n"
     ]
    },
    {
     "data": {
      "text/html": [
       "<div>\n",
       "<style scoped>\n",
       "    .dataframe tbody tr th:only-of-type {\n",
       "        vertical-align: middle;\n",
       "    }\n",
       "\n",
       "    .dataframe tbody tr th {\n",
       "        vertical-align: top;\n",
       "    }\n",
       "\n",
       "    .dataframe thead th {\n",
       "        text-align: right;\n",
       "    }\n",
       "</style>\n",
       "<table border=\"1\" class=\"dataframe\">\n",
       "  <thead>\n",
       "    <tr style=\"text-align: right;\">\n",
       "      <th></th>\n",
       "      <th>idVotacao</th>\n",
       "      <th>siglaBancada</th>\n",
       "      <th>orientacao</th>\n",
       "    </tr>\n",
       "  </thead>\n",
       "  <tbody>\n",
       "    <tr>\n",
       "      <th>0</th>\n",
       "      <td>140406-31</td>\n",
       "      <td>PSB</td>\n",
       "      <td>Não</td>\n",
       "    </tr>\n",
       "    <tr>\n",
       "      <th>1</th>\n",
       "      <td>140406-31</td>\n",
       "      <td>PP</td>\n",
       "      <td>Não</td>\n",
       "    </tr>\n",
       "    <tr>\n",
       "      <th>2</th>\n",
       "      <td>140406-31</td>\n",
       "      <td>PV</td>\n",
       "      <td>Não</td>\n",
       "    </tr>\n",
       "    <tr>\n",
       "      <th>3</th>\n",
       "      <td>140406-31</td>\n",
       "      <td>PMDB</td>\n",
       "      <td>Não</td>\n",
       "    </tr>\n",
       "    <tr>\n",
       "      <th>4</th>\n",
       "      <td>140406-31</td>\n",
       "      <td>PSDB</td>\n",
       "      <td>Obstrução</td>\n",
       "    </tr>\n",
       "    <tr>\n",
       "      <th>...</th>\n",
       "      <td>...</td>\n",
       "      <td>...</td>\n",
       "      <td>...</td>\n",
       "    </tr>\n",
       "    <tr>\n",
       "      <th>76064</th>\n",
       "      <td>2312874-9</td>\n",
       "      <td>MDB</td>\n",
       "      <td>Sim</td>\n",
       "    </tr>\n",
       "    <tr>\n",
       "      <th>76065</th>\n",
       "      <td>2312874-9</td>\n",
       "      <td>Podemos</td>\n",
       "      <td>Liberado</td>\n",
       "    </tr>\n",
       "    <tr>\n",
       "      <th>76066</th>\n",
       "      <td>2312874-9</td>\n",
       "      <td>Patriota</td>\n",
       "      <td>NaN</td>\n",
       "    </tr>\n",
       "    <tr>\n",
       "      <th>76067</th>\n",
       "      <td>2312874-9</td>\n",
       "      <td>PCdoB</td>\n",
       "      <td>Não</td>\n",
       "    </tr>\n",
       "    <tr>\n",
       "      <th>76068</th>\n",
       "      <td>2312874-9</td>\n",
       "      <td>PTB</td>\n",
       "      <td>NaN</td>\n",
       "    </tr>\n",
       "  </tbody>\n",
       "</table>\n",
       "<p>76069 rows × 3 columns</p>\n",
       "</div>"
      ],
      "text/plain": [
       "       idVotacao siglaBancada orientacao\n",
       "0      140406-31          PSB        Não\n",
       "1      140406-31           PP        Não\n",
       "2      140406-31           PV        Não\n",
       "3      140406-31         PMDB        Não\n",
       "4      140406-31         PSDB  Obstrução\n",
       "...          ...          ...        ...\n",
       "76064  2312874-9          MDB        Sim\n",
       "76065  2312874-9      Podemos   Liberado\n",
       "76066  2312874-9     Patriota        NaN\n",
       "76067  2312874-9        PCdoB        Não\n",
       "76068  2312874-9          PTB        NaN\n",
       "\n",
       "[76069 rows x 3 columns]"
      ]
     },
     "execution_count": 2,
     "metadata": {},
     "output_type": "execute_result"
    }
   ],
   "source": [
    "all_files = glob.glob(os.path.join(\"dados/orientacoes/*.csv\"))\n",
    "all_files\n",
    "li = []\n",
    "\n",
    "for file in all_files:\n",
    "    dfo = pd.read_csv(file, index_col=None, header=0, sep=\";\")\n",
    "    li.append(dfo)\n",
    "\n",
    "dfo = pd.concat(li, axis=0, ignore_index=True)\n",
    "dfo = dfo.drop([\"uriVotacao\", \"descricao\", \"uriBancada\", \"siglaOrgao\"], axis=1)\n",
    "print(dfo.columns)\n",
    "dfo"
   ]
  },
  {
   "cell_type": "code",
   "execution_count": null,
   "metadata": {},
   "outputs": [],
   "source": [
    "all_files = glob.glob(os.path.join(\"dados/votos/*.csv\"))\n",
    "all_files\n",
    "li = []\n",
    "\n",
    "for file in all_files:\n",
    "    df = pd.read_csv(file, index_col=None, header=0, sep=\";\")\n",
    "    li.append(df)\n",
    "\n",
    "df = pd.concat(li, axis=0, ignore_index=True)\n",
    "df"
   ]
  },
  {
   "cell_type": "code",
   "execution_count": null,
   "metadata": {},
   "outputs": [],
   "source": [
    "df[\"dataHoraVoto\"] = pd.to_datetime(df['dataHoraVoto'])\n",
    "df"
   ]
  },
  {
   "cell_type": "code",
   "execution_count": null,
   "metadata": {},
   "outputs": [],
   "source": [
    "df = df.drop([\"uriVotacao\", \"deputado_uri\", \"deputado_uriPartido\", \"deputado_urlFoto\", \"deputado_idLegislatura\"], axis=1)\n",
    "df[\"voto\"].replace({\"Sim\": 1, \"Não\": -1, \"Abstenção\": 0, 'Artigo 17':0, 'Obstrução':0, \n",
    "                    \"Favorável com restrições\":0, \"Branco\":0}, inplace=True)\n",
    "df[\"voto_count\"] = 1\n",
    "df"
   ]
  },
  {
   "cell_type": "code",
   "execution_count": 91,
   "metadata": {
    "scrolled": true
   },
   "outputs": [
    {
     "data": {
      "text/html": [
       "<div>\n",
       "<style scoped>\n",
       "    .dataframe tbody tr th:only-of-type {\n",
       "        vertical-align: middle;\n",
       "    }\n",
       "\n",
       "    .dataframe tbody tr th {\n",
       "        vertical-align: top;\n",
       "    }\n",
       "\n",
       "    .dataframe thead th {\n",
       "        text-align: right;\n",
       "    }\n",
       "</style>\n",
       "<table border=\"1\" class=\"dataframe\">\n",
       "  <thead>\n",
       "    <tr style=\"text-align: right;\">\n",
       "      <th></th>\n",
       "      <th>idVotacao</th>\n",
       "      <th>dataHoraVoto</th>\n",
       "      <th>voto</th>\n",
       "      <th>deputado_id</th>\n",
       "      <th>deputado_nome</th>\n",
       "      <th>deputado_siglaPartido</th>\n",
       "      <th>deputado_siglaUf</th>\n",
       "      <th>voto_count</th>\n",
       "      <th>orientacao</th>\n",
       "      <th>posicionamento</th>\n",
       "    </tr>\n",
       "  </thead>\n",
       "  <tbody>\n",
       "    <tr>\n",
       "      <th>0</th>\n",
       "      <td>37897-3</td>\n",
       "      <td>2001-12-11 19:49:15</td>\n",
       "      <td>1</td>\n",
       "      <td>73886</td>\n",
       "      <td>Adão Pretto</td>\n",
       "      <td>PT</td>\n",
       "      <td>RS</td>\n",
       "      <td>1</td>\n",
       "      <td>NaN</td>\n",
       "      <td>Esquerda</td>\n",
       "    </tr>\n",
       "    <tr>\n",
       "      <th>1</th>\n",
       "      <td>37897-3</td>\n",
       "      <td>2001-12-11 19:29:35</td>\n",
       "      <td>1</td>\n",
       "      <td>74328</td>\n",
       "      <td>Adauto Pereira</td>\n",
       "      <td>PFL</td>\n",
       "      <td>PB</td>\n",
       "      <td>1</td>\n",
       "      <td>NaN</td>\n",
       "      <td>Centro-direita</td>\n",
       "    </tr>\n",
       "    <tr>\n",
       "      <th>2</th>\n",
       "      <td>37897-3</td>\n",
       "      <td>2001-12-11 19:26:34</td>\n",
       "      <td>1</td>\n",
       "      <td>74450</td>\n",
       "      <td>Adolfo Marinho</td>\n",
       "      <td>PSDB</td>\n",
       "      <td>CE</td>\n",
       "      <td>1</td>\n",
       "      <td>NaN</td>\n",
       "      <td>Centro</td>\n",
       "    </tr>\n",
       "    <tr>\n",
       "      <th>3</th>\n",
       "      <td>37897-3</td>\n",
       "      <td>2001-12-11 19:25:14</td>\n",
       "      <td>0</td>\n",
       "      <td>74646</td>\n",
       "      <td>Aécio Neves</td>\n",
       "      <td>PSDB</td>\n",
       "      <td>MG</td>\n",
       "      <td>1</td>\n",
       "      <td>NaN</td>\n",
       "      <td>Centro</td>\n",
       "    </tr>\n",
       "    <tr>\n",
       "      <th>4</th>\n",
       "      <td>37897-3</td>\n",
       "      <td>2001-12-11 19:26:59</td>\n",
       "      <td>1</td>\n",
       "      <td>73765</td>\n",
       "      <td>Affonso Camargo</td>\n",
       "      <td>PFL</td>\n",
       "      <td>PR</td>\n",
       "      <td>1</td>\n",
       "      <td>NaN</td>\n",
       "      <td>Centro-direita</td>\n",
       "    </tr>\n",
       "    <tr>\n",
       "      <th>...</th>\n",
       "      <td>...</td>\n",
       "      <td>...</td>\n",
       "      <td>...</td>\n",
       "      <td>...</td>\n",
       "      <td>...</td>\n",
       "      <td>...</td>\n",
       "      <td>...</td>\n",
       "      <td>...</td>\n",
       "      <td>...</td>\n",
       "      <td>...</td>\n",
       "    </tr>\n",
       "    <tr>\n",
       "      <th>1329477</th>\n",
       "      <td>945554-186</td>\n",
       "      <td>2022-04-07 13:21:12</td>\n",
       "      <td>1</td>\n",
       "      <td>178889</td>\n",
       "      <td>Zé Carlos</td>\n",
       "      <td>PT</td>\n",
       "      <td>MA</td>\n",
       "      <td>1</td>\n",
       "      <td>Sim</td>\n",
       "      <td>Esquerda</td>\n",
       "    </tr>\n",
       "    <tr>\n",
       "      <th>1329478</th>\n",
       "      <td>945554-186</td>\n",
       "      <td>2022-04-07 13:22:05</td>\n",
       "      <td>1</td>\n",
       "      <td>204559</td>\n",
       "      <td>Zé Neto</td>\n",
       "      <td>PT</td>\n",
       "      <td>BA</td>\n",
       "      <td>1</td>\n",
       "      <td>Sim</td>\n",
       "      <td>Esquerda</td>\n",
       "    </tr>\n",
       "    <tr>\n",
       "      <th>1329479</th>\n",
       "      <td>945554-186</td>\n",
       "      <td>2022-04-07 13:26:44</td>\n",
       "      <td>-1</td>\n",
       "      <td>160632</td>\n",
       "      <td>Zé Silva</td>\n",
       "      <td>SOLIDARIEDADE</td>\n",
       "      <td>MG</td>\n",
       "      <td>1</td>\n",
       "      <td>NaN</td>\n",
       "      <td>Centro</td>\n",
       "    </tr>\n",
       "    <tr>\n",
       "      <th>1329480</th>\n",
       "      <td>945554-186</td>\n",
       "      <td>2022-04-07 13:21:07</td>\n",
       "      <td>-1</td>\n",
       "      <td>204517</td>\n",
       "      <td>Zé Vitor</td>\n",
       "      <td>PL</td>\n",
       "      <td>MG</td>\n",
       "      <td>1</td>\n",
       "      <td>Não</td>\n",
       "      <td>Centro-direita</td>\n",
       "    </tr>\n",
       "    <tr>\n",
       "      <th>1329481</th>\n",
       "      <td>945554-186</td>\n",
       "      <td>2022-04-07 13:22:28</td>\n",
       "      <td>1</td>\n",
       "      <td>160592</td>\n",
       "      <td>Zeca Dirceu</td>\n",
       "      <td>PT</td>\n",
       "      <td>PR</td>\n",
       "      <td>1</td>\n",
       "      <td>Sim</td>\n",
       "      <td>Esquerda</td>\n",
       "    </tr>\n",
       "  </tbody>\n",
       "</table>\n",
       "<p>1329482 rows × 10 columns</p>\n",
       "</div>"
      ],
      "text/plain": [
       "          idVotacao        dataHoraVoto  voto  deputado_id    deputado_nome  \\\n",
       "0           37897-3 2001-12-11 19:49:15     1        73886      Adão Pretto   \n",
       "1           37897-3 2001-12-11 19:29:35     1        74328   Adauto Pereira   \n",
       "2           37897-3 2001-12-11 19:26:34     1        74450   Adolfo Marinho   \n",
       "3           37897-3 2001-12-11 19:25:14     0        74646      Aécio Neves   \n",
       "4           37897-3 2001-12-11 19:26:59     1        73765  Affonso Camargo   \n",
       "...             ...                 ...   ...          ...              ...   \n",
       "1329477  945554-186 2022-04-07 13:21:12     1       178889        Zé Carlos   \n",
       "1329478  945554-186 2022-04-07 13:22:05     1       204559          Zé Neto   \n",
       "1329479  945554-186 2022-04-07 13:26:44    -1       160632         Zé Silva   \n",
       "1329480  945554-186 2022-04-07 13:21:07    -1       204517         Zé Vitor   \n",
       "1329481  945554-186 2022-04-07 13:22:28     1       160592      Zeca Dirceu   \n",
       "\n",
       "        deputado_siglaPartido deputado_siglaUf  voto_count orientacao  \\\n",
       "0                          PT               RS           1        NaN   \n",
       "1                         PFL               PB           1        NaN   \n",
       "2                        PSDB               CE           1        NaN   \n",
       "3                        PSDB               MG           1        NaN   \n",
       "4                         PFL               PR           1        NaN   \n",
       "...                       ...              ...         ...        ...   \n",
       "1329477                    PT               MA           1        Sim   \n",
       "1329478                    PT               BA           1        Sim   \n",
       "1329479         SOLIDARIEDADE               MG           1        NaN   \n",
       "1329480                    PL               MG           1        Não   \n",
       "1329481                    PT               PR           1        Sim   \n",
       "\n",
       "         posicionamento  \n",
       "0              Esquerda  \n",
       "1        Centro-direita  \n",
       "2                Centro  \n",
       "3                Centro  \n",
       "4        Centro-direita  \n",
       "...                 ...  \n",
       "1329477        Esquerda  \n",
       "1329478        Esquerda  \n",
       "1329479          Centro  \n",
       "1329480  Centro-direita  \n",
       "1329481        Esquerda  \n",
       "\n",
       "[1329482 rows x 10 columns]"
      ]
     },
     "execution_count": 91,
     "metadata": {},
     "output_type": "execute_result"
    }
   ],
   "source": [
    "dv = pd.merge(df, dfo, how='left', left_on=['idVotacao','deputado_siglaPartido'], right_on=['idVotacao','siglaBancada'])\n",
    "dv = dv.drop([\"siglaBancada\"], axis=1)\n",
    "dv_nan = dv[dv[\"voto\"].isnull()].groupby(\"idVotacao\").count()\n",
    "dv = dv[~dv[\"idVotacao\"].isin(dv_nan.index)]\n",
    "dv[\"posicionamento\"] = dv[\"deputado_siglaPartido\"]\n",
    "dv[\"posicionamento\"].replace(posicionamento_partidos, inplace=True)\n",
    "dv"
   ]
  },
  {
   "cell_type": "code",
   "execution_count": 31,
   "metadata": {},
   "outputs": [],
   "source": [
    "dv.columns = ['idVotacao', 'data', 'voto', 'id', 'nome',\n",
    "       'partido', 'UF', 'voto_count', 'orientacao']"
   ]
  },
  {
   "cell_type": "code",
   "execution_count": 40,
   "metadata": {},
   "outputs": [
    {
     "data": {
      "text/html": [
       "<div>\n",
       "<style scoped>\n",
       "    .dataframe tbody tr th:only-of-type {\n",
       "        vertical-align: middle;\n",
       "    }\n",
       "\n",
       "    .dataframe tbody tr th {\n",
       "        vertical-align: top;\n",
       "    }\n",
       "\n",
       "    .dataframe thead th {\n",
       "        text-align: right;\n",
       "    }\n",
       "</style>\n",
       "<table border=\"1\" class=\"dataframe\">\n",
       "  <thead>\n",
       "    <tr style=\"text-align: right;\">\n",
       "      <th></th>\n",
       "      <th>idVotacao</th>\n",
       "      <th>voto</th>\n",
       "      <th>id</th>\n",
       "      <th>nome</th>\n",
       "      <th>partido</th>\n",
       "      <th>UF</th>\n",
       "      <th>voto_count</th>\n",
       "      <th>orientacao</th>\n",
       "      <th>ano</th>\n",
       "    </tr>\n",
       "  </thead>\n",
       "  <tbody>\n",
       "    <tr>\n",
       "      <th>2810</th>\n",
       "      <td>113716-111</td>\n",
       "      <td>-1</td>\n",
       "      <td>73764</td>\n",
       "      <td>Abelardo Lupion</td>\n",
       "      <td>PFL</td>\n",
       "      <td>PR</td>\n",
       "      <td>1</td>\n",
       "      <td>-1</td>\n",
       "      <td>2003</td>\n",
       "    </tr>\n",
       "    <tr>\n",
       "      <th>2811</th>\n",
       "      <td>113716-111</td>\n",
       "      <td>1</td>\n",
       "      <td>73886</td>\n",
       "      <td>Adão Pretto</td>\n",
       "      <td>PT</td>\n",
       "      <td>RS</td>\n",
       "      <td>1</td>\n",
       "      <td>1</td>\n",
       "      <td>2003</td>\n",
       "    </tr>\n",
       "    <tr>\n",
       "      <th>2812</th>\n",
       "      <td>113716-111</td>\n",
       "      <td>1</td>\n",
       "      <td>74328</td>\n",
       "      <td>Adauto Pereira</td>\n",
       "      <td>PFL</td>\n",
       "      <td>PB</td>\n",
       "      <td>1</td>\n",
       "      <td>-1</td>\n",
       "      <td>2003</td>\n",
       "    </tr>\n",
       "    <tr>\n",
       "      <th>2813</th>\n",
       "      <td>113716-111</td>\n",
       "      <td>1</td>\n",
       "      <td>74386</td>\n",
       "      <td>Adelor Vieira</td>\n",
       "      <td>PMDB</td>\n",
       "      <td>SC</td>\n",
       "      <td>1</td>\n",
       "      <td>1</td>\n",
       "      <td>2003</td>\n",
       "    </tr>\n",
       "    <tr>\n",
       "      <th>2814</th>\n",
       "      <td>113716-111</td>\n",
       "      <td>1</td>\n",
       "      <td>73765</td>\n",
       "      <td>Affonso Camargo</td>\n",
       "      <td>PSDB</td>\n",
       "      <td>PR</td>\n",
       "      <td>1</td>\n",
       "      <td>1</td>\n",
       "      <td>2003</td>\n",
       "    </tr>\n",
       "    <tr>\n",
       "      <th>...</th>\n",
       "      <td>...</td>\n",
       "      <td>...</td>\n",
       "      <td>...</td>\n",
       "      <td>...</td>\n",
       "      <td>...</td>\n",
       "      <td>...</td>\n",
       "      <td>...</td>\n",
       "      <td>...</td>\n",
       "      <td>...</td>\n",
       "    </tr>\n",
       "    <tr>\n",
       "      <th>1329475</th>\n",
       "      <td>945554-186</td>\n",
       "      <td>-1</td>\n",
       "      <td>74043</td>\n",
       "      <td>Wellington Roberto</td>\n",
       "      <td>PL</td>\n",
       "      <td>PB</td>\n",
       "      <td>1</td>\n",
       "      <td>-1</td>\n",
       "      <td>2022</td>\n",
       "    </tr>\n",
       "    <tr>\n",
       "      <th>1329477</th>\n",
       "      <td>945554-186</td>\n",
       "      <td>1</td>\n",
       "      <td>178889</td>\n",
       "      <td>Zé Carlos</td>\n",
       "      <td>PT</td>\n",
       "      <td>MA</td>\n",
       "      <td>1</td>\n",
       "      <td>1</td>\n",
       "      <td>2022</td>\n",
       "    </tr>\n",
       "    <tr>\n",
       "      <th>1329478</th>\n",
       "      <td>945554-186</td>\n",
       "      <td>1</td>\n",
       "      <td>204559</td>\n",
       "      <td>Zé Neto</td>\n",
       "      <td>PT</td>\n",
       "      <td>BA</td>\n",
       "      <td>1</td>\n",
       "      <td>1</td>\n",
       "      <td>2022</td>\n",
       "    </tr>\n",
       "    <tr>\n",
       "      <th>1329480</th>\n",
       "      <td>945554-186</td>\n",
       "      <td>-1</td>\n",
       "      <td>204517</td>\n",
       "      <td>Zé Vitor</td>\n",
       "      <td>PL</td>\n",
       "      <td>MG</td>\n",
       "      <td>1</td>\n",
       "      <td>-1</td>\n",
       "      <td>2022</td>\n",
       "    </tr>\n",
       "    <tr>\n",
       "      <th>1329481</th>\n",
       "      <td>945554-186</td>\n",
       "      <td>1</td>\n",
       "      <td>160592</td>\n",
       "      <td>Zeca Dirceu</td>\n",
       "      <td>PT</td>\n",
       "      <td>PR</td>\n",
       "      <td>1</td>\n",
       "      <td>1</td>\n",
       "      <td>2022</td>\n",
       "    </tr>\n",
       "  </tbody>\n",
       "</table>\n",
       "<p>1000451 rows × 9 columns</p>\n",
       "</div>"
      ],
      "text/plain": [
       "          idVotacao  voto      id                nome partido  UF  voto_count  \\\n",
       "2810     113716-111    -1   73764     Abelardo Lupion     PFL  PR           1   \n",
       "2811     113716-111     1   73886         Adão Pretto      PT  RS           1   \n",
       "2812     113716-111     1   74328      Adauto Pereira     PFL  PB           1   \n",
       "2813     113716-111     1   74386       Adelor Vieira    PMDB  SC           1   \n",
       "2814     113716-111     1   73765     Affonso Camargo    PSDB  PR           1   \n",
       "...             ...   ...     ...                 ...     ...  ..         ...   \n",
       "1329475  945554-186    -1   74043  Wellington Roberto      PL  PB           1   \n",
       "1329477  945554-186     1  178889           Zé Carlos      PT  MA           1   \n",
       "1329478  945554-186     1  204559             Zé Neto      PT  BA           1   \n",
       "1329480  945554-186    -1  204517            Zé Vitor      PL  MG           1   \n",
       "1329481  945554-186     1  160592         Zeca Dirceu      PT  PR           1   \n",
       "\n",
       "         orientacao   ano  \n",
       "2810             -1  2003  \n",
       "2811              1  2003  \n",
       "2812             -1  2003  \n",
       "2813              1  2003  \n",
       "2814              1  2003  \n",
       "...             ...   ...  \n",
       "1329475          -1  2022  \n",
       "1329477           1  2022  \n",
       "1329478           1  2022  \n",
       "1329480          -1  2022  \n",
       "1329481           1  2022  \n",
       "\n",
       "[1000451 rows x 9 columns]"
      ]
     },
     "execution_count": 40,
     "metadata": {},
     "output_type": "execute_result"
    }
   ],
   "source": [
    "new_dv = dv.copy()\n",
    "new_dv.dropna(subset = [\"orientacao\"], inplace=True)\n",
    "new_dv[\"ano\"] = pd.DatetimeIndex(new_dv['data']).year\n",
    "new_dv[\"orientacao\"].replace({\"Sim\": 1, \"Não\": -1, \"Abstenção\": 0, 'Liberado':0, 'Obstrução':0}, inplace=True)\n",
    "new_dv.drop([\"data\"], axis=1, inplace=True)\n",
    "new_dv"
   ]
  },
  {
   "cell_type": "code",
   "execution_count": 42,
   "metadata": {
    "scrolled": true
   },
   "outputs": [
    {
     "data": {
      "text/html": [
       "<div>\n",
       "<style scoped>\n",
       "    .dataframe tbody tr th:only-of-type {\n",
       "        vertical-align: middle;\n",
       "    }\n",
       "\n",
       "    .dataframe tbody tr th {\n",
       "        vertical-align: top;\n",
       "    }\n",
       "\n",
       "    .dataframe thead th {\n",
       "        text-align: right;\n",
       "    }\n",
       "</style>\n",
       "<table border=\"1\" class=\"dataframe\">\n",
       "  <thead>\n",
       "    <tr style=\"text-align: right;\">\n",
       "      <th></th>\n",
       "      <th>idVotacao</th>\n",
       "      <th>voto</th>\n",
       "      <th>id</th>\n",
       "      <th>nome</th>\n",
       "      <th>partido</th>\n",
       "      <th>UF</th>\n",
       "      <th>voto_count</th>\n",
       "      <th>orientacao</th>\n",
       "      <th>ano</th>\n",
       "    </tr>\n",
       "  </thead>\n",
       "  <tbody>\n",
       "    <tr>\n",
       "      <th>2812</th>\n",
       "      <td>113716-111</td>\n",
       "      <td>1</td>\n",
       "      <td>74328</td>\n",
       "      <td>Adauto Pereira</td>\n",
       "      <td>PFL</td>\n",
       "      <td>PB</td>\n",
       "      <td>1</td>\n",
       "      <td>-1</td>\n",
       "      <td>2003</td>\n",
       "    </tr>\n",
       "    <tr>\n",
       "      <th>2816</th>\n",
       "      <td>113716-111</td>\n",
       "      <td>-1</td>\n",
       "      <td>73579</td>\n",
       "      <td>Alberto Fraga</td>\n",
       "      <td>PMDB</td>\n",
       "      <td>DF</td>\n",
       "      <td>1</td>\n",
       "      <td>1</td>\n",
       "      <td>2003</td>\n",
       "    </tr>\n",
       "    <tr>\n",
       "      <th>2819</th>\n",
       "      <td>113716-111</td>\n",
       "      <td>-1</td>\n",
       "      <td>73477</td>\n",
       "      <td>Alceu Collares</td>\n",
       "      <td>PDT</td>\n",
       "      <td>RS</td>\n",
       "      <td>1</td>\n",
       "      <td>1</td>\n",
       "      <td>2003</td>\n",
       "    </tr>\n",
       "    <tr>\n",
       "      <th>2823</th>\n",
       "      <td>113716-111</td>\n",
       "      <td>-1</td>\n",
       "      <td>74057</td>\n",
       "      <td>Alice Portugal</td>\n",
       "      <td>PCdoB</td>\n",
       "      <td>BA</td>\n",
       "      <td>1</td>\n",
       "      <td>1</td>\n",
       "      <td>2003</td>\n",
       "    </tr>\n",
       "    <tr>\n",
       "      <th>2829</th>\n",
       "      <td>113716-111</td>\n",
       "      <td>-1</td>\n",
       "      <td>74036</td>\n",
       "      <td>Álvaro Dias</td>\n",
       "      <td>PDT</td>\n",
       "      <td>RN</td>\n",
       "      <td>1</td>\n",
       "      <td>1</td>\n",
       "      <td>2003</td>\n",
       "    </tr>\n",
       "    <tr>\n",
       "      <th>...</th>\n",
       "      <td>...</td>\n",
       "      <td>...</td>\n",
       "      <td>...</td>\n",
       "      <td>...</td>\n",
       "      <td>...</td>\n",
       "      <td>...</td>\n",
       "      <td>...</td>\n",
       "      <td>...</td>\n",
       "      <td>...</td>\n",
       "    </tr>\n",
       "    <tr>\n",
       "      <th>1329300</th>\n",
       "      <td>945554-186</td>\n",
       "      <td>-1</td>\n",
       "      <td>178931</td>\n",
       "      <td>Luciano Ducci</td>\n",
       "      <td>PSB</td>\n",
       "      <td>PR</td>\n",
       "      <td>1</td>\n",
       "      <td>1</td>\n",
       "      <td>2022</td>\n",
       "    </tr>\n",
       "    <tr>\n",
       "      <th>1329380</th>\n",
       "      <td>945554-186</td>\n",
       "      <td>-1</td>\n",
       "      <td>160517</td>\n",
       "      <td>Paulo Foletto</td>\n",
       "      <td>PSB</td>\n",
       "      <td>ES</td>\n",
       "      <td>1</td>\n",
       "      <td>1</td>\n",
       "      <td>2022</td>\n",
       "    </tr>\n",
       "    <tr>\n",
       "      <th>1329437</th>\n",
       "      <td>945554-186</td>\n",
       "      <td>1</td>\n",
       "      <td>204438</td>\n",
       "      <td>Sergio Toledo</td>\n",
       "      <td>PL</td>\n",
       "      <td>AL</td>\n",
       "      <td>1</td>\n",
       "      <td>-1</td>\n",
       "      <td>2022</td>\n",
       "    </tr>\n",
       "    <tr>\n",
       "      <th>1329441</th>\n",
       "      <td>945554-186</td>\n",
       "      <td>0</td>\n",
       "      <td>178946</td>\n",
       "      <td>Soraya Santos</td>\n",
       "      <td>PL</td>\n",
       "      <td>RJ</td>\n",
       "      <td>1</td>\n",
       "      <td>-1</td>\n",
       "      <td>2022</td>\n",
       "    </tr>\n",
       "    <tr>\n",
       "      <th>1329451</th>\n",
       "      <td>945554-186</td>\n",
       "      <td>1</td>\n",
       "      <td>160976</td>\n",
       "      <td>Tiririca</td>\n",
       "      <td>PL</td>\n",
       "      <td>SP</td>\n",
       "      <td>1</td>\n",
       "      <td>-1</td>\n",
       "      <td>2022</td>\n",
       "    </tr>\n",
       "  </tbody>\n",
       "</table>\n",
       "<p>61771 rows × 9 columns</p>\n",
       "</div>"
      ],
      "text/plain": [
       "          idVotacao  voto      id            nome partido  UF  voto_count  \\\n",
       "2812     113716-111     1   74328  Adauto Pereira     PFL  PB           1   \n",
       "2816     113716-111    -1   73579   Alberto Fraga    PMDB  DF           1   \n",
       "2819     113716-111    -1   73477  Alceu Collares     PDT  RS           1   \n",
       "2823     113716-111    -1   74057  Alice Portugal   PCdoB  BA           1   \n",
       "2829     113716-111    -1   74036     Álvaro Dias     PDT  RN           1   \n",
       "...             ...   ...     ...             ...     ...  ..         ...   \n",
       "1329300  945554-186    -1  178931   Luciano Ducci     PSB  PR           1   \n",
       "1329380  945554-186    -1  160517   Paulo Foletto     PSB  ES           1   \n",
       "1329437  945554-186     1  204438   Sergio Toledo      PL  AL           1   \n",
       "1329441  945554-186     0  178946   Soraya Santos      PL  RJ           1   \n",
       "1329451  945554-186     1  160976        Tiririca      PL  SP           1   \n",
       "\n",
       "         orientacao   ano  \n",
       "2812             -1  2003  \n",
       "2816              1  2003  \n",
       "2819              1  2003  \n",
       "2823              1  2003  \n",
       "2829              1  2003  \n",
       "...             ...   ...  \n",
       "1329300           1  2022  \n",
       "1329380           1  2022  \n",
       "1329437          -1  2022  \n",
       "1329441          -1  2022  \n",
       "1329451          -1  2022  \n",
       "\n",
       "[61771 rows x 9 columns]"
      ]
     },
     "execution_count": 42,
     "metadata": {},
     "output_type": "execute_result"
    }
   ],
   "source": [
    "new_dv.query(\"voto != orientacao and orientacao != 0\")"
   ]
  },
  {
   "cell_type": "code",
   "execution_count": 88,
   "metadata": {},
   "outputs": [
    {
     "data": {
      "text/html": [
       "<div>\n",
       "<style scoped>\n",
       "    .dataframe tbody tr th:only-of-type {\n",
       "        vertical-align: middle;\n",
       "    }\n",
       "\n",
       "    .dataframe tbody tr th {\n",
       "        vertical-align: top;\n",
       "    }\n",
       "\n",
       "    .dataframe thead th {\n",
       "        text-align: right;\n",
       "    }\n",
       "</style>\n",
       "<table border=\"1\" class=\"dataframe\">\n",
       "  <thead>\n",
       "    <tr style=\"text-align: right;\">\n",
       "      <th></th>\n",
       "      <th>voto</th>\n",
       "      <th>id</th>\n",
       "      <th>voto_count</th>\n",
       "      <th>orientacao</th>\n",
       "    </tr>\n",
       "    <tr>\n",
       "      <th>ano</th>\n",
       "      <th></th>\n",
       "      <th></th>\n",
       "      <th></th>\n",
       "      <th></th>\n",
       "    </tr>\n",
       "  </thead>\n",
       "  <tbody>\n",
       "    <tr>\n",
       "      <th>2003</th>\n",
       "      <td>2004</td>\n",
       "      <td>709583658</td>\n",
       "      <td>9575</td>\n",
       "      <td>2136</td>\n",
       "    </tr>\n",
       "    <tr>\n",
       "      <th>2004</th>\n",
       "      <td>268</td>\n",
       "      <td>1639628215</td>\n",
       "      <td>22132</td>\n",
       "      <td>134</td>\n",
       "    </tr>\n",
       "    <tr>\n",
       "      <th>2005</th>\n",
       "      <td>652</td>\n",
       "      <td>1218094210</td>\n",
       "      <td>16047</td>\n",
       "      <td>254</td>\n",
       "    </tr>\n",
       "    <tr>\n",
       "      <th>2006</th>\n",
       "      <td>1728</td>\n",
       "      <td>1550949968</td>\n",
       "      <td>20360</td>\n",
       "      <td>1395</td>\n",
       "    </tr>\n",
       "    <tr>\n",
       "      <th>2007</th>\n",
       "      <td>-2320</td>\n",
       "      <td>2266058893</td>\n",
       "      <td>22675</td>\n",
       "      <td>-2454</td>\n",
       "    </tr>\n",
       "    <tr>\n",
       "      <th>2008</th>\n",
       "      <td>-1341</td>\n",
       "      <td>1957225106</td>\n",
       "      <td>19801</td>\n",
       "      <td>-1280</td>\n",
       "    </tr>\n",
       "    <tr>\n",
       "      <th>2009</th>\n",
       "      <td>2903</td>\n",
       "      <td>3167862738</td>\n",
       "      <td>31330</td>\n",
       "      <td>3024</td>\n",
       "    </tr>\n",
       "    <tr>\n",
       "      <th>2010</th>\n",
       "      <td>5558</td>\n",
       "      <td>1584907729</td>\n",
       "      <td>15689</td>\n",
       "      <td>5380</td>\n",
       "    </tr>\n",
       "    <tr>\n",
       "      <th>2011</th>\n",
       "      <td>646</td>\n",
       "      <td>2819032627</td>\n",
       "      <td>23114</td>\n",
       "      <td>689</td>\n",
       "    </tr>\n",
       "    <tr>\n",
       "      <th>2012</th>\n",
       "      <td>3238</td>\n",
       "      <td>2250711856</td>\n",
       "      <td>18634</td>\n",
       "      <td>3157</td>\n",
       "    </tr>\n",
       "    <tr>\n",
       "      <th>2013</th>\n",
       "      <td>4489</td>\n",
       "      <td>4603200023</td>\n",
       "      <td>38279</td>\n",
       "      <td>4172</td>\n",
       "    </tr>\n",
       "    <tr>\n",
       "      <th>2014</th>\n",
       "      <td>8818</td>\n",
       "      <td>2265976671</td>\n",
       "      <td>18723</td>\n",
       "      <td>8883</td>\n",
       "    </tr>\n",
       "    <tr>\n",
       "      <th>2015</th>\n",
       "      <td>11340</td>\n",
       "      <td>9356864294</td>\n",
       "      <td>66249</td>\n",
       "      <td>11878</td>\n",
       "    </tr>\n",
       "    <tr>\n",
       "      <th>2016</th>\n",
       "      <td>2580</td>\n",
       "      <td>6393241590</td>\n",
       "      <td>45085</td>\n",
       "      <td>2541</td>\n",
       "    </tr>\n",
       "    <tr>\n",
       "      <th>2017</th>\n",
       "      <td>2330</td>\n",
       "      <td>8355053086</td>\n",
       "      <td>59471</td>\n",
       "      <td>3609</td>\n",
       "    </tr>\n",
       "    <tr>\n",
       "      <th>2018</th>\n",
       "      <td>-1998</td>\n",
       "      <td>4743336095</td>\n",
       "      <td>34378</td>\n",
       "      <td>-1384</td>\n",
       "    </tr>\n",
       "    <tr>\n",
       "      <th>2019</th>\n",
       "      <td>-188</td>\n",
       "      <td>13447138150</td>\n",
       "      <td>78958</td>\n",
       "      <td>-569</td>\n",
       "    </tr>\n",
       "    <tr>\n",
       "      <th>2020</th>\n",
       "      <td>309</td>\n",
       "      <td>24863253167</td>\n",
       "      <td>147631</td>\n",
       "      <td>2222</td>\n",
       "    </tr>\n",
       "    <tr>\n",
       "      <th>2021</th>\n",
       "      <td>25908</td>\n",
       "      <td>43377033154</td>\n",
       "      <td>261123</td>\n",
       "      <td>26389</td>\n",
       "    </tr>\n",
       "    <tr>\n",
       "      <th>2022</th>\n",
       "      <td>7458</td>\n",
       "      <td>8369096844</td>\n",
       "      <td>51197</td>\n",
       "      <td>7374</td>\n",
       "    </tr>\n",
       "  </tbody>\n",
       "</table>\n",
       "</div>"
      ],
      "text/plain": [
       "       voto           id  voto_count  orientacao\n",
       "ano                                             \n",
       "2003   2004    709583658        9575        2136\n",
       "2004    268   1639628215       22132         134\n",
       "2005    652   1218094210       16047         254\n",
       "2006   1728   1550949968       20360        1395\n",
       "2007  -2320   2266058893       22675       -2454\n",
       "2008  -1341   1957225106       19801       -1280\n",
       "2009   2903   3167862738       31330        3024\n",
       "2010   5558   1584907729       15689        5380\n",
       "2011    646   2819032627       23114         689\n",
       "2012   3238   2250711856       18634        3157\n",
       "2013   4489   4603200023       38279        4172\n",
       "2014   8818   2265976671       18723        8883\n",
       "2015  11340   9356864294       66249       11878\n",
       "2016   2580   6393241590       45085        2541\n",
       "2017   2330   8355053086       59471        3609\n",
       "2018  -1998   4743336095       34378       -1384\n",
       "2019   -188  13447138150       78958        -569\n",
       "2020    309  24863253167      147631        2222\n",
       "2021  25908  43377033154      261123       26389\n",
       "2022   7458   8369096844       51197        7374"
      ]
     },
     "execution_count": 88,
     "metadata": {},
     "output_type": "execute_result"
    }
   ],
   "source": [
    "new_dv.groupby(by=[\"ano\"]).sum().drop([\"\"], axis=1)"
   ]
  },
  {
   "cell_type": "code",
   "execution_count": 79,
   "metadata": {},
   "outputs": [
    {
     "data": {
      "text/html": [
       "<div>\n",
       "<style scoped>\n",
       "    .dataframe tbody tr th:only-of-type {\n",
       "        vertical-align: middle;\n",
       "    }\n",
       "\n",
       "    .dataframe tbody tr th {\n",
       "        vertical-align: top;\n",
       "    }\n",
       "\n",
       "    .dataframe thead th {\n",
       "        text-align: right;\n",
       "    }\n",
       "</style>\n",
       "<table border=\"1\" class=\"dataframe\">\n",
       "  <thead>\n",
       "    <tr style=\"text-align: right;\">\n",
       "      <th></th>\n",
       "      <th>partido</th>\n",
       "      <th>ano</th>\n",
       "      <th>voto</th>\n",
       "    </tr>\n",
       "  </thead>\n",
       "  <tbody>\n",
       "    <tr>\n",
       "      <th>0</th>\n",
       "      <td>AVANTE</td>\n",
       "      <td>2017</td>\n",
       "      <td>44</td>\n",
       "    </tr>\n",
       "    <tr>\n",
       "      <th>1</th>\n",
       "      <td>AVANTE</td>\n",
       "      <td>2018</td>\n",
       "      <td>20</td>\n",
       "    </tr>\n",
       "    <tr>\n",
       "      <th>2</th>\n",
       "      <td>AVANTE</td>\n",
       "      <td>2019</td>\n",
       "      <td>-1</td>\n",
       "    </tr>\n",
       "    <tr>\n",
       "      <th>3</th>\n",
       "      <td>AVANTE</td>\n",
       "      <td>2020</td>\n",
       "      <td>-31</td>\n",
       "    </tr>\n",
       "    <tr>\n",
       "      <th>4</th>\n",
       "      <td>AVANTE</td>\n",
       "      <td>2021</td>\n",
       "      <td>495</td>\n",
       "    </tr>\n",
       "    <tr>\n",
       "      <th>...</th>\n",
       "      <td>...</td>\n",
       "      <td>...</td>\n",
       "      <td>...</td>\n",
       "    </tr>\n",
       "    <tr>\n",
       "      <th>512</th>\n",
       "      <td>SOLIDARIEDADE</td>\n",
       "      <td>2019</td>\n",
       "      <td>-103</td>\n",
       "    </tr>\n",
       "    <tr>\n",
       "      <th>513</th>\n",
       "      <td>SOLIDARIEDADE</td>\n",
       "      <td>2020</td>\n",
       "      <td>-28</td>\n",
       "    </tr>\n",
       "    <tr>\n",
       "      <th>514</th>\n",
       "      <td>SOLIDARIEDADE</td>\n",
       "      <td>2021</td>\n",
       "      <td>853</td>\n",
       "    </tr>\n",
       "    <tr>\n",
       "      <th>515</th>\n",
       "      <td>SOLIDARIEDADE</td>\n",
       "      <td>2022</td>\n",
       "      <td>247</td>\n",
       "    </tr>\n",
       "    <tr>\n",
       "      <th>516</th>\n",
       "      <td>UNIÃO</td>\n",
       "      <td>2022</td>\n",
       "      <td>988</td>\n",
       "    </tr>\n",
       "  </tbody>\n",
       "</table>\n",
       "<p>517 rows × 3 columns</p>\n",
       "</div>"
      ],
      "text/plain": [
       "           partido   ano  voto\n",
       "0           AVANTE  2017    44\n",
       "1           AVANTE  2018    20\n",
       "2           AVANTE  2019    -1\n",
       "3           AVANTE  2020   -31\n",
       "4           AVANTE  2021   495\n",
       "..             ...   ...   ...\n",
       "512  SOLIDARIEDADE  2019  -103\n",
       "513  SOLIDARIEDADE  2020   -28\n",
       "514  SOLIDARIEDADE  2021   853\n",
       "515  SOLIDARIEDADE  2022   247\n",
       "516          UNIÃO  2022   988\n",
       "\n",
       "[517 rows x 3 columns]"
      ]
     },
     "execution_count": 79,
     "metadata": {},
     "output_type": "execute_result"
    }
   ],
   "source": [
    "df_heat = dv.copy()\n",
    "df_heat[\"ano\"] = pd.DatetimeIndex(dv['data']).year\n",
    "df_heat.drop([\"orientacao\", \"data\", \"voto_count\", \"UF\", \"nome\", \"id\"], axis=1, inplace=True)\n",
    "heat = df_heat.groupby([\"partido\", \"ano\"], as_index=False).sum()\n",
    "#heat = heat.query(\"ano > 2015 and ano < 2019\")\n",
    "heat"
   ]
  },
  {
   "cell_type": "code",
   "execution_count": 80,
   "metadata": {},
   "outputs": [
    {
     "data": {
      "image/png": "[encoded data removed]",
      "text/plain": [
       "<Figure size 432x288 with 2 Axes>"
      ]
     },
     "metadata": {},
     "output_type": "display_data"
    }
   ],
   "source": [
    "flights = sns.load_dataset(\"flights\")\n",
    "heat = heat.pivot(\"partido\", \"ano\", \"voto\")\n",
    "ax = sns.heatmap(heat, cmap=\"YlGnBu\")"
   ]
  },
  {
   "cell_type": "code",
   "execution_count": 82,
   "metadata": {},
   "outputs": [
    {
     "data": {
      "application/vnd.plotly.v1+json": {
       "config": {
        "plotlyServerURL": "https://plot.ly"
       },
       "data": [
        {
         "coloraxis": "coloraxis",
         "hovertemplate": "ano: %{x}<br>partido: %{y}<br>color: %{z}<extra></extra>",
         "name": "0",
         "type": "heatmap",
         "x": [
          2001,
          2002,
          2003,
          2004,
          2005,
          2006,
          2007,
          2008,
          2009,
          2010,
          2011,
          2012,
          2013,
          2014,
          2015,
          2016,
          2017,
          2018,
          2019,
          2020,
          2021,
          2022
         ],
         "xaxis": "x",
         "y": [
          "AVANTE",
          "CIDADANIA",
          "DC",
          "DEM",
          "MDB",
          "NOVO",
          "PAN",
          "PATRI",
          "PATRIOTA",
          "PCdoB",
          "PDT",
          "PEN",
          "PFL",
          "PHS",
          "PL",
          "PMB",
          "PMDB",
          "PMN",
          "PMR",
          "PODE",
          "PP",
          "PPB",
          "PPL",
          "PPS",
          "PR",
          "PRB",
          "PRONA",
          "PROS",
          "PRP",
          "PRTB",
          "PSB",
          "PSC",
          "PSD",
          "PSDB",
          "PSDC",
          "PSL",
          "PSOL",
          "PST",
          "PT",
          "PTB",
          "PTC",
          "PTN",
          "PTdoB",
          "PV",
          "REDE",
          "REPUBLICANOS",
          "S.PART.",
          "SD",
          "SDD",
          "SOLIDARIEDADE",
          "UNIÃO"
         ],
         "yaxis": "y",
         "z": [
          [
           null,
           null,
           null,
           null,
           null,
           null,
           null,
           null,
           null,
           null,
           null,
           null,
           null,
           null,
           null,
           null,
           44,
           20,
           -1,
           -31,
           495,
           227
          ],
          [
           null,
           null,
           null,
           null,
           null,
           null,
           null,
           null,
           null,
           null,
           null,
           null,
           null,
           null,
           null,
           null,
           null,
           null,
           134,
           -10,
           338,
           118
          ],
          [
           null,
           null,
           null,
           null,
           null,
           null,
           null,
           null,
           null,
           null,
           null,
           null,
           null,
           null,
           null,
           null,
           null,
           null,
           -6,
           null,
           null,
           null
          ],
          [
           null,
           null,
           null,
           null,
           null,
           null,
           -316,
           -127,
           747,
           953,
           162,
           495,
           602,
           797,
           897,
           86,
           356,
           -426,
           -19,
           -345,
           999,
           200
          ],
          [
           null,
           null,
           null,
           null,
           null,
           null,
           null,
           null,
           null,
           null,
           null,
           null,
           null,
           null,
           null,
           null,
           null,
           -54,
           -5,
           -184,
           1791,
           925
          ],
          [
           null,
           null,
           null,
           null,
           null,
           null,
           null,
           null,
           null,
           null,
           null,
           null,
           null,
           null,
           null,
           null,
           null,
           null,
           -85,
           -413,
           -654,
           -13
          ],
          [
           null,
           null,
           null,
           null,
           null,
           null,
           5,
           null,
           null,
           null,
           null,
           null,
           null,
           null,
           null,
           null,
           null,
           null,
           null,
           null,
           null,
           null
          ],
          [
           null,
           null,
           null,
           null,
           null,
           null,
           null,
           null,
           null,
           null,
           null,
           null,
           null,
           null,
           null,
           null,
           null,
           18,
           -43,
           null,
           null,
           null
          ],
          [
           null,
           null,
           null,
           null,
           null,
           null,
           null,
           null,
           null,
           null,
           null,
           null,
           null,
           null,
           null,
           null,
           null,
           null,
           13,
           -88,
           268,
           121
          ],
          [
           3,
           32,
           57,
           -40,
           -93,
           -67,
           5,
           -45,
           125,
           148,
           30,
           77,
           72,
           221,
           123,
           208,
           107,
           33,
           -92,
           363,
           893,
           217
          ],
          [
           22,
           50,
           60,
           1,
           150,
           98,
           -117,
           -52,
           128,
           332,
           -81,
           174,
           166,
           415,
           690,
           300,
           245,
           66,
           -230,
           791,
           2703,
           387
          ],
          [
           null,
           null,
           null,
           null,
           null,
           null,
           null,
           null,
           null,
           null,
           null,
           17,
           32,
           2,
           110,
           49,
           11,
           -33,
           null,
           null,
           null,
           null
          ],
          [
           79,
           249,
           449,
           967,
           607,
           1079,
           82,
           null,
           null,
           null,
           null,
           null,
           null,
           null,
           null,
           null,
           null,
           null,
           null,
           null,
           null,
           null
          ],
          [
           null,
           null,
           null,
           null,
           null,
           null,
           -12,
           -13,
           16,
           52,
           -8,
           0,
           2,
           null,
           307,
           77,
           1,
           32,
           -10,
           null,
           null,
           null
          ],
          [
           7,
           33,
           303,
           -222,
           -108,
           59,
           null,
           null,
           null,
           null,
           null,
           null,
           null,
           null,
           null,
           null,
           null,
           null,
           -2,
           -296,
           1989,
           1365
          ],
          [
           null,
           null,
           null,
           null,
           null,
           null,
           null,
           null,
           null,
           null,
           null,
           null,
           null,
           null,
           -21,
           30,
           3,
           null,
           null,
           null,
           null,
           null
          ],
          [
           64,
           250,
           389,
           -64,
           84,
           188,
           434,
           -352,
           1086,
           1326,
           290,
           432,
           1035,
           1730,
           3917,
           476,
           740,
           -466,
           null,
           null,
           null,
           null
          ],
          [
           2,
           7,
           -3,
           null,
           null,
           null,
           -14,
           0,
           61,
           52,
           -7,
           10,
           29,
           74,
           170,
           2,
           null,
           null,
           -24,
           null,
           null,
           null
          ],
          [
           null,
           null,
           null,
           null,
           -2,
           4,
           null,
           null,
           null,
           null,
           null,
           null,
           null,
           null,
           null,
           null,
           null,
           null,
           null,
           null,
           null,
           null
          ],
          [
           null,
           null,
           null,
           null,
           null,
           null,
           null,
           null,
           null,
           null,
           null,
           null,
           null,
           null,
           null,
           null,
           165,
           -112,
           180,
           28,
           674,
           213
          ],
          [
           null,
           null,
           157,
           -47,
           -116,
           107,
           -157,
           -179,
           447,
           699,
           9,
           171,
           390,
           895,
           2083,
           275,
           499,
           -477,
           -39,
           2,
           2007,
           1062
          ],
          [
           41,
           150,
           67,
           null,
           null,
           null,
           null,
           null,
           null,
           null,
           null,
           null,
           null,
           null,
           null,
           null,
           null,
           null,
           null,
           null,
           null,
           null
          ],
          [
           null,
           null,
           null,
           null,
           null,
           null,
           null,
           null,
           null,
           null,
           null,
           null,
           null,
           null,
           null,
           null,
           null,
           -6,
           -7,
           null,
           null,
           null
          ],
          [
           4,
           16,
           115,
           -74,
           119,
           112,
           -96,
           -8,
           250,
           310,
           12,
           108,
           250,
           179,
           501,
           94,
           16,
           -77,
           -54,
           null,
           null,
           null
          ],
          [
           null,
           null,
           null,
           null,
           null,
           null,
           -91,
           -65,
           496,
           610,
           -47,
           373,
           233,
           756,
           1508,
           433,
           111,
           -336,
           -272,
           null,
           null,
           null
          ],
          [
           null,
           null,
           null,
           null,
           null,
           3,
           3,
           -22,
           55,
           93,
           -43,
           147,
           115,
           196,
           649,
           341,
           75,
           -168,
           104,
           null,
           null,
           null
          ],
          [
           2,
           9,
           32,
           10,
           2,
           32,
           null,
           null,
           null,
           null,
           null,
           null,
           null,
           null,
           null,
           null,
           null,
           null,
           null,
           null,
           null,
           null
          ],
          [
           null,
           null,
           null,
           null,
           null,
           null,
           null,
           null,
           null,
           null,
           null,
           null,
           52,
           469,
           580,
           49,
           15,
           -45,
           -89,
           100,
           378,
           259
          ],
          [
           null,
           null,
           null,
           null,
           3,
           null,
           null,
           null,
           null,
           null,
           -6,
           7,
           9,
           54,
           137,
           -4,
           13,
           -6,
           -13,
           null,
           null,
           null
          ],
          [
           null,
           null,
           null,
           null,
           null,
           null,
           7,
           -3,
           null,
           null,
           -2,
           5,
           16,
           null,
           54,
           19,
           null,
           null,
           null,
           null,
           null,
           null
          ],
          [
           13,
           61,
           149,
           -100,
           -15,
           -38,
           -49,
           -48,
           316,
           413,
           -39,
           276,
           349,
           653,
           1400,
           217,
           232,
           84,
           -38,
           364,
           3245,
           365
          ],
          [
           1,
           5,
           27,
           -6,
           -7,
           12,
           24,
           -53,
           232,
           192,
           20,
           122,
           128,
           291,
           573,
           46,
           66,
           -36,
           -27,
           -121,
           506,
           230
          ],
          [
           3,
           4,
           null,
           null,
           null,
           null,
           null,
           null,
           null,
           null,
           283,
           403,
           768,
           1044,
           1876,
           218,
           407,
           -314,
           -335,
           -265,
           1567,
           785
          ],
          [
           72,
           273,
           221,
           558,
           415,
           918,
           -543,
           -256,
           218,
           737,
           91,
           689,
           956,
           1286,
           2473,
           95,
           256,
           -728,
           384,
           216,
           2682,
           576
          ],
          [
           null,
           null,
           null,
           null,
           null,
           null,
           null,
           null,
           null,
           null,
           null,
           null,
           null,
           20,
           77,
           null,
           null,
           null,
           null,
           null,
           null,
           null
          ],
          [
           1,
           2,
           7,
           -5,
           -5,
           null,
           null,
           null,
           null,
           null,
           -3,
           15,
           14,
           null,
           35,
           13,
           29,
           -102,
           -134,
           -1080,
           1038,
           443
          ],
          [
           null,
           null,
           null,
           null,
           28,
           -50,
           -92,
           -2,
           17,
           -15,
           -29,
           16,
           3,
           48,
           54,
           53,
           -188,
           -8,
           19,
           145,
           425,
           63
          ],
          [
           1,
           5,
           null,
           null,
           null,
           null,
           null,
           null,
           null,
           null,
           null,
           null,
           null,
           null,
           null,
           null,
           null,
           null,
           null,
           null,
           null,
           null
          ],
          [
           45,
           280,
           530,
           -602,
           -457,
           -683,
           -569,
           -304,
           -36,
           1225,
           181,
           307,
           -429,
           1397,
           1404,
           882,
           426,
           396,
           -609,
           569,
           5945,
           964
          ],
          [
           24,
           98,
           260,
           -157,
           -10,
           29,
           -127,
           -61,
           389,
           320,
           21,
           117,
           289,
           425,
           1220,
           135,
           184,
           -117,
           -2,
           24,
           386,
           165
          ],
          [
           null,
           null,
           null,
           null,
           null,
           6,
           1,
           0,
           -45,
           26,
           -4,
           7,
           null,
           null,
           62,
           -6,
           null,
           null,
           -2,
           null,
           null,
           null
          ],
          [
           null,
           null,
           null,
           null,
           null,
           null,
           null,
           null,
           null,
           null,
           null,
           null,
           null,
           null,
           130,
           163,
           147,
           null,
           null,
           null,
           null,
           null
          ],
          [
           null,
           null,
           null,
           null,
           null,
           null,
           -22,
           -6,
           7,
           14,
           -14,
           57,
           16,
           72,
           86,
           69,
           25,
           null,
           null,
           null,
           null,
           null
          ],
          [
           1,
           5,
           36,
           3,
           54,
           28,
           -67,
           -107,
           120,
           182,
           -35,
           132,
           145,
           175,
           424,
           -22,
           -8,
           -22,
           23,
           81,
           296,
           23
          ],
          [
           null,
           null,
           null,
           null,
           null,
           null,
           null,
           null,
           null,
           null,
           null,
           null,
           null,
           null,
           -12,
           64,
           -4,
           18,
           8,
           24,
           166,
           14
          ],
          [
           null,
           null,
           null,
           null,
           null,
           null,
           null,
           null,
           null,
           null,
           null,
           null,
           null,
           null,
           null,
           null,
           null,
           null,
           -266,
           -305,
           1600,
           920
          ],
          [
           null,
           null,
           9,
           -29,
           -6,
           6,
           -14,
           null,
           -2,
           null,
           3,
           null,
           14,
           null,
           14,
           7,
           16,
           -1,
           5,
           null,
           7,
           19
          ],
          [
           null,
           null,
           null,
           null,
           null,
           null,
           null,
           null,
           null,
           null,
           null,
           null,
           null,
           295,
           762,
           15,
           11,
           -73,
           null,
           null,
           null,
           null
          ],
          [
           null,
           null,
           null,
           null,
           null,
           null,
           null,
           null,
           null,
           null,
           null,
           null,
           77,
           308,
           null,
           null,
           null,
           null,
           null,
           null,
           null,
           null
          ],
          [
           null,
           null,
           null,
           null,
           null,
           null,
           null,
           null,
           null,
           null,
           null,
           null,
           null,
           null,
           null,
           null,
           null,
           null,
           -103,
           -28,
           853,
           247
          ],
          [
           null,
           null,
           null,
           null,
           null,
           null,
           null,
           null,
           null,
           null,
           null,
           null,
           null,
           null,
           null,
           null,
           null,
           null,
           null,
           null,
           null,
           988
          ]
         ]
        }
       ],
       "layout": {
        "coloraxis": {
         "colorscale": [
          [
           0,
           "#0d0887"
          ],
          [
           0.1111111111111111,
           "#46039f"
          ],
          [
           0.2222222222222222,
           "#7201a8"
          ],
          [
           0.3333333333333333,
           "#9c179e"
          ],
          [
           0.4444444444444444,
           "#bd3786"
          ],
          [
           0.5555555555555556,
           "#d8576b"
          ],
          [
           0.6666666666666666,
           "#ed7953"
          ],
          [
           0.7777777777777778,
           "#fb9f3a"
          ],
          [
           0.8888888888888888,
           "#fdca26"
          ],
          [
           1,
           "#f0f921"
          ]
         ]
        },
        "margin": {
         "t": 60
        },
        "template": {
         "data": {
          "bar": [
           {
            "error_x": {
             "color": "#2a3f5f"
            },
            "error_y": {
             "color": "#2a3f5f"
            },
            "marker": {
             "line": {
              "color": "#E5ECF6",
              "width": 0.5
             }
            },
            "type": "bar"
           }
          ],
          "barpolar": [
           {
            "marker": {
             "line": {
              "color": "#E5ECF6",
              "width": 0.5
             }
            },
            "type": "barpolar"
           }
          ],
          "carpet": [
           {
            "aaxis": {
             "endlinecolor": "#2a3f5f",
             "gridcolor": "white",
             "linecolor": "white",
             "minorgridcolor": "white",
             "startlinecolor": "#2a3f5f"
            },
            "baxis": {
             "endlinecolor": "#2a3f5f",
             "gridcolor": "white",
             "linecolor": "white",
             "minorgridcolor": "white",
             "startlinecolor": "#2a3f5f"
            },
            "type": "carpet"
           }
          ],
          "choropleth": [
           {
            "colorbar": {
             "outlinewidth": 0,
             "ticks": ""
            },
            "type": "choropleth"
           }
          ],
          "contour": [
           {
            "colorbar": {
             "outlinewidth": 0,
             "ticks": ""
            },
            "colorscale": [
             [
              0,
              "#0d0887"
             ],
             [
              0.1111111111111111,
              "#46039f"
             ],
             [
              0.2222222222222222,
              "#7201a8"
             ],
             [
              0.3333333333333333,
              "#9c179e"
             ],
             [
              0.4444444444444444,
              "#bd3786"
             ],
             [
              0.5555555555555556,
              "#d8576b"
             ],
             [
              0.6666666666666666,
              "#ed7953"
             ],
             [
              0.7777777777777778,
              "#fb9f3a"
             ],
             [
              0.8888888888888888,
              "#fdca26"
             ],
             [
              1,
              "#f0f921"
             ]
            ],
            "type": "contour"
           }
          ],
          "contourcarpet": [
           {
            "colorbar": {
             "outlinewidth": 0,
             "ticks": ""
            },
            "type": "contourcarpet"
           }
          ],
          "heatmap": [
           {
            "colorbar": {
             "outlinewidth": 0,
             "ticks": ""
            },
            "colorscale": [
             [
              0,
              "#0d0887"
             ],
             [
              0.1111111111111111,
              "#46039f"
             ],
             [
              0.2222222222222222,
              "#7201a8"
             ],
             [
              0.3333333333333333,
              "#9c179e"
             ],
             [
              0.4444444444444444,
              "#bd3786"
             ],
             [
              0.5555555555555556,
              "#d8576b"
             ],
             [
              0.6666666666666666,
              "#ed7953"
             ],
             [
              0.7777777777777778,
              "#fb9f3a"
             ],
             [
              0.8888888888888888,
              "#fdca26"
             ],
             [
              1,
              "#f0f921"
             ]
            ],
            "type": "heatmap"
           }
          ],
          "heatmapgl": [
           {
            "colorbar": {
             "outlinewidth": 0,
             "ticks": ""
            },
            "colorscale": [
             [
              0,
              "#0d0887"
             ],
             [
              0.1111111111111111,
              "#46039f"
             ],
             [
              0.2222222222222222,
              "#7201a8"
             ],
             [
              0.3333333333333333,
              "#9c179e"
             ],
             [
              0.4444444444444444,
              "#bd3786"
             ],
             [
              0.5555555555555556,
              "#d8576b"
             ],
             [
              0.6666666666666666,
              "#ed7953"
             ],
             [
              0.7777777777777778,
              "#fb9f3a"
             ],
             [
              0.8888888888888888,
              "#fdca26"
             ],
             [
              1,
              "#f0f921"
             ]
            ],
            "type": "heatmapgl"
           }
          ],
          "histogram": [
           {
            "marker": {
             "colorbar": {
              "outlinewidth": 0,
              "ticks": ""
             }
            },
            "type": "histogram"
           }
          ],
          "histogram2d": [
           {
            "colorbar": {
             "outlinewidth": 0,
             "ticks": ""
            },
            "colorscale": [
             [
              0,
              "#0d0887"
             ],
             [
              0.1111111111111111,
              "#46039f"
             ],
             [
              0.2222222222222222,
              "#7201a8"
             ],
             [
              0.3333333333333333,
              "#9c179e"
             ],
             [
              0.4444444444444444,
              "#bd3786"
             ],
             [
              0.5555555555555556,
              "#d8576b"
             ],
             [
              0.6666666666666666,
              "#ed7953"
             ],
             [
              0.7777777777777778,
              "#fb9f3a"
             ],
             [
              0.8888888888888888,
              "#fdca26"
             ],
             [
              1,
              "#f0f921"
             ]
            ],
            "type": "histogram2d"
           }
          ],
          "histogram2dcontour": [
           {
            "colorbar": {
             "outlinewidth": 0,
             "ticks": ""
            },
            "colorscale": [
             [
              0,
              "#0d0887"
             ],
             [
              0.1111111111111111,
              "#46039f"
             ],
             [
              0.2222222222222222,
              "#7201a8"
             ],
             [
              0.3333333333333333,
              "#9c179e"
             ],
             [
              0.4444444444444444,
              "#bd3786"
             ],
             [
              0.5555555555555556,
              "#d8576b"
             ],
             [
              0.6666666666666666,
              "#ed7953"
             ],
             [
              0.7777777777777778,
              "#fb9f3a"
             ],
             [
              0.8888888888888888,
              "#fdca26"
             ],
             [
              1,
              "#f0f921"
             ]
            ],
            "type": "histogram2dcontour"
           }
          ],
          "mesh3d": [
           {
            "colorbar": {
             "outlinewidth": 0,
             "ticks": ""
            },
            "type": "mesh3d"
           }
          ],
          "parcoords": [
           {
            "line": {
             "colorbar": {
              "outlinewidth": 0,
              "ticks": ""
             }
            },
            "type": "parcoords"
           }
          ],
          "pie": [
           {
            "automargin": true,
            "type": "pie"
           }
          ],
          "scatter": [
           {
            "marker": {
             "colorbar": {
              "outlinewidth": 0,
              "ticks": ""
             }
            },
            "type": "scatter"
           }
          ],
          "scatter3d": [
           {
            "line": {
             "colorbar": {
              "outlinewidth": 0,
              "ticks": ""
             }
            },
            "marker": {
             "colorbar": {
              "outlinewidth": 0,
              "ticks": ""
             }
            },
            "type": "scatter3d"
           }
          ],
          "scattercarpet": [
           {
            "marker": {
             "colorbar": {
              "outlinewidth": 0,
              "ticks": ""
             }
            },
            "type": "scattercarpet"
           }
          ],
          "scattergeo": [
           {
            "marker": {
             "colorbar": {
              "outlinewidth": 0,
              "ticks": ""
             }
            },
            "type": "scattergeo"
           }
          ],
          "scattergl": [
           {
            "marker": {
             "colorbar": {
              "outlinewidth": 0,
              "ticks": ""
             }
            },
            "type": "scattergl"
           }
          ],
          "scattermapbox": [
           {
            "marker": {
             "colorbar": {
              "outlinewidth": 0,
              "ticks": ""
             }
            },
            "type": "scattermapbox"
           }
          ],
          "scatterpolar": [
           {
            "marker": {
             "colorbar": {
              "outlinewidth": 0,
              "ticks": ""
             }
            },
            "type": "scatterpolar"
           }
          ],
          "scatterpolargl": [
           {
            "marker": {
             "colorbar": {
              "outlinewidth": 0,
              "ticks": ""
             }
            },
            "type": "scatterpolargl"
           }
          ],
          "scatterternary": [
           {
            "marker": {
             "colorbar": {
              "outlinewidth": 0,
              "ticks": ""
             }
            },
            "type": "scatterternary"
           }
          ],
          "surface": [
           {
            "colorbar": {
             "outlinewidth": 0,
             "ticks": ""
            },
            "colorscale": [
             [
              0,
              "#0d0887"
             ],
             [
              0.1111111111111111,
              "#46039f"
             ],
             [
              0.2222222222222222,
              "#7201a8"
             ],
             [
              0.3333333333333333,
              "#9c179e"
             ],
             [
              0.4444444444444444,
              "#bd3786"
             ],
             [
              0.5555555555555556,
              "#d8576b"
             ],
             [
              0.6666666666666666,
              "#ed7953"
             ],
             [
              0.7777777777777778,
              "#fb9f3a"
             ],
             [
              0.8888888888888888,
              "#fdca26"
             ],
             [
              1,
              "#f0f921"
             ]
            ],
            "type": "surface"
           }
          ],
          "table": [
           {
            "cells": {
             "fill": {
              "color": "#EBF0F8"
             },
             "line": {
              "color": "white"
             }
            },
            "header": {
             "fill": {
              "color": "#C8D4E3"
             },
             "line": {
              "color": "white"
             }
            },
            "type": "table"
           }
          ]
         },
         "layout": {
          "annotationdefaults": {
           "arrowcolor": "#2a3f5f",
           "arrowhead": 0,
           "arrowwidth": 1
          },
          "autotypenumbers": "strict",
          "coloraxis": {
           "colorbar": {
            "outlinewidth": 0,
            "ticks": ""
           }
          },
          "colorscale": {
           "diverging": [
            [
             0,
             "#8e0152"
            ],
            [
             0.1,
             "#c51b7d"
            ],
            [
             0.2,
             "#de77ae"
            ],
            [
             0.3,
             "#f1b6da"
            ],
            [
             0.4,
             "#fde0ef"
            ],
            [
             0.5,
             "#f7f7f7"
            ],
            [
             0.6,
             "#e6f5d0"
            ],
            [
             0.7,
             "#b8e186"
            ],
            [
             0.8,
             "#7fbc41"
            ],
            [
             0.9,
             "#4d9221"
            ],
            [
             1,
             "#276419"
            ]
           ],
           "sequential": [
            [
             0,
             "#0d0887"
            ],
            [
             0.1111111111111111,
             "#46039f"
            ],
            [
             0.2222222222222222,
             "#7201a8"
            ],
            [
             0.3333333333333333,
             "#9c179e"
            ],
            [
             0.4444444444444444,
             "#bd3786"
            ],
            [
             0.5555555555555556,
             "#d8576b"
            ],
            [
             0.6666666666666666,
             "#ed7953"
            ],
            [
             0.7777777777777778,
             "#fb9f3a"
            ],
            [
             0.8888888888888888,
             "#fdca26"
            ],
            [
             1,
             "#f0f921"
            ]
           ],
           "sequentialminus": [
            [
             0,
             "#0d0887"
            ],
            [
             0.1111111111111111,
             "#46039f"
            ],
            [
             0.2222222222222222,
             "#7201a8"
            ],
            [
             0.3333333333333333,
             "#9c179e"
            ],
            [
             0.4444444444444444,
             "#bd3786"
            ],
            [
             0.5555555555555556,
             "#d8576b"
            ],
            [
             0.6666666666666666,
             "#ed7953"
            ],
            [
             0.7777777777777778,
             "#fb9f3a"
            ],
            [
             0.8888888888888888,
             "#fdca26"
            ],
            [
             1,
             "#f0f921"
            ]
           ]
          },
          "colorway": [
           "#636efa",
           "#EF553B",
           "#00cc96",
           "#ab63fa",
           "#FFA15A",
           "#19d3f3",
           "#FF6692",
           "#B6E880",
           "#FF97FF",
           "#FECB52"
          ],
          "font": {
           "color": "#2a3f5f"
          },
          "geo": {
           "bgcolor": "white",
           "lakecolor": "white",
           "landcolor": "#E5ECF6",
           "showlakes": true,
           "showland": true,
           "subunitcolor": "white"
          },
          "hoverlabel": {
           "align": "left"
          },
          "hovermode": "closest",
          "mapbox": {
           "style": "light"
          },
          "paper_bgcolor": "white",
          "plot_bgcolor": "#E5ECF6",
          "polar": {
           "angularaxis": {
            "gridcolor": "white",
            "linecolor": "white",
            "ticks": ""
           },
           "bgcolor": "#E5ECF6",
           "radialaxis": {
            "gridcolor": "white",
            "linecolor": "white",
            "ticks": ""
           }
          },
          "scene": {
           "xaxis": {
            "backgroundcolor": "#E5ECF6",
            "gridcolor": "white",
            "gridwidth": 2,
            "linecolor": "white",
            "showbackground": true,
            "ticks": "",
            "zerolinecolor": "white"
           },
           "yaxis": {
            "backgroundcolor": "#E5ECF6",
            "gridcolor": "white",
            "gridwidth": 2,
            "linecolor": "white",
            "showbackground": true,
            "ticks": "",
            "zerolinecolor": "white"
           },
           "zaxis": {
            "backgroundcolor": "#E5ECF6",
            "gridcolor": "white",
            "gridwidth": 2,
            "linecolor": "white",
            "showbackground": true,
            "ticks": "",
            "zerolinecolor": "white"
           }
          },
          "shapedefaults": {
           "line": {
            "color": "#2a3f5f"
           }
          },
          "ternary": {
           "aaxis": {
            "gridcolor": "white",
            "linecolor": "white",
            "ticks": ""
           },
           "baxis": {
            "gridcolor": "white",
            "linecolor": "white",
            "ticks": ""
           },
           "bgcolor": "#E5ECF6",
           "caxis": {
            "gridcolor": "white",
            "linecolor": "white",
            "ticks": ""
           }
          },
          "title": {
           "x": 0.05
          },
          "xaxis": {
           "automargin": true,
           "gridcolor": "white",
           "linecolor": "white",
           "ticks": "",
           "title": {
            "standoff": 15
           },
           "zerolinecolor": "white",
           "zerolinewidth": 2
          },
          "yaxis": {
           "automargin": true,
           "gridcolor": "white",
           "linecolor": "white",
           "ticks": "",
           "title": {
            "standoff": 15
           },
           "zerolinecolor": "white",
           "zerolinewidth": 2
          }
         }
        },
        "xaxis": {
         "anchor": "y",
         "constrain": "domain",
         "domain": [
          0,
          1
         ],
         "scaleanchor": "y",
         "title": {
          "text": "ano"
         }
        },
        "yaxis": {
         "anchor": "x",
         "autorange": "reversed",
         "constrain": "domain",
         "domain": [
          0,
          1
         ],
         "title": {
          "text": "partido"
         }
        }
       }
      },
      "text/html": [
       "<div>                            <div id=\"67eb2ee3-5a06-4f0d-97c8-6d6c11612ea5\" class=\"plotly-graph-div\" style=\"height:525px; width:100%;\"></div>            <script type=\"text/javascript\">                require([\"plotly\"], function(Plotly) {                    window.PLOTLYENV=window.PLOTLYENV || {};                                    if (document.getElementById(\"67eb2ee3-5a06-4f0d-97c8-6d6c11612ea5\")) {                    Plotly.newPlot(                        \"67eb2ee3-5a06-4f0d-97c8-6d6c11612ea5\",                        [{\"coloraxis\": \"coloraxis\", \"hovertemplate\": \"ano: %{x}<br>partido: %{y}<br>color: %{z}<extra></extra>\", \"name\": \"0\", \"type\": \"heatmap\", \"x\": [2001, 2002, 2003, 2004, 2005, 2006, 2007, 2008, 2009, 2010, 2011, 2012, 2013, 2014, 2015, 2016, 2017, 2018, 2019, 2020, 2021, 2022], \"xaxis\": \"x\", \"y\": [\"AVANTE\", \"CIDADANIA\", \"DC\", \"DEM\", \"MDB\", \"NOVO\", \"PAN\", \"PATRI\", \"PATRIOTA\", \"PCdoB\", \"PDT\", \"PEN\", \"PFL\", \"PHS\", \"PL\", \"PMB\", \"PMDB\", \"PMN\", \"PMR\", \"PODE\", \"PP\", \"PPB\", \"PPL\", \"PPS\", \"PR\", \"PRB\", \"PRONA\", \"PROS\", \"PRP\", \"PRTB\", \"PSB\", \"PSC\", \"PSD\", \"PSDB\", \"PSDC\", \"PSL\", \"PSOL\", \"PST\", \"PT\", \"PTB\", \"PTC\", \"PTN\", \"PTdoB\", \"PV\", \"REDE\", \"REPUBLICANOS\", \"S.PART.\", \"SD\", \"SDD\", \"SOLIDARIEDADE\", \"UNI\\u00c3O\"], \"yaxis\": \"y\", \"z\": [[null, null, null, null, null, null, null, null, null, null, null, null, null, null, null, null, 44.0, 20.0, -1.0, -31.0, 495.0, 227.0], [null, null, null, null, null, null, null, null, null, null, null, null, null, null, null, null, null, null, 134.0, -10.0, 338.0, 118.0], [null, null, null, null, null, null, null, null, null, null, null, null, null, null, null, null, null, null, -6.0, null, null, null], [null, null, null, null, null, null, -316.0, -127.0, 747.0, 953.0, 162.0, 495.0, 602.0, 797.0, 897.0, 86.0, 356.0, -426.0, -19.0, -345.0, 999.0, 200.0], [null, null, null, null, null, null, null, null, null, null, null, null, null, null, null, null, null, -54.0, -5.0, -184.0, 1791.0, 925.0], [null, null, null, null, null, null, null, null, null, null, null, null, null, null, null, null, null, null, -85.0, -413.0, -654.0, -13.0], [null, null, null, null, null, null, 5.0, null, null, null, null, null, null, null, null, null, null, null, null, null, null, null], [null, null, null, null, null, null, null, null, null, null, null, null, null, null, null, null, null, 18.0, -43.0, null, null, null], [null, null, null, null, null, null, null, null, null, null, null, null, null, null, null, null, null, null, 13.0, -88.0, 268.0, 121.0], [3.0, 32.0, 57.0, -40.0, -93.0, -67.0, 5.0, -45.0, 125.0, 148.0, 30.0, 77.0, 72.0, 221.0, 123.0, 208.0, 107.0, 33.0, -92.0, 363.0, 893.0, 217.0], [22.0, 50.0, 60.0, 1.0, 150.0, 98.0, -117.0, -52.0, 128.0, 332.0, -81.0, 174.0, 166.0, 415.0, 690.0, 300.0, 245.0, 66.0, -230.0, 791.0, 2703.0, 387.0], [null, null, null, null, null, null, null, null, null, null, null, 17.0, 32.0, 2.0, 110.0, 49.0, 11.0, -33.0, null, null, null, null], [79.0, 249.0, 449.0, 967.0, 607.0, 1079.0, 82.0, null, null, null, null, null, null, null, null, null, null, null, null, null, null, null], [null, null, null, null, null, null, -12.0, -13.0, 16.0, 52.0, -8.0, 0.0, 2.0, null, 307.0, 77.0, 1.0, 32.0, -10.0, null, null, null], [7.0, 33.0, 303.0, -222.0, -108.0, 59.0, null, null, null, null, null, null, null, null, null, null, null, null, -2.0, -296.0, 1989.0, 1365.0], [null, null, null, null, null, null, null, null, null, null, null, null, null, null, -21.0, 30.0, 3.0, null, null, null, null, null], [64.0, 250.0, 389.0, -64.0, 84.0, 188.0, 434.0, -352.0, 1086.0, 1326.0, 290.0, 432.0, 1035.0, 1730.0, 3917.0, 476.0, 740.0, -466.0, null, null, null, null], [2.0, 7.0, -3.0, null, null, null, -14.0, 0.0, 61.0, 52.0, -7.0, 10.0, 29.0, 74.0, 170.0, 2.0, null, null, -24.0, null, null, null], [null, null, null, null, -2.0, 4.0, null, null, null, null, null, null, null, null, null, null, null, null, null, null, null, null], [null, null, null, null, null, null, null, null, null, null, null, null, null, null, null, null, 165.0, -112.0, 180.0, 28.0, 674.0, 213.0], [null, null, 157.0, -47.0, -116.0, 107.0, -157.0, -179.0, 447.0, 699.0, 9.0, 171.0, 390.0, 895.0, 2083.0, 275.0, 499.0, -477.0, -39.0, 2.0, 2007.0, 1062.0], [41.0, 150.0, 67.0, null, null, null, null, null, null, null, null, null, null, null, null, null, null, null, null, null, null, null], [null, null, null, null, null, null, null, null, null, null, null, null, null, null, null, null, null, -6.0, -7.0, null, null, null], [4.0, 16.0, 115.0, -74.0, 119.0, 112.0, -96.0, -8.0, 250.0, 310.0, 12.0, 108.0, 250.0, 179.0, 501.0, 94.0, 16.0, -77.0, -54.0, null, null, null], [null, null, null, null, null, null, -91.0, -65.0, 496.0, 610.0, -47.0, 373.0, 233.0, 756.0, 1508.0, 433.0, 111.0, -336.0, -272.0, null, null, null], [null, null, null, null, null, 3.0, 3.0, -22.0, 55.0, 93.0, -43.0, 147.0, 115.0, 196.0, 649.0, 341.0, 75.0, -168.0, 104.0, null, null, null], [2.0, 9.0, 32.0, 10.0, 2.0, 32.0, null, null, null, null, null, null, null, null, null, null, null, null, null, null, null, null], [null, null, null, null, null, null, null, null, null, null, null, null, 52.0, 469.0, 580.0, 49.0, 15.0, -45.0, -89.0, 100.0, 378.0, 259.0], [null, null, null, null, 3.0, null, null, null, null, null, -6.0, 7.0, 9.0, 54.0, 137.0, -4.0, 13.0, -6.0, -13.0, null, null, null], [null, null, null, null, null, null, 7.0, -3.0, null, null, -2.0, 5.0, 16.0, null, 54.0, 19.0, null, null, null, null, null, null], [13.0, 61.0, 149.0, -100.0, -15.0, -38.0, -49.0, -48.0, 316.0, 413.0, -39.0, 276.0, 349.0, 653.0, 1400.0, 217.0, 232.0, 84.0, -38.0, 364.0, 3245.0, 365.0], [1.0, 5.0, 27.0, -6.0, -7.0, 12.0, 24.0, -53.0, 232.0, 192.0, 20.0, 122.0, 128.0, 291.0, 573.0, 46.0, 66.0, -36.0, -27.0, -121.0, 506.0, 230.0], [3.0, 4.0, null, null, null, null, null, null, null, null, 283.0, 403.0, 768.0, 1044.0, 1876.0, 218.0, 407.0, -314.0, -335.0, -265.0, 1567.0, 785.0], [72.0, 273.0, 221.0, 558.0, 415.0, 918.0, -543.0, -256.0, 218.0, 737.0, 91.0, 689.0, 956.0, 1286.0, 2473.0, 95.0, 256.0, -728.0, 384.0, 216.0, 2682.0, 576.0], [null, null, null, null, null, null, null, null, null, null, null, null, null, 20.0, 77.0, null, null, null, null, null, null, null], [1.0, 2.0, 7.0, -5.0, -5.0, null, null, null, null, null, -3.0, 15.0, 14.0, null, 35.0, 13.0, 29.0, -102.0, -134.0, -1080.0, 1038.0, 443.0], [null, null, null, null, 28.0, -50.0, -92.0, -2.0, 17.0, -15.0, -29.0, 16.0, 3.0, 48.0, 54.0, 53.0, -188.0, -8.0, 19.0, 145.0, 425.0, 63.0], [1.0, 5.0, null, null, null, null, null, null, null, null, null, null, null, null, null, null, null, null, null, null, null, null], [45.0, 280.0, 530.0, -602.0, -457.0, -683.0, -569.0, -304.0, -36.0, 1225.0, 181.0, 307.0, -429.0, 1397.0, 1404.0, 882.0, 426.0, 396.0, -609.0, 569.0, 5945.0, 964.0], [24.0, 98.0, 260.0, -157.0, -10.0, 29.0, -127.0, -61.0, 389.0, 320.0, 21.0, 117.0, 289.0, 425.0, 1220.0, 135.0, 184.0, -117.0, -2.0, 24.0, 386.0, 165.0], [null, null, null, null, null, 6.0, 1.0, 0.0, -45.0, 26.0, -4.0, 7.0, null, null, 62.0, -6.0, null, null, -2.0, null, null, null], [null, null, null, null, null, null, null, null, null, null, null, null, null, null, 130.0, 163.0, 147.0, null, null, null, null, null], [null, null, null, null, null, null, -22.0, -6.0, 7.0, 14.0, -14.0, 57.0, 16.0, 72.0, 86.0, 69.0, 25.0, null, null, null, null, null], [1.0, 5.0, 36.0, 3.0, 54.0, 28.0, -67.0, -107.0, 120.0, 182.0, -35.0, 132.0, 145.0, 175.0, 424.0, -22.0, -8.0, -22.0, 23.0, 81.0, 296.0, 23.0], [null, null, null, null, null, null, null, null, null, null, null, null, null, null, -12.0, 64.0, -4.0, 18.0, 8.0, 24.0, 166.0, 14.0], [null, null, null, null, null, null, null, null, null, null, null, null, null, null, null, null, null, null, -266.0, -305.0, 1600.0, 920.0], [null, null, 9.0, -29.0, -6.0, 6.0, -14.0, null, -2.0, null, 3.0, null, 14.0, null, 14.0, 7.0, 16.0, -1.0, 5.0, null, 7.0, 19.0], [null, null, null, null, null, null, null, null, null, null, null, null, null, 295.0, 762.0, 15.0, 11.0, -73.0, null, null, null, null], [null, null, null, null, null, null, null, null, null, null, null, null, 77.0, 308.0, null, null, null, null, null, null, null, null], [null, null, null, null, null, null, null, null, null, null, null, null, null, null, null, null, null, null, -103.0, -28.0, 853.0, 247.0], [null, null, null, null, null, null, null, null, null, null, null, null, null, null, null, null, null, null, null, null, null, 988.0]]}],                        {\"coloraxis\": {\"colorscale\": [[0.0, \"#0d0887\"], [0.1111111111111111, \"#46039f\"], [0.2222222222222222, \"#7201a8\"], [0.3333333333333333, \"#9c179e\"], [0.4444444444444444, \"#bd3786\"], [0.5555555555555556, \"#d8576b\"], [0.6666666666666666, \"#ed7953\"], [0.7777777777777778, \"#fb9f3a\"], [0.8888888888888888, \"#fdca26\"], [1.0, \"#f0f921\"]]}, \"margin\": {\"t\": 60}, \"template\": {\"data\": {\"bar\": [{\"error_x\": {\"color\": \"#2a3f5f\"}, \"error_y\": {\"color\": \"#2a3f5f\"}, \"marker\": {\"line\": {\"color\": \"#E5ECF6\", \"width\": 0.5}}, \"type\": \"bar\"}], \"barpolar\": [{\"marker\": {\"line\": {\"color\": \"#E5ECF6\", \"width\": 0.5}}, \"type\": \"barpolar\"}], \"carpet\": [{\"aaxis\": {\"endlinecolor\": \"#2a3f5f\", \"gridcolor\": \"white\", \"linecolor\": \"white\", \"minorgridcolor\": \"white\", \"startlinecolor\": \"#2a3f5f\"}, \"baxis\": {\"endlinecolor\": \"#2a3f5f\", \"gridcolor\": \"white\", \"linecolor\": \"white\", \"minorgridcolor\": \"white\", \"startlinecolor\": \"#2a3f5f\"}, \"type\": \"carpet\"}], \"choropleth\": [{\"colorbar\": {\"outlinewidth\": 0, \"ticks\": \"\"}, \"type\": \"choropleth\"}], \"contour\": [{\"colorbar\": {\"outlinewidth\": 0, \"ticks\": \"\"}, \"colorscale\": [[0.0, \"#0d0887\"], [0.1111111111111111, \"#46039f\"], [0.2222222222222222, \"#7201a8\"], [0.3333333333333333, \"#9c179e\"], [0.4444444444444444, \"#bd3786\"], [0.5555555555555556, \"#d8576b\"], [0.6666666666666666, \"#ed7953\"], [0.7777777777777778, \"#fb9f3a\"], [0.8888888888888888, \"#fdca26\"], [1.0, \"#f0f921\"]], \"type\": \"contour\"}], \"contourcarpet\": [{\"colorbar\": {\"outlinewidth\": 0, \"ticks\": \"\"}, \"type\": \"contourcarpet\"}], \"heatmap\": [{\"colorbar\": {\"outlinewidth\": 0, \"ticks\": \"\"}, \"colorscale\": [[0.0, \"#0d0887\"], [0.1111111111111111, \"#46039f\"], [0.2222222222222222, \"#7201a8\"], [0.3333333333333333, \"#9c179e\"], [0.4444444444444444, \"#bd3786\"], [0.5555555555555556, \"#d8576b\"], [0.6666666666666666, \"#ed7953\"], [0.7777777777777778, \"#fb9f3a\"], [0.8888888888888888, \"#fdca26\"], [1.0, \"#f0f921\"]], \"type\": \"heatmap\"}], \"heatmapgl\": [{\"colorbar\": {\"outlinewidth\": 0, \"ticks\": \"\"}, \"colorscale\": [[0.0, \"#0d0887\"], [0.1111111111111111, \"#46039f\"], [0.2222222222222222, \"#7201a8\"], [0.3333333333333333, \"#9c179e\"], [0.4444444444444444, \"#bd3786\"], [0.5555555555555556, \"#d8576b\"], [0.6666666666666666, \"#ed7953\"], [0.7777777777777778, \"#fb9f3a\"], [0.8888888888888888, \"#fdca26\"], [1.0, \"#f0f921\"]], \"type\": \"heatmapgl\"}], \"histogram\": [{\"marker\": {\"colorbar\": {\"outlinewidth\": 0, \"ticks\": \"\"}}, \"type\": \"histogram\"}], \"histogram2d\": [{\"colorbar\": {\"outlinewidth\": 0, \"ticks\": \"\"}, \"colorscale\": [[0.0, \"#0d0887\"], [0.1111111111111111, \"#46039f\"], [0.2222222222222222, \"#7201a8\"], [0.3333333333333333, \"#9c179e\"], [0.4444444444444444, \"#bd3786\"], [0.5555555555555556, \"#d8576b\"], [0.6666666666666666, \"#ed7953\"], [0.7777777777777778, \"#fb9f3a\"], [0.8888888888888888, \"#fdca26\"], [1.0, \"#f0f921\"]], \"type\": \"histogram2d\"}], \"histogram2dcontour\": [{\"colorbar\": {\"outlinewidth\": 0, \"ticks\": \"\"}, \"colorscale\": [[0.0, \"#0d0887\"], [0.1111111111111111, \"#46039f\"], [0.2222222222222222, \"#7201a8\"], [0.3333333333333333, \"#9c179e\"], [0.4444444444444444, \"#bd3786\"], [0.5555555555555556, \"#d8576b\"], [0.6666666666666666, \"#ed7953\"], [0.7777777777777778, \"#fb9f3a\"], [0.8888888888888888, \"#fdca26\"], [1.0, \"#f0f921\"]], \"type\": \"histogram2dcontour\"}], \"mesh3d\": [{\"colorbar\": {\"outlinewidth\": 0, \"ticks\": \"\"}, \"type\": \"mesh3d\"}], \"parcoords\": [{\"line\": {\"colorbar\": {\"outlinewidth\": 0, \"ticks\": \"\"}}, \"type\": \"parcoords\"}], \"pie\": [{\"automargin\": true, \"type\": \"pie\"}], \"scatter\": [{\"marker\": {\"colorbar\": {\"outlinewidth\": 0, \"ticks\": \"\"}}, \"type\": \"scatter\"}], \"scatter3d\": [{\"line\": {\"colorbar\": {\"outlinewidth\": 0, \"ticks\": \"\"}}, \"marker\": {\"colorbar\": {\"outlinewidth\": 0, \"ticks\": \"\"}}, \"type\": \"scatter3d\"}], \"scattercarpet\": [{\"marker\": {\"colorbar\": {\"outlinewidth\": 0, \"ticks\": \"\"}}, \"type\": \"scattercarpet\"}], \"scattergeo\": [{\"marker\": {\"colorbar\": {\"outlinewidth\": 0, \"ticks\": \"\"}}, \"type\": \"scattergeo\"}], \"scattergl\": [{\"marker\": {\"colorbar\": {\"outlinewidth\": 0, \"ticks\": \"\"}}, \"type\": \"scattergl\"}], \"scattermapbox\": [{\"marker\": {\"colorbar\": {\"outlinewidth\": 0, \"ticks\": \"\"}}, \"type\": \"scattermapbox\"}], \"scatterpolar\": [{\"marker\": {\"colorbar\": {\"outlinewidth\": 0, \"ticks\": \"\"}}, \"type\": \"scatterpolar\"}], \"scatterpolargl\": [{\"marker\": {\"colorbar\": {\"outlinewidth\": 0, \"ticks\": \"\"}}, \"type\": \"scatterpolargl\"}], \"scatterternary\": [{\"marker\": {\"colorbar\": {\"outlinewidth\": 0, \"ticks\": \"\"}}, \"type\": \"scatterternary\"}], \"surface\": [{\"colorbar\": {\"outlinewidth\": 0, \"ticks\": \"\"}, \"colorscale\": [[0.0, \"#0d0887\"], [0.1111111111111111, \"#46039f\"], [0.2222222222222222, \"#7201a8\"], [0.3333333333333333, \"#9c179e\"], [0.4444444444444444, \"#bd3786\"], [0.5555555555555556, \"#d8576b\"], [0.6666666666666666, \"#ed7953\"], [0.7777777777777778, \"#fb9f3a\"], [0.8888888888888888, \"#fdca26\"], [1.0, \"#f0f921\"]], \"type\": \"surface\"}], \"table\": [{\"cells\": {\"fill\": {\"color\": \"#EBF0F8\"}, \"line\": {\"color\": \"white\"}}, \"header\": {\"fill\": {\"color\": \"#C8D4E3\"}, \"line\": {\"color\": \"white\"}}, \"type\": \"table\"}]}, \"layout\": {\"annotationdefaults\": {\"arrowcolor\": \"#2a3f5f\", \"arrowhead\": 0, \"arrowwidth\": 1}, \"autotypenumbers\": \"strict\", \"coloraxis\": {\"colorbar\": {\"outlinewidth\": 0, \"ticks\": \"\"}}, \"colorscale\": {\"diverging\": [[0, \"#8e0152\"], [0.1, \"#c51b7d\"], [0.2, \"#de77ae\"], [0.3, \"#f1b6da\"], [0.4, \"#fde0ef\"], [0.5, \"#f7f7f7\"], [0.6, \"#e6f5d0\"], [0.7, \"#b8e186\"], [0.8, \"#7fbc41\"], [0.9, \"#4d9221\"], [1, \"#276419\"]], \"sequential\": [[0.0, \"#0d0887\"], [0.1111111111111111, \"#46039f\"], [0.2222222222222222, \"#7201a8\"], [0.3333333333333333, \"#9c179e\"], [0.4444444444444444, \"#bd3786\"], [0.5555555555555556, \"#d8576b\"], [0.6666666666666666, \"#ed7953\"], [0.7777777777777778, \"#fb9f3a\"], [0.8888888888888888, \"#fdca26\"], [1.0, \"#f0f921\"]], \"sequentialminus\": [[0.0, \"#0d0887\"], [0.1111111111111111, \"#46039f\"], [0.2222222222222222, \"#7201a8\"], [0.3333333333333333, \"#9c179e\"], [0.4444444444444444, \"#bd3786\"], [0.5555555555555556, \"#d8576b\"], [0.6666666666666666, \"#ed7953\"], [0.7777777777777778, \"#fb9f3a\"], [0.8888888888888888, \"#fdca26\"], [1.0, \"#f0f921\"]]}, \"colorway\": [\"#636efa\", \"#EF553B\", \"#00cc96\", \"#ab63fa\", \"#FFA15A\", \"#19d3f3\", \"#FF6692\", \"#B6E880\", \"#FF97FF\", \"#FECB52\"], \"font\": {\"color\": \"#2a3f5f\"}, \"geo\": {\"bgcolor\": \"white\", \"lakecolor\": \"white\", \"landcolor\": \"#E5ECF6\", \"showlakes\": true, \"showland\": true, \"subunitcolor\": \"white\"}, \"hoverlabel\": {\"align\": \"left\"}, \"hovermode\": \"closest\", \"mapbox\": {\"style\": \"light\"}, \"paper_bgcolor\": \"white\", \"plot_bgcolor\": \"#E5ECF6\", \"polar\": {\"angularaxis\": {\"gridcolor\": \"white\", \"linecolor\": \"white\", \"ticks\": \"\"}, \"bgcolor\": \"#E5ECF6\", \"radialaxis\": {\"gridcolor\": \"white\", \"linecolor\": \"white\", \"ticks\": \"\"}}, \"scene\": {\"xaxis\": {\"backgroundcolor\": \"#E5ECF6\", \"gridcolor\": \"white\", \"gridwidth\": 2, \"linecolor\": \"white\", \"showbackground\": true, \"ticks\": \"\", \"zerolinecolor\": \"white\"}, \"yaxis\": {\"backgroundcolor\": \"#E5ECF6\", \"gridcolor\": \"white\", \"gridwidth\": 2, \"linecolor\": \"white\", \"showbackground\": true, \"ticks\": \"\", \"zerolinecolor\": \"white\"}, \"zaxis\": {\"backgroundcolor\": \"#E5ECF6\", \"gridcolor\": \"white\", \"gridwidth\": 2, \"linecolor\": \"white\", \"showbackground\": true, \"ticks\": \"\", \"zerolinecolor\": \"white\"}}, \"shapedefaults\": {\"line\": {\"color\": \"#2a3f5f\"}}, \"ternary\": {\"aaxis\": {\"gridcolor\": \"white\", \"linecolor\": \"white\", \"ticks\": \"\"}, \"baxis\": {\"gridcolor\": \"white\", \"linecolor\": \"white\", \"ticks\": \"\"}, \"bgcolor\": \"#E5ECF6\", \"caxis\": {\"gridcolor\": \"white\", \"linecolor\": \"white\", \"ticks\": \"\"}}, \"title\": {\"x\": 0.05}, \"xaxis\": {\"automargin\": true, \"gridcolor\": \"white\", \"linecolor\": \"white\", \"ticks\": \"\", \"title\": {\"standoff\": 15}, \"zerolinecolor\": \"white\", \"zerolinewidth\": 2}, \"yaxis\": {\"automargin\": true, \"gridcolor\": \"white\", \"linecolor\": \"white\", \"ticks\": \"\", \"title\": {\"standoff\": 15}, \"zerolinecolor\": \"white\", \"zerolinewidth\": 2}}}, \"xaxis\": {\"anchor\": \"y\", \"constrain\": \"domain\", \"domain\": [0.0, 1.0], \"scaleanchor\": \"y\", \"title\": {\"text\": \"ano\"}}, \"yaxis\": {\"anchor\": \"x\", \"autorange\": \"reversed\", \"constrain\": \"domain\", \"domain\": [0.0, 1.0], \"title\": {\"text\": \"partido\"}}},                        {\"responsive\": true}                    ).then(function(){\n",
       "                            \n",
       "var gd = document.getElementById('67eb2ee3-5a06-4f0d-97c8-6d6c11612ea5');\n",
       "var x = new MutationObserver(function (mutations, observer) {{\n",
       "        var display = window.getComputedStyle(gd).display;\n",
       "        if (!display || display === 'none') {{\n",
       "            console.log([gd, 'removed!']);\n",
       "            Plotly.purge(gd);\n",
       "            observer.disconnect();\n",
       "        }}\n",
       "}});\n",
       "\n",
       "// Listen for the removal of the full notebook cells\n",
       "var notebookContainer = gd.closest('#notebook-container');\n",
       "if (notebookContainer) {{\n",
       "    x.observe(notebookContainer, {childList: true});\n",
       "}}\n",
       "\n",
       "// Listen for the clearing of the current output cell\n",
       "var outputEl = gd.closest('.output');\n",
       "if (outputEl) {{\n",
       "    x.observe(outputEl, {childList: true});\n",
       "}}\n",
       "\n",
       "                        })                };                });            </script>        </div>"
      ]
     },
     "metadata": {},
     "output_type": "display_data"
    }
   ],
   "source": [
    "#heat = heat.pivot(\"partido\", \"ano\", \"voto\")\n",
    "fig = px.imshow(heat)\n",
    "fig.show()"
   ]
  },
  {
   "cell_type": "code",
   "execution_count": 22,
   "metadata": {},
   "outputs": [
    {
     "data": {
      "text/plain": [
       "array(['Sem dados', 'Não', 'Sim', 'Obstrução', 'Liberado', 'Abstenção'],\n",
       "      dtype=object)"
      ]
     },
     "execution_count": 22,
     "metadata": {},
     "output_type": "execute_result"
    }
   ],
   "source": [
    "dv[\"orientacao\"] = dv[\"orientacao\"].fillna(\"Sem dados\")\n",
    "dv[\"orientacao\"].unique()"
   ]
  },
  {
   "cell_type": "code",
   "execution_count": 12,
   "metadata": {},
   "outputs": [
    {
     "data": {
      "text/html": [
       "<div>\n",
       "<style scoped>\n",
       "    .dataframe tbody tr th:only-of-type {\n",
       "        vertical-align: middle;\n",
       "    }\n",
       "\n",
       "    .dataframe tbody tr th {\n",
       "        vertical-align: top;\n",
       "    }\n",
       "\n",
       "    .dataframe thead th {\n",
       "        text-align: right;\n",
       "    }\n",
       "</style>\n",
       "<table border=\"1\" class=\"dataframe\">\n",
       "  <thead>\n",
       "    <tr style=\"text-align: right;\">\n",
       "      <th></th>\n",
       "      <th>voto</th>\n",
       "    </tr>\n",
       "    <tr>\n",
       "      <th>idVotacao</th>\n",
       "      <th></th>\n",
       "    </tr>\n",
       "  </thead>\n",
       "  <tbody>\n",
       "    <tr>\n",
       "      <th>101666-71</th>\n",
       "      <td>333</td>\n",
       "    </tr>\n",
       "    <tr>\n",
       "      <th>104342-141</th>\n",
       "      <td>180</td>\n",
       "    </tr>\n",
       "    <tr>\n",
       "      <th>104342-99</th>\n",
       "      <td>-170</td>\n",
       "    </tr>\n",
       "    <tr>\n",
       "      <th>104485-117</th>\n",
       "      <td>20</td>\n",
       "    </tr>\n",
       "    <tr>\n",
       "      <th>104509-28</th>\n",
       "      <td>3</td>\n",
       "    </tr>\n",
       "    <tr>\n",
       "      <th>...</th>\n",
       "      <td>...</td>\n",
       "    </tr>\n",
       "    <tr>\n",
       "      <th>996553-34</th>\n",
       "      <td>-101</td>\n",
       "    </tr>\n",
       "    <tr>\n",
       "      <th>996553-39</th>\n",
       "      <td>23</td>\n",
       "    </tr>\n",
       "    <tr>\n",
       "      <th>996553-43</th>\n",
       "      <td>88</td>\n",
       "    </tr>\n",
       "    <tr>\n",
       "      <th>996882-4</th>\n",
       "      <td>30</td>\n",
       "    </tr>\n",
       "    <tr>\n",
       "      <th>996938-70</th>\n",
       "      <td>-5</td>\n",
       "    </tr>\n",
       "  </tbody>\n",
       "</table>\n",
       "<p>4045 rows × 1 columns</p>\n",
       "</div>"
      ],
      "text/plain": [
       "            voto\n",
       "idVotacao       \n",
       "101666-71    333\n",
       "104342-141   180\n",
       "104342-99   -170\n",
       "104485-117    20\n",
       "104509-28      3\n",
       "...          ...\n",
       "996553-34   -101\n",
       "996553-39     23\n",
       "996553-43     88\n",
       "996882-4      30\n",
       "996938-70     -5\n",
       "\n",
       "[4045 rows x 1 columns]"
      ]
     },
     "execution_count": 12,
     "metadata": {},
     "output_type": "execute_result"
    }
   ],
   "source": [
    "votacoes = dv.groupby(by=[\"idVotacao\"]).sum().drop([\"id\", \"voto_count\"], axis=1)\n",
    "votacoes"
   ]
  },
  {
   "cell_type": "code",
   "execution_count": 13,
   "metadata": {},
   "outputs": [],
   "source": [
    "neo_df = dv.query(\"partido == 'PT'\")\n",
    "neo_df = neo_df.groupby([\"idVotacao\", \"partido\"]).sum()\n",
    "neo_df = neo_df.drop([\"id\", \"voto_count\"], axis=1)\n",
    "neo_df = neo_df.sort_values(\"voto\")"
   ]
  },
  {
   "cell_type": "code",
   "execution_count": 14,
   "metadata": {},
   "outputs": [
    {
     "data": {
      "text/html": [
       "<div>\n",
       "<style scoped>\n",
       "    .dataframe tbody tr th:only-of-type {\n",
       "        vertical-align: middle;\n",
       "    }\n",
       "\n",
       "    .dataframe tbody tr th {\n",
       "        vertical-align: top;\n",
       "    }\n",
       "\n",
       "    .dataframe thead th {\n",
       "        text-align: right;\n",
       "    }\n",
       "</style>\n",
       "<table border=\"1\" class=\"dataframe\">\n",
       "  <thead>\n",
       "    <tr style=\"text-align: right;\">\n",
       "      <th></th>\n",
       "      <th>voto_x</th>\n",
       "      <th>voto_y</th>\n",
       "    </tr>\n",
       "    <tr>\n",
       "      <th>idVotacao</th>\n",
       "      <th></th>\n",
       "      <th></th>\n",
       "    </tr>\n",
       "  </thead>\n",
       "  <tbody>\n",
       "    <tr>\n",
       "      <th>282740-60</th>\n",
       "      <td>0</td>\n",
       "      <td>0</td>\n",
       "    </tr>\n",
       "    <tr>\n",
       "      <th>562615-106</th>\n",
       "      <td>0</td>\n",
       "      <td>0</td>\n",
       "    </tr>\n",
       "    <tr>\n",
       "      <th>277133-92</th>\n",
       "      <td>0</td>\n",
       "      <td>0</td>\n",
       "    </tr>\n",
       "    <tr>\n",
       "      <th>562615-93</th>\n",
       "      <td>0</td>\n",
       "      <td>0</td>\n",
       "    </tr>\n",
       "    <tr>\n",
       "      <th>277133-117</th>\n",
       "      <td>0</td>\n",
       "      <td>0</td>\n",
       "    </tr>\n",
       "    <tr>\n",
       "      <th>...</th>\n",
       "      <td>...</td>\n",
       "      <td>...</td>\n",
       "    </tr>\n",
       "    <tr>\n",
       "      <th>252972-101</th>\n",
       "      <td>1</td>\n",
       "      <td>1</td>\n",
       "    </tr>\n",
       "    <tr>\n",
       "      <th>590335-46</th>\n",
       "      <td>1</td>\n",
       "      <td>1</td>\n",
       "    </tr>\n",
       "    <tr>\n",
       "      <th>113717-184</th>\n",
       "      <td>1</td>\n",
       "      <td>1</td>\n",
       "    </tr>\n",
       "    <tr>\n",
       "      <th>14312-65</th>\n",
       "      <td>1</td>\n",
       "      <td>1</td>\n",
       "    </tr>\n",
       "    <tr>\n",
       "      <th>113717-189</th>\n",
       "      <td>1</td>\n",
       "      <td>1</td>\n",
       "    </tr>\n",
       "  </tbody>\n",
       "</table>\n",
       "<p>3937 rows × 2 columns</p>\n",
       "</div>"
      ],
      "text/plain": [
       "            voto_x  voto_y\n",
       "idVotacao                 \n",
       "282740-60        0       0\n",
       "562615-106       0       0\n",
       "277133-92        0       0\n",
       "562615-93        0       0\n",
       "277133-117       0       0\n",
       "...            ...     ...\n",
       "252972-101       1       1\n",
       "590335-46        1       1\n",
       "113717-184       1       1\n",
       "14312-65         1       1\n",
       "113717-189       1       1\n",
       "\n",
       "[3937 rows x 2 columns]"
      ]
     },
     "execution_count": 14,
     "metadata": {},
     "output_type": "execute_result"
    }
   ],
   "source": [
    "merge_df = neo_df.merge(votacoes, left_on=\"idVotacao\", right_on=\"idVotacao\")\n",
    "merge_df[\"voto_y\"] = np.where(merge_df['voto_y'] > 0, 1, 0)\n",
    "merge_df[\"voto_x\"] = np.where(merge_df['voto_x'] > 0, 1, 0)\n",
    "merge_df"
   ]
  },
  {
   "cell_type": "code",
   "execution_count": 15,
   "metadata": {},
   "outputs": [
    {
     "data": {
      "text/plain": [
       "voto_x  voto_y\n",
       "0       0         1031\n",
       "        1          914\n",
       "1       0          706\n",
       "        1         1286\n",
       "dtype: int64"
      ]
     },
     "execution_count": 15,
     "metadata": {},
     "output_type": "execute_result"
    }
   ],
   "source": [
    "merge_df.groupby([\"voto_x\", \"voto_y\"]).size()"
   ]
  },
  {
   "cell_type": "code",
   "execution_count": 16,
   "metadata": {},
   "outputs": [
    {
     "data": {
      "text/html": [
       "<div>\n",
       "<style scoped>\n",
       "    .dataframe tbody tr th:only-of-type {\n",
       "        vertical-align: middle;\n",
       "    }\n",
       "\n",
       "    .dataframe tbody tr th {\n",
       "        vertical-align: top;\n",
       "    }\n",
       "\n",
       "    .dataframe thead th {\n",
       "        text-align: right;\n",
       "    }\n",
       "</style>\n",
       "<table border=\"1\" class=\"dataframe\">\n",
       "  <thead>\n",
       "    <tr style=\"text-align: right;\">\n",
       "      <th></th>\n",
       "      <th>partido</th>\n",
       "      <th>voto</th>\n",
       "    </tr>\n",
       "  </thead>\n",
       "  <tbody>\n",
       "    <tr>\n",
       "      <th>5</th>\n",
       "      <td>NOVO</td>\n",
       "      <td>-1165</td>\n",
       "    </tr>\n",
       "    <tr>\n",
       "      <th>7</th>\n",
       "      <td>PATRI</td>\n",
       "      <td>-25</td>\n",
       "    </tr>\n",
       "    <tr>\n",
       "      <th>22</th>\n",
       "      <td>PPL</td>\n",
       "      <td>-13</td>\n",
       "    </tr>\n",
       "    <tr>\n",
       "      <th>2</th>\n",
       "      <td>DC</td>\n",
       "      <td>-6</td>\n",
       "    </tr>\n",
       "    <tr>\n",
       "      <th>18</th>\n",
       "      <td>PMR</td>\n",
       "      <td>2</td>\n",
       "    </tr>\n",
       "    <tr>\n",
       "      <th>6</th>\n",
       "      <td>PAN</td>\n",
       "      <td>5</td>\n",
       "    </tr>\n",
       "    <tr>\n",
       "      <th>37</th>\n",
       "      <td>PST</td>\n",
       "      <td>6</td>\n",
       "    </tr>\n",
       "    <tr>\n",
       "      <th>15</th>\n",
       "      <td>PMB</td>\n",
       "      <td>12</td>\n",
       "    </tr>\n",
       "    <tr>\n",
       "      <th>40</th>\n",
       "      <td>PTC</td>\n",
       "      <td>45</td>\n",
       "    </tr>\n",
       "    <tr>\n",
       "      <th>46</th>\n",
       "      <td>S.PART.</td>\n",
       "      <td>48</td>\n",
       "    </tr>\n",
       "    <tr>\n",
       "      <th>26</th>\n",
       "      <td>PRONA</td>\n",
       "      <td>87</td>\n",
       "    </tr>\n",
       "    <tr>\n",
       "      <th>29</th>\n",
       "      <td>PRTB</td>\n",
       "      <td>96</td>\n",
       "    </tr>\n",
       "    <tr>\n",
       "      <th>34</th>\n",
       "      <td>PSDC</td>\n",
       "      <td>97</td>\n",
       "    </tr>\n",
       "    <tr>\n",
       "      <th>11</th>\n",
       "      <td>PEN</td>\n",
       "      <td>188</td>\n",
       "    </tr>\n",
       "    <tr>\n",
       "      <th>28</th>\n",
       "      <td>PRP</td>\n",
       "      <td>194</td>\n",
       "    </tr>\n",
       "    <tr>\n",
       "      <th>21</th>\n",
       "      <td>PPB</td>\n",
       "      <td>258</td>\n",
       "    </tr>\n",
       "    <tr>\n",
       "      <th>35</th>\n",
       "      <td>PSL</td>\n",
       "      <td>268</td>\n",
       "    </tr>\n",
       "    <tr>\n",
       "      <th>44</th>\n",
       "      <td>REDE</td>\n",
       "      <td>278</td>\n",
       "    </tr>\n",
       "    <tr>\n",
       "      <th>42</th>\n",
       "      <td>PTdoB</td>\n",
       "      <td>304</td>\n",
       "    </tr>\n",
       "    <tr>\n",
       "      <th>8</th>\n",
       "      <td>PATRIOTA</td>\n",
       "      <td>314</td>\n",
       "    </tr>\n",
       "    <tr>\n",
       "      <th>17</th>\n",
       "      <td>PMN</td>\n",
       "      <td>359</td>\n",
       "    </tr>\n",
       "    <tr>\n",
       "      <th>48</th>\n",
       "      <td>SDD</td>\n",
       "      <td>385</td>\n",
       "    </tr>\n",
       "    <tr>\n",
       "      <th>41</th>\n",
       "      <td>PTN</td>\n",
       "      <td>440</td>\n",
       "    </tr>\n",
       "    <tr>\n",
       "      <th>13</th>\n",
       "      <td>PHS</td>\n",
       "      <td>444</td>\n",
       "    </tr>\n",
       "    <tr>\n",
       "      <th>36</th>\n",
       "      <td>PSOL</td>\n",
       "      <td>487</td>\n",
       "    </tr>\n",
       "    <tr>\n",
       "      <th>1</th>\n",
       "      <td>CIDADANIA</td>\n",
       "      <td>580</td>\n",
       "    </tr>\n",
       "    <tr>\n",
       "      <th>0</th>\n",
       "      <td>AVANTE</td>\n",
       "      <td>754</td>\n",
       "    </tr>\n",
       "    <tr>\n",
       "      <th>49</th>\n",
       "      <td>SOLIDARIEDADE</td>\n",
       "      <td>969</td>\n",
       "    </tr>\n",
       "    <tr>\n",
       "      <th>50</th>\n",
       "      <td>UNIÃO</td>\n",
       "      <td>988</td>\n",
       "    </tr>\n",
       "    <tr>\n",
       "      <th>47</th>\n",
       "      <td>SD</td>\n",
       "      <td>1010</td>\n",
       "    </tr>\n",
       "    <tr>\n",
       "      <th>19</th>\n",
       "      <td>PODE</td>\n",
       "      <td>1148</td>\n",
       "    </tr>\n",
       "    <tr>\n",
       "      <th>43</th>\n",
       "      <td>PV</td>\n",
       "      <td>1467</td>\n",
       "    </tr>\n",
       "    <tr>\n",
       "      <th>25</th>\n",
       "      <td>PRB</td>\n",
       "      <td>1548</td>\n",
       "    </tr>\n",
       "    <tr>\n",
       "      <th>27</th>\n",
       "      <td>PROS</td>\n",
       "      <td>1768</td>\n",
       "    </tr>\n",
       "    <tr>\n",
       "      <th>23</th>\n",
       "      <td>PPS</td>\n",
       "      <td>1777</td>\n",
       "    </tr>\n",
       "    <tr>\n",
       "      <th>45</th>\n",
       "      <td>REPUBLICANOS</td>\n",
       "      <td>1949</td>\n",
       "    </tr>\n",
       "    <tr>\n",
       "      <th>31</th>\n",
       "      <td>PSC</td>\n",
       "      <td>2225</td>\n",
       "    </tr>\n",
       "    <tr>\n",
       "      <th>9</th>\n",
       "      <td>PCdoB</td>\n",
       "      <td>2377</td>\n",
       "    </tr>\n",
       "    <tr>\n",
       "      <th>4</th>\n",
       "      <td>MDB</td>\n",
       "      <td>2473</td>\n",
       "    </tr>\n",
       "    <tr>\n",
       "      <th>14</th>\n",
       "      <td>PL</td>\n",
       "      <td>3128</td>\n",
       "    </tr>\n",
       "    <tr>\n",
       "      <th>12</th>\n",
       "      <td>PFL</td>\n",
       "      <td>3512</td>\n",
       "    </tr>\n",
       "    <tr>\n",
       "      <th>39</th>\n",
       "      <td>PTB</td>\n",
       "      <td>3612</td>\n",
       "    </tr>\n",
       "    <tr>\n",
       "      <th>24</th>\n",
       "      <td>PR</td>\n",
       "      <td>3709</td>\n",
       "    </tr>\n",
       "    <tr>\n",
       "      <th>3</th>\n",
       "      <td>DEM</td>\n",
       "      <td>5061</td>\n",
       "    </tr>\n",
       "    <tr>\n",
       "      <th>10</th>\n",
       "      <td>PDT</td>\n",
       "      <td>6298</td>\n",
       "    </tr>\n",
       "    <tr>\n",
       "      <th>32</th>\n",
       "      <td>PSD</td>\n",
       "      <td>6444</td>\n",
       "    </tr>\n",
       "    <tr>\n",
       "      <th>20</th>\n",
       "      <td>PP</td>\n",
       "      <td>7788</td>\n",
       "    </tr>\n",
       "    <tr>\n",
       "      <th>30</th>\n",
       "      <td>PSB</td>\n",
       "      <td>7810</td>\n",
       "    </tr>\n",
       "    <tr>\n",
       "      <th>38</th>\n",
       "      <td>PT</td>\n",
       "      <td>10862</td>\n",
       "    </tr>\n",
       "    <tr>\n",
       "      <th>16</th>\n",
       "      <td>PMDB</td>\n",
       "      <td>11559</td>\n",
       "    </tr>\n",
       "    <tr>\n",
       "      <th>33</th>\n",
       "      <td>PSDB</td>\n",
       "      <td>11589</td>\n",
       "    </tr>\n",
       "  </tbody>\n",
       "</table>\n",
       "</div>"
      ],
      "text/plain": [
       "          partido   voto\n",
       "5            NOVO  -1165\n",
       "7           PATRI    -25\n",
       "22            PPL    -13\n",
       "2              DC     -6\n",
       "18            PMR      2\n",
       "6             PAN      5\n",
       "37            PST      6\n",
       "15            PMB     12\n",
       "40            PTC     45\n",
       "46        S.PART.     48\n",
       "26          PRONA     87\n",
       "29           PRTB     96\n",
       "34           PSDC     97\n",
       "11            PEN    188\n",
       "28            PRP    194\n",
       "21            PPB    258\n",
       "35            PSL    268\n",
       "44           REDE    278\n",
       "42          PTdoB    304\n",
       "8        PATRIOTA    314\n",
       "17            PMN    359\n",
       "48            SDD    385\n",
       "41            PTN    440\n",
       "13            PHS    444\n",
       "36           PSOL    487\n",
       "1       CIDADANIA    580\n",
       "0          AVANTE    754\n",
       "49  SOLIDARIEDADE    969\n",
       "50          UNIÃO    988\n",
       "47             SD   1010\n",
       "19           PODE   1148\n",
       "43             PV   1467\n",
       "25            PRB   1548\n",
       "27           PROS   1768\n",
       "23            PPS   1777\n",
       "45   REPUBLICANOS   1949\n",
       "31            PSC   2225\n",
       "9           PCdoB   2377\n",
       "4             MDB   2473\n",
       "14             PL   3128\n",
       "12            PFL   3512\n",
       "39            PTB   3612\n",
       "24             PR   3709\n",
       "3             DEM   5061\n",
       "10            PDT   6298\n",
       "32            PSD   6444\n",
       "20             PP   7788\n",
       "30            PSB   7810\n",
       "38             PT  10862\n",
       "16           PMDB  11559\n",
       "33           PSDB  11589"
      ]
     },
     "execution_count": 16,
     "metadata": {},
     "output_type": "execute_result"
    }
   ],
   "source": [
    "new_df = dv.groupby([\"partido\"]).sum()\n",
    "new_df = new_df.drop([\"id\", \"voto_count\"], axis=1)\n",
    "new_df = new_df.reset_index(level=0)\n",
    "new_df = new_df.sort_values(\"voto\")\n",
    "new_df"
   ]
  },
  {
   "cell_type": "code",
   "execution_count": 17,
   "metadata": {},
   "outputs": [
    {
     "data": {
      "image/png": "[encoded data removed]",
      "text/plain": [
       "<Figure size 640x480 with 1 Axes>"
      ]
     },
     "metadata": {
      "needs_background": "light"
     },
     "output_type": "display_data"
    }
   ],
   "source": [
    "figure(figsize=(8, 6), dpi=80)\n",
    "plt.xticks(rotation=90)\n",
    "plt.bar(new_df[\"partido\"], new_df[\"voto\"])\n",
    "plt.show()"
   ]
  },
  {
   "cell_type": "code",
   "execution_count": null,
   "metadata": {},
   "outputs": [],
   "source": []
  }
 ],
 "metadata": {
  "kernelspec": {
   "display_name": "Python 3",
   "language": "python",
   "name": "python3"
  },
  "language_info": {
   "codemirror_mode": {
    "name": "ipython",
    "version": 3
   },
   "file_extension": ".py",
   "mimetype": "text/x-python",
   "name": "python",
   "nbconvert_exporter": "python",
   "pygments_lexer": "ipython3",
   "version": "3.8.5"
  }
 },
 "nbformat": 4,
 "nbformat_minor": 4
}
